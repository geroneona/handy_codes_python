{
 "cells": [
  {
   "cell_type": "markdown",
   "metadata": {},
   "source": [
    "___\n",
    "\n",
    "<a href='https://www.udemy.com/user/joseportilla/'><img src='../Pierian_Data_Logo.png'/></a>\n",
    "___\n",
    "<center><em>Content Copyright by Pierian Data</em></center>"
   ]
  },
  {
   "cell_type": "markdown",
   "metadata": {
    "collapsed": true,
    "jupyter": {
     "outputs_hidden": true
    }
   },
   "source": [
    "# Statements Assessment Test\n",
    "Let's test your knowledge!"
   ]
  },
  {
   "cell_type": "markdown",
   "metadata": {},
   "source": [
    "_____\n",
    "**Use <code>for</code>, .split(), and <code>if</code> to create a Statement that will print out words that start with 's':**"
   ]
  },
  {
   "cell_type": "code",
   "execution_count": 2,
   "metadata": {},
   "outputs": [],
   "source": [
    "st = 'Print only the words that start with s in this sentence'"
   ]
  },
  {
   "cell_type": "code",
   "execution_count": 10,
   "metadata": {},
   "outputs": [
    {
     "name": "stdout",
     "output_type": "stream",
     "text": [
      "start\n",
      "sentence\n"
     ]
    }
   ],
   "source": [
    "#Code here\n",
    "L = st.split(' ')\n",
    "for i in L:\n",
    "    if 's' == i:\n",
    "        pass\n",
    "    elif 's' == i[0]:\n",
    "        print(i)"
   ]
  },
  {
   "cell_type": "markdown",
   "metadata": {},
   "source": [
    "______\n",
    "**Use range() to print all the even numbers from 0 to 10.**"
   ]
  },
  {
   "cell_type": "code",
   "execution_count": 1,
   "metadata": {},
   "outputs": [
    {
     "name": "stdout",
     "output_type": "stream",
     "text": [
      "0 2 4 6 8 10\n",
      "2\n",
      "4\n",
      "6\n",
      "8\n",
      "10 8 6 4 2 0\n"
     ]
    }
   ],
   "source": [
    "#Code Here\n",
    "L = [x for x in range(0,11) if x%2==0]\n",
    "print(*L)\n",
    "for i in range(1,11):\n",
    "    if i == range(1,11)[-1]:\n",
    "        print(*[x for x in range(10,-1,-1) if x%2==0])\n",
    "    elif i%2==0:\n",
    "        print(i)     "
   ]
  },
  {
   "cell_type": "code",
   "execution_count": 103,
   "metadata": {},
   "outputs": [
    {
     "name": "stdout",
     "output_type": "stream",
     "text": [
      "0 2 4 6 8 10\n",
      "2\t   8\n",
      "4\t   6\n",
      "6\t   4\n",
      "8\t   2\n",
      "10 8 6 4 2 0\n"
     ]
    }
   ],
   "source": [
    "#Code Here\n",
    "L = [x for x in range(0,11) if x%2==0]\n",
    "D = {2:8,4:6,6:4,8:2}\n",
    "print(*L)\n",
    "for i,j in D.items():\n",
    "    print(f\"{i}\\t   {j}\")    \n",
    "print(*[x for x in range(10,-1,-1) if x%2==0])            "
   ]
  },
  {
   "cell_type": "code",
   "execution_count": 64,
   "metadata": {},
   "outputs": [
    {
     "name": "stdout",
     "output_type": "stream",
     "text": [
      "0 2 4 6 8 10\n",
      "\t   8\n",
      "\t   6\n",
      "\t   4\n",
      "\t   2\n",
      "0 2 4 6 8 10\n",
      "2\n",
      "4\n",
      "6\n",
      "8\n",
      "10 8 6 4 2 0\n"
     ]
    }
   ],
   "source": [
    "#Code Here\n",
    "L = [x for x in range(0,11) if x%2==0]\n",
    "for i in L[-2:0:-1]:\n",
    "    print(*L)\n",
    "    if i == L[3]:\n",
    "        break\n",
    "    for i in L[-2:0:-1]:\n",
    "        print(f'\\t   {i}')\n",
    "        \n",
    "for i in range(1,11):\n",
    "    if i == range(1,11)[-1]:\n",
    "        print(*[x for x in range(10,-1,-1) if x%2==0])\n",
    "    elif i%2==0:\n",
    "        print(i)     "
   ]
  },
  {
   "cell_type": "code",
   "execution_count": 52,
   "metadata": {},
   "outputs": [
    {
     "data": {
      "text/plain": [
       "0"
      ]
     },
     "execution_count": 52,
     "metadata": {},
     "output_type": "execute_result"
    }
   ],
   "source": [
    "L[0]"
   ]
  },
  {
   "cell_type": "markdown",
   "metadata": {},
   "source": [
    "___\n",
    "**Use a List Comprehension to create a list of all numbers between 1 and 50 that are divisible by 3.**"
   ]
  },
  {
   "cell_type": "code",
   "execution_count": 2,
   "metadata": {
    "collapsed": true,
    "jupyter": {
     "outputs_hidden": true
    }
   },
   "outputs": [
    {
     "data": {
      "text/plain": [
       "[3, 6, 9, 12, 15, 18, 21, 24, 27, 30, 33, 36, 39, 42, 45, 48]"
      ]
     },
     "execution_count": 2,
     "metadata": {},
     "output_type": "execute_result"
    }
   ],
   "source": [
    "#Code in this cell\n",
    "[x for x in range (1,51) if x%3==0]"
   ]
  },
  {
   "cell_type": "markdown",
   "metadata": {},
   "source": [
    "_____\n",
    "**Go through the string below and if the length of a word is even print \"even!\"**"
   ]
  },
  {
   "cell_type": "code",
   "execution_count": 4,
   "metadata": {
    "collapsed": true,
    "jupyter": {
     "outputs_hidden": true
    }
   },
   "outputs": [],
   "source": [
    "st = 'Print every word in this sentence that has an even number of letters'"
   ]
  },
  {
   "cell_type": "code",
   "execution_count": 12,
   "metadata": {
    "collapsed": true,
    "jupyter": {
     "outputs_hidden": true
    }
   },
   "outputs": [
    {
     "name": "stdout",
     "output_type": "stream",
     "text": [
      "'word'\t-> length: 4 is even\n",
      "'in'\t-> length: 2 is even\n",
      "'this'\t-> length: 4 is even\n",
      "'sentence'\t-> length: 8 is even\n",
      "'that'\t-> length: 4 is even\n",
      "'an'\t-> length: 2 is even\n",
      "'even'\t-> length: 4 is even\n",
      "'number'\t-> length: 6 is even\n",
      "'of'\t-> length: 2 is even\n"
     ]
    }
   ],
   "source": [
    "#Code in this cell\n",
    "L = st.split(' ')\n",
    "for word in L:\n",
    "    if len(word)%2 == 0:\n",
    "        print(f\"'{word}'\\t-> length: {len(word)} is even\")"
   ]
  },
  {
   "cell_type": "markdown",
   "metadata": {},
   "source": [
    "____\n",
    "**Write a program that prints the integers from 1 to 100. But for multiples of three print \"Fizz\" instead of the number, and for the multiples of five print \"Buzz\". For numbers which are multiples of both three and five print \"FizzBuzz\".**"
   ]
  },
  {
   "cell_type": "code",
   "execution_count": 17,
   "metadata": {
    "collapsed": true,
    "jupyter": {
     "outputs_hidden": true
    }
   },
   "outputs": [
    {
     "name": "stdout",
     "output_type": "stream",
     "text": [
      "1\n",
      "2\n",
      "3: Fizz - divisble by 3 only\n",
      "4\n",
      "5: Buzz - divisble by 5 only\n",
      "6: Fizz - divisble by 3 only\n",
      "7\n",
      "8\n",
      "9: Fizz - divisble by 3 only\n",
      "10: Buzz - divisble by 5 only\n",
      "11\n",
      "12: Fizz - divisble by 3 only\n",
      "13\n",
      "14\n",
      "15: FizzBuzz - divisible by 3 & 5\n",
      "16\n",
      "17\n",
      "18: Fizz - divisble by 3 only\n",
      "19\n",
      "20: Buzz - divisble by 5 only\n",
      "21: Fizz - divisble by 3 only\n",
      "22\n",
      "23\n",
      "24: Fizz - divisble by 3 only\n",
      "25: Buzz - divisble by 5 only\n",
      "26\n",
      "27: Fizz - divisble by 3 only\n",
      "28\n",
      "29\n",
      "30: FizzBuzz - divisible by 3 & 5\n",
      "31\n",
      "32\n",
      "33: Fizz - divisble by 3 only\n",
      "34\n",
      "35: Buzz - divisble by 5 only\n",
      "36: Fizz - divisble by 3 only\n",
      "37\n",
      "38\n",
      "39: Fizz - divisble by 3 only\n",
      "40: Buzz - divisble by 5 only\n",
      "41\n",
      "42: Fizz - divisble by 3 only\n",
      "43\n",
      "44\n",
      "45: FizzBuzz - divisible by 3 & 5\n",
      "46\n",
      "47\n",
      "48: Fizz - divisble by 3 only\n",
      "49\n",
      "50: Buzz - divisble by 5 only\n",
      "51: Fizz - divisble by 3 only\n",
      "52\n",
      "53\n",
      "54: Fizz - divisble by 3 only\n",
      "55: Buzz - divisble by 5 only\n",
      "56\n",
      "57: Fizz - divisble by 3 only\n",
      "58\n",
      "59\n",
      "60: FizzBuzz - divisible by 3 & 5\n",
      "61\n",
      "62\n",
      "63: Fizz - divisble by 3 only\n",
      "64\n",
      "65: Buzz - divisble by 5 only\n",
      "66: Fizz - divisble by 3 only\n",
      "67\n",
      "68\n",
      "69: Fizz - divisble by 3 only\n",
      "70: Buzz - divisble by 5 only\n",
      "71\n",
      "72: Fizz - divisble by 3 only\n",
      "73\n",
      "74\n",
      "75: FizzBuzz - divisible by 3 & 5\n",
      "76\n",
      "77\n",
      "78: Fizz - divisble by 3 only\n",
      "79\n",
      "80: Buzz - divisble by 5 only\n",
      "81: Fizz - divisble by 3 only\n",
      "82\n",
      "83\n",
      "84: Fizz - divisble by 3 only\n",
      "85: Buzz - divisble by 5 only\n",
      "86\n",
      "87: Fizz - divisble by 3 only\n",
      "88\n",
      "89\n",
      "90: FizzBuzz - divisible by 3 & 5\n",
      "91\n",
      "92\n",
      "93: Fizz - divisble by 3 only\n",
      "94\n",
      "95: Buzz - divisble by 5 only\n",
      "96: Fizz - divisble by 3 only\n",
      "97\n",
      "98\n",
      "99: Fizz - divisble by 3 only\n",
      "100: Buzz - divisble by 5 only\n"
     ]
    }
   ],
   "source": [
    "#Code in this cell\n",
    "for i in range(1,101):\n",
    "    if i%3==0 and i%5==0:\n",
    "        print(str(i)+\": FizzBuzz - divisible by 3 & 5\")\n",
    "    elif i%3==0:\n",
    "        print(str(i)+': Fizz - divisble by 3 only')\n",
    "    elif i%5==0:\n",
    "        print(str(i)+': Buzz - divisble by 5 only')\n",
    "    else:\n",
    "        [print(i)]"
   ]
  },
  {
   "cell_type": "markdown",
   "metadata": {},
   "source": [
    "____\n",
    "**Use List Comprehension to create a list of the first letters of every word in the string below:**"
   ]
  },
  {
   "cell_type": "code",
   "execution_count": 20,
   "metadata": {
    "collapsed": true,
    "jupyter": {
     "outputs_hidden": true
    }
   },
   "outputs": [],
   "source": [
    "st = 'Create a list of the first letters of every word in this string'"
   ]
  },
  {
   "cell_type": "code",
   "execution_count": 23,
   "metadata": {
    "collapsed": true,
    "jupyter": {
     "outputs_hidden": true
    }
   },
   "outputs": [
    {
     "data": {
      "text/plain": [
       "['C', 'a', 'l', 'o', 't', 'f', 'l', 'o', 'e', 'w', 'i', 't', 's']"
      ]
     },
     "execution_count": 23,
     "metadata": {},
     "output_type": "execute_result"
    }
   ],
   "source": [
    "#Code in this cell\n",
    "[x[0] for x in st.split(\" \")]"
   ]
  },
  {
   "cell_type": "markdown",
   "metadata": {},
   "source": [
    "### Great Job!"
   ]
  }
 ],
 "metadata": {
  "kernelspec": {
   "display_name": "Python 3 (ipykernel)",
   "language": "python",
   "name": "python3"
  },
  "language_info": {
   "codemirror_mode": {
    "name": "ipython",
    "version": 3
   },
   "file_extension": ".py",
   "mimetype": "text/x-python",
   "name": "python",
   "nbconvert_exporter": "python",
   "pygments_lexer": "ipython3",
   "version": "3.11.2"
  }
 },
 "nbformat": 4,
 "nbformat_minor": 4
}
