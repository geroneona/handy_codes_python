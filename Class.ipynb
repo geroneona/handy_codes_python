{
 "cells": [
  {
   "cell_type": "markdown",
   "id": "6069fd96-0978-403c-b862-e82f1767243f",
   "metadata": {},
   "source": [
    "## Creating a class: Coins P1"
   ]
  },
  {
   "cell_type": "code",
   "execution_count": 1,
   "id": "1c6f07e5-383d-4178-b31f-e18d4f87f766",
   "metadata": {},
   "outputs": [],
   "source": [
    "class Pound:    \n",
    "    value = 1.00\n",
    "    colour = \"gold\"\n",
    "    num_edges = 1\n",
    "    diameter = 22.5 # in mm\n",
    "    thickness = 3.15 # in mm\n",
    "    heads = True"
   ]
  },
  {
   "cell_type": "markdown",
   "id": "6e5fb477-69ec-45da-96fd-89b6cbfaa428",
   "metadata": {},
   "source": [
    "#### Instantiating class into object"
   ]
  },
  {
   "cell_type": "code",
   "execution_count": 2,
   "id": "bb9f73f7-2281-4aa8-b131-11951eb2f0ae",
   "metadata": {},
   "outputs": [
    {
     "name": "stdout",
     "output_type": "stream",
     "text": [
      "<class '__main__.Pound'>\n"
     ]
    }
   ],
   "source": [
    "coin1 =  Pound()\n",
    "print(type(coin1))"
   ]
  },
  {
   "cell_type": "code",
   "execution_count": 3,
   "id": "3cb4cd84-0307-4dd7-abb6-ccea05e7def4",
   "metadata": {},
   "outputs": [
    {
     "data": {
      "text/plain": [
       "'silver'"
      ]
     },
     "execution_count": 3,
     "metadata": {},
     "output_type": "execute_result"
    }
   ],
   "source": [
    "coin1.colour = 'silver'\n",
    "coin1.colour"
   ]
  },
  {
   "cell_type": "code",
   "execution_count": 4,
   "id": "c7d40ed7-981f-429d-805a-1f53684c89f7",
   "metadata": {},
   "outputs": [
    {
     "data": {
      "text/plain": [
       "'gold'"
      ]
     },
     "execution_count": 4,
     "metadata": {},
     "output_type": "execute_result"
    }
   ],
   "source": [
    "coin2 =  Pound()\n",
    "coin2.colour"
   ]
  },
  {
   "cell_type": "markdown",
   "id": "202fe581-9032-4190-97c9-dfdb46c7f92e",
   "metadata": {},
   "source": [
    "## Creating a class: Coins P2"
   ]
  },
  {
   "cell_type": "code",
   "execution_count": 5,
   "id": "439486f3-a4ac-43be-9621-68087059433c",
   "metadata": {},
   "outputs": [],
   "source": [
    "class Pound:\n",
    "    \n",
    "    def __init__(self,rare=False): #constructor, could be more than 1 parameter. example here, rare is boolean\n",
    "\n",
    "        self.rare = rare\n",
    "\n",
    "        if self.rare: # same as \"if self.rare == True\"\n",
    "            self.value = 1.25\n",
    "        else:\n",
    "            self.value = 1.00\n",
    "        \n",
    "        self.colour = \"gold\"\n",
    "        self.num_edges = 1\n",
    "        self.diameter = 22.5 # in mm\n",
    "        self.thickness = 3.15 # in mm\n",
    "        self.heads = True"
   ]
  },
  {
   "cell_type": "code",
   "execution_count": 6,
   "id": "57754c47-e443-4acb-bee6-e64b3c93bd78",
   "metadata": {},
   "outputs": [],
   "source": [
    "coin1 = Pound()"
   ]
  },
  {
   "cell_type": "code",
   "execution_count": 7,
   "id": "9efd37da-4214-4be4-ac68-324afeccf58c",
   "metadata": {},
   "outputs": [
    {
     "data": {
      "text/plain": [
       "'gold'"
      ]
     },
     "execution_count": 7,
     "metadata": {},
     "output_type": "execute_result"
    }
   ],
   "source": [
    "coin1.colour"
   ]
  },
  {
   "cell_type": "code",
   "execution_count": 8,
   "id": "33793c0b-59af-4ce7-9f45-f5eaaf3dd65b",
   "metadata": {},
   "outputs": [
    {
     "data": {
      "text/plain": [
       "False"
      ]
     },
     "execution_count": 8,
     "metadata": {},
     "output_type": "execute_result"
    }
   ],
   "source": [
    "coin1.rare"
   ]
  },
  {
   "cell_type": "code",
   "execution_count": 9,
   "id": "f9804c26-8b1b-4bc8-a29a-05f02ddb071f",
   "metadata": {},
   "outputs": [
    {
     "data": {
      "text/plain": [
       "1.0"
      ]
     },
     "execution_count": 9,
     "metadata": {},
     "output_type": "execute_result"
    }
   ],
   "source": [
    "coin1.value"
   ]
  },
  {
   "cell_type": "code",
   "execution_count": 10,
   "id": "d1fd1139-5f54-4e0d-ba2a-6e62113692d7",
   "metadata": {},
   "outputs": [
    {
     "data": {
      "text/plain": [
       "True"
      ]
     },
     "execution_count": 10,
     "metadata": {},
     "output_type": "execute_result"
    }
   ],
   "source": [
    "coin1.heads"
   ]
  },
  {
   "cell_type": "code",
   "execution_count": 11,
   "id": "0f0ff936-8479-4b4e-8447-40ebdc32242f",
   "metadata": {},
   "outputs": [
    {
     "data": {
      "text/plain": [
       "True"
      ]
     },
     "execution_count": 11,
     "metadata": {},
     "output_type": "execute_result"
    }
   ],
   "source": [
    "coin2 = Pound(rare=True)   \n",
    "coin2.rare"
   ]
  },
  {
   "cell_type": "code",
   "execution_count": 12,
   "id": "3df9c1c1-67b0-406b-977f-910acb8ce2cb",
   "metadata": {},
   "outputs": [
    {
     "data": {
      "text/plain": [
       "1.25"
      ]
     },
     "execution_count": 12,
     "metadata": {},
     "output_type": "execute_result"
    }
   ],
   "source": [
    "coin2.value"
   ]
  },
  {
   "cell_type": "markdown",
   "id": "51a1dc4a-14fb-4f3f-9e4d-4c18db5e599d",
   "metadata": {},
   "source": [
    "## Creating a class: Coins P2 with contructor(__init__), methods(functions), and destructor(__del__)"
   ]
  },
  {
   "cell_type": "code",
   "execution_count": 41,
   "id": "c2e75c91-2081-476b-8a0f-2482be8d928c",
   "metadata": {},
   "outputs": [],
   "source": [
    "class Pound:\n",
    "    \n",
    "    def __init__(self,rare=False): #CONSTRUCTOR, could be more than 1 parameter. example here, rare is boolean\n",
    "\n",
    "        self.rare = rare\n",
    "\n",
    "        if self.rare: # same as \"if self.rare == True\"\n",
    "            self.value = 1.25\n",
    "        else:\n",
    "            self.value = 1.00\n",
    "        \n",
    "        self.colour = \"gold\"\n",
    "        self.num_edges = 1\n",
    "        self.diameter = 22.5 # in mm\n",
    "        self.thickness = 3.15 # in mm\n",
    "        self.heads = True\n",
    "\n",
    "    def rust(self): #to turn colour from \"gold\" into \"greenish\"\n",
    "        self.colour = \"greenish\"\n",
    "\n",
    "    def clean(self): #to clean coin if it's rusty\n",
    "        if self.colour == \"greenish\":\n",
    "            self.colour = \"gold\"\n",
    "        elif self.colour == \"gold\":\n",
    "            print(\"coin not rusty and already clean!\")\n",
    "\n",
    "    def flip(self): #to flip (straightforward) the coin's head\n",
    "\n",
    "        if self.heads:\n",
    "            self.heads = False\n",
    "        else:\n",
    "            self.heads = True\n",
    "\n",
    "    def flip_toss(self): #to randomly flip the coin's head\n",
    "        import random\n",
    "        self.heads = bool(random.getrandbits(1))\n",
    "\n",
    "    def __del__(self):  #DESTRUCTOR\n",
    "        print(\"Coin Spent!\")"
   ]
  },
  {
   "cell_type": "markdown",
   "id": "32a1ce6b-1522-428d-a15d-97db1fcf413c",
   "metadata": {},
   "source": [
    "### playing with outputs for self, rare"
   ]
  },
  {
   "cell_type": "code",
   "execution_count": 42,
   "id": "b74cce85-7fa9-4a76-891c-90024cb10264",
   "metadata": {},
   "outputs": [
    {
     "data": {
      "text/plain": [
       "'gold'"
      ]
     },
     "execution_count": 42,
     "metadata": {},
     "output_type": "execute_result"
    }
   ],
   "source": [
    "coin1 = Pound()\n",
    "coin1.colour"
   ]
  },
  {
   "cell_type": "code",
   "execution_count": 43,
   "id": "853d850b-e6da-4a62-adb3-865759135a9c",
   "metadata": {},
   "outputs": [
    {
     "data": {
      "text/plain": [
       "False"
      ]
     },
     "execution_count": 43,
     "metadata": {},
     "output_type": "execute_result"
    }
   ],
   "source": [
    "coin1.rare"
   ]
  },
  {
   "cell_type": "code",
   "execution_count": 44,
   "id": "38edfb12-d5c0-4c7f-afbd-f256893ec236",
   "metadata": {},
   "outputs": [
    {
     "data": {
      "text/plain": [
       "1.0"
      ]
     },
     "execution_count": 44,
     "metadata": {},
     "output_type": "execute_result"
    }
   ],
   "source": [
    "coin1.value"
   ]
  },
  {
   "cell_type": "code",
   "execution_count": 45,
   "id": "e0300a5a-1138-4a5d-ac27-5602a0501882",
   "metadata": {},
   "outputs": [
    {
     "data": {
      "text/plain": [
       "True"
      ]
     },
     "execution_count": 45,
     "metadata": {},
     "output_type": "execute_result"
    }
   ],
   "source": [
    "coin1.heads"
   ]
  },
  {
   "cell_type": "code",
   "execution_count": 46,
   "id": "bf3f4eaa-32f6-4770-86cd-fcace8f9b90e",
   "metadata": {},
   "outputs": [
    {
     "name": "stdout",
     "output_type": "stream",
     "text": [
      "Coin Spent!\n"
     ]
    }
   ],
   "source": [
    "coin1 = Pound(rare=True)"
   ]
  },
  {
   "cell_type": "code",
   "execution_count": 47,
   "id": "9c077844-adb0-429f-ae04-86dec30cafd0",
   "metadata": {},
   "outputs": [
    {
     "data": {
      "text/plain": [
       "True"
      ]
     },
     "execution_count": 47,
     "metadata": {},
     "output_type": "execute_result"
    }
   ],
   "source": [
    "coin1.rare"
   ]
  },
  {
   "cell_type": "code",
   "execution_count": 48,
   "id": "cfe59f29-8b13-49a8-90f9-fdd34e7e4a60",
   "metadata": {},
   "outputs": [
    {
     "data": {
      "text/plain": [
       "1.25"
      ]
     },
     "execution_count": 48,
     "metadata": {},
     "output_type": "execute_result"
    }
   ],
   "source": [
    "coin1.value"
   ]
  },
  {
   "cell_type": "markdown",
   "id": "c8f35105-c030-4d5b-8dab-9d725d483f98",
   "metadata": {},
   "source": [
    "### playing with outputs for turning colour from gold to greenish"
   ]
  },
  {
   "cell_type": "code",
   "execution_count": 51,
   "id": "12c066a8-07fb-48a7-8e77-cb4fab95439e",
   "metadata": {},
   "outputs": [
    {
     "data": {
      "text/plain": [
       "'gold'"
      ]
     },
     "execution_count": 51,
     "metadata": {},
     "output_type": "execute_result"
    }
   ],
   "source": [
    "coin1.colour"
   ]
  },
  {
   "cell_type": "code",
   "execution_count": 53,
   "id": "ad2dad82-91b1-4f2a-9ffb-a61fc65f0651",
   "metadata": {},
   "outputs": [],
   "source": [
    "coin1.rust()"
   ]
  },
  {
   "cell_type": "code",
   "execution_count": 54,
   "id": "28ffdade-4c9b-4659-b6c2-a5c8481ee54d",
   "metadata": {},
   "outputs": [
    {
     "data": {
      "text/plain": [
       "'greenish'"
      ]
     },
     "execution_count": 54,
     "metadata": {},
     "output_type": "execute_result"
    }
   ],
   "source": [
    "coin1.colour"
   ]
  },
  {
   "cell_type": "markdown",
   "id": "7da90234-886c-43af-8b4b-6775a3f73e2f",
   "metadata": {},
   "source": [
    "### playing with outputs for cleaning rust coin"
   ]
  },
  {
   "cell_type": "code",
   "execution_count": 56,
   "id": "ad8c2f85-338f-40d2-b1c4-931ed561d35e",
   "metadata": {},
   "outputs": [
    {
     "data": {
      "text/plain": [
       "'greenish'"
      ]
     },
     "execution_count": 56,
     "metadata": {},
     "output_type": "execute_result"
    }
   ],
   "source": [
    "coin1.colour"
   ]
  },
  {
   "cell_type": "code",
   "execution_count": 57,
   "id": "12b14274-8a7a-46ec-a322-b975c62a3488",
   "metadata": {},
   "outputs": [
    {
     "data": {
      "text/plain": [
       "'gold'"
      ]
     },
     "execution_count": 57,
     "metadata": {},
     "output_type": "execute_result"
    }
   ],
   "source": [
    "coin1.clean()\n",
    "coin1.colour"
   ]
  },
  {
   "cell_type": "code",
   "execution_count": 58,
   "id": "713b0d71-dd4d-4b65-8a55-6a6a073430bd",
   "metadata": {},
   "outputs": [
    {
     "name": "stdout",
     "output_type": "stream",
     "text": [
      "coin not rusty and already clean!\n"
     ]
    },
    {
     "data": {
      "text/plain": [
       "'gold'"
      ]
     },
     "execution_count": 58,
     "metadata": {},
     "output_type": "execute_result"
    }
   ],
   "source": [
    "coin1.clean()\n",
    "coin1.colour"
   ]
  },
  {
   "cell_type": "markdown",
   "id": "82a6e6dc-1d52-46a5-83e5-f2e7648e8bd8",
   "metadata": {},
   "source": [
    "### playing with outputs for flip tossing (random) coin's heads"
   ]
  },
  {
   "cell_type": "code",
   "execution_count": 59,
   "id": "6becb578-a9c0-4a0f-b51b-bc0acb37e4e4",
   "metadata": {},
   "outputs": [
    {
     "data": {
      "text/plain": [
       "True"
      ]
     },
     "execution_count": 59,
     "metadata": {},
     "output_type": "execute_result"
    }
   ],
   "source": [
    "coin1.heads"
   ]
  },
  {
   "cell_type": "code",
   "execution_count": 68,
   "id": "59a82350-93e5-4695-90bc-a0b9d65dc53a",
   "metadata": {},
   "outputs": [
    {
     "data": {
      "text/plain": [
       "False"
      ]
     },
     "execution_count": 68,
     "metadata": {},
     "output_type": "execute_result"
    }
   ],
   "source": [
    "coin1.flip_toss()\n",
    "coin1.heads"
   ]
  },
  {
   "cell_type": "code",
   "execution_count": 69,
   "id": "96836100-d1c1-47c9-a071-c8cff553e11c",
   "metadata": {},
   "outputs": [
    {
     "data": {
      "text/plain": [
       "True"
      ]
     },
     "execution_count": 69,
     "metadata": {},
     "output_type": "execute_result"
    }
   ],
   "source": [
    "coin1.flip_toss()\n",
    "coin1.heads"
   ]
  },
  {
   "cell_type": "code",
   "execution_count": 75,
   "id": "644f3054-1aee-4048-a63d-0d9a0c068c67",
   "metadata": {},
   "outputs": [
    {
     "data": {
      "text/plain": [
       "True"
      ]
     },
     "execution_count": 75,
     "metadata": {},
     "output_type": "execute_result"
    }
   ],
   "source": [
    "coin1.flip_toss()\n",
    "coin1.heads"
   ]
  },
  {
   "cell_type": "code",
   "execution_count": 76,
   "id": "9ac5f83a-8dd4-44a9-be85-524404db1ebe",
   "metadata": {},
   "outputs": [
    {
     "data": {
      "text/plain": [
       "False"
      ]
     },
     "execution_count": 76,
     "metadata": {},
     "output_type": "execute_result"
    }
   ],
   "source": [
    "coin1.flip()\n",
    "coin1.heads"
   ]
  },
  {
   "cell_type": "code",
   "execution_count": 77,
   "id": "ae8fdd39-4883-4266-9e0c-b7b2435ca166",
   "metadata": {},
   "outputs": [
    {
     "data": {
      "text/plain": [
       "True"
      ]
     },
     "execution_count": 77,
     "metadata": {},
     "output_type": "execute_result"
    }
   ],
   "source": [
    "coin1.flip()\n",
    "coin1.heads"
   ]
  },
  {
   "cell_type": "markdown",
   "id": "9be8c60b-3418-49f4-847c-fb6994593ea7",
   "metadata": {},
   "source": [
    "### playing with outputs for destroying coin"
   ]
  },
  {
   "cell_type": "code",
   "execution_count": 22,
   "id": "9b070140-33a6-48a6-b5e3-7aebff6161f5",
   "metadata": {},
   "outputs": [
    {
     "name": "stdout",
     "output_type": "stream",
     "text": [
      "Coin Spent!\n"
     ]
    }
   ],
   "source": [
    "coin1 = Pound()"
   ]
  },
  {
   "cell_type": "code",
   "execution_count": 23,
   "id": "13c37e05-d2b4-4a0c-ad91-c463873e1f11",
   "metadata": {},
   "outputs": [
    {
     "data": {
      "text/plain": [
       "__main__.Pound"
      ]
     },
     "execution_count": 23,
     "metadata": {},
     "output_type": "execute_result"
    }
   ],
   "source": [
    "type(coin1)"
   ]
  },
  {
   "cell_type": "code",
   "execution_count": 78,
   "id": "1faa716e-a8b9-4165-a4c3-5eaa205e73cc",
   "metadata": {},
   "outputs": [],
   "source": [
    "del coin1"
   ]
  },
  {
   "cell_type": "code",
   "execution_count": 79,
   "id": "e62d53f6-a488-4dad-b23a-00c45003e5a5",
   "metadata": {},
   "outputs": [
    {
     "ename": "NameError",
     "evalue": "name 'coin1' is not defined",
     "output_type": "error",
     "traceback": [
      "\u001b[1;31m---------------------------------------------------------------------------\u001b[0m",
      "\u001b[1;31mNameError\u001b[0m                                 Traceback (most recent call last)",
      "Cell \u001b[1;32mIn[79], line 1\u001b[0m\n\u001b[1;32m----> 1\u001b[0m \u001b[38;5;28mtype\u001b[39m(coin1)\n",
      "\u001b[1;31mNameError\u001b[0m: name 'coin1' is not defined"
     ]
    }
   ],
   "source": [
    "type(coin1)"
   ]
  },
  {
   "cell_type": "markdown",
   "id": "47e65196-9d8e-42c5-8cbd-ea52d40d945d",
   "metadata": {},
   "source": [
    "# Creating a class: Bank"
   ]
  },
  {
   "cell_type": "code",
   "execution_count": 81,
   "id": "654bae04-eddd-45ce-849e-f3bafdad7b5b",
   "metadata": {},
   "outputs": [],
   "source": [
    "class Account:\n",
    "    def __init__(self, name, balance, min_balance):\n",
    "        self.name = name\n",
    "        self.balance = balance\n",
    "        self.min_balance = min_balance\n",
    "\n",
    "    def deposit(self, amount):\n",
    "        self.balance += amount\n",
    "\n",
    "    def withdraw(self, amount):\n",
    "        if self.balance - amount >= self.min_balance:\n",
    "            self.balance -= amount\n",
    "        else:\n",
    "            print(\"Sorry, not enough funds!\")\n",
    "\n",
    "    def statements(self):\n",
    "        print(f\"Account Balance: £{self.balance}\")\n",
    "\n",
    "class Current(Account):\n",
    "    def __init__(self, name, balance):\n",
    "        super().__init__(name,balance,min_balance = -1000)\n",
    "\n",
    "    def __str__(self):  #to make it TIDY/NEAT\n",
    "        return f\"{self.name}'s Current Account : Balance £{self.balance}\"\n",
    "\n",
    "class Savings(Account):\n",
    "    def __init__(self,name,balance):\n",
    "        super().__init__(name, balance, min_balance = 0)\n",
    "\n",
    "    def __str__(self):  #to make it TIDY/NEAT\n",
    "        return f\"{self.name}'s Savings Account : Balance £{self.balance}\""
   ]
  },
  {
   "cell_type": "markdown",
   "id": "2dde6c37-7764-48b9-8d12-76599b0fbcbc",
   "metadata": {},
   "source": [
    "### playing with output with Savings class"
   ]
  },
  {
   "cell_type": "code",
   "execution_count": 86,
   "id": "0fdac753-0604-4b85-97f6-f35d5b212322",
   "metadata": {},
   "outputs": [
    {
     "name": "stdout",
     "output_type": "stream",
     "text": [
      "Jaira's Savings Account : Balance £300\n"
     ]
    }
   ],
   "source": [
    "J = Savings(\"Jaira\",300)\n",
    "print(J)"
   ]
  },
  {
   "cell_type": "code",
   "execution_count": 87,
   "id": "a1314e39-6fa8-43b5-a203-c7d6c56ed258",
   "metadata": {},
   "outputs": [
    {
     "name": "stdout",
     "output_type": "stream",
     "text": [
      "Jaira's Savings Account : Balance £0\n"
     ]
    }
   ],
   "source": [
    "J.withdraw(300)\n",
    "print(J)"
   ]
  },
  {
   "cell_type": "code",
   "execution_count": 89,
   "id": "e4c5c9d5-faca-45cd-9d73-f3013b8a43ea",
   "metadata": {},
   "outputs": [
    {
     "name": "stdout",
     "output_type": "stream",
     "text": [
      "Sorry, not enough funds!\n"
     ]
    }
   ],
   "source": [
    "J.withdraw(99)"
   ]
  },
  {
   "cell_type": "code",
   "execution_count": 90,
   "id": "1aeeaeaa-f122-4929-94fd-35e2bebf66d9",
   "metadata": {},
   "outputs": [
    {
     "name": "stdout",
     "output_type": "stream",
     "text": [
      "Jaira's Savings Account : Balance £1500\n"
     ]
    }
   ],
   "source": [
    "J.deposit(1500)\n",
    "print(J)"
   ]
  },
  {
   "cell_type": "code",
   "execution_count": 91,
   "id": "d0e0406a-78ad-4d32-816c-d423763d8cc8",
   "metadata": {},
   "outputs": [
    {
     "name": "stdout",
     "output_type": "stream",
     "text": [
      "Jaira's Savings Account : Balance £1000\n"
     ]
    }
   ],
   "source": [
    "J.withdraw(500)\n",
    "print(J)"
   ]
  },
  {
   "cell_type": "markdown",
   "id": "a99b70dc-1d0e-4410-91ab-b03ec93a8468",
   "metadata": {},
   "source": [
    "### playing with output with Current class"
   ]
  },
  {
   "cell_type": "code",
   "execution_count": 108,
   "id": "2ebcec53-e799-4ca5-a51b-022efb15a0d9",
   "metadata": {},
   "outputs": [],
   "source": [
    "G = Current(\"Gerone\",500)"
   ]
  },
  {
   "cell_type": "code",
   "execution_count": 109,
   "id": "4ab5f407-3786-408b-b392-63eb018e1e75",
   "metadata": {},
   "outputs": [
    {
     "data": {
      "text/plain": [
       "500"
      ]
     },
     "execution_count": 109,
     "metadata": {},
     "output_type": "execute_result"
    }
   ],
   "source": [
    "G.balance"
   ]
  },
  {
   "cell_type": "code",
   "execution_count": 110,
   "id": "5a538daa-dd1b-49d0-aed8-555e5d2b887e",
   "metadata": {},
   "outputs": [
    {
     "data": {
      "text/plain": [
       "800"
      ]
     },
     "execution_count": 110,
     "metadata": {},
     "output_type": "execute_result"
    }
   ],
   "source": [
    "G.deposit(300)\n",
    "G.balance"
   ]
  },
  {
   "cell_type": "code",
   "execution_count": 111,
   "id": "8bf548a1-d4bb-42fd-8703-b75a6476ec0e",
   "metadata": {},
   "outputs": [
    {
     "data": {
      "text/plain": [
       "-1000"
      ]
     },
     "execution_count": 111,
     "metadata": {},
     "output_type": "execute_result"
    }
   ],
   "source": [
    "G.min_balance"
   ]
  },
  {
   "cell_type": "code",
   "execution_count": 112,
   "id": "894b8496-1c64-4814-ad5b-13ce208a961c",
   "metadata": {},
   "outputs": [
    {
     "name": "stdout",
     "output_type": "stream",
     "text": [
      "Account Balance: £800\n"
     ]
    }
   ],
   "source": [
    "G.statements()"
   ]
  },
  {
   "cell_type": "code",
   "execution_count": 113,
   "id": "7f65fbb6-a883-4ee5-8d2f-dc701f58e794",
   "metadata": {},
   "outputs": [
    {
     "name": "stdout",
     "output_type": "stream",
     "text": [
      "Gerone's Current Account : Balance £-200\n"
     ]
    }
   ],
   "source": [
    "G.withdraw(1000)\n",
    "print(G)"
   ]
  },
  {
   "cell_type": "code",
   "execution_count": 114,
   "id": "04e1ea55-a3a5-4d90-a920-0e0e6043ced3",
   "metadata": {},
   "outputs": [
    {
     "name": "stdout",
     "output_type": "stream",
     "text": [
      "Account Balance: £-1000\n"
     ]
    }
   ],
   "source": [
    "G.withdraw(800)\n",
    "G.statements()"
   ]
  },
  {
   "cell_type": "code",
   "execution_count": 115,
   "id": "86578c5e-40db-46d0-a41e-e15b2b41e8d1",
   "metadata": {},
   "outputs": [
    {
     "name": "stdout",
     "output_type": "stream",
     "text": [
      "Sorry, not enough funds!\n"
     ]
    }
   ],
   "source": [
    "G.withdraw(69)"
   ]
  },
  {
   "cell_type": "code",
   "execution_count": 116,
   "id": "957e71aa-7926-4427-94d1-ace275927072",
   "metadata": {},
   "outputs": [
    {
     "name": "stdout",
     "output_type": "stream",
     "text": [
      "Gerone's Current Account : Balance £-1000\n"
     ]
    }
   ],
   "source": [
    "print(G)"
   ]
  }
 ],
 "metadata": {
  "kernelspec": {
   "display_name": "Python 3 (ipykernel)",
   "language": "python",
   "name": "python3"
  },
  "language_info": {
   "codemirror_mode": {
    "name": "ipython",
    "version": 3
   },
   "file_extension": ".py",
   "mimetype": "text/x-python",
   "name": "python",
   "nbconvert_exporter": "python",
   "pygments_lexer": "ipython3",
   "version": "3.11.7"
  }
 },
 "nbformat": 4,
 "nbformat_minor": 5
}
