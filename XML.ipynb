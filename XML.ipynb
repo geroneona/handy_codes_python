{
 "cells": [
  {
   "cell_type": "markdown",
   "metadata": {},
   "source": [
    "# Dealing with XML"
   ]
  },
  {
   "cell_type": "markdown",
   "metadata": {},
   "source": [
    "### SAX Method"
   ]
  },
  {
   "cell_type": "code",
   "execution_count": null,
   "metadata": {},
   "outputs": [
    {
     "name": "stdout",
     "output_type": "stream",
     "text": [
      "-- Person 1 --\n",
      "Name: Jennifer Cold\n",
      "Age: 20\n",
      "Weight: 80\n",
      "Height: 188\n",
      "-- Person 2 --\n",
      "Name: Mike Davis\n",
      "Age: 45\n",
      "Weight: 82\n",
      "Height: 185\n",
      "-- Person 3 --\n",
      "Name: Anna Johnson\n",
      "Age: 33\n",
      "Weight: 67\n",
      "Height: 167\n",
      "-- Person 4 --\n",
      "Name: Bob Smith\n",
      "Age: 60\n",
      "Weight: 70\n",
      "Height: 174\n",
      "-- Person 5 --\n",
      "Name: Sarah Pitt\n",
      "Age: 12\n",
      "Weight: 50\n",
      "Height: 152\n"
     ]
    }
   ],
   "source": [
    "import xml.sax\n",
    "\n",
    "class PeopleHandler(xml.sax.ContentHandler):\n",
    "    \n",
    "    def startElement(self, name, attrs):\n",
    "        self.current = name\n",
    "        if name == \"person\":\n",
    "            print(f\"-- Person {attrs['id']} --\")\n",
    "    \n",
    "    def characters(self, content):\n",
    "        if self.current == \"name\":\n",
    "            self.name = content\n",
    "        elif self.current == \"age\":\n",
    "            self.age = content\n",
    "        elif self.current == \"weight\":\n",
    "            self.weight = content\n",
    "        elif self.current == \"height\":\n",
    "            self.height = content\n",
    "\n",
    "    def endElement(self, name):\n",
    "        if self.current == \"name\":\n",
    "            print(f\"Name: {self.name}\")\n",
    "        elif self.current == \"age\":\n",
    "            print(f\"Age: {self.age}\")\n",
    "        elif self.current == \"weight\":\n",
    "            print(f\"Weight: {self.weight}\")\n",
    "        elif self.current == \"height\":\n",
    "            print(f\"Height: {self.height}\")\n",
    "        self.current = \"\"\n",
    "\n",
    "handler = PeopleHandler()\n",
    "parser = xml.sax.make_parser()\n",
    "parser.setContentHandler(handler)\n",
    "parser.parse(\"people.xml\")\n",
    "\n"
   ]
  },
  {
   "cell_type": "markdown",
   "metadata": {},
   "source": [
    "### DOM Method"
   ]
  },
  {
   "cell_type": "code",
   "execution_count": 2,
   "metadata": {},
   "outputs": [
    {
     "name": "stdout",
     "output_type": "stream",
     "text": [
      "-- Person 1 --\n",
      "Name: Jennifer Cold\n",
      "Age: 20\n",
      "Weight: 80\n",
      "Height: 188\n",
      "-- Person 2 --\n",
      "Name: Mike Davis\n",
      "Age: 45\n",
      "Weight: 82\n",
      "Height: 185\n",
      "-- Person 3 --\n",
      "Name: Anna Johnson\n",
      "Age: 33\n",
      "Weight: 67\n",
      "Height: 167\n",
      "-- Person 4 --\n",
      "Name: Bob Smith\n",
      "Age: 60\n",
      "Weight: 70\n",
      "Height: 174\n",
      "-- Person 5 --\n",
      "Name: Sarah Pitt\n",
      "Age: 12\n",
      "Weight: 50\n",
      "Height: 152\n"
     ]
    }
   ],
   "source": [
    "import xml.dom.minidom\n",
    "# creating a domtree out of xml file\n",
    "domtree = xml.dom.minidom.parse('people.xml')\n",
    "# the group is the top most element in the xml file\n",
    "group = domtree.documentElement\n",
    "# gives use the collection of people we can iterate through\n",
    "people = group.getElementsByTagName('person')\n",
    "\n",
    "for person in people:\n",
    "    print(f\"-- Person {person.getAttribute('id')} --\")\n",
    "    print(f\"Name: {person.getElementsByTagName('name')[0].childNodes[0].nodeValue}\")\n",
    "    print(f\"Age: {person.getElementsByTagName('age')[0].childNodes[0].nodeValue}\")\n",
    "    print(f\"Weight: {person.getElementsByTagName('weight')[0].childNodes[0].nodeValue}\")\n",
    "    print(f\"Height: {person.getElementsByTagName('height')[0].childNodes[0].nodeValue}\")\n",
    "\n",
    "\n"
   ]
  },
  {
   "cell_type": "markdown",
   "metadata": {},
   "source": [
    "### Change stuff in XML file with DOM unlike SAX"
   ]
  },
  {
   "cell_type": "code",
   "execution_count": 8,
   "metadata": {},
   "outputs": [
    {
     "name": "stdout",
     "output_type": "stream",
     "text": [
      "-- Person 1 --\n",
      "Name: Jennifer Cold\n",
      "Age: 20\n",
      "Weight: 80\n",
      "Height: 188\n",
      "-- Person 2 --\n",
      "Name: Mike Davis\n",
      "Age: 45\n",
      "Weight: 82\n",
      "Height: 185\n",
      "-- Person 3 --\n",
      "Name: Anna Johnson\n",
      "Age: 33\n",
      "Weight: 67\n",
      "Height: 167\n",
      "-- Person 4 --\n",
      "Name: Bob Smith\n",
      "Age: 60\n",
      "Weight: 70\n",
      "Height: 174\n",
      "-- Person 5 --\n",
      "Name: Sarah Pitt\n",
      "Age: 12\n",
      "Weight: 50\n",
      "Height: 152\n"
     ]
    }
   ],
   "source": [
    "import xml.dom.minidom\n",
    "# creating a domtree out of xml file\n",
    "domtree = xml.dom.minidom.parse('people.xml')\n",
    "# the group is the top most element in the xml file\n",
    "group = domtree.documentElement\n",
    "# gives use the collection of people we can iterate through\n",
    "people = group.getElementsByTagName('person')\n",
    "\n",
    "for person in people:\n",
    "    print(f\"-- Person {person.getAttribute('id')} --\")\n",
    "    print(f\"Name: {person.getElementsByTagName('name')[0].childNodes[0].nodeValue}\")\n",
    "    print(f\"Age: {person.getElementsByTagName('age')[0].childNodes[0].nodeValue}\")\n",
    "    print(f\"Weight: {person.getElementsByTagName('weight')[0].childNodes[0].nodeValue}\")\n",
    "    print(f\"Height: {person.getElementsByTagName('height')[0].childNodes[0].nodeValue}\")\n",
    "\n",
    "# changing the values inside XML\n",
    "people[0].getElementsByTagName('name')[0].childNodes[0].nodeValue = \"Gerone Ona\"\n",
    "people[0].getElementsByTagName('age')[0].childNodes[0].nodeValue = \"28\"\n",
    "people[0].getElementsByTagName('weight')[0].childNodes[0].nodeValue = \"69\"\n",
    "people[0].getElementsByTagName('height')[0].childNodes[0].nodeValue = \"173\"\n",
    "people[0].setAttribute(\"id\",\"200\") # notice that 200 is enclosed in \"\" because everything is text value in XML file\n",
    "people[0].setAttribute(\"newattr\", \"Hello\")\n",
    "\n",
    "people[1].getElementsByTagName('name')[0].childNodes[0].nodeValue = \"Miles Davis\" \n",
    "\n",
    "domtree.writexml(open('people_for_writing.xml','w'))"
   ]
  }
 ],
 "metadata": {
  "kernelspec": {
   "display_name": "Python 3",
   "language": "python",
   "name": "python3"
  },
  "language_info": {
   "codemirror_mode": {
    "name": "ipython",
    "version": 3
   },
   "file_extension": ".py",
   "mimetype": "text/x-python",
   "name": "python",
   "nbconvert_exporter": "python",
   "pygments_lexer": "ipython3",
   "version": "3.11.2"
  }
 },
 "nbformat": 4,
 "nbformat_minor": 2
}
