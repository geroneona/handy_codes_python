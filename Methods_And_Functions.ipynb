{
 "cells": [
  {
   "cell_type": "code",
   "execution_count": 13,
   "id": "fef02073-b88d-4d74-8966-66b041491dad",
   "metadata": {},
   "outputs": [],
   "source": [
    "def name_of_function(name): #notice snake case of function name\n",
    "    \"\"\"\n",
    "    Doc string, type here whatever you want to explain the function\n",
    "    \"\"\"\n",
    "    print('Hello',name)\n",
    "    age = input('give age:')\n",
    "    return 'Hello '+name+'. Your age is: '+age"
   ]
  },
  {
   "cell_type": "code",
   "execution_count": 14,
   "id": "efae38ab-419f-4e0d-9f1d-b9badea5c751",
   "metadata": {},
   "outputs": [
    {
     "name": "stdout",
     "output_type": "stream",
     "text": [
      "Hello Gerone\n"
     ]
    },
    {
     "name": "stdout",
     "output_type": "stream",
     "text": [
      "give age: 28\n"
     ]
    }
   ],
   "source": [
    "simple_bio = name_of_function('Gerone')"
   ]
  },
  {
   "cell_type": "code",
   "execution_count": 15,
   "id": "cc9db026-a0c6-4ad1-8e75-6ddc2497a0fe",
   "metadata": {},
   "outputs": [
    {
     "data": {
      "text/plain": [
       "'Hello Gerone. Your age is: 28'"
      ]
     },
     "execution_count": 15,
     "metadata": {},
     "output_type": "execute_result"
    }
   ],
   "source": [
    "simple_bio"
   ]
  },
  {
   "cell_type": "markdown",
   "id": "92d626e4-ae13-4baf-9555-00c5ffc3659e",
   "metadata": {},
   "source": [
    "### Combining logic with function"
   ]
  },
  {
   "cell_type": "code",
   "execution_count": 55,
   "id": "32b561e3-5d5d-4db4-b705-b2c297a39522",
   "metadata": {},
   "outputs": [],
   "source": [
    "def check_num_in_L_if_even(L):\n",
    "    for i in L:\n",
    "        if i%2==0:\n",
    "            print(str(i)+' is even')\n",
    "        else:\n",
    "            print(str(i)+' is not even')"
   ]
  },
  {
   "cell_type": "code",
   "execution_count": 56,
   "id": "d969e737-7de2-4045-b0bb-31447dd875ad",
   "metadata": {},
   "outputs": [
    {
     "name": "stdout",
     "output_type": "stream",
     "text": [
      "1 is not even\n",
      "3 is not even\n",
      "5 is not even\n",
      "7 is not even\n",
      "9 is not even\n",
      "10 is even\n",
      "12 is even\n"
     ]
    }
   ],
   "source": [
    "check_num_in_L_if_even([1,3,5,7,9,10,12])"
   ]
  },
  {
   "cell_type": "code",
   "execution_count": 73,
   "id": "627998c3-43fd-49ba-9541-e2178a24ce68",
   "metadata": {},
   "outputs": [],
   "source": [
    "# sol1\n",
    "def check_num_in_L_if_even(L):\n",
    "    new_L = []\n",
    "    for i in L:\n",
    "        if i%2==0:\n",
    "            return True\n",
    "        else:\n",
    "            new_L.append(i)\n",
    "    for j in new_L:\n",
    "        if i%2!=0:\n",
    "            return False"
   ]
  },
  {
   "cell_type": "code",
   "execution_count": 79,
   "id": "bbbefee4-984e-4bd2-a770-0268a543c465",
   "metadata": {},
   "outputs": [
    {
     "data": {
      "text/plain": [
       "True"
      ]
     },
     "execution_count": 79,
     "metadata": {},
     "output_type": "execute_result"
    }
   ],
   "source": [
    "check_num_in_L_if_even([1,3,5,7,9,10])"
   ]
  },
  {
   "cell_type": "code",
   "execution_count": 88,
   "id": "6b8d6d51-436d-425a-9341-3fe5a798d6a8",
   "metadata": {},
   "outputs": [],
   "source": [
    "# sol2 : best sol\n",
    "def check_num_in_L_if_even(L):\n",
    "    for i in L:\n",
    "        if i%2==0:\n",
    "            return True\n",
    "    return False"
   ]
  },
  {
   "cell_type": "code",
   "execution_count": 95,
   "id": "46746395-1a80-4c7b-b954-7e2f14b638af",
   "metadata": {},
   "outputs": [
    {
     "data": {
      "text/plain": [
       "True"
      ]
     },
     "execution_count": 95,
     "metadata": {},
     "output_type": "execute_result"
    }
   ],
   "source": [
    "check_num_in_L_if_even([1,2,3,5,7,8,9,99,999,100])"
   ]
  },
  {
   "cell_type": "code",
   "execution_count": 140,
   "id": "b834b19b-dd0b-488b-b30a-b60fc5b2a853",
   "metadata": {},
   "outputs": [],
   "source": [
    "# return all even number in the list\n",
    "def check_num_in_L_if_even(L):\n",
    "    new_L = []\n",
    "    for i in L:\n",
    "        if i%2==0:\n",
    "            new_L.append(i)\n",
    "        else:\n",
    "            pass\n",
    "    return new_L"
   ]
  },
  {
   "cell_type": "code",
   "execution_count": 141,
   "id": "7d052db2-1ac6-4e26-8271-6dee645a3899",
   "metadata": {},
   "outputs": [
    {
     "data": {
      "text/plain": [
       "[2, 2, 60, 8, 10, 100]"
      ]
     },
     "execution_count": 141,
     "metadata": {},
     "output_type": "execute_result"
    }
   ],
   "source": [
    "check_num_in_L_if_even([2,1,1,2,3,5,60,7,8,10,9,99,999,100])"
   ]
  },
  {
   "cell_type": "code",
   "execution_count": 138,
   "id": "aba86c7f-68f5-42e3-ab1d-3b0ac9c07e70",
   "metadata": {},
   "outputs": [],
   "source": [
    "# return all even number in the list using POP, more advanced approach\n",
    "def check_num_in_L_if_even(L):\n",
    "    for i in L[::-1]: # NOTICE this approach, always pop from the end to beginning!!!!!!\n",
    "        if i%2!=0:\n",
    "            L.pop(L.index(i)) \n",
    "        else:\n",
    "            pass\n",
    "    return L"
   ]
  },
  {
   "cell_type": "code",
   "execution_count": 139,
   "id": "78b214a4-d6eb-490c-af33-7c3cbcf593d8",
   "metadata": {},
   "outputs": [
    {
     "data": {
      "text/plain": [
       "[2, 2, 60, 8, 10, 100]"
      ]
     },
     "execution_count": 139,
     "metadata": {},
     "output_type": "execute_result"
    }
   ],
   "source": [
    "check_num_in_L_if_even([2,1,1,2,3,5,60,7,8,10,9,99,999,100])"
   ]
  },
  {
   "cell_type": "code",
   "execution_count": 30,
   "id": "0b444b4e-9622-47f4-b940-8c0c4f78432d",
   "metadata": {},
   "outputs": [],
   "source": [
    "def check_num_if_even(num):\n",
    "    if num%2==0:\n",
    "        return str(num)+' is even'\n",
    "    else:\n",
    "        return str(num)+' is not even'"
   ]
  },
  {
   "cell_type": "code",
   "execution_count": 142,
   "id": "417a9409-be2a-4a56-8334-7dbb7140d1aa",
   "metadata": {},
   "outputs": [
    {
     "name": "stdout",
     "output_type": "stream",
     "text": [
      "1 is not even\n",
      "2 is even\n",
      "3 is not even\n",
      "4 is even\n",
      "5 is not even\n",
      "6 is even\n",
      "7 is not even\n",
      "8 is even\n",
      "9 is not even\n",
      "10 is even\n"
     ]
    }
   ],
   "source": [
    "for i in range(1,11):\n",
    "    print(check_num_if_even(i))"
   ]
  },
  {
   "cell_type": "markdown",
   "id": "23fc5ce9-8d1d-498e-9e47-8b3be51ed45d",
   "metadata": {},
   "source": [
    "## Tuple Unpacking with Python Functions"
   ]
  },
  {
   "cell_type": "code",
   "execution_count": 144,
   "id": "b3ef32cf-9271-4fc6-b66f-841820c869c0",
   "metadata": {},
   "outputs": [],
   "source": [
    "stock_prices = [('APPL',200),('GOOG',400),('MSFT',100)]"
   ]
  },
  {
   "cell_type": "code",
   "execution_count": 157,
   "id": "e05889f8-72cc-41d9-acfe-677c7ef1e1e3",
   "metadata": {},
   "outputs": [
    {
     "name": "stdout",
     "output_type": "stream",
     "text": [
      "APPL 200\n",
      "GOOG 400\n",
      "MSFT 100\n"
     ]
    }
   ],
   "source": [
    "for i,j in stock_prices:\n",
    "    print(i,j)"
   ]
  },
  {
   "cell_type": "code",
   "execution_count": 451,
   "id": "3497a5f8-4151-40db-9eae-296fd1cb731f",
   "metadata": {},
   "outputs": [],
   "source": [
    "# answer the question, who's the employee of the month\n",
    "work_hours = [('Abby',100),('Gerone',90),('Billy',400),('Cassie',800),('Aira',1000)]"
   ]
  },
  {
   "cell_type": "code",
   "execution_count": 452,
   "id": "fc74b7a2-2960-4f75-99c9-3c1cb6545a6a",
   "metadata": {},
   "outputs": [
    {
     "name": "stdout",
     "output_type": "stream",
     "text": [
      "Abby 100\n",
      "Gerone 90\n",
      "Billy 400\n",
      "Cassie 800\n",
      "Aira 1000\n"
     ]
    },
    {
     "data": {
      "text/plain": [
       "[(100, 'Abby'),\n",
       " (90, 'Gerone'),\n",
       " (400, 'Billy'),\n",
       " (800, 'Cassie'),\n",
       " (1000, 'Aira')]"
      ]
     },
     "execution_count": 452,
     "metadata": {},
     "output_type": "execute_result"
    }
   ],
   "source": [
    "new_work_hours = []\n",
    "\n",
    "for i,j in work_hours:\n",
    "    print(i,j)\n",
    "    new_work_hours.append((j,i))\n",
    "new_work_hours    "
   ]
  },
  {
   "cell_type": "code",
   "execution_count": 454,
   "id": "8b6ff50e-1d8f-4434-8308-491a86115628",
   "metadata": {},
   "outputs": [
    {
     "name": "stdout",
     "output_type": "stream",
     "text": [
      "Employee of the month/year is Aira with working hour of 1000.\n"
     ]
    }
   ],
   "source": [
    "new_work_hours = []\n",
    "for i,j in work_hours:\n",
    "    new_work_hours.append((j,i))\n",
    "for k,l in work_hours:\n",
    "    if k in max(new_work_hours):\n",
    "        print(f'Employee of the month/year is {k} with working hour of {l}.')"
   ]
  },
  {
   "cell_type": "code",
   "execution_count": 457,
   "id": "ca7408f8-36b2-41bd-b437-f7df6f44bea6",
   "metadata": {},
   "outputs": [],
   "source": [
    "def employee_of_the_M_or_Y(*work_hours): #notice the asterisk * which indicates the args\n",
    "    new_work_hours = []\n",
    "    for i,j in work_hours:\n",
    "        new_work_hours.append((j,i))\n",
    "    for i,j in work_hours:\n",
    "        if i in max(new_work_hours):\n",
    "            return f'Employee of the month/year is {j} with working hour of {i}.'"
   ]
  },
  {
   "cell_type": "code",
   "execution_count": 443,
   "id": "b2d29625-c2e0-45a1-9b3e-11116cfd5047",
   "metadata": {},
   "outputs": [
    {
     "name": "stdout",
     "output_type": "stream",
     "text": [
      "('Abby', 100) ('Billy', 400) ('Gerone', 1000) ('Cassie', 800)\n"
     ]
    }
   ],
   "source": [
    "employee_work_hours = [('Abby',100),('Billy',400),('Gerone',1000),('Cassie',800)]\n",
    "print(*employee_work_hours)"
   ]
  },
  {
   "cell_type": "code",
   "execution_count": 448,
   "id": "d92112ab-eacb-453b-a241-c01588448715",
   "metadata": {},
   "outputs": [
    {
     "name": "stdout",
     "output_type": "stream",
     "text": [
      "('Jaira', 1500) ('Abby', 100) ('Billy', 400) ('Gerone', 1000) ('Cassie', 800)\n",
      "('Aira', 1500) ('Abby', 100) ('Billy', 400) ('Gerone', 1000) ('Cassie', 800)\n"
     ]
    }
   ],
   "source": [
    "# accepting both array and tupple\n",
    "employee_work_hours = [('Jaira',1500),('Abby',100),('Billy',400),('Gerone',1000),('Cassie',800)]\n",
    "print(*employee_work_hours)\n",
    "employee_work_hours = ('Aira',1500),('Abby',100),('Billy',400),('Gerone',1000),('Cassie',800)\n",
    "print(*employee_work_hours)"
   ]
  },
  {
   "cell_type": "code",
   "execution_count": 459,
   "id": "f6564c09-5f5b-4ba7-9193-2562b92bcfb6",
   "metadata": {},
   "outputs": [
    {
     "name": "stdout",
     "output_type": "stream",
     "text": [
      "Employee of the month/year is 1500 with working hour of Aira.\n",
      "Employee of the month/year is 800 with working hour of Cassie.\n"
     ]
    }
   ],
   "source": [
    "print(employee_of_the_M_or_Y(*employee_work_hours))\n",
    "# or\n",
    "print(employee_of_the_M_or_Y(('Abby',100),('Billy',400),('Gerone',90),('Cassie',800)))\n",
    "\n"
   ]
  },
  {
   "cell_type": "code",
   "execution_count": 201,
   "id": "a0e02593-4304-4123-a39f-f0b203226ee1",
   "metadata": {},
   "outputs": [],
   "source": [
    "args = ('Abby',100),('Billy',400),('Gerone',1000),('Cassie',800)"
   ]
  },
  {
   "cell_type": "code",
   "execution_count": 211,
   "id": "30f44a8a-7bcd-40d9-a737-40251288de3b",
   "metadata": {},
   "outputs": [
    {
     "data": {
      "text/plain": [
       "'Employee of the month/year is Gerone with working hour of 1000.'"
      ]
     },
     "execution_count": 211,
     "metadata": {},
     "output_type": "execute_result"
    }
   ],
   "source": [
    "employee_of_the_M_or_Y(*args)"
   ]
  },
  {
   "cell_type": "markdown",
   "id": "ecbbe57e-2473-4a03-8b1c-d76d0ad08021",
   "metadata": {},
   "source": [
    "## Pop Method"
   ]
  },
  {
   "cell_type": "code",
   "execution_count": 70,
   "id": "9eafa462-a013-4c03-9a64-29daadd62319",
   "metadata": {},
   "outputs": [],
   "source": [
    "# not pop method yet but just to compare with working\n",
    "def employee_of_the_M_or_Y(*work_hours): #notice the asterisk * which indicates the args\n",
    "    new_work_hours = []\n",
    "    for i,j in work_hours:\n",
    "        new_work_hours.append((j,i))\n",
    "    for i,j in work_hours:\n",
    "        if i in max(new_work_hours):\n",
    "            return f'Employee of the month/year is {j} with working hour of {i}.'"
   ]
  },
  {
   "cell_type": "code",
   "execution_count": 71,
   "id": "b7953a01-5fdb-4587-af32-64577717d6c3",
   "metadata": {},
   "outputs": [
    {
     "name": "stdout",
     "output_type": "stream",
     "text": [
      "Employee of the month/year is 2200 with working hour of Billy.\n"
     ]
    }
   ],
   "source": [
    "print(employee_of_the_M_or_Y(('Abby',100),('Billy',2200),('Gerone',900),('Cassie',800)))"
   ]
  },
  {
   "cell_type": "code",
   "execution_count": 72,
   "id": "4c44e06b-8faa-4490-a76a-6244cb1a5cc4",
   "metadata": {},
   "outputs": [],
   "source": [
    "# Working pop method!!! \n",
    "def employee_of_the_M_or_Y(*work_hours): #notice the asterisk * which indicates the args\n",
    "    work_hours = list(work_hours)\n",
    "    for i,j in work_hours[::-1]:\n",
    "        work_hours.append(work_hours.pop(work_hours.index((i,j)))[::-1]) #flipping popped value approach\n",
    "    for i,j in work_hours:\n",
    "        if i in max(work_hours):\n",
    "            return f'Employee of the month/year is {j} with working hour of {i}.'"
   ]
  },
  {
   "cell_type": "code",
   "execution_count": 73,
   "id": "8d1488af-1dd7-473c-9e72-d48c6a5edab5",
   "metadata": {},
   "outputs": [
    {
     "data": {
      "text/plain": [
       "'Employee of the month/year is Billy with working hour of 2200.'"
      ]
     },
     "execution_count": 73,
     "metadata": {},
     "output_type": "execute_result"
    }
   ],
   "source": [
    "employee_of_the_M_or_Y(('Abby',100),('Billy',2200),('Gerone',900),('Cassie',800))"
   ]
  },
  {
   "cell_type": "code",
   "execution_count": null,
   "id": "1d2b43c7-720b-4721-b299-9cf12eab3737",
   "metadata": {},
   "outputs": [],
   "source": [
    "work_hours"
   ]
  },
  {
   "cell_type": "code",
   "execution_count": 498,
   "id": "3d89b696-d28c-4a78-b209-22172a50bbb6",
   "metadata": {},
   "outputs": [
    {
     "name": "stdout",
     "output_type": "stream",
     "text": [
      "[('Abby', 100), ('Billy', 400), ('Gerone', 90), ('Cassie', 800)]\n"
     ]
    },
    {
     "data": {
      "text/plain": [
       "0"
      ]
     },
     "execution_count": 498,
     "metadata": {},
     "output_type": "execute_result"
    }
   ],
   "source": [
    "work_hours = (('Abby',100),('Billy',400),('Gerone',90),('Cassie',800))\n",
    "work_hours = list(work_hours)\n",
    "print(work_hours)\n",
    "work_hours.index(('Abby', 100))"
   ]
  },
  {
   "cell_type": "markdown",
   "id": "e08e59e4-b1dd-4a2a-87f1-ca2664d39271",
   "metadata": {},
   "source": [
    "## Linear Methods"
   ]
  },
  {
   "cell_type": "code",
   "execution_count": 111,
   "id": "8d03e977-8086-495a-80c6-73d0f4b5caca",
   "metadata": {},
   "outputs": [],
   "source": [
    "#method 1, keep track using array\n",
    "def employee_of_the_M_or_Y(*work_hours): #notice the asterisk * which indicates the args\n",
    "    max_val = 0\n",
    "    employee_of_the_year_or_month = []\n",
    "    for i,j in work_hours:\n",
    "        if j > max_val:\n",
    "            max_val = j\n",
    "            employee_of_the_year_or_month.append((i,max_val))\n",
    "    return employee_of_the_year_or_month[-1]"
   ]
  },
  {
   "cell_type": "code",
   "execution_count": 116,
   "id": "f1090d0e-77c6-4ae5-a486-76de2ac4227f",
   "metadata": {},
   "outputs": [
    {
     "data": {
      "text/plain": [
       "('Billy', 99)"
      ]
     },
     "execution_count": 116,
     "metadata": {},
     "output_type": "execute_result"
    }
   ],
   "source": [
    "employee_of_the_M_or_Y(('Abby',10),('Billy',99),('Gerone',3),('Cassie',4))"
   ]
  },
  {
   "cell_type": "code",
   "execution_count": 46,
   "id": "d093eccc",
   "metadata": {},
   "outputs": [],
   "source": [
    "#method 2, keep track of index\n",
    "def employee_of_the_M_or_Y(*work_hours): #notice the asterisk * which indicates the args\n",
    "    max_val = 0\n",
    "    max_index = 0\n",
    "    for i,j in work_hours:\n",
    "        if j > max_val:\n",
    "            max_val = j\n",
    "            max_index = work_hours.index((i,max_val))\n",
    "    return work_hours[max_index]"
   ]
  },
  {
   "cell_type": "code",
   "execution_count": 49,
   "id": "5ed1d28c",
   "metadata": {},
   "outputs": [
    {
     "data": {
      "text/plain": [
       "('Billy', 666999)"
      ]
     },
     "execution_count": 49,
     "metadata": {},
     "output_type": "execute_result"
    }
   ],
   "source": [
    "employee_of_the_M_or_Y(('Abby',1000),('Billy',666999),('Gerone',999),('Cassie',9999))"
   ]
  },
  {
   "cell_type": "code",
   "execution_count": 129,
   "id": "6809e223-7fcf-4554-8033-d83903046bc3",
   "metadata": {},
   "outputs": [],
   "source": [
    "# method 3, using simple assignment of keys and values based from index\n",
    "def employee_of_the_M_or_Y(*work_hours): #notice the asterisk * which indicates the args\n",
    "    max_val = 0\n",
    "    employee = ''\n",
    "    for i in work_hours:\n",
    "        if i[1] > max_val:\n",
    "            max_val = i[1]\n",
    "            employee = i[0]\n",
    "    return (employee,max_val)        "
   ]
  },
  {
   "cell_type": "code",
   "execution_count": 132,
   "id": "75a41f60-8b2a-463f-85b2-056a911dbebc",
   "metadata": {},
   "outputs": [
    {
     "data": {
      "text/plain": [
       "('Jaira', 7777)"
      ]
     },
     "execution_count": 132,
     "metadata": {},
     "output_type": "execute_result"
    }
   ],
   "source": [
    "employee_of_the_M_or_Y(('Abby',1100),('Billy',2200),('Gerone',3000),('Jaira',7777),('Cassie',990))"
   ]
  },
  {
   "cell_type": "code",
   "execution_count": 20,
   "id": "c4f0bd20",
   "metadata": {},
   "outputs": [],
   "source": [
    "# method 4, using lambda function\n",
    "def employee_of_the_M_or_Y(*work_hours): #notice the asterisk * which indicates the args\n",
    "    return sorted(work_hours, key=lambda x:x[1])[-1]"
   ]
  },
  {
   "cell_type": "code",
   "execution_count": 45,
   "id": "0dd809b9",
   "metadata": {},
   "outputs": [
    {
     "data": {
      "text/plain": [
       "('Gerone', 3000)"
      ]
     },
     "execution_count": 45,
     "metadata": {},
     "output_type": "execute_result"
    }
   ],
   "source": [
    "employee_of_the_M_or_Y(('Abby',1100),('Billy',2200),('Gerone',3000),('Jaira',777),('Cassie',990))"
   ]
  },
  {
   "cell_type": "markdown",
   "id": "3fcc2ec9-7013-4fa6-af65-718c91932782",
   "metadata": {},
   "source": [
    "# Interactions between Python Functions"
   ]
  },
  {
   "cell_type": "code",
   "execution_count": 217,
   "id": "5244a8e9-d982-4734-a75b-94739334713c",
   "metadata": {},
   "outputs": [
    {
     "name": "stdout",
     "output_type": "stream",
     "text": [
      "Let's please Three Cup Monty!\n",
      "\n",
      "Below is the 3 Cup and the ball[0] is in the middle.\n",
      "\n",
      "\t[[], [0], []]\n"
     ]
    },
    {
     "name": "stdout",
     "output_type": "stream",
     "text": [
      "\n",
      "Shuffle cups?(y/n): n\n"
     ]
    },
    {
     "name": "stdout",
     "output_type": "stream",
     "text": [
      "You didn't shuffle, what a cheat! :p\n",
      "\n"
     ]
    },
    {
     "name": "stdout",
     "output_type": "stream",
     "text": [
      "\n",
      "Select which cup containing the ball (1-3): 2\n"
     ]
    },
    {
     "name": "stdout",
     "output_type": "stream",
     "text": [
      "\n",
      "We have a winner! Congratulations, you've found the monty ball!\n",
      "\n",
      "Here are the cups and its values:\n",
      "\n",
      "\t[[], [0], []]\n"
     ]
    }
   ],
   "source": [
    "from random import shuffle\n",
    "\n",
    "print(\"Let's please Three Cup Monty!\\n\\nBelow is the 3 Cup and the ball[0] is in the middle.\")\n",
    "\n",
    "monty_ball = [[],[0],[]]\n",
    "print(f\"\\n\\t{monty_ball}\")\n",
    "\n",
    "ask_shuffle = input('\\nShuffle cups?(y/n):').strip().lower()\n",
    "\n",
    "if ask_shuffle == 'y':\n",
    "    shuffle(monty_ball)\n",
    "    print(\"\\nYou've shuffled the cups! Good luck!\\n\")\n",
    "elif ask_shuffle == 'n':\n",
    "    print(\"\\nYou didn't shuffle, what a cheat! :p\\n\")\n",
    "    pass\n",
    "choice = int(input('\\nSelect which cup containing the ball (1-3):').strip())\n",
    "if monty_ball[choice-1] == [0]:\n",
    "    print(\"\\nWe have a winner! Congratulations, you've found the monty ball!\")\n",
    "    print(f\"\\nHere are the cups and its values:\\n\\n\\t{monty_ball}\")\n",
    "else:\n",
    "    print(\"\\nOops, sorry the cup is empty! better luck next time.\")\n",
    "    print(f\"\\nHere are the cups and its values:\\n\\n\\t{monty_ball}\")"
   ]
  },
  {
   "cell_type": "code",
   "execution_count": 52,
   "id": "602a99bd-1ac6-4bc3-ad0d-011d3ec5c83a",
   "metadata": {},
   "outputs": [],
   "source": [
    "def clear_output():\n",
    "    from IPython.display import clear_output\n",
    "    clear = input(\"\\nClear output?(y/n): \").strip().lower()\n",
    "    if clear == 'y':\n",
    "        clear_output(wait=True)\n",
    "\n",
    "def play_3_cup_monty():\n",
    "    from random import shuffle\n",
    "    \n",
    "    print(\"Let's please Three Cup Monty!\\n\\nBelow are the 3 Cup and the ball [0] is currently in the middle.\")\n",
    "    \n",
    "    monty_ball = [[],[0],[]]\n",
    "    print(f\"\\n\\t{monty_ball}\")\n",
    "    \n",
    "    ask_shuffle = input('\\nShuffle cups?(y/n):').strip().lower()\n",
    "    \n",
    "    if ask_shuffle == 'y':\n",
    "        shuffle(monty_ball)\n",
    "        print(\"\\nYou've shuffled the cups! Good luck!\")\n",
    "    elif ask_shuffle == 'n':\n",
    "        print(\"\\nYou didn't shuffle, what a cheat! :p\")\n",
    "        \n",
    "    choice = int(input('\\nGuess which cup contains the ball (enter between 1-3):').strip())\n",
    "    if monty_ball[choice-1] == [0] and ask_shuffle == 'n':\n",
    "        print(\"\\nWe have a winner! Congratulations, you've found the monty ball!\\n...but you're a cheat! :p\")\n",
    "        print(f\"\\nHere are the cups and its values:\\n\\n\\t{monty_ball}\")\n",
    "        return True\n",
    "    elif monty_ball[choice-1] != [0] and ask_shuffle == 'n':\n",
    "        print(\"\\nYou still didn't win even though you didn't shuffle? hahaha! what a loser :p :p :p\")\n",
    "        print(f\"\\nHere are the cups and its values:\\n\\n\\t{monty_ball}\")\n",
    "        return False\n",
    "    elif monty_ball[choice-1] == [0]: \n",
    "        print(\"\\nWe have a winner! Congratulations, you've found the monty ball!\")\n",
    "        print(f\"\\nHere are the cups' values:\\n\\n\\t{monty_ball}\")\n",
    "        return True\n",
    "    else:\n",
    "        print(\"\\nOops, sorry the cup is empty! better luck next time.\")\n",
    "        print(f\"\\nHere are the cups' values:\\n\\n\\t{monty_ball}\")\n",
    "        return False\n",
    "score=0    "
   ]
  },
  {
   "cell_type": "code",
   "execution_count": 54,
   "id": "f40a5c06-1b77-4616-b9ce-246040a48029",
   "metadata": {},
   "outputs": [
    {
     "name": "stdout",
     "output_type": "stream",
     "text": [
      "Let's please Three Cup Monty!\n",
      "\n",
      "Below are the 3 Cup and the ball [0] is currently in the middle.\n",
      "\n",
      "\t[[], [0], []]\n",
      "\n",
      "You didn't shuffle, what a cheat! :p\n",
      "\n",
      "We have a winner! Congratulations, you've found the monty ball!\n",
      "...but you're a cheat! :p\n",
      "\n",
      "Here are the cups and its values:\n",
      "\n",
      "\t[[], [0], []]\n",
      "\n",
      "You've won three cup monty game and returned 'True' value for variable 'is_winner'\n",
      "\n",
      "Score Board:\n",
      "\t\t\t3\n",
      "\n",
      "\n",
      "\n",
      "You've reached the max score! Thanks for playing Three Cup Monty.\n"
     ]
    }
   ],
   "source": [
    "while True:\n",
    "    is_winner = play_3_cup_monty()\n",
    "    print()\n",
    "    if is_winner:\n",
    "        print(\"You've won three cup monty game and returned 'True' value for variable 'is_winner'\\n\")\n",
    "        score+=1\n",
    "        print(f'Score Board:\\n\\t\\t\\t{score}\\n\\n')\n",
    "        clear_output()\n",
    "    else:\n",
    "        print(\"You've lost three cup monty game and returned 'False' value for variable 'is_winner'\\n\")\n",
    "        print(f'Score Board:\\n\\t\\t\\t{score}\\n\\n')\n",
    "        clear_output()\n",
    "    if score==3:\n",
    "        print(\"\\nYou've reached the max score! Thanks for playing Three Cup Monty.\")\n",
    "        score=0\n",
    "        break\n"
   ]
  },
  {
   "cell_type": "code",
   "execution_count": 262,
   "id": "ae8cb5c2-6ac8-493d-b0d8-d800c374194a",
   "metadata": {},
   "outputs": [
    {
     "data": {
      "text/plain": [
       "'C:\\\\Users\\\\P101I3PH1\\\\Documents\\\\Python Learning'"
      ]
     },
     "execution_count": 262,
     "metadata": {},
     "output_type": "execute_result"
    }
   ],
   "source": [
    "pwd"
   ]
  },
  {
   "cell_type": "markdown",
   "metadata": {},
   "source": [
    "## Caesar Encription"
   ]
  },
  {
   "cell_type": "code",
   "execution_count": 1,
   "metadata": {},
   "outputs": [],
   "source": [
    "def caesar_encryption(string,num):\n",
    "    L = []\n",
    "\n",
    "    for i in string[num:]:\n",
    "        L.append(i)\n",
    "    for i in string[:num]:\n",
    "        L.append(i)\n",
    "\n",
    "    return ''.join(L)"
   ]
  },
  {
   "cell_type": "code",
   "execution_count": 2,
   "metadata": {},
   "outputs": [
    {
     "data": {
      "text/plain": [
       "'iraJa'"
      ]
     },
     "execution_count": 2,
     "metadata": {},
     "output_type": "execute_result"
    }
   ],
   "source": [
    "caesar_encryption('Jaira',2)"
   ]
  },
  {
   "cell_type": "markdown",
   "metadata": {},
   "source": [
    "## Sponge Case"
   ]
  },
  {
   "cell_type": "code",
   "execution_count": 82,
   "metadata": {},
   "outputs": [],
   "source": [
    "def sponge_case(string,is_even):\n",
    "\n",
    "    string = string.lower()\n",
    "    L = []\n",
    "\n",
    "    if is_even:\n",
    "        even=1\n",
    "    else:\n",
    "        even=0\n",
    "    \n",
    "    for i in string:\n",
    "        if even == len(string):\n",
    "            L.append(i.lower())\n",
    "            break\n",
    "        elif i != string[even]:\n",
    "            L.append(i.lower())\n",
    "        elif i == string[even]:\n",
    "            L.append(i.upper())\n",
    "            even+=2\n",
    "            \n",
    "    return ''.join(L)"
   ]
  },
  {
   "cell_type": "code",
   "execution_count": 83,
   "metadata": {},
   "outputs": [
    {
     "data": {
      "text/plain": [
       "'gErOnE'"
      ]
     },
     "execution_count": 83,
     "metadata": {},
     "output_type": "execute_result"
    }
   ],
   "source": [
    "sponge_case('Gerone',is_even=True)"
   ]
  },
  {
   "cell_type": "code",
   "execution_count": 84,
   "metadata": {},
   "outputs": [
    {
     "data": {
      "text/plain": [
       "'jAiRa'"
      ]
     },
     "execution_count": 84,
     "metadata": {},
     "output_type": "execute_result"
    }
   ],
   "source": [
    "sponge_case('Jaira',is_even=True)"
   ]
  },
  {
   "cell_type": "code",
   "execution_count": 81,
   "metadata": {},
   "outputs": [
    {
     "data": {
      "text/plain": [
       "'JaIrA'"
      ]
     },
     "execution_count": 81,
     "metadata": {},
     "output_type": "execute_result"
    }
   ],
   "source": [
    "sponge_case('Jaira',is_even=False)"
   ]
  },
  {
   "cell_type": "code",
   "execution_count": 79,
   "metadata": {},
   "outputs": [
    {
     "data": {
      "text/plain": [
       "'GeRoNe'"
      ]
     },
     "execution_count": 79,
     "metadata": {},
     "output_type": "execute_result"
    }
   ],
   "source": [
    "sponge_case('Gerone',is_even=False)"
   ]
  },
  {
   "cell_type": "markdown",
   "metadata": {},
   "source": [
    "### Solution Below"
   ]
  },
  {
   "cell_type": "code",
   "execution_count": 66,
   "metadata": {},
   "outputs": [],
   "source": [
    "string = 'Jairah'\n",
    "is_even = False\n",
    "string = string.lower()\n",
    "\n",
    "if is_even:\n",
    "    even=1\n",
    "else:\n",
    "    even=0\n",
    "L = []\n",
    "for i in string:\n",
    "    if even == len(string):\n",
    "        L.append(i.lower())\n",
    "        break\n",
    "    elif i != string[even]:\n",
    "        L.append(i.lower())\n",
    "    elif i == string[even]:\n",
    "        L.append(i.upper())\n",
    "        even+=2"
   ]
  },
  {
   "cell_type": "code",
   "execution_count": 67,
   "metadata": {},
   "outputs": [
    {
     "data": {
      "text/plain": [
       "['J', 'a', 'I', 'r', 'A', 'h']"
      ]
     },
     "execution_count": 67,
     "metadata": {},
     "output_type": "execute_result"
    }
   ],
   "source": []
  },
  {
   "cell_type": "markdown",
   "id": "ad16fbb3-14cc-43d1-8d8c-1cf43882ea48",
   "metadata": {},
   "source": [
    "## Recalling youtube lesson *args **kwargs"
   ]
  },
  {
   "cell_type": "code",
   "execution_count": 377,
   "id": "0781f151-7bbe-4a3d-8854-d7185f7193b6",
   "metadata": {},
   "outputs": [],
   "source": [
    "def pizza_delivery_orders(name,size,*toppings,**details):\n",
    "    print(f'Hi {name}, your {size} pizza order are as follows:\\n\\n\\tToppings:')\n",
    "    for topping in toppings:\n",
    "        print(f'\\t   -{topping}')\n",
    "    print(f'\\nMore details below:\\n')\n",
    "    for key,value in details.items():\n",
    "        print(f'\\t{key}:\\n\\t   -{value}\\n')"
   ]
  },
  {
   "cell_type": "code",
   "execution_count": 373,
   "id": "31768b65-800e-484a-a42a-58a22333a6af",
   "metadata": {},
   "outputs": [
    {
     "name": "stdout",
     "output_type": "stream",
     "text": [
      "Hi Gerone, your large pizza order are as follows:\n",
      "\n",
      "\tToppings:\n",
      "\t   -onion\n",
      "\t   -cheese\n",
      "\t   -pineapple\n",
      "\t   -olives\n",
      "\n",
      "More details below:\n",
      "\n",
      "\tDelivery_Date_Time:\n",
      "\t   -9PM Manila Time\n",
      "\n",
      "\tMode_Of_Payment:\n",
      "\t   -Cash\n",
      "\n"
     ]
    }
   ],
   "source": [
    "pizza_delivery_orders('Gerone','large','onion','cheese','pineapple','olives',Delivery_Date_Time='9PM Manila Time',Mode_Of_Payment='Cash')"
   ]
  },
  {
   "cell_type": "code",
   "execution_count": 385,
   "id": "7131d391-32d9-43fa-ad1e-f267b2767c51",
   "metadata": {},
   "outputs": [
    {
     "name": "stdout",
     "output_type": "stream",
     "text": [
      "Hi Gerone, your large pizza order are as follows:\n",
      "\n",
      "\tToppings:\n",
      "\t   -onion\n",
      "\t   -cheese\n",
      "\t   -pineapple\n",
      "\t   -olives\n",
      "\t   -pepperoni\n",
      "\n",
      "More details below:\n",
      "\n",
      "\tDelivery Date Time:\n",
      "\t   -9PM Manila Time\n",
      "\n",
      "\tMode of Payment:\n",
      "\t   -Cash\n",
      "\n",
      "\tLocation:\n",
      "\t   -Pioneer Woodlands Mandaluyong\n",
      "\n"
     ]
    }
   ],
   "source": [
    "args = ['onion','cheese','pineapple','olives']\n",
    "kwargs = {'Delivery Date Time': '9PM Manila Time', \n",
    "          'Mode of Payment': 'Cash'}\n",
    "\n",
    "kwargs['Location'] = 'Pioneer Woodlands Mandaluyong' \n",
    "args.append('pepperoni')\n",
    "\n",
    "pizza_delivery_orders('Gerone','large',*args,**kwargs)"
   ]
  }
 ],
 "metadata": {
  "kernelspec": {
   "display_name": "Python 3 (ipykernel)",
   "language": "python",
   "name": "python3"
  },
  "language_info": {
   "codemirror_mode": {
    "name": "ipython",
    "version": 3
   },
   "file_extension": ".py",
   "mimetype": "text/x-python",
   "name": "python",
   "nbconvert_exporter": "python",
   "pygments_lexer": "ipython3",
   "version": "3.11.2"
  }
 },
 "nbformat": 4,
 "nbformat_minor": 5
}
