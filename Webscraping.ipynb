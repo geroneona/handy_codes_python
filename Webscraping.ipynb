{
 "cells": [
  {
   "cell_type": "markdown",
   "id": "c13cb263",
   "metadata": {},
   "source": [
    "# Websrape"
   ]
  },
  {
   "cell_type": "code",
   "execution_count": null,
   "id": "2d5e0654",
   "metadata": {},
   "outputs": [],
   "source": [
    "pip install lxml "
   ]
  },
  {
   "cell_type": "code",
   "execution_count": 11,
   "id": "b25cc536",
   "metadata": {},
   "outputs": [
    {
     "data": {
      "text/plain": [
       "35"
      ]
     },
     "execution_count": 11,
     "metadata": {},
     "output_type": "execute_result"
    }
   ],
   "source": [
    "import pandas as pd\n",
    "\n",
    "tables = pd.read_html('https://github.com/isaacs/github/issues/37')\n",
    "\n",
    "text_content = tables[0].to_string(index=False)\n",
    "len(tables)"
   ]
  },
  {
   "cell_type": "code",
   "execution_count": null,
   "id": "ca014d4c",
   "metadata": {},
   "outputs": [],
   "source": [
    "for i in range(0,len(tables)):\n",
    "    print(tables[i])"
   ]
  },
  {
   "cell_type": "code",
   "execution_count": 57,
   "id": "c5035804",
   "metadata": {},
   "outputs": [
    {
     "data": {
      "text/plain": [
       "'In the course of maintaing a project it may be necessary to keep some information from the public while a security issue or other scenario is worked on. Users or organizations that pay for private repositories should be able to create or mark an issue or pull request as private, from there only users specifically mentioned in the issue would have access. Special care would need to be handled for issue cross linking and other notifications.'"
      ]
     },
     "execution_count": 57,
     "metadata": {},
     "output_type": "execute_result"
    }
   ],
   "source": [
    "tables[0].iloc[0].to_string()[5:]"
   ]
  },
  {
   "cell_type": "code",
   "execution_count": 79,
   "id": "d5e63f9b",
   "metadata": {},
   "outputs": [
    {
     "name": "stdout",
     "output_type": "stream",
     "text": [
      "Row#1:  \tIn the course of maintaing a project it may be necessary to keep some information from the public while a security issue or other scenario is worked on. Users or organizations that pay for private repositories should be able to create or mark an issue or pull request as private, from there only users specifically mentioned in the issue would have access. Special care would need to be handled for issue cross linking and other notifications.\n",
      "Row#2:  \tPeople have pasted npm account details in github issues on more than one occasion. 👍\n",
      "Row#3:  \tHow do you prevent those credentials from being emailed as notifications when the issue is created?\n",
      "Row#4:  \tNo one is claiming you can put the cat back in the bag, but there are all sorts of reasons it's still a good idea to make it private after the fact, namely stopping the google indexing or the casual viewing\n",
      "Row#5:  \tThe owner can just edit to hide that cat. Is that not sufficient?\n",
      "Row#6:  \tThere are other use cases than merely the credential leak, consider if the repository is working through a security vulnerability.\n",
      "Row#7:  \t+1 for the possibility of using GitHub for students in my classes and pull requests as a mechanism to turn in / receive feedback on assignments. Right now I can't do this because a student's pull request would publicize solutions.\n",
      "Row#8:  \tMade a comment back to the OP, but lots of +1's in this highly retweeted post: https://twitter.com/adam_baldwin/status/385389448965664768 +160?\n",
      "Row#9:  \t$ npm install -g cipherhub $ cipherhub -d <<<hEK3gIQAwxnd2cFB8b+yO/zak/4yHMVeTi4ohpPkv1zoBFpHDoSr8aFn1jjApctgHUxilqRk5gssf0AUsHVJa2MXZ9HB31/DorVqul3h/mAKRXwonvITEmusQ/hTcSmk3Pc12/mtSb7m23YE5vx2h5Ntc7sxw8Ar6fXfq1s2KxP5OqfaoxGytVQ7PfO5/iD1fvqQKtrk32pQgTt/5+eNqcNgtPGCrrg4Ohm9OTlwkYKNdbGDyZrpfmch6xiC5QlBws+OkAAQbPgFeGljBm8Wnh2zRpzJKgCaE0cJBkmQNlL3lD1bo62nLm/OLzn2uQVpNByIMMX8yzKwlZTO2oWu6Q==\n",
      "Row#10:  \toh god. no no no no,\n",
      "Row#11:  \t+1 - vulnerabilities should be able to be disclosed responsibly in issues.\n",
      "Row#12:  \t@substack Being able to share private messages in the clear is lovely and useful for many things. But it doesn't obviate the need for private issues. It is, at best, an awkward workaround for this problem. If GitHub wants to be a social network, then they should add standard social network features, like private comments.\n",
      "Row#13:  \t+1 There are many reasons we need this: Tracking fixes for security vulnerabilities Tracking issues for customer bugs that require log data with security sensitive data in it. Customers often don't want it to be publicized that our product is running in their network for fear it could be an attack target. We currently have to maintain two repos, one private and one public, to keep sensitive issues private. It's incredibly awkward and means we have to create issues ourselves and manually report updates to the relevant customer, rather than them being able just view the issue themselves.\n",
      "Row#14:  \t+1 For creating - new checkbox: [x] This is security issue. Old issues of course can't be completely removed, but is nice to have something like this. (Consider allowing access for issue creator - provide more details etc)\n",
      "Row#15:  \tImplementation by competitors: Google Code allows that. I am not sure if this is allowed for all projects, but in Chromium, you can mark an issue as security issue, which causes it not to be publicly available. Google, however, sends e-mail notifications in plaintext. Bugzilla also allows that. It is more advanced than at Google Code, because it does not send much details in e-mail notifications unless user has uploaded his public GPG key. When GPG key is not configured in user's profile, the e-mail contains just (as far as I remember) bug number + bug link, category classification, identification of user who made a change and a note about GPG. Once a public GPG key is uploaded, the e-mail subject is still rather brief (e.g. “[Bug 1169291] (Secure bug 1169291 in Firefox :: General)”, that is no summary is provided in the e-mail), as the subject is never encrypted even when using GPG, but the e-mail body contains GPG-encrypted content.\n",
      "Row#16:  \t+1 I found a fundamental security issue in a somewhat-popular (30,000+ users) project, and have no way to privately contact the author to tell them about it. Posting an issue in public is tantamount to giving the hackers a free pass. As I stands, I am forced to troll thru google hoping this person has exposed an email address somewhere. It would be fundamentally useful to have a \"send private note to project maintainer\" mechanism of some sort.\n",
      "Row#17:  \t+1 for responsible disclosure.\n",
      "Row#18:  \tI think there are many use cases for this that are not security focused. Not to say that is not a big use case, just that it is one of many so if this feature was added I don't think it's scope should be narrowed down to tagging things as vulns. For instance some people who believe such things should be made immediately public (for the sake of argument) and such people may not want issues filed under this tag to be hidden by default. Ideally a generalized option to submit an issue as \"private\" should be available and used at the discretion of either the OP or the maintainers. This means that the OP (which does not have access to add labels) would be able to avoid submitting something they know to be sensitive, in the process ringing a bell that simply cannot be (completely) unrung by a maintainer eventually labeling the issue as private/sensitive. Adding this feature would also address a few other privacy (and vanity) related concerns regarding the publication of contributions on a users public-facing profile page. I don't see this as something that should be exclusive to paid-members only since it's use case are only applicable to public facing repos anyway. In my view the availability of this option to all Github users does not in any way undermine the usefulness of a paid account. In other words this option does not offer anything that would preclude a user or organisation from needing paid services.\n",
      "Row#19:  \tWe are also looking into disbanding our bugtracker and switching 100% to github issues, but especially for security related concerns private conversations are a must have.\n",
      "Row#20:  \tAlso would like to have private issues and private PRs, this way we can have an open-source library with internal discussions and tasks being managed on GitHub issues before releasing them to the public.\n",
      "Row#21:  \t@hems would locking the conversation solve your use case?\n",
      "Row#22:  \tI believe this issue relates more to wanting this sort of functionality: https://docs.gitlab.com/ee/user/project/issues/confidential_issues.html Confidential issues are issues visible only to members of a project with sufficient permissions. Confidential issues can be used by open source projects and companies alike to keep security vulnerabilities private or prevent surprises from leaking out. Confidential (private) issues on public repo go-gitea/gitea#3217 This is a most for organizations that handle coordinated disclosure and patching of security vulnerabilities on public open-source projects. It would allow discussions to go on between the early disclosure and the full disclosure dates. The issue could later be made public at the date of full disclosure.\n",
      "Row#23:  \t@0xdevalias I don't think @hems is pertaining to confidential or security vulnerabilities because there is an intent to release it to the public later on. (see quoted comment below with emphasis on bolded phrase) Also would like to have private issues and private PRs, this way we can have an open-source library with internal discussions and tasks being managed on GitHub issues before releasing them to the public. Also, I'm NOT saying that this issue will be solved by locking the conversation. I only suggested locking the conversation to solve @hems particular use case...\n",
      "Row#24:  \t@hems would locking the conversation solve your use case? i did not know bout this issue, it's a very interesting one, still does not solve my issue. as spoken i would need something like \"invisible\" PR and \"issues\" and perhaps even invisible \"branches\", this way it would be possible to avoid having two repos - one public and one private for the same project.\n",
      "Row#25:  \tI think what you want sounds a lot like unlisted videos on YouTube. The PRs, issues, and branches could still be linked to and accessed by anyone but you wouldn't see any of them show up just looking at the repo\n",
      "Row#26:  \tI would like this capability so that reports of Code of Conduct violations could be made privately on a public repo.\n",
      "Row#27:  \tWe would like to switch form gitlab to github but private/confidential issues are one of the key missing features right now :/\n",
      "Row#28:  \tThis is a show-stopper for any project with any level of appsec maturity using github issues at all IMO. Teams need a way to track internally and externally reported security issues or other sensitive issues; having issues be \"private\" or \"cofidential\" is foundational for that to happen. Only people with specific roles, or assigned / mentioned in a ticket should be able to see the ticket while it's open. Once a confidential or private issue is closed, it should become publicly available for viewing -- this is the key of responsible disclosure and remediation.\n",
      "Row#29:  \tThis is a show-stopper for any project with any level of appsec maturity using github issues at all IMO. Teams need a way to track internally and externally reported security issues or other sensitive issues; having issues be \"private\" or \"cofidential\" is foundational for that to happen. Does https://docs.github.com/en/code-security/security-advisories/about-github-security-advisories give you some of the things you might want?\n",
      "Row#30:  \tThis is a show-stopper for any project with any level of appsec maturity using github issues at all IMO. Teams need a way to track internally and externally reported security issues or other sensitive issues; having issues be \"private\" or \"cofidential\" is foundational for that to happen. Does https://docs.github.com/en/code-security/security-advisories/about-github-security-advisories give you some of the things you might want? This is for already publicly disclosed vulnerabilities so it doesn't address the issue of having a way for project issues to be marked confidential, private, or hidden.\n",
      "Row#31:  \tAfter a Vulnerability is found its usually necessary to develop changes in the project, if the Vulnerability is public you have a race between hacker that might want to use the vulnerability to make a harmful thing and developers that try to fix it, it would be better to give the good guys more time to fix the issue. That's why some users want to have the ability to make issues or pull requests in private to the developers of a project.\n",
      "Row#32:  \tThis is a show-stopper for any project with any level of appsec maturity using github issues at all IMO. Teams need a way to track internally and externally reported security issues or other sensitive issues; having issues be \"private\" or \"cofidential\" is foundational for that to happen. Does https://docs.github.com/en/code-security/security-advisories/about-github-security-advisories give you some of the things you might want? Not at all @adzuci. There are many scenarios where something should be handled privately, that are categorically not security issues so while you can in theory build a workflow on top of miss-using the security advisory mechanism to make private forks and PRs... they are not the appropriate place for all such private matters. @moorereason raised the example of Code of Conduct violations, and I can think of several publishing workflows for otherwise open teams with blogs based on GitHub pages, where it would be beneficial to allow appropriate team members to collaborate on a private draft of new content, before it is merged, rendered and published.\n",
      "Row#33:  \tSome related GitHub Support Community topics, where people are asking similar questions: https://github.community/t/when-will-we-finally-get-confidential-issues-for-security-tickets/124703 https://github.community/t/api-to-create-security-alert/14030 GitHub response to the ask on confidential issues: I’m afraid I don’t have a timeline for when that feature might be added, sorry! We do keep an eye on isaacs/github, but you might like to submit a feature request through our official product feedback form to reinforce to our product team that having private issues is really important to you! I also don't see anything on the roadmap: https://github.com/github/roadmap/projects/1\n",
      "Row#34:  \tStill actual!!\n",
      "Row#35:  \tWhile being open source projects, still there are cases that I need to make private issues to avoid exposing customer information under NDA. To handle such cases, I'm running yet another issue tracker aside GitHub and this makes me difficult to have a consistent holistic view of the projects. I think it is okay to reveal the existence of private issues as references in public PRs or commit messages, or as jumps of the issue/PR number sequences. GitHub's organization-level projects may be a workaround to have both private/public issues in a single view, but I'd like to keep them under a single repository instead of making another repository just for private issue tracking. (for consistent way of references, etc.)\n"
     ]
    }
   ],
   "source": [
    "for i in range(0,len(tables)):\n",
    "    print(f'Row#{i+1}:  \\t{tables[i].iloc[0].to_string()[5:]}')"
   ]
  },
  {
   "cell_type": "code",
   "execution_count": 28,
   "id": "25c6b82e",
   "metadata": {},
   "outputs": [
    {
     "name": "stdout",
     "output_type": "stream",
     "text": [
      "                                                                                                                                                                                                                                                                                                                                                                                                                                                        0\n",
      "In the course of maintaing a project it may be necessary to keep some information from the public while a security issue or other scenario is worked on. Users or organizations that pay for private repositories should be able to create or mark an issue or pull request as private, from there only users specifically mentioned in the issue would have access. Special care would need to be handled for issue cross linking and other notifications.\n",
      "                                                                                                                                                                                                                                                                                                                                                                                      The text was updated successfully, but these errors were encountered:\n"
     ]
    }
   ],
   "source": [
    "#print(text_content[:text_content.index('.')+1])\n",
    "print(text_content[2:])"
   ]
  },
  {
   "cell_type": "code",
   "execution_count": 34,
   "id": "2eb717ae",
   "metadata": {},
   "outputs": [
    {
     "name": "stdout",
     "output_type": "stream",
     "text": [
      "In the course of maintaing a project it may be necessary to keep some information from the public while a security issue or other scenario is worked on. Users or organizations that pay for private repositories should be able to create or mark an issue or pull request as private, from there only users specifically mentioned in the issue would have access. Special care would need to be handled for issue cross linking and other notifications.\n"
     ]
    }
   ],
   "source": [
    "import pandas as pd\n",
    "\n",
    "# Read the HTML tables from the webpage\n",
    "tables = pd.read_html('https://github.com/isaacs/github/issues/37')\n",
    "\n",
    "# Set Pandas options to prevent text truncation\n",
    "pd.set_option('display.max_colwidth', None)\n",
    "\n",
    "# Extract the text from the first row of tables[0]\n",
    "first_row_text = tables[0].iloc[0].to_string(index=False)\n",
    "\n",
    "print(first_row_text)\n"
   ]
  }
 ],
 "metadata": {
  "kernelspec": {
   "display_name": "Python 3 (ipykernel)",
   "language": "python",
   "name": "python3"
  },
  "language_info": {
   "codemirror_mode": {
    "name": "ipython",
    "version": 3
   },
   "file_extension": ".py",
   "mimetype": "text/x-python",
   "name": "python",
   "nbconvert_exporter": "python",
   "pygments_lexer": "ipython3",
   "version": "3.11.2"
  }
 },
 "nbformat": 4,
 "nbformat_minor": 5
}
