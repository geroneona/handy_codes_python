{
 "cells": [
  {
   "cell_type": "markdown",
   "id": "88147766",
   "metadata": {},
   "source": [
    "# First letter to appear twice\n",
    "\n",
    "Given a string `s` consisting of lowercase English letters, return *the first letter to appear __twice__*.\n",
    "\n",
    "__Example:__\n",
    "- **Input:** input = `\"letter\"`\n",
    "- **Output:** `t` "
   ]
  },
  {
   "cell_type": "code",
   "execution_count": 34,
   "id": "e99e0d25",
   "metadata": {},
   "outputs": [
    {
     "name": "stdout",
     "output_type": "stream",
     "text": [
      "Input: \"letter\"\n",
      "Output: \"t\"\n",
      "\n",
      "No letter appears twice next to another in the word \"writing\".\n",
      "\n",
      "Input: \"written\"\n",
      "Output: \"t\"\n",
      "\n",
      "No letter appears twice next to another in the word \"gerone\".\n"
     ]
    }
   ],
   "source": [
    "class Solution_first_letter_to_appear_twice:\n",
    "\n",
    "    def first_letter_to_appear_twice(self,input):\n",
    "        for idx,char in enumerate(input):\n",
    "            if idx+1 == len(input):\n",
    "                return f'No letter appears twice next to another in the word \"{input}\".'\n",
    "            elif input[idx] == input[idx+1]:\n",
    "                return f'Input: \"{input}\"\\nOutput: \"{char}\"'\n",
    "            \n",
    "solution = Solution_first_letter_to_appear_twice()\n",
    "\n",
    "print(solution.first_letter_to_appear_twice(\"letter\"))\n",
    "print()\n",
    "print(solution.first_letter_to_appear_twice(\"writing\"))\n",
    "print()\n",
    "print(solution.first_letter_to_appear_twice(\"written\"))\n",
    "print()\n",
    "print(solution.first_letter_to_appear_twice(\"gerone\"))\n"
   ]
  },
  {
   "cell_type": "code",
   "execution_count": 37,
   "id": "0d6296a7",
   "metadata": {},
   "outputs": [
    {
     "name": "stdout",
     "output_type": "stream",
     "text": [
      "t\n"
     ]
    }
   ],
   "source": [
    "class Solution(object):\n",
    "    def repeatedCharacter(self, s):\n",
    "        for idx,char in enumerate(s):\n",
    "            if idx+1 == len(s):\n",
    "                break\n",
    "            elif s[idx] == s[idx+1]:\n",
    "                return char\n",
    "\n",
    "solution = Solution()\n",
    "\n",
    "print(solution.repeatedCharacter(\"letter\"))"
   ]
  },
  {
   "cell_type": "markdown",
   "id": "1a306935",
   "metadata": {},
   "source": [
    "# 2352. Equal Row and Column Pairs\n",
    "\n",
    "Given a 0-indexed n x n integer matrix `grid`, return the number of pairs `(ri, cj)` such that row `ri` and column `cj` are equal.\n",
    "\n",
    "A row and column pair is considered equal if they contain the same elements in the same order (i.e., an equal array).\n",
    "\n",
    "## Example 1:\n",
    "\n",
    "**Input:** \n",
    "```python\n",
    "grid = [[3,2,1],[1,7,6],[2,7,7]]\n",
    "```\n",
    "**Output:**\n",
    "1\n",
    "\n",
    "**Explanation:**\n",
    "There is 1 equal row and column pair:\n",
    "\n",
    "(Row 2, Column 1): [2,7,7]\n"
   ]
  },
  {
   "cell_type": "code",
   "execution_count": 157,
   "id": "f644ffbe",
   "metadata": {},
   "outputs": [
    {
     "name": "stdout",
     "output_type": "stream",
     "text": [
      "Input: grid = [[3, 2, 1], [1, 7, 6], [2, 7, 7]]\n",
      "Output: 1\n",
      "\n",
      "Input: grid = [[3, 1, 2, 2], [1, 4, 4, 5], [2, 4, 2, 2], [2, 4, 2, 2]]\n",
      "Output: 3\n"
     ]
    }
   ],
   "source": [
    "class Solution_equal_row_and_column_pairs(object):\n",
    "    \n",
    "    def equal_row_and_column_pairs(self,grid):\n",
    "        col_row_cntr = 0\n",
    "        next_itr_cntr = 0\n",
    "        ph_col = []\n",
    "        ph_col_split_stg = []\n",
    "        ph_col_split_main = []\n",
    "\n",
    "        while True:\n",
    "            ph_col += [[col for col in grid[col_row_cntr]][next_itr_cntr]]\n",
    "            col_row_cntr+=1\n",
    "            if next_itr_cntr == len(grid)-1 and col_row_cntr == len(grid)-1:\n",
    "                ph_col += [[col for col in grid[col_row_cntr]][next_itr_cntr]]\n",
    "                col_row_cntr,next_itr_cntr = 0,0\n",
    "                break\n",
    "            elif col_row_cntr == len(grid)-1:\n",
    "                ph_col += [[col for col in grid[col_row_cntr]][next_itr_cntr]]\n",
    "                next_itr_cntr+=1\n",
    "                col_row_cntr=0\n",
    "\n",
    "        for row in ph_col:\n",
    "            col_row_cntr+=1\n",
    "            ph_col_split_stg.append(row)\n",
    "            if col_row_cntr%len(grid)==0:\n",
    "                ph_col_split_main += [ph_col_split_stg]\n",
    "                ph_col_split_stg = []\n",
    "\n",
    "        for col in grid:\n",
    "            for row in ph_col_split_main:\n",
    "                if col == row:\n",
    "                    next_itr_cntr+=1\n",
    "                    output = next_itr_cntr\n",
    "\n",
    "        return f\"Input: grid = {grid}\\nOutput: {output}\"\n",
    "\n",
    "Solution = Solution_equal_row_and_column_pairs()\n",
    "\n",
    "print(Solution.equal_row_and_column_pairs([[3,2,1],[1,7,6],[2,7,7]]))\n",
    "print()\n",
    "print(Solution.equal_row_and_column_pairs([[3,1,2,2],[1,4,4,5],[2,4,2,2],[2,4,2,2]]))"
   ]
  },
  {
   "cell_type": "code",
   "execution_count": 60,
   "id": "f8614f08",
   "metadata": {},
   "outputs": [
    {
     "name": "stdout",
     "output_type": "stream",
     "text": [
      "[3, 2, 1]\n",
      "0 0 3\n",
      "0 1 2\n",
      "0 2 1\n",
      "[1, 7, 6]\n",
      "1 0 1\n",
      "1 1 7\n",
      "1 2 6\n",
      "[2, 7, 7]\n",
      "2 0 2\n",
      "2 1 7\n",
      "2 2 7\n"
     ]
    },
    {
     "data": {
      "text/plain": [
       "[3, 2, 1, 1, 7, 6, 2, 7, 7]"
      ]
     },
     "execution_count": 60,
     "metadata": {},
     "output_type": "execute_result"
    }
   ],
   "source": [
    "grid = [[3,2,1],[1,7,6],[2,7,7]]\n",
    "ph_col = []\n",
    "\n",
    "for idx_p,row in enumerate(grid):\n",
    "    print(row)\n",
    "    for idx_s,val in enumerate(row):\n",
    "        print(idx_p,idx_s,val)\n",
    "        ph_col.append(row[idx_s])\n",
    "\n",
    "ph_col        "
   ]
  },
  {
   "cell_type": "code",
   "execution_count": 104,
   "id": "d9d884bc",
   "metadata": {},
   "outputs": [
    {
     "name": "stdout",
     "output_type": "stream",
     "text": [
      "3 2 1\n",
      "1 7 6\n",
      "2 7 7\n"
     ]
    },
    {
     "data": {
      "text/plain": [
       "3"
      ]
     },
     "execution_count": 104,
     "metadata": {},
     "output_type": "execute_result"
    }
   ],
   "source": [
    "grid = [[3,2,1],[1,7,6],[2,7,7]]\n",
    "ph_col = []\n",
    "grid_len = len(grid)\n",
    "\n",
    "for idx_p,col in enumerate(grid):\n",
    "    print(col[grid_len-grid_len],col[grid_len-2],col[grid_len-1])\n",
    "    \n",
    "grid_len    "
   ]
  },
  {
   "cell_type": "code",
   "execution_count": 64,
   "id": "8c09a504",
   "metadata": {},
   "outputs": [
    {
     "name": "stdout",
     "output_type": "stream",
     "text": [
      "[3, 2, 1]\n",
      "0 3\n",
      "1 2\n",
      "2 1\n",
      "[1, 7, 6]\n",
      "0 1\n",
      "1 7\n",
      "2 6\n",
      "[2, 7, 7]\n",
      "0 2\n",
      "1 7\n",
      "2 7\n"
     ]
    },
    {
     "data": {
      "text/plain": [
       "[]"
      ]
     },
     "execution_count": 64,
     "metadata": {},
     "output_type": "execute_result"
    }
   ],
   "source": [
    "grid = [[3,2,1],[1,7,6],[2,7,7]]\n",
    "ph_col = []\n",
    "cntr=0\n",
    "\n",
    "for idx_p,row in enumerate(grid):\n",
    "    print(row)\n",
    "    for idx_s,val in enumerate(row):\n",
    "        print(idx_s,val)\n",
    "        #ph_col.append(row[idx_s])\n",
    "\n",
    "ph_col        "
   ]
  },
  {
   "cell_type": "code",
   "execution_count": 147,
   "id": "6690a692",
   "metadata": {},
   "outputs": [
    {
     "name": "stdout",
     "output_type": "stream",
     "text": [
      "3 0 1\n",
      "1 1 1\n",
      "2 2 1\n",
      "2 3 3\n",
      "1 0 1\n",
      "4 1 1\n",
      "4 2 1\n",
      "4 3 3\n",
      "2 0 1\n",
      "4 1 1\n",
      "2 2 1\n",
      "2 3 3\n",
      "2 0 1\n",
      "5 1 1\n",
      "2 2 1\n",
      "2 3 2\n",
      "[3, 1, 2, 2, 1, 4, 4, 4, 2, 4, 2, 2, 2, 5, 2, 2]\n",
      "1 3 False\n",
      "2 1 False\n",
      "3 2 False\n",
      "4 2 True\n",
      "5 1 False\n",
      "6 4 False\n",
      "7 4 False\n",
      "8 4 True\n",
      "9 2 False\n",
      "10 4 False\n",
      "11 2 False\n",
      "12 2 True\n",
      "13 2 False\n",
      "14 5 False\n",
      "15 2 False\n",
      "16 2 True\n",
      "[3, 1, 2, 2] [3, 1, 2, 2]\n",
      "[2, 4, 2, 2] [2, 4, 2, 2]\n",
      "[2, 4, 2, 2] [2, 4, 2, 2]\n",
      "3\n"
     ]
    }
   ],
   "source": [
    "grid = [[3,2,1],[1,7,6],[2,7,7]]\n",
    "grid = [[3,1,2,2],[1,4,4,5],[2,4,2,2],[2,4,2,2]]\n",
    "col_row_cntr = 0\n",
    "next_itr_cntr = 0\n",
    "ph_col = []\n",
    "ph_col_split_stg = []\n",
    "ph_col_split_main = []\n",
    "\n",
    "while True:\n",
    "    print([col for col in grid[col_row_cntr]][next_itr_cntr],col_row_cntr,1)\n",
    "    ph_col += [[col for col in grid[col_row_cntr]][next_itr_cntr]]\n",
    "    col_row_cntr+=1\n",
    "    if next_itr_cntr == len(grid)-1 and col_row_cntr == len(grid)-1:\n",
    "        print([col for col in grid[col_row_cntr]][next_itr_cntr],col_row_cntr,2)\n",
    "        ph_col += [[col for col in grid[col_row_cntr]][next_itr_cntr]]\n",
    "        col_row_cntr,next_itr_cntr = 0,0\n",
    "        break\n",
    "    elif col_row_cntr == len(grid)-1:\n",
    "        print([col for col in grid[col_row_cntr]][next_itr_cntr],col_row_cntr,3)\n",
    "        ph_col += [[col for col in grid[col_row_cntr]][next_itr_cntr]]\n",
    "        next_itr_cntr+=1\n",
    "        col_row_cntr=0\n",
    "\n",
    "print(ph_col)\n",
    "\n",
    "for i in ph_col:\n",
    "    col_row_cntr+=1\n",
    "    print(col_row_cntr,i,col_row_cntr%len(grid)==0)\n",
    "    ph_col_split_stg.append(i)\n",
    "    if col_row_cntr%len(grid)==0:\n",
    "        ph_col_split_main += [ph_col_split_stg]\n",
    "        ph_col_split_stg = []\n",
    "\n",
    "for col in grid:\n",
    "    for row in ph_col_split_main:\n",
    "        if col == row:\n",
    "            print(col,row)\n",
    "            next_itr_cntr+=1\n",
    "            output = next_itr_cntr\n",
    "print(output)"
   ]
  },
  {
   "cell_type": "code",
   "execution_count": 137,
   "id": "621c98f0",
   "metadata": {},
   "outputs": [
    {
     "name": "stdout",
     "output_type": "stream",
     "text": [
      "[2, 7, 7] [2, 7, 7]\n"
     ]
    }
   ],
   "source": [
    "\n",
    "        "
   ]
  },
  {
   "cell_type": "code",
   "execution_count": 30,
   "id": "6c20a913-e8ec-4b6e-b78d-b544e57b1b3d",
   "metadata": {
    "scrolled": true
   },
   "outputs": [
    {
     "name": "stdout",
     "output_type": "stream",
     "text": [
      "{'pp': 3, 'hard': 2, 'hi': 1, 'subscribe': 2}\n"
     ]
    }
   ],
   "source": [
    "# to check every element in array how many occurrence\n",
    "word_list2 = [\"pp\",\"hard\",\"hi\",\"subscribe\",\"pp\",\"hard\",\"subscribe\",\"pp\"]\n",
    "\n",
    "#keep track of it with my_dic\n",
    "my_dic2 = {}\n",
    "\n",
    "#looking through the list\n",
    "for word2 in word_list2:\n",
    "    #count frequency\n",
    "    my_dic2[word2] = 1 + my_dic2.get(word2,0)\n",
    "    #print (f'{my_dic2.get(word2)}:{my_dic2.get(word2,0)}')\n",
    "print(my_dic2)    "
   ]
  },
  {
   "cell_type": "code",
   "execution_count": 31,
   "id": "91d6983d-6a01-438d-8a42-e15169fa8927",
   "metadata": {},
   "outputs": [
    {
     "name": "stdout",
     "output_type": "stream",
     "text": [
      "pp:3\n",
      "hard:2\n",
      "hi:1\n",
      "subscribe:2\n"
     ]
    }
   ],
   "source": [
    "my_dic2\n",
    "for i,j in my_dic2.items():\n",
    "    print (f'{i}:{j}')"
   ]
  },
  {
   "cell_type": "code",
   "execution_count": 32,
   "id": "38d644e9-0ada-4538-b8ef-4361ed6819ec",
   "metadata": {},
   "outputs": [
    {
     "name": "stdout",
     "output_type": "stream",
     "text": [
      "pp:3\n",
      "hard:2\n",
      "hi:1\n",
      "subscribe:2\n"
     ]
    }
   ],
   "source": [
    "my_dic2\n",
    "for i in my_dic2:\n",
    "    print (f'{i}:{my_dic2[i]}')"
   ]
  },
  {
   "cell_type": "code",
   "execution_count": 33,
   "id": "1689e19a-0c85-4b95-9f2d-668fc39193f2",
   "metadata": {},
   "outputs": [
    {
     "name": "stdout",
     "output_type": "stream",
     "text": [
      "['pp', 'hard', 'subscribe']\n",
      "\n",
      "pp:3\n",
      "hard:2\n",
      "hi:1\n",
      "subscribe:2\n"
     ]
    }
   ],
   "source": [
    "# input [\"pp\",\"hard\",\"hi\",\"subscribe\",\"pp\",\"hard\",\"subscribe\",\"pp\"]\n",
    "# output [\"pp\",\"hard\",\"subscribe\"]\n",
    "word_list = [\"pp\",\"hard\",\"hi\",\"subscribe\",\"pp\",\"hard\",\"subscribe\",\"pp\"]\n",
    "\n",
    "#keep track of it with my_dic\n",
    "my_dic = {}\n",
    "\n",
    "#looking through the list\n",
    "for word in word_list:\n",
    "    #count frequency\n",
    "    my_dic[word] = my_dic.get(word,0) + 1\n",
    "    \n",
    "#where output result needs to go\n",
    "output_list = []\n",
    "\n",
    "for i in my_dic:\n",
    "    if my_dic[i] > 1:\n",
    "        #print (f'{i}:{my_dic2[i]}')\n",
    "        output_list += [i]\n",
    "print(output_list) # result only those that encounter more than 1 instance inside initial list(word_list2)\n",
    "print()\n",
    "\n",
    "for i,j in my_dic.items():\n",
    "    print (f'{i}:{j}')"
   ]
  },
  {
   "cell_type": "code",
   "execution_count": 34,
   "id": "00d97c1a-6983-4c32-8e28-877dd4c2bbe9",
   "metadata": {},
   "outputs": [
    {
     "name": "stdout",
     "output_type": "stream",
     "text": [
      "First value that occur twice: 'hard'\n",
      "{'pp': 1, 'hard': 2, 'hi': 1}\n"
     ]
    }
   ],
   "source": [
    "# input [\"pp\",\"hard\",\"hi\",\"subscribe\",\"pp\",\"hard\",\"subscribe\",\"pp\"]\n",
    "# output [\"pp\",\"hard\",\"subscribe\"]\n",
    "word_list = [\"pp\",\"hard\",\"hi\",\"hard\",\"subscribe\",\"pp\",\"hard\",\"subscribe\",\"pp\"]\n",
    "\n",
    "#keep track of it with my_dic\n",
    "my_dic = {}\n",
    "\n",
    "#looking through the list\n",
    "for word in word_list:\n",
    "    #count frequency\n",
    "    my_dic[word] = my_dic.get(word,0) + 1\n",
    "    # break loop once 1st value that occur twice\n",
    "    if my_dic[word] > 1:\n",
    "        print (f\"First value that occur twice: '{word}'\")\n",
    "        break\n",
    "print(my_dic)"
   ]
  },
  {
   "cell_type": "code",
   "execution_count": 35,
   "id": "0213ddca-be20-4ffa-83b5-90f4abf8f0ac",
   "metadata": {},
   "outputs": [
    {
     "name": "stdout",
     "output_type": "stream",
     "text": [
      "c:1\n",
      "h:1\n",
      "r:3\n",
      "i:2\n",
      "s:1\n",
      "t:1\n",
      "a:2\n",
      "n:3\n",
      "g:1\n",
      "e:2\n",
      "o:2\n",
      ".:1\n"
     ]
    }
   ],
   "source": [
    "string = 'christiangeroner.ona'\n",
    "\n",
    "#keep track of it with my_dic\n",
    "my_dic = {}\n",
    "\n",
    "#looking through the list\n",
    "for char in string:\n",
    "    #count frequency\n",
    "    my_dic[char] = my_dic.get(char,0) + 1 # need to use 2 parameter here in 'my_dic.get(char,0)' because python doesn't know value is an integer so need to leverage this because it can pull non existing record for us\n",
    "    # break loop once 1st char occur twice\n",
    "for i,j in my_dic.items():\n",
    "    print (f\"{i}:{j}\")"
   ]
  },
  {
   "cell_type": "code",
   "execution_count": 36,
   "id": "0f65fff4-5e9e-4cfe-81b9-b81c49d799e9",
   "metadata": {},
   "outputs": [
    {
     "name": "stdout",
     "output_type": "stream",
     "text": [
      "First character that occur twice: 'i'\n",
      "{'c': 1, 'h': 1, 'r': 1, 'i': 2, 's': 1, 't': 1}\n"
     ]
    }
   ],
   "source": [
    "string = 'christiangeroner.ona'\n",
    "\n",
    "#keep track of it with my_dic\n",
    "my_dic = {}\n",
    "\n",
    "#looking through the string\n",
    "for char in string:\n",
    "    #count frequency\n",
    "    my_dic[char] = my_dic.get(char,0) + 1 # need to use 2 parameter here in 'my_dic.get(char,0)' because python doesn't know value is an integer so need to leverage this because it can pull non existing record for us\n",
    "    # break loop once 1st char occur twice\n",
    "    if my_dic[char] > 1:\n",
    "        print (f\"First character that occur twice: '{char}'\")\n",
    "        break\n",
    "print(my_dic)"
   ]
  },
  {
   "cell_type": "code",
   "execution_count": 37,
   "id": "edad7fe4-4f35-4769-8f2d-318c0c3710d1",
   "metadata": {},
   "outputs": [
    {
     "name": "stdout",
     "output_type": "stream",
     "text": [
      "First word that occur twice in the sentence: 'Hello'\n",
      "\n",
      "hello:\t\t2\n",
      "there,:\t\t1\n",
      "my:\t\t1\n",
      "name:\t\t1\n",
      "is:\t\t1\n",
      "christian:\t\t1\n",
      "gerone:\t\t1\n",
      "r.:\t\t1\n",
      "ona.:\t\t1\n"
     ]
    }
   ],
   "source": [
    "sentence = \"\"\"hello there, My name is Christian Gerone R. Ona. \n",
    "Hello there again! I'm 28 years old. I wanna be a professional fulltime IT developer.\n",
    "My hobbies are learning Python, Playing Guitar and studying Music theory.\n",
    "\"\"\"\n",
    "L = sentence.split()\n",
    "\n",
    "#keep track of it with my_dic\n",
    "my_dic = {}\n",
    "\n",
    "#looking through the list\n",
    "for word in L:\n",
    "    #count frequency\n",
    "    my_dic[word.lower()] = my_dic.get(word.lower(),0) + 1 # need to use 2 parameter here in 'my_dic.get(word,0)' because python doesn't know value is an integer so need to leverage this because it can pull non existing record for us\n",
    "    # break loop once 1st char occur twice\n",
    "    if my_dic[word.lower()] > 1:\n",
    "        print (f\"First word that occur twice in the sentence: '{word}'\")\n",
    "        break\n",
    "\n",
    "print()\n",
    "\n",
    "for i,j in my_dic.items():\n",
    "    print (f\"{i}:\\t\\t{j}\")\n"
   ]
  },
  {
   "cell_type": "code",
   "execution_count": 38,
   "id": "e7fc2235-7142-48ad-8b68-662181b4da2a",
   "metadata": {
    "scrolled": true
   },
   "outputs": [
    {
     "name": "stdout",
     "output_type": "stream",
     "text": [
      "hello:\t\t1\n",
      "there,:\t\t1\n",
      "my:\t\t4\n",
      "name:\t\t1\n",
      "is:\t\t1\n",
      "christian:\t\t1\n",
      "gerone:\t\t1\n",
      "r.:\t\t1\n",
      "ona.:\t\t1\n",
      "i'm:\t\t2\n",
      "28:\t\t1\n",
      "years:\t\t1\n",
      "old.:\t\t1\n",
      "i:\t\t1\n",
      "wanna:\t\t1\n",
      "be:\t\t1\n",
      "a:\t\t1\n",
      "professional:\t\t1\n",
      "fulltime:\t\t1\n",
      "it:\t\t1\n",
      "developer.:\t\t1\n",
      "hobbies:\t\t1\n",
      "are:\t\t1\n",
      "learning:\t\t1\n",
      "python,:\t\t1\n",
      "playing:\t\t1\n",
      "guitar:\t\t1\n",
      "and:\t\t1\n",
      "studying:\t\t1\n",
      "music:\t\t1\n",
      "theory.:\t\t1\n",
      "glad:\t\t1\n",
      "to:\t\t1\n",
      "meet:\t\t1\n",
      "you!:\t\t1\n"
     ]
    }
   ],
   "source": [
    "sentence = \"\"\"hello there, My name is Christian Gerone R. Ona. \n",
    "I'm 28 years old. I wanna be a professional fulltime IT developer.\n",
    "My hobbies are learning Python, Playing Guitar and studying Music theory.\n",
    "I'm glad to meet you! my my\n",
    "\"\"\"\n",
    "L = sentence.split()\n",
    "\n",
    "#keep track of it with my_dic\n",
    "my_dic = {}\n",
    "\n",
    "#looking through the list\n",
    "for word in L:\n",
    "    #count frequency\n",
    "    my_dic[word.lower()] = my_dic.get(word.lower(),0) + 1 # need to use 2 parameter here in 'my_dic.get(word,0)' because python doesn't know value is an integer so need to leverage this because it can pull non existing record for us\n",
    "    # break loop once 1st char occur twice\n",
    "\n",
    "for i,j in my_dic.items():\n",
    "    print (f\"{i}:\\t\\t{j}\")\n"
   ]
  },
  {
   "cell_type": "code",
   "execution_count": 39,
   "id": "bed22b27-392d-414d-a619-ac8ef6e53d7e",
   "metadata": {},
   "outputs": [
    {
     "ename": "NameError",
     "evalue": "name 'vowels' is not defined",
     "output_type": "error",
     "traceback": [
      "\u001b[1;31m---------------------------------------------------------------------------\u001b[0m",
      "\u001b[1;31mNameError\u001b[0m                                 Traceback (most recent call last)",
      "Cell \u001b[1;32mIn[39], line 1\u001b[0m\n\u001b[1;32m----> 1\u001b[0m word[\u001b[38;5;241m-\u001b[39m\u001b[38;5;241m1\u001b[39m] \u001b[38;5;129;01min\u001b[39;00m \u001b[43mvowels\u001b[49m\n",
      "\u001b[1;31mNameError\u001b[0m: name 'vowels' is not defined"
     ]
    }
   ],
   "source": [
    "word[-1] in vowels"
   ]
  },
  {
   "cell_type": "code",
   "execution_count": null,
   "id": "29eaf1b2-ff74-48e7-855f-20e247c9c955",
   "metadata": {},
   "outputs": [],
   "source": [
    "from strings import consonants, vowels, space, numbers, special_chars\n",
    "sentence = \"\"\"hello there, I'm is Christian Gerone R. Ona. there\n",
    "Hello there again! I'm 28 years old. I wanna be a professional fulltime IT developer.\n",
    "My hobbies are learning Python, Playing Guitar and studying Music theory.\n",
    "\"\"\"\n",
    "L = sentence.split()\n",
    "\n",
    "#keep track of it with my_dic\n",
    "my_dic = {}\n",
    "\n",
    "#looking through the list\n",
    "for word in L:\n",
    "    #count frequency and store it in dictionary\n",
    "    if word[-1] in vowels or word[-1] in consonants:\n",
    "        my_dic[word.lower()] = my_dic.get(word.lower(),0) + 1 # need to use 2 parameter here in 'my_dic.get(word,0)' because python doesn't know value is an integer so need to leverage this because it can pull non existing record for us\n",
    "        # break loop once 1st char occur twice\n",
    "        \n",
    "        if my_dic[word.lower()] > 1:\n",
    "            print (f\"First word that occur twice in the sentence: '{word}'\")\n",
    "            break\n",
    "        \n",
    "    # condition to look for word that has special character on its end then count frequency and store it in dictionary\n",
    "    if word[-1] in special_chars:\n",
    "        my_dic[word[:-1].lower()] = my_dic.get(word.lower(),0) + 1\n",
    "        # break loop once 1st char occur twice\n",
    "        \n",
    "        if my_dic[word[:-1].lower()] > 1:\n",
    "            print (f\"First word that occur twice in the sentence: '{word}'\")\n",
    "            break\n",
    "        \n",
    "print()\n",
    "\n",
    "for i,j in my_dic.items():\n",
    "    print (f\"{i}:\\t\\t{j}\")\n"
   ]
  },
  {
   "cell_type": "code",
   "execution_count": null,
   "id": "5d93ccf5-bf3c-4454-96ec-4b5554ed4a10",
   "metadata": {},
   "outputs": [],
   "source": [
    "my_dic"
   ]
  },
  {
   "cell_type": "code",
   "execution_count": null,
   "id": "09767480-3497-41d9-bf5c-07fc295fe724",
   "metadata": {},
   "outputs": [],
   "source": [
    "from strings import consonants, vowels, space, numbers, special_chars\n",
    "sentence = \"\"\"Hello there, my name is Christian Gerone R. Ona.\n",
    "I'm 28 years old. I wanna be a professional fulltime IT developer.\n",
    "My hobbies are learning Python, Playing Guitar and studying Music theory.\n",
    "\"\"\"\n",
    "L = sentence.split()\n",
    "\n",
    "#keep track of it with my_dic\n",
    "my_dic = {}\n",
    "\n",
    "#looking through the list\n",
    "for word in L:\n",
    "    #count frequency and store it in dictionary\n",
    "    if word[-1] in vowels or word[-1] in consonants:\n",
    "        my_dic[word.lower()] = my_dic.get(word.lower(),0) + 1 # need to use 2 parameter here in 'my_dic.get(word.lower(),0)' because python doesn't know value is an integer so need to leverage this because it can pull non existing record for us\n",
    "        # break loop once 1st char occur twice\n",
    "        if my_dic[word.lower()] > 1:\n",
    "            print (f\"First word that occur twice in the sentence: '{word}'\")\n",
    "            break\n",
    "        \n",
    "    # condition to look for word that has special character on its end then count frequency and store it in dictionary\n",
    "    if word[-1] in special_chars:\n",
    "        my_dic[word[:-1].lower()] = my_dic.get(word.lower(),0) + 1\n",
    "        # break loop once 1st char occur twice\n",
    "        if my_dic[word[:-1].lower()] > 1:\n",
    "            print (f\"First word that occur twice in the sentence: '{word}'\")\n",
    "            break\n",
    "        \n",
    "print()\n",
    "\n",
    "for i,j in my_dic.items():\n",
    "    print (f\"{i}:\\t\\t{j}\")\n"
   ]
  },
  {
   "cell_type": "code",
   "execution_count": null,
   "id": "8e5f688b-08a2-43cf-a1a8-866c1acff357",
   "metadata": {},
   "outputs": [],
   "source": [
    "car = {\n",
    "  \"brand\": \"Ford\",\n",
    "  \"model\": \"Mustang\",\n",
    "  \"year\": 1964\n",
    "}\n",
    "\n",
    "x = car.get(\"price\", 15000) # can output this even it's not existing\n",
    "\n",
    "print(x)\n",
    "print(car)"
   ]
  },
  {
   "cell_type": "code",
   "execution_count": null,
   "id": "3a7bfb27-1b62-4d5d-8ef1-38cc215d68ec",
   "metadata": {},
   "outputs": [],
   "source": [
    "car = {\n",
    "  \"brand\": \"Ford\",\n",
    "  \"model\": \"Mustang\",\n",
    "  \"year\": 1964\n",
    "}\n",
    "\n",
    "car[\"color\"] = \"black\"\n",
    "x = car.get(\"color\",\"grey\") # this will not show up as grey because it's already declared as black this is only if it's not existing it will not error out\n",
    "\n",
    "print(x)\n",
    "print(car)\n",
    "print()\n",
    "for key in car:\n",
    "\tprint(f\"{key}:\\t{car[key]}\")\n",
    "print()\n",
    "for key,value in car.items():\n",
    "\tprint(f\"{key}:\\t{value}\")\n",
    "print()\n",
    "for key in car:\n",
    "    value = car[key]\n",
    "    print(f\"{key}:\\t{value}\")"
   ]
  },
  {
   "cell_type": "code",
   "execution_count": null,
   "id": "549cd7a9-500c-45d4-a316-39e8d57f1779",
   "metadata": {},
   "outputs": [],
   "source": [
    "del car['brand']"
   ]
  },
  {
   "cell_type": "code",
   "execution_count": null,
   "id": "496c8877-f40d-4916-8e86-c539fb3ab893",
   "metadata": {},
   "outputs": [],
   "source": [
    "car"
   ]
  },
  {
   "cell_type": "markdown",
   "id": "d494f038-b106-4b24-8708-a976eaf0d83f",
   "metadata": {},
   "source": [
    "Use a set to find the unique values of the list below:"
   ]
  },
  {
   "cell_type": "code",
   "execution_count": null,
   "id": "16c83d72-36f5-472c-8402-9b53c948f125",
   "metadata": {},
   "outputs": [],
   "source": [
    "list5 = [1,2,2,33,4,4,11,22,3,3,2]\n",
    "\n",
    "dic = {}\n",
    "for key in list5:\n",
    "    dic[key] = dic.get(key,0)+1\n",
    "print(dic)    \n",
    "#dic = {}\n",
    "\n",
    "print('\\nMethod 1: Unique Values in the list are below:')\n",
    "for key in dic:\n",
    "    value = dic[key]\n",
    "    if value == 1:\n",
    "        print(f\"{key} : {value} instance only\")\n",
    "\n",
    "print('\\nMethod 2: Unique Values in the list are below:')\n",
    "for key,value in dic.items():\n",
    "    if value == 1:\n",
    "        print(f\"{key} : {value} instance only\")"
   ]
  },
  {
   "cell_type": "code",
   "execution_count": null,
   "id": "36736da7-65fb-4447-af79-8323277d5f9f",
   "metadata": {},
   "outputs": [],
   "source": [
    "print(sorted(dic.items(),reverse=False))\n",
    "print(sorted(dic.keys(),reverse=False))\n",
    "print(sorted(dic.values(),reverse=False))"
   ]
  },
  {
   "cell_type": "code",
   "execution_count": null,
   "id": "b3520701-f821-4ab7-89c1-e389ffff9275",
   "metadata": {},
   "outputs": [],
   "source": [
    "a = input('input something:')\n",
    "print (a)"
   ]
  },
  {
   "cell_type": "code",
   "execution_count": null,
   "id": "792cb1b1-2a51-47a3-9935-0b96d0264dd7",
   "metadata": {},
   "outputs": [],
   "source": [
    "a"
   ]
  },
  {
   "cell_type": "code",
   "execution_count": null,
   "id": "4e7e5287-0ea2-4ba8-8c2b-881f1413529b",
   "metadata": {},
   "outputs": [],
   "source": [
    "L = [x for x in range(1,11)]\n",
    "L"
   ]
  },
  {
   "cell_type": "markdown",
   "id": "bb9a58a0-e6ab-4a96-b9e8-4576158ff138",
   "metadata": {},
   "source": [
    "# For loop lesson"
   ]
  },
  {
   "cell_type": "code",
   "execution_count": null,
   "id": "e2143ea8-f7d1-488f-8fbc-fbb4c50bff76",
   "metadata": {},
   "outputs": [],
   "source": [
    "for i in car:\n",
    "    print(f'{i}: {car[i]}')"
   ]
  },
  {
   "cell_type": "code",
   "execution_count": null,
   "id": "81b58e4b-e3a2-474e-8116-a622178ce351",
   "metadata": {},
   "outputs": [],
   "source": [
    "string = 'gerone'\n",
    "\n",
    "for i in string:\n",
    "    if i == 'o':\n",
    "        break #breaks out of the closest enclosing loop\n",
    "    print(i)"
   ]
  },
  {
   "cell_type": "code",
   "execution_count": null,
   "id": "14e3d807-759f-4cb2-ad04-0aef2a1cd8b4",
   "metadata": {},
   "outputs": [],
   "source": [
    "string = 'gerone'\n",
    "\n",
    "for i in string:\n",
    "    if i == 'o':\n",
    "        continue #goes to the top of the closest enclosing loop\n",
    "    print(i)"
   ]
  },
  {
   "cell_type": "code",
   "execution_count": null,
   "id": "1012bc4e-37c7-4179-9f57-067c84e9d03e",
   "metadata": {},
   "outputs": [],
   "source": [
    "string = 'gerone'\n",
    "\n",
    "for i in string:\n",
    "    if i == 'o':\n",
    "        pass # does nothing at all\n",
    "    print(i)"
   ]
  },
  {
   "cell_type": "code",
   "execution_count": null,
   "id": "d7dccd34-5d61-415d-b29c-564d6cb4bbd6",
   "metadata": {},
   "outputs": [],
   "source": [
    "string = 'gerone'\n",
    "\n",
    "for i in string:\n",
    "    if i == 'o':\n",
    "        pass\n",
    "    else:\n",
    "        print(i)"
   ]
  },
  {
   "cell_type": "markdown",
   "id": "f56ee3c8-1fbc-43f4-8035-2054282c6d8e",
   "metadata": {},
   "source": [
    "# Useful operators"
   ]
  },
  {
   "cell_type": "markdown",
   "id": "70d2f575-5242-4515-afa1-609d5402c99f",
   "metadata": {},
   "source": [
    "#### convert range function into array"
   ]
  },
  {
   "cell_type": "code",
   "execution_count": null,
   "id": "969e53bc-953d-4221-9474-e7fa86811e15",
   "metadata": {},
   "outputs": [],
   "source": [
    "list(range(1,11))"
   ]
  },
  {
   "cell_type": "code",
   "execution_count": null,
   "id": "ae30837b-6a77-43b8-9b77-33e21744a71e",
   "metadata": {},
   "outputs": [],
   "source": [
    "list(range(1,12,2))"
   ]
  },
  {
   "cell_type": "code",
   "execution_count": null,
   "id": "2f9d5c6c-d051-4090-a743-a0bfce97ec05",
   "metadata": {},
   "outputs": [],
   "source": [
    "tuple(range(1,11))"
   ]
  },
  {
   "cell_type": "markdown",
   "id": "ea149aeb-8227-44ad-9d51-3f8e76dfb4c7",
   "metadata": {},
   "source": [
    "### Enumeration"
   ]
  },
  {
   "cell_type": "code",
   "execution_count": null,
   "id": "74dfd3bc-f5bc-49b0-8ee9-54bdb9e0d580",
   "metadata": {},
   "outputs": [],
   "source": [
    "index_count = 0\n",
    "\n",
    "for i in 'abcde':\n",
    "    print (\"Letter '{1}' is positioned at index: {0}\".format(index_count,i))\n",
    "    index_count += 1"
   ]
  },
  {
   "cell_type": "code",
   "execution_count": null,
   "id": "e4f7a768-cd23-4c54-8a67-f4e93296ffed",
   "metadata": {},
   "outputs": [],
   "source": [
    "index_count = 0\n",
    "word = 'abcde'\n",
    "\n",
    "for i in word:\n",
    "    print (word[index_count])\n",
    "    index_count += 1"
   ]
  },
  {
   "cell_type": "code",
   "execution_count": null,
   "id": "ae9691cd-df7a-4e07-8f3b-8c3626892181",
   "metadata": {},
   "outputs": [],
   "source": [
    "# to efficiently replicate above using enumeration\n",
    "\n",
    "word = 'abcde'\n",
    "\n",
    "for i in enumerate(word):\n",
    "    print (i)"
   ]
  },
  {
   "cell_type": "code",
   "execution_count": null,
   "id": "0bc750c4-70da-4b0a-91b9-4a35e5c1f7dc",
   "metadata": {},
   "outputs": [],
   "source": [
    "for i,j in enumerate(word):\n",
    "    print(i)\n",
    "    print(j+'\\n')"
   ]
  },
  {
   "cell_type": "code",
   "execution_count": null,
   "id": "e89fb22d-5961-4996-8d3c-af1fe1ae80b3",
   "metadata": {},
   "outputs": [],
   "source": [
    "list(enumerate(word))"
   ]
  },
  {
   "cell_type": "code",
   "execution_count": null,
   "id": "f5902d0c-3f22-498d-9b95-f3aa1ba531d8",
   "metadata": {},
   "outputs": [],
   "source": [
    "t_enum = list(enumerate(word))\n",
    "\n",
    "for i,j in t_enum:\n",
    "    print(f\"Index#:{i} | Char:'{j}'\")"
   ]
  },
  {
   "cell_type": "markdown",
   "id": "e592de58-51f1-42c7-a530-044d92157233",
   "metadata": {},
   "source": [
    "## Zip"
   ]
  },
  {
   "cell_type": "code",
   "execution_count": null,
   "id": "d4172dd3-a1df-4455-acae-063a6f9c3a63",
   "metadata": {},
   "outputs": [],
   "source": [
    "mylist1 = ['Hi,',\"I'm\",'Gerone','Ona.']"
   ]
  },
  {
   "cell_type": "code",
   "execution_count": null,
   "id": "80c7270e-6b68-4cc9-8e6c-617dbe7725cd",
   "metadata": {},
   "outputs": [],
   "source": [
    "print(*mylist1)"
   ]
  },
  {
   "cell_type": "code",
   "execution_count": null,
   "id": "faaf2c43-1cb0-487a-82e2-274ebb7edee9",
   "metadata": {},
   "outputs": [],
   "source": [
    "' '.join(mylist1)"
   ]
  },
  {
   "cell_type": "markdown",
   "id": "c1c8daa4-a539-432e-8358-e63787cf4997",
   "metadata": {},
   "source": [
    "#### Zip proper"
   ]
  },
  {
   "cell_type": "code",
   "execution_count": null,
   "id": "fffad52d-2b28-4732-88d7-05af863de584",
   "metadata": {},
   "outputs": [],
   "source": [
    "mylist1 = [1,2,3,4]\n",
    "mylist2 = ['a','b','c','d']\n",
    "mylist3 = ['i','ii','iii','iv']\n",
    "mylist4 = ['uno','dos','tres','kwatro']"
   ]
  },
  {
   "cell_type": "code",
   "execution_count": null,
   "id": "282988dd-9447-4b37-b9d8-fbcf899bc2be",
   "metadata": {},
   "outputs": [],
   "source": [
    "zip(mylist1,mylist2)"
   ]
  },
  {
   "cell_type": "code",
   "execution_count": null,
   "id": "6f4a7d5c-ff06-488a-a879-138f0444ba37",
   "metadata": {},
   "outputs": [],
   "source": [
    "list(zip(mylist1,mylist2))"
   ]
  },
  {
   "cell_type": "code",
   "execution_count": null,
   "id": "9a703e59-ff40-417d-bc18-5179713b100d",
   "metadata": {},
   "outputs": [],
   "source": [
    "list(zip(mylist1,mylist2,mylist3))"
   ]
  },
  {
   "cell_type": "code",
   "execution_count": null,
   "id": "c96adea7-5245-4013-8a0f-f472d7c2e3c0",
   "metadata": {},
   "outputs": [],
   "source": [
    "for i,j,k in list(zip(mylist1,mylist2,mylist3)):\n",
    "    print(f'|\\tmylist1:{i}\\t|\\tmylist2:{j}\\t|\\tmylist3:{k}\\t|')"
   ]
  },
  {
   "cell_type": "code",
   "execution_count": null,
   "id": "322ec65f-157e-4b5b-810b-7149fe0018a6",
   "metadata": {},
   "outputs": [],
   "source": [
    "for i,j,k,l in list(zip(mylist1,mylist2,mylist3,mylist4)):\n",
    "    print(f'|\\tmylist1:{i}\\t|\\tmylist2:{j}\\t|\\tmylist3:{k}\\t|\\tmylist4:{l}\\t|')"
   ]
  },
  {
   "cell_type": "markdown",
   "id": "0dc1bd0c-f691-418f-8439-cd49b306dfc8",
   "metadata": {},
   "source": [
    "## 'In' keyword"
   ]
  },
  {
   "cell_type": "code",
   "execution_count": null,
   "id": "f7d795ba-370b-4bbd-8f19-6de8ac9e2487",
   "metadata": {},
   "outputs": [],
   "source": [
    "'a' in 'hello worlda'"
   ]
  },
  {
   "cell_type": "code",
   "execution_count": null,
   "id": "78928448-b39f-4074-80a3-16e4981c0967",
   "metadata": {},
   "outputs": [],
   "source": [
    "# using dictionary\n",
    "'key1' in {'key1':1234,'key2':5678}"
   ]
  },
  {
   "cell_type": "code",
   "execution_count": null,
   "id": "12214991-e01e-4ff3-b923-e98eedf6919d",
   "metadata": {},
   "outputs": [],
   "source": [
    "d = {'key1':1234,'key2':5678}\n",
    "\n",
    "5678 in d.values()"
   ]
  },
  {
   "cell_type": "markdown",
   "id": "c83c590d-df13-4f25-b307-8dff51d8f6f7",
   "metadata": {},
   "source": [
    "## Min Max function"
   ]
  },
  {
   "cell_type": "code",
   "execution_count": null,
   "id": "13851310-ae12-45c1-a05f-857fed94de34",
   "metadata": {},
   "outputs": [],
   "source": [
    "L = [10,20,30,40,100]"
   ]
  },
  {
   "cell_type": "code",
   "execution_count": null,
   "id": "ea2aefb4-6eda-4b8a-889d-ce920001b091",
   "metadata": {},
   "outputs": [],
   "source": [
    "min(L)"
   ]
  },
  {
   "cell_type": "code",
   "execution_count": null,
   "id": "67546f69-9af8-4602-a8f3-d30264c6f9c7",
   "metadata": {},
   "outputs": [],
   "source": [
    "max(L)"
   ]
  },
  {
   "cell_type": "code",
   "execution_count": null,
   "id": "588ea058-83ff-4e4b-9bf8-0c2342360fc2",
   "metadata": {},
   "outputs": [],
   "source": [
    "d = {'key1':1234,'key2':5678}\n",
    "print(f'MAX Value inside the Dictionary: {max(d.values())}')\n",
    "print(f'MIN Key inside the Dictionary: {min(d.keys())}')"
   ]
  },
  {
   "cell_type": "markdown",
   "id": "acd19188-87bd-45a7-af7d-51c355e9fea7",
   "metadata": {},
   "source": [
    "## Random"
   ]
  },
  {
   "cell_type": "code",
   "execution_count": null,
   "id": "9172ffba-17dc-46e0-a970-1d96bf5c6c01",
   "metadata": {},
   "outputs": [],
   "source": [
    "from random import shuffle"
   ]
  },
  {
   "cell_type": "code",
   "execution_count": null,
   "id": "701e780a-6c5e-414f-a577-0c26e8db3c16",
   "metadata": {},
   "outputs": [],
   "source": [
    "shuffle(L) # no need to pass in a variable to take effect\n",
    "L"
   ]
  },
  {
   "cell_type": "code",
   "execution_count": null,
   "id": "bbb6fe89-2236-4676-9be0-3becffe4bfb9",
   "metadata": {},
   "outputs": [],
   "source": [
    "L = sorted(L,reverse=False) # need to pass in a variable to take effect\n",
    "print(L)\n",
    "L.sort(reverse=True) # no need to pass in a variable to take effect\n",
    "print(L)"
   ]
  },
  {
   "cell_type": "code",
   "execution_count": null,
   "id": "63e69e5e-6cce-4981-abb6-0d18a087a395",
   "metadata": {},
   "outputs": [],
   "source": [
    "from random import randint, random, randrange\n",
    "randint(1,11)"
   ]
  },
  {
   "cell_type": "markdown",
   "id": "766805b8-cb5d-4e63-ae20-3282c66417c1",
   "metadata": {},
   "source": [
    "# Leetcode Challenge Practice"
   ]
  },
  {
   "cell_type": "code",
   "execution_count": null,
   "id": "e68b8300-566f-4bf7-9282-f6b87778e179",
   "metadata": {},
   "outputs": [],
   "source": [
    "def return_2nd_largest_value(L,K):\n",
    "#L = [1,3,4,2,6,5]\n",
    "    L.sort()\n",
    "#K = 2\n",
    "    return L[K*-1]\n",
    "return_2nd_largest_value(L=[4,6,5,7,8,3,4,9,11,99,121],K=2)    "
   ]
  },
  {
   "cell_type": "code",
   "execution_count": null,
   "id": "c5367fc6-08b6-4cfc-9b69-bc63507f3982",
   "metadata": {},
   "outputs": [],
   "source": [
    "def majority_array(L):\n",
    "    new_L = []\n",
    "    dic = {}\n",
    "    for i in L:\n",
    "        #for tracking in dictionary\n",
    "        dic[i] = dic.get(i,0)+1\n",
    "    for i,j in dic.items():\n",
    "        #reverse dictionary and convert into tupple\n",
    "        new_L.append(tuple(f'{j}{i}'))\n",
    "    #reverse sort the tupple\n",
    "    new_L.sort(reverse=True)\n",
    "    #return the correct majority array\n",
    "    return int(new_L[0][1])\n",
    "\n",
    "def majority_array_v2(L):\n",
    "    new_L = []\n",
    "    dic = {}\n",
    "    for i in L:\n",
    "        #for tracking in dictionary\n",
    "        dic[i] = dic.get(i,0)+1\n",
    "    for i in sorted(dic.items()):\n",
    "        new_L.append(tuple(i[::-1]))\n",
    "    new_L.sort(reverse=True)\n",
    "    print(dic)\n",
    "    return int(new_L[0][1])\n",
    "\n",
    "def majority_array_v3(L):\n",
    "    new_L = []\n",
    "    dic = {}\n",
    "    for i in L:\n",
    "        #for tracking in dictionary\n",
    "        dic[i] = dic.get(i,0)+1\n",
    "    for i in dic.items():\n",
    "        new_L.append(tuple(i[::-1]))\n",
    "    new_L.sort(reverse=True)\n",
    "    print(dic)\n",
    "    return int(new_L[0][1])"
   ]
  },
  {
   "cell_type": "code",
   "execution_count": null,
   "id": "e815f12e-3ab9-45d0-a43e-ab7df7b70bb2",
   "metadata": {},
   "outputs": [],
   "source": [
    "majority_array_v3([69,2,4,5,6,69,69,69,7,8,6,5,7,8,8,8,5,3,3,4,6,8,9,6,12,7,7,7,7,7,7,7,7,7,7,7,7,7,7,11,11,11,11,69,69,69,69,69,69,69,69,69,69])"
   ]
  },
  {
   "cell_type": "code",
   "execution_count": null,
   "id": "5385dc98-78e6-4475-8ccc-a65e8dd0a0c9",
   "metadata": {},
   "outputs": [],
   "source": [
    "dic = {}\n",
    "L = [2,4,5,6,69,69,69,7,8,6,5,7,8,8,8,5,3,3,4,6,8,9,6,12,7,7,7,7,7,7,7,7,7,7,7,7,7,7,11,11,11,11,69,69,69,69,69,69,69,69,69,69]\n",
    "for i in L:\n",
    "    #for tracking in dictionary\n",
    "    dic[i] = dic.get(i,0)+1\n",
    "dic"
   ]
  },
  {
   "cell_type": "code",
   "execution_count": null,
   "id": "81d8a0b7-0b2a-487a-8bc5-fd733bbfd09a",
   "metadata": {},
   "outputs": [],
   "source": [
    "max(dic.items())"
   ]
  },
  {
   "cell_type": "code",
   "execution_count": null,
   "id": "c08b7762-7089-426c-a85a-f1744755c02b",
   "metadata": {},
   "outputs": [],
   "source": [
    "#v1 working baby\n",
    "#output [\"ad\",\"ae\",\"af\",\"bd\",\"be\",\"bf\",\"cd\",\"ce\",\"cf\"] if 2digits are '23'\n",
    "def meta_lcom():\n",
    "    n,o,L=0,0,[]\n",
    "\n",
    "    digit = input('Input 2 digits: ')\n",
    "\n",
    "    if digit[0] == '2':\n",
    "        d1='abc'\n",
    "    if digit[0] == '3':\n",
    "        d1='def'\n",
    "    if digit[0] == '4':\n",
    "        d1='ghi'\n",
    "    if digit[0] == '5':\n",
    "        d1='jkl'\n",
    "    if digit[0] == '6':\n",
    "        d1='mno'\n",
    "    if digit[0] == '7':\n",
    "        d1='pqrs'\n",
    "    if digit[0] == '8':\n",
    "        d1='tuv'\n",
    "    if digit[0] == '9':\n",
    "        d1='wxyz'\n",
    "    if digit[1] == '2':\n",
    "        d2='abc'\n",
    "    if digit[1] == '3':\n",
    "        d2='def'\n",
    "    if digit[1] == '4':\n",
    "        d2='ghi'\n",
    "    if digit[1] == '5':\n",
    "        d2='jkl'\n",
    "    if digit[1] == '6':\n",
    "        d2='mno'\n",
    "    if digit[1] == '7':\n",
    "        d2='pqrs'\n",
    "    if digit[1] == '8':\n",
    "        d2='tuv'\n",
    "    if digit[1] == '9':\n",
    "        d2='wxyz'\n",
    "    if digit[0] == '0' or digit[1] == '0' or digit[0] == '1' or digit[1] == '1':\n",
    "        print('Not a valid number, call the function to try again.\\n')\n",
    "\n",
    "    while True:\n",
    "        pack = zip(d1[o],d2[n])\n",
    "        for i in pack:\n",
    "            L.append(''.join(i))\n",
    "        n+=1\n",
    "        if n==len(d2):\n",
    "            n=0\n",
    "            o+=1\n",
    "            if o==len(d1):\n",
    "                break\n",
    "    return L"
   ]
  },
  {
   "cell_type": "code",
   "execution_count": null,
   "id": "03d633bd-d9d4-4a93-ad98-def746fddc07",
   "metadata": {
    "scrolled": true
   },
   "outputs": [],
   "source": [
    "meta_lcom()"
   ]
  },
  {
   "cell_type": "code",
   "execution_count": null,
   "id": "8a25fb5c-07d8-4241-a394-b45ad121d4d8",
   "metadata": {},
   "outputs": [],
   "source": [
    "# v2, courtesy of Jaira\n",
    "L = []\n",
    "\n",
    "keypad_dic = {\n",
    "    '2':'abc',\n",
    "    '3':'def',\n",
    "    '4':'ghi',\n",
    "    '5':'jkl',\n",
    "    '6':'mno',\n",
    "    '7':'pqrs',\n",
    "    '8':'tuv',\n",
    "    '9':'wxyz'\n",
    "}\n",
    "\n",
    "digit = input('Input 2 digits: ')\n",
    "\n",
    "d1 = digit[0]\n",
    "d2 = digit[1]\n",
    "\n",
    "for i in keypad_dic[d1]:\n",
    "    #print(i)\n",
    "    for j in keypad_dic[d2]:\n",
    "        L = L + [i+j]\n",
    "L"
   ]
  },
  {
   "cell_type": "markdown",
   "id": "c169beda-07f0-429b-8029-78ca51548937",
   "metadata": {},
   "source": [
    "## Contains Duplicate Challenge"
   ]
  },
  {
   "cell_type": "code",
   "execution_count": null,
   "id": "72ca332c-6ee2-4e60-94db-9a932b0f84c7",
   "metadata": {},
   "outputs": [],
   "source": [
    "# v1\n",
    "Lnums = [1,2,3,4,5,6]\n",
    "dic = {}\n",
    "\n",
    "for i in Lnums:\n",
    "    dic[i] = dic.get(i,0) + 1\n",
    "    \n",
    "sort_D_values = sorted(dic.values())\n",
    "if sort_D_values[-1] != 1:\n",
    "    print(True)\n",
    "else:\n",
    "    print(False)    \n",
    "        "
   ]
  },
  {
   "cell_type": "code",
   "execution_count": null,
   "id": "82b0a259-23db-4cad-a906-bb25beb45ff9",
   "metadata": {},
   "outputs": [],
   "source": [
    "# v2\n",
    "def contains_dup(Lnums):\n",
    "    dic = {}\n",
    "\n",
    "    for i in Lnums:\n",
    "        dic[i] = dic.get(i,0) + 1\n",
    "\n",
    "    sort_D_values = sorted(dic.values())\n",
    "    if sort_D_values[-1] != 1:\n",
    "        return True\n",
    "    else:\n",
    "        return False        "
   ]
  },
  {
   "cell_type": "code",
   "execution_count": null,
   "id": "b1dfed30-2556-4a6b-8f2e-2e72f605da09",
   "metadata": {},
   "outputs": [],
   "source": [
    "contains_dup([1,2,3,4,5,6,7,8,9,10,11])"
   ]
  },
  {
   "cell_type": "code",
   "execution_count": null,
   "id": "33852d9a-ef97-4943-9259-9b7fedb314ef",
   "metadata": {},
   "outputs": [],
   "source": [
    "# v3\n",
    "def contains_dup(Lnums):\n",
    "    dic = {}\n",
    "\n",
    "    for i in Lnums:\n",
    "        dic[i] = dic.get(i,0) + 1\n",
    "    if sorted(dic.values())[-1] != 1:\n",
    "        return True\n",
    "    else:\n",
    "        return False        "
   ]
  },
  {
   "cell_type": "code",
   "execution_count": null,
   "id": "807e88ec-d1d7-47a4-b999-060aee2eb08f",
   "metadata": {},
   "outputs": [],
   "source": [
    "contains_dup([1,2,3,4,5,6,7,8,9,10,2])"
   ]
  },
  {
   "cell_type": "markdown",
   "id": "599be094-5098-464b-81aa-35c1142725e2",
   "metadata": {},
   "source": [
    "## Replicating heapq method that will indentify 2 largest number in the index"
   ]
  },
  {
   "cell_type": "code",
   "execution_count": null,
   "id": "c106fa4f-9f25-4323-a37d-be470e2ef0f8",
   "metadata": {},
   "outputs": [],
   "source": [
    "#using heapq\n",
    "import heapq\n",
    "L_numbers = [4,9,3,10,6,2,7,1,8]\n",
    "second_largest = heapq.nlargest(2, L_numbers)\n",
    "print(second_largest)\n",
    "print(second_largest[-1])"
   ]
  },
  {
   "cell_type": "code",
   "execution_count": null,
   "id": "68273a4f-f90f-4642-b143-7de7678e263a",
   "metadata": {},
   "outputs": [],
   "source": [
    "#replicating heapq\n",
    "L_numbers = [4,9,3,10,6,2,7,1,8]\n",
    "L_numbers.sort(reverse=True)\n",
    "second_largest = L_numbers[:2]\n",
    "print(second_largest)\n",
    "print(second_largest[-1])"
   ]
  },
  {
   "cell_type": "code",
   "execution_count": null,
   "id": "794b99fc-25c9-4a4e-876e-6e283067c21c",
   "metadata": {},
   "outputs": [],
   "source": [
    "# input [4,9,3,10,6,2,7,1,8]\n",
    "# output [1,2,3,4,6,7,8,10,9]\n",
    "L_numbers = [4,9,3,10,6,2,7,1,8]\n",
    "L_numbers.sort()\n",
    "popped_L_number = L_numbers.pop(-2)\n",
    "L_numbers.append(popped_L_number)\n",
    "L_numbers"
   ]
  },
  {
   "cell_type": "code",
   "execution_count": null,
   "id": "1f75e59e-43cf-4a39-9b39-98c845c64a33",
   "metadata": {},
   "outputs": [],
   "source": [
    "# input [4,9,3,10,6,2,7,1,8]\n",
    "# output [4,3,10,6,2,7,1,8,9]\n",
    "L_numbers = [4,9,3,10,6,2,7,1,8]\n",
    "sorted_Lnums = sorted(L_numbers)\n",
    "popped_sorted_L_number = sorted_Lnums.pop(-2)\n",
    "del L_numbers[L_numbers.index(popped_sorted_L_number)]\n",
    "L_numbers.append(popped_sorted_L_number)\n",
    "L_numbers"
   ]
  },
  {
   "cell_type": "markdown",
   "id": "f286af73-c58c-46a3-b74b-9a9c112287bd",
   "metadata": {},
   "source": [
    "## List Comprehension"
   ]
  },
  {
   "cell_type": "code",
   "execution_count": null,
   "id": "208bbdbf-c47b-424d-b72a-e94646d55573",
   "metadata": {},
   "outputs": [],
   "source": [
    "mystring = 'hello'\n",
    "L = []\n",
    "\n",
    "print(mystring)\n",
    "for i in mystring:\n",
    "    L.append(i)\n",
    "print (L)\n",
    "\n",
    "D = {}\n",
    "\n",
    "for i in L:\n",
    "    D[i] = D.get(i,0)+1\n",
    "print(D)\n",
    "\n",
    "new_L=[]\n",
    "for i in D.keys():\n",
    "    new_L.append(i)\n",
    "print(new_L)\n",
    "\n",
    "new_mystring = ''.join(new_L)\n",
    "print(new_mystring)\n",
    "print(new_mystring[::-1])\n",
    "\n",
    "mirror_L = []\n",
    "\n",
    "for i in new_mystring[::-1]:\n",
    "    mirror_L.append(i)\n",
    "mirror_L    "
   ]
  },
  {
   "cell_type": "code",
   "execution_count": null,
   "id": "1e573022-08e4-4d94-ac6b-eb1fc25173e3",
   "metadata": {},
   "outputs": [],
   "source": [
    "# single line approach | List Comprehension proper\n",
    "mystring = 'hello'\n",
    "L = [i for i in mystring]\n",
    "print(L)\n",
    "L = [x for x in 'word']\n",
    "print(L)\n",
    "L = [x for x in range(1,11)]\n",
    "print(L)\n",
    "L = [x for x in range(10,0,-1)]\n",
    "print(L)\n",
    "str_L = str(L)\n",
    "print(str_L[0:3]+']')\n",
    "new_str_L = []\n",
    "new_str_L += [int(str_L[1:3])]\n",
    "new_str_L"
   ]
  },
  {
   "cell_type": "code",
   "execution_count": null,
   "id": "0fb9617c-3cd5-48a1-b3df-1a12622c9240",
   "metadata": {},
   "outputs": [],
   "source": [
    "L = [x**2 for x in range(1,11)] # to get squared version, just adjust the 1st element 'x'\n",
    "print(L)\n",
    "L = [x**2 for x in range(1,11) if x%2 == 0] # to get even number of squared version, just add logic in the end\n",
    "print(L)\n",
    "L = [x**2 for x in range(1,11) if x%2 != 0] # to get odd number of squared version, just add logic in the end\n",
    "print(L)"
   ]
  },
  {
   "cell_type": "code",
   "execution_count": null,
   "id": "88e6acdd-1f3e-4aec-af9c-9d765e0ac63a",
   "metadata": {},
   "outputs": [],
   "source": [
    "celcius = [0,10,20,34.5] \n",
    "\n",
    "fahrenheit = [(9/5)*temp+32 for temp in celcius]\n",
    "print(fahrenheit)"
   ]
  },
  {
   "cell_type": "code",
   "execution_count": null,
   "id": "4e31e3c4-1252-4f63-92a3-4dbcedb1d07e",
   "metadata": {},
   "outputs": [],
   "source": [
    "#break temperature down into normal for loop\n",
    "fahrenheit = []\n",
    "for temp in celcius:\n",
    "    fahrenheit.append((9/5)*temp+32)\n",
    "fahrenheit    "
   ]
  },
  {
   "cell_type": "markdown",
   "id": "8cfe4897-1ba7-4f7b-8fda-9dff2264fe91",
   "metadata": {},
   "source": [
    "### using if else statement in List Comprehension | not recommended due to its hard readability | use at your own risk!"
   ]
  },
  {
   "cell_type": "code",
   "execution_count": null,
   "id": "ac032044-4183-45c1-a4d1-f22cad1feb40",
   "metadata": {},
   "outputs": [],
   "source": [
    "result = [x if x%2==0 else 'ODD' for x in range(0,11)]\n",
    "result"
   ]
  },
  {
   "cell_type": "code",
   "execution_count": null,
   "id": "8659df08-4312-4de3-9344-65a64c22d3ab",
   "metadata": {},
   "outputs": [],
   "source": [
    "# sample below for nested loop list compehension(before)\n",
    "mylist = []\n",
    "\n",
    "for x in [2,4,6]:\n",
    "    for y in [1,10,1000]:\n",
    "        print(x,y)\n",
    "        mylist.append(x*y)\n",
    "mylist        "
   ]
  },
  {
   "cell_type": "code",
   "execution_count": null,
   "id": "0d17b711-03d5-4c6f-85a3-5445aa82e939",
   "metadata": {},
   "outputs": [],
   "source": [
    "# sample below for nested loop list compehension(after) | sacrifice readability but it's doable\n",
    "mylist = [x*y for x in [2,4,6] for y in [1,10,1000]]   \n",
    "mylist"
   ]
  },
  {
   "cell_type": "code",
   "execution_count": null,
   "id": "c8479835",
   "metadata": {},
   "outputs": [],
   "source": [
    "def box(N):\n",
    "    for i in range(1,N+1):\n",
    "        print('*'*N)"
   ]
  },
  {
   "cell_type": "code",
   "execution_count": null,
   "id": "10b9623a",
   "metadata": {},
   "outputs": [],
   "source": [
    "box(8)"
   ]
  },
  {
   "cell_type": "markdown",
   "id": "151938bd",
   "metadata": {},
   "source": [
    "## Valid Word\n",
    "\n",
    "A word is considered valid if:\n",
    "\n",
    "- it contains a minimum of 3 characters.\n",
    "- it contains only digits (0-9), and English letters (uppercase and lowercase).\n",
    "- it includes at least one vowel.\n",
    "- it includes at least one consonant.\n",
    "\n",
    "You are given a string word.\n",
    "\n",
    "Return true if word is valid otherwise, return false."
   ]
  },
  {
   "cell_type": "code",
   "execution_count": null,
   "id": "8ffaa702",
   "metadata": {},
   "outputs": [],
   "source": [
    "from strings import consonants, vowels, space, numbers, special_chars, english_letters\n",
    "\n",
    "def valid_word(string):\n",
    "    condition = ['has_1_consonant',\n",
    "    'has_1_lowercase_letter',\n",
    "    'has_1_number',\n",
    "    'has_1_uppercase_letter',\n",
    "    'has_1_vowel',\n",
    "    'is_3_chars']\n",
    "    L = []\n",
    "\n",
    "    if len(string) >= 3:\n",
    "        L.append('is_3_chars')\n",
    "        for i in string:\n",
    "            if i in numbers:\n",
    "                L.append('has_1_number')\n",
    "            elif i in english_letters:\n",
    "                L.append('has_1_lowercase_letter')\n",
    "                valid_lower_ind = True\n",
    "                if i in vowels:\n",
    "                    L.append(\"has_1_vowel\")\n",
    "                if i in consonants:\n",
    "                    L.append(\"has_1_consonant\")\n",
    "            elif i in english_letters.upper():\n",
    "                L.append('has_1_uppercase_letter')\n",
    "                valid_upper_ind = True\n",
    "                if i in vowels:\n",
    "                    L.append(\"has_1_vowel\")\n",
    "                if i in consonants:\n",
    "                    L.append(\"has_1_consonant\")\n",
    "            else:\n",
    "                L.append(\"False\")\n",
    "\n",
    "    if condition == sorted(list(set(L))):\n",
    "        return True\n",
    "    else:\n",
    "        return False\n",
    "            \n"
   ]
  },
  {
   "cell_type": "code",
   "execution_count": null,
   "id": "03d68d6a",
   "metadata": {},
   "outputs": [],
   "source": [
    "valid_word('Gerone9')"
   ]
  },
  {
   "cell_type": "code",
   "execution_count": null,
   "id": "4864d9ff",
   "metadata": {},
   "outputs": [],
   "source": [
    "from strings import consonants, vowels, space, numbers, special_chars, english_letters\n",
    "instruction = \"\"\"\n",
    "Valid Word\\n\\n\n",
    "\n",
    "A word is considered valid if:\\n\\n\n",
    "\n",
    "- it contains a minimum of 3 characters.\\n\n",
    "- it contains only digits (0-9), and English letters (uppercase and lowercase).\\n\n",
    "- it includes at least one vowel.\\n\n",
    "- it includes at least one consonant.\\n\\n\n",
    "\n",
    "You are given a string word.\\n\\n\n",
    "\n",
    "Return true if word is valid otherwise, return false.\\n\\n\n",
    "\n",
    "function name: \"valid_word\"\\n\n",
    "\"\"\"\n",
    "print(instruction)\n",
    "\n",
    "def valid_word(string):\n",
    "    condition = ['has_1_consonant',\n",
    "    'has_1_lowercase_letter',\n",
    "    'has_1_number',\n",
    "    'has_1_uppercase_letter',\n",
    "    'has_1_vowel',\n",
    "    'is_3_chars']\n",
    "    L = []\n",
    "\n",
    "    if len(string) >= 3:\n",
    "        print('is_3_chars')\n",
    "        L.append('is_3_chars')\n",
    "        for i in string:\n",
    "            if i in numbers:\n",
    "                print('has_1_number')\n",
    "                L.append('has_1_number')\n",
    "            elif i in english_letters:\n",
    "                print('has_1_lowercase_letter')\n",
    "                L.append('has_1_lowercase_letter')\n",
    "                valid_lower_ind = True\n",
    "                if i in vowels:\n",
    "                    print(\"has_1_vowel\")\n",
    "                    L.append(\"has_1_vowel\")\n",
    "                if i in consonants:\n",
    "                    print(\"has_1_consonant\")\n",
    "                    L.append(\"has_1_consonant\")\n",
    "            elif i in english_letters.upper():\n",
    "                print('has_1_uppercase_letter')\n",
    "                L.append('has_1_uppercase_letter')\n",
    "                valid_upper_ind = True\n",
    "                if i in vowels:\n",
    "                    print(\"has_1_vowel\")\n",
    "                    L.append(\"has_1_vowel\")\n",
    "                if i in consonants:\n",
    "                    print(\"has_1_consonant\")\n",
    "                    L.append(\"has_1_consonant\")\n",
    "            else:\n",
    "                print(False)\n",
    "                L.append(\"False\")\n",
    "\n",
    "    if condition == sorted(list(set(L))):\n",
    "        return True\n",
    "    else:\n",
    "        return False\n",
    "            \n"
   ]
  },
  {
   "cell_type": "markdown",
   "id": "4f66310b",
   "metadata": {},
   "source": [
    "## Unique Occurences in Array\n",
    "\n",
    "### Example 1\n",
    "Input: arr = [1,2,2,1,1,3]\n",
    "\n",
    "Output: True\n",
    "\n",
    "### Example 2\n",
    "Input: arr = [1,2]\n",
    "\n",
    "Output: False\n",
    "\n",
    "### Example 3\n",
    "Input: arr = [-3,0,1,-3,1,1,1,-3,10,0]\n",
    "\n",
    "Output: True"
   ]
  },
  {
   "cell_type": "code",
   "execution_count": null,
   "id": "63b306d4",
   "metadata": {},
   "outputs": [],
   "source": [
    "arr = [1,2,2,1,1,3]\n",
    "\n",
    "D = {}\n",
    "\n",
    "for i in arr:\n",
    "    D[i] = D.get(i,0) + 1\n",
    "\n",
    "for i,j in sorted(D.items(), reverse=True):\n",
    "    print(F\"Key: {i} | Value: {j}\")\n",
    "\n",
    "print()\n",
    "\n",
    "if sorted(D.values()) == list(set(sorted(D.values()))):\n",
    "    print(True)\n",
    "else:\n",
    "    print(False)\n",
    "    "
   ]
  },
  {
   "cell_type": "code",
   "execution_count": null,
   "id": "df9b18f6",
   "metadata": {},
   "outputs": [],
   "source": [
    "arr = [1,2]\n",
    "\n",
    "D = {}\n",
    "\n",
    "for i in arr:\n",
    "    D[i] = D.get(i,0) + 1\n",
    "\n",
    "for i,j in sorted(D.items(), reverse=True):\n",
    "    print(F\"Key: {i} | Value: {j}\")\n",
    "\n",
    "print()\n",
    "\n",
    "if sorted(D.values()) == list(set(sorted(D.values()))):\n",
    "    print(True)\n",
    "else:\n",
    "    print(False)\n",
    "    "
   ]
  },
  {
   "cell_type": "code",
   "execution_count": null,
   "id": "a331d2f3",
   "metadata": {},
   "outputs": [],
   "source": [
    "arr = [-3,0,1,-3,1,1,1,-3,10,0]\n",
    "\n",
    "D = {}\n",
    "\n",
    "for i in arr:\n",
    "    D[i] = D.get(i,0) + 1\n",
    "\n",
    "for i,j in sorted(D.items(), reverse=True):\n",
    "    print(F\"Key: {i} | Value: {j}\")\n",
    "\n",
    "print()\n",
    "\n",
    "if sorted(D.values()) == list(set(sorted(D.values()))):\n",
    "    print(True)\n",
    "else:\n",
    "    print(False)\n",
    "    "
   ]
  },
  {
   "cell_type": "code",
   "execution_count": null,
   "id": "3bf3e1f6",
   "metadata": {},
   "outputs": [],
   "source": [
    "#Just flipping Keys/Values into Values/Keys\n",
    "\n",
    "arr = [-3,0,1,-3,1,1,1,-3,10,0]\n",
    "\n",
    "D = {}\n",
    "L = []\n",
    "\n",
    "for i in arr:\n",
    "    D[i] = D.get(i,0) + 1\n",
    "print('\\nKey/Value:')\n",
    "for i,j in sorted(D.items(), reverse=True):\n",
    "    print(F\"Key: {i} | Value: {j}\")\n",
    "    L = L + [(j,i)]\n",
    "\n",
    "print()\n",
    "\n",
    "if sorted(D.values()) == list(set(sorted(D.values()))):\n",
    "    print(True)\n",
    "else:\n",
    "    print(False)\n",
    "\n",
    "print('\\nFlipped Key/Value:')\n",
    "\n",
    "for i,j in sorted(L,reverse=False):\n",
    "     print(F\"Value: {i} | Key: {j}\")  "
   ]
  },
  {
   "cell_type": "markdown",
   "id": "e095725a-a164-4721-87d5-79ce9beb9da1",
   "metadata": {},
   "source": [
    "# Delete and Return Middle Index position inside Array"
   ]
  },
  {
   "cell_type": "code",
   "execution_count": null,
   "id": "06cc6a9e-ede5-4f9e-a73f-4bca5efd80bf",
   "metadata": {},
   "outputs": [],
   "source": [
    "def deleteMid(L):\n",
    "    if len(L)%2 != 0:\n",
    "        popped_val = L.pop(round(len(L)/2)-1)\n",
    "        print(f\"Currently, array is now {L}.\")   \n",
    "        return \"Deleted Middle Array: \"+str(popped_val)\n",
    "    else:    \n",
    "        print(\"Array length is even number, there's no middle value to delete to begin with\")     "
   ]
  },
  {
   "cell_type": "code",
   "execution_count": null,
   "id": "cbef86b6-9353-40b6-8566-ee2202aaa9cd",
   "metadata": {},
   "outputs": [],
   "source": [
    "print(deleteMid([1,3,4,7,1,2,6]))"
   ]
  },
  {
   "cell_type": "code",
   "execution_count": null,
   "id": "14391132-27d3-4f06-a6ce-101571cba59b",
   "metadata": {},
   "outputs": [],
   "source": [
    "print(deleteMid([1,3,4,7,1,2,6,10,22,33,4]))"
   ]
  },
  {
   "cell_type": "code",
   "execution_count": null,
   "id": "7e00d979-a502-482d-bb02-c52c4e6ce1bc",
   "metadata": {},
   "outputs": [],
   "source": [
    "#print(deleteMid([1,3,4,7,1,2,6,10,22,33,4,0]))\n",
    "deleteMid([1,3,4,7,1,2,6,10,22,33,4,0])"
   ]
  },
  {
   "cell_type": "code",
   "execution_count": null,
   "id": "a9b0f0fb-f00c-43c4-82a3-846c41f469d8",
   "metadata": {},
   "outputs": [],
   "source": [
    "print(deleteMid([1]))"
   ]
  },
  {
   "cell_type": "markdown",
   "id": "4314d3c9",
   "metadata": {},
   "source": [
    "# Fibonacci Sequence Position Finder\n",
    "#### Recursion Approach"
   ]
  },
  {
   "cell_type": "code",
   "execution_count": null,
   "id": "5a7761f4",
   "metadata": {},
   "outputs": [],
   "source": [
    "def fib_lim(limit):\n",
    "    print(\"\\nFibonacci Sequence Position Finder!\\n\")\n",
    "    counter = 0\n",
    "    def fib(n):\n",
    "        if n == 1 or n == 2:\n",
    "            result = 1\n",
    "        else:\n",
    "            result = fib(n-1) + fib(n-2)\n",
    "        return result\n",
    "    range_2nd_param = limit\n",
    "    print(f\"       ZERO\\tposition:\\t0\")\n",
    "    for n in range(1,limit+1):\n",
    "        counter+=1\n",
    "        if counter in [11,12,13]:\n",
    "            print(f\"        {counter}th\\tposition:\\t{fib(n)}\")\n",
    "        elif counter in list(range(1,range_2nd_param+1,10)):\n",
    "            print(f\"        {counter}st\\tposition:\\t{fib(n)}\")\n",
    "        elif counter in list(range(2,range_2nd_param+1,10)):\n",
    "            print(f\"        {counter}nd\\tposition:\\t{fib(n)}\")\n",
    "        elif counter in list(range(3,range_2nd_param+1,10)):\n",
    "            print(f\"        {counter}rd\\tposition:\\t{fib(n)}\")\n",
    "        else:\n",
    "            print(f\"        {counter}th\\tposition:\\t{fib(n)}\")\n",
    "    print()\n"
   ]
  },
  {
   "cell_type": "code",
   "execution_count": null,
   "id": "172d63be",
   "metadata": {},
   "outputs": [],
   "source": [
    "fib_lim(44)"
   ]
  },
  {
   "cell_type": "markdown",
   "id": "c0542501",
   "metadata": {},
   "source": [
    "#### Linear Approach"
   ]
  },
  {
   "cell_type": "code",
   "execution_count": null,
   "id": "038d2d04",
   "metadata": {},
   "outputs": [],
   "source": [
    "def fib(n):\n",
    "    \n",
    "    ans = [0,1]\n",
    "\n",
    "    for i in range(2,n+1):\n",
    "        ans.append(ans[i-1]+ans[i-2])\n",
    "    return ans[n]"
   ]
  },
  {
   "cell_type": "code",
   "execution_count": null,
   "id": "e1a0f2f9",
   "metadata": {},
   "outputs": [],
   "source": [
    "def fib_lim(limit):\n",
    "    print(\"\\nFibonacci Sequence Position Finder!\\n\")\n",
    "    counter = 0\n",
    "    def fib(n):\n",
    "        ans = [0,1]\n",
    "        for i in range(2,n+1):\n",
    "            ans.append(ans[i-1]+ans[i-2])\n",
    "        return ans[n]\n",
    "    range_2nd_param = limit\n",
    "    print(f\"       ZERO\\tposition:\\t0\")\n",
    "    for n in range(1,limit+1):\n",
    "        counter+=1\n",
    "        if counter in [11,12,13]:\n",
    "            print(f\"        {counter}th\\tposition:\\t{fib(n)}\")\n",
    "        elif counter in list(range(1,range_2nd_param+1,10)):\n",
    "            print(f\"        {counter}st\\tposition:\\t{fib(n)}\")\n",
    "        elif counter in list(range(2,range_2nd_param+1,10)):\n",
    "            print(f\"        {counter}nd\\tposition:\\t{fib(n)}\")\n",
    "        elif counter in list(range(3,range_2nd_param+1,10)):\n",
    "            print(f\"        {counter}rd\\tposition:\\t{fib(n)}\")\n",
    "        else:\n",
    "            print(f\"        {counter}th\\tposition:\\t{fib(n)}\")\n",
    "    print()"
   ]
  },
  {
   "cell_type": "code",
   "execution_count": null,
   "id": "1a0c483b",
   "metadata": {},
   "outputs": [],
   "source": [
    "fib_lim(100)"
   ]
  },
  {
   "cell_type": "code",
   "execution_count": null,
   "id": "3167bcc1",
   "metadata": {},
   "outputs": [],
   "source": [
    "n=100\n",
    "ans = [0,1]\n",
    "\n",
    "for i in range(2,n+1):\n",
    "    ans.append(ans[i-1]+ans[i-2])\n",
    "ans[n]"
   ]
  },
  {
   "cell_type": "code",
   "execution_count": null,
   "id": "3b71844f",
   "metadata": {},
   "outputs": [],
   "source": [
    "n=100\n",
    "ans = [0,1]\n",
    "\n",
    "for i in range(2,n+1):\n",
    "    print(f\"{i-1}+{i-2}\")"
   ]
  },
  {
   "cell_type": "markdown",
   "id": "24e7eee1",
   "metadata": {},
   "source": [
    "### Pascal's Triangle\n",
    "\n",
    "if n=5, output:\n",
    "######     1\n",
    "######    1 1\n",
    "######   1 2 1\n",
    "######  1 3 3 1\n",
    "###### 1 4 6 4 1"
   ]
  },
  {
   "cell_type": "code",
   "execution_count": null,
   "id": "bc60c21b",
   "metadata": {},
   "outputs": [],
   "source": [
    "def pascal(n):\n",
    "    ind_cntr = 0\n",
    "    L = [[1],[1,1],[1,2,1]]\n",
    "\n",
    "    for i in range(3,n):\n",
    "        L.append([1])\n",
    "        for j in L[i-1]:\n",
    "            L[-1] = L[-1] + [L[i-1][ind_cntr]+L[i-1][ind_cntr+1]]\n",
    "            if ind_cntr < len(L[i-1])-2:\n",
    "                ind_cntr+=1\n",
    "            else:\n",
    "                ind_cntr=0\n",
    "                break\n",
    "        L[-1] = L[-1] + [1]\n",
    "\n",
    "    if n == 1:\n",
    "        print(L[0][0])\n",
    "    elif n == 2:\n",
    "        for i in L[0:2]:\n",
    "            print(f\"{' '*n}{str(' '.join(map(str, i)))}\")\n",
    "            n-=1\n",
    "    else:\n",
    "        for i in L:\n",
    "            print(f\"{' '*n}{str(' '.join(map(str, i)))}\")\n",
    "            n-=1"
   ]
  },
  {
   "cell_type": "code",
   "execution_count": null,
   "id": "de101f78",
   "metadata": {},
   "outputs": [],
   "source": [
    "pascal(5)"
   ]
  },
  {
   "cell_type": "markdown",
   "id": "5c8f07f2",
   "metadata": {},
   "source": [
    "### Scratch Solution below"
   ]
  },
  {
   "cell_type": "code",
   "execution_count": null,
   "id": "16df6e23",
   "metadata": {},
   "outputs": [],
   "source": [
    "#output\n",
    "\"\"\"\n",
    "1\n",
    "1 1\n",
    "1 2 1\n",
    "1 3 3 1\n",
    "1 4 6 4 1\n",
    "1 5 10 10 5 1\n",
    "\"\"\"\n",
    "\n",
    "n = 4\n",
    "ind_cntr = 0\n",
    "# List of arrays having integers\n",
    "L = [[1],[1,1],[1,2,1]]\n",
    "\n",
    "for i in range(3,n):\n",
    "    print(i)\n",
    "    print(L[i-1])\n",
    "    L.append([1])\n",
    "    for j in L[i-1]:\n",
    "        L[-1] = L[-1] + [L[i-1][ind_cntr]+L[i-1][ind_cntr+1]]\n",
    "        ind_cntr+=1\n",
    "        print(j)\n",
    "    L[-1] = L[-1] + [1]\n",
    "L        "
   ]
  },
  {
   "cell_type": "code",
   "execution_count": null,
   "id": "d45fe6a2",
   "metadata": {},
   "outputs": [],
   "source": [
    "#output\n",
    "\"\"\"\n",
    "1\n",
    "1 1\n",
    "1 2 1\n",
    "1 3 3 1\n",
    "1 4 6 4 1\n",
    "1 5 10 10 5 1\n",
    "\"\"\"\n",
    "\n",
    "n = 5\n",
    "ind_cntr = 0\n",
    "# List of arrays having integers\n",
    "L = [[1],[1,1],[1,2,1]]\n",
    "\n",
    "for i in range(3,n):\n",
    "    print(i)\n",
    "    print(L[i-1])\n",
    "    L.append([1])\n",
    "    for j in L[i-1]:\n",
    "        print(j)\n",
    "        L[-1] = L[-1] + [L[i-1][ind_cntr]+L[i-1][ind_cntr+1]]\n",
    "        if ind_cntr < len(L[i-1])-2:\n",
    "            ind_cntr+=1\n",
    "        else:\n",
    "            ind_cntr=0\n",
    "            break\n",
    "    L[-1] = L[-1] + [1]\n",
    "L        "
   ]
  },
  {
   "cell_type": "code",
   "execution_count": null,
   "id": "e1bdd89d",
   "metadata": {},
   "outputs": [],
   "source": [
    "# Join the integers into a single integer \n",
    "\n",
    "for i in L:\n",
    "    print(str(' '.join(map(str, i))) )"
   ]
  },
  {
   "cell_type": "code",
   "execution_count": null,
   "id": "b6946bc3",
   "metadata": {},
   "outputs": [],
   "source": [
    "#output if n=6\n",
    "\"\"\"\n",
    "1\n",
    "1 1\n",
    "1 2 1\n",
    "1 3 3 1\n",
    "1 4 6 4 1\n",
    "1 5 10 10 5 1\n",
    "\"\"\"\n",
    "\n",
    "n = 6\n",
    "ind_cntr = 0\n",
    "# List of arrays having integers\n",
    "L = [[1],[1,1],[1,2,1]]\n",
    "\n",
    "for i in range(3,n):\n",
    "    L.append([1])\n",
    "    for j in L[i-1]:\n",
    "        L[-1] = L[-1] + [L[i-1][ind_cntr]+L[i-1][ind_cntr+1]]\n",
    "        if ind_cntr < len(L[i-1])-2:\n",
    "            ind_cntr+=1\n",
    "        else:\n",
    "            ind_cntr=0\n",
    "            break\n",
    "    L[-1] = L[-1] + [1]\n",
    "\n",
    "# Join the integers into a single integer \n",
    "result = str(' '.join(map(str, L))) \n",
    "\n",
    "for i in L:\n",
    "    print(str(' '.join(map(str, i))) )"
   ]
  },
  {
   "cell_type": "code",
   "execution_count": null,
   "id": "92ca9d93",
   "metadata": {},
   "outputs": [],
   "source": [
    "def pascal(n):\n",
    "    ind_cntr = 0\n",
    "    # List of arrays having integers\n",
    "    L = [[1],[1,1],[1,2,1]]\n",
    "\n",
    "    for i in range(3,n):\n",
    "        L.append([1])\n",
    "        for j in L[i-1]:\n",
    "            L[-1] = L[-1] + [L[i-1][ind_cntr]+L[i-1][ind_cntr+1]]\n",
    "            if ind_cntr < len(L[i-1])-2:\n",
    "                ind_cntr+=1\n",
    "            else:\n",
    "                ind_cntr=0\n",
    "                break\n",
    "        L[-1] = L[-1] + [1]\n",
    "\n",
    "    if n == 1:\n",
    "        print(L[0][0])\n",
    "    elif n == 2:\n",
    "        for i in L[0:2]:\n",
    "            print(f\"{' '*n}{str(' '.join(map(str, i)))}\")\n",
    "            n-=1\n",
    "    else:\n",
    "        # Join the integers into a single integer \n",
    "        result = str(' '.join(map(str, L))) \n",
    "\n",
    "        for i in L:\n",
    "            print(f\"{' '*n}{str(' '.join(map(str, i)))}\")\n",
    "            n-=1"
   ]
  },
  {
   "cell_type": "code",
   "execution_count": null,
   "id": "46464195",
   "metadata": {},
   "outputs": [],
   "source": [
    "pascal(5)"
   ]
  },
  {
   "cell_type": "markdown",
   "id": "a50f2a0b-ac55-4d23-b2f0-7717e7dc9c32",
   "metadata": {},
   "source": [
    "# Return 2 Indices of two numbers (next to each other) such that they add up to the target integer inside given arrays of int"
   ]
  },
  {
   "cell_type": "code",
   "execution_count": null,
   "id": "825c291d-c0bf-4d86-8bbc-0800e0e4ddc6",
   "metadata": {},
   "outputs": [],
   "source": [
    "# input: L = [2,4,5,6]\n",
    "# target integer inside array is 6\n",
    "# output: Index: 0 & Index: 1 | because index[0]=2,index[1]=4 | sum of index[0]=2,index[1]=4 is 6"
   ]
  },
  {
   "cell_type": "code",
   "execution_count": null,
   "id": "03bd520b-2345-49ba-813d-257d1a175e1f",
   "metadata": {},
   "outputs": [],
   "source": [
    "L = [2,4,5,6]\n",
    "new_L = []\n",
    "\n",
    "for i in range(1,len(L)+1):\n",
    "    if i == len(L):\n",
    "        break\n",
    "    else:\n",
    "        print(f\"{L[i-1]}+{L[i]}\")\n",
    "        new_L.append(L[i-1]+L[i])\n",
    "        "
   ]
  },
  {
   "cell_type": "code",
   "execution_count": null,
   "id": "45e3b9cc-5432-4e0c-865f-d1390754e969",
   "metadata": {},
   "outputs": [],
   "source": [
    "# v1\n",
    "L = [5,6,2,4]\n",
    "target_int = 6\n",
    "new_L = []\n",
    "\n",
    "for i in range(1,len(L)+1):\n",
    "    if i == len(L):\n",
    "        break\n",
    "    else:\n",
    "        #print(f\"{L[i-1]}+{L[i]}\")\n",
    "        new_L.append(L[i-1]+L[i])\n",
    "        if L[i-1]+L[i] in L and L[i-1]+L[i] == target_int:\n",
    "            print(f\"1st Index: {i-1} which has value of {L[i-1]} inside L array.\\n2nd Index: {i} which has value of {L[i]} inside L array.\")\n",
    "            print(f\"{L[i-1]}+{L[i]} = {L[i-1]+L[i]}\")\n",
    "new_L"
   ]
  },
  {
   "cell_type": "code",
   "execution_count": null,
   "id": "bf1ec6f2-790a-46d3-aba6-a74f790313b0",
   "metadata": {},
   "outputs": [],
   "source": [
    "# v2.3\n",
    "L = [5,2,4,6,10,7]\n",
    "target_int = 10\n",
    "new_L = []\n",
    "\n",
    "print(\"Intruction:\\n\\n\\tReturn 2 Indices of two numbers (next to each other) such that they add up to the target integer inside given arrays of int.\")\n",
    "print(f\"\\nArray: L = {L}\\nTarget Int: {target_int}\\n\")\n",
    "print(\"Solution:\\n\")\n",
    "for i in range(1,len(L)+1):\n",
    "    #print(i)\n",
    "    if i == len(L):\n",
    "        break\n",
    "    else:\n",
    "        #new_L.append(L[i-1]+L[i])\n",
    "        if L[i-1]+L[i] in L and L[i-1]+L[i] == target_int:\n",
    "            print(f\"\\t{L[i-1]} + {L[i]} = {L[i-1]+L[i]} is the target int and existing inside the L array.\")\n",
    "            print(f\"\\t        - 1st Index: [{i-1}] | Value: {L[i-1]} inside L array.\\n\\t        - 2nd Index: [{i}] | Value: {L[i]} inside L array.\")\n",
    "            new_L.append(i-1)\n",
    "            new_L.append(i)\n",
    "        elif L[i-1]+L[i] not in L and target_int == L[i-1]+L[i]:\n",
    "            print(f\"\\t{L[i-1]} + {L[i]} = {L[i-1]+L[i]} is the target int but not existing inside the L array.\")\n",
    "        elif L[i-1]+L[i] not in L:\n",
    "            print(f\"\\t{L[i-1]} + {L[i]} = {L[i-1]+L[i]} is not the target int and not existing inside the L array.\")\n",
    "        elif L[i-1]+L[i] != target_int:\n",
    "            print(f\"\\t{L[i-1]} + {L[i]} = {L[i-1]+L[i]} is existing inside the L array but not the target int.\")\n",
    "print(\"\\nResult:\")            \n",
    "print(f\"\\tIndices: {new_L[0]} & {new_L[1]}\")"
   ]
  },
  {
   "cell_type": "markdown",
   "id": "ebbcab9c",
   "metadata": {},
   "source": [
    "# Given a array of intergers nums and an integer target, return indices of the two numbers such that they add up to target"
   ]
  },
  {
   "cell_type": "code",
   "execution_count": null,
   "id": "6e2aba40",
   "metadata": {},
   "outputs": [],
   "source": [
    "# output = \"Indices: 0,2\"\n",
    "L = [5, 2, 4, 6, 7]\n",
    "target_int = 9\n",
    "n=0\n",
    "\n",
    "for i in L:\n",
    "    #print(L[n:])\n",
    "    n+=1\n",
    "    for j in L[n:]:\n",
    "        #print(i,j)\n",
    "        if i+j == target_int:\n",
    "            print(f\"{i} + {j} = {target_int}-> target_int | index 1: {L.index(i)} | index 2: {L.index(j)}\")            "
   ]
  },
  {
   "cell_type": "code",
   "execution_count": null,
   "id": "84e1dc37",
   "metadata": {},
   "outputs": [],
   "source": [
    "def return_2_indices_of_target_int(L,target_int):\n",
    "    n=0\n",
    "    print(f\"Array = {L}\\nTarget integer: {target_int}\\n\")\n",
    "\n",
    "    for i in L:\n",
    "        n+=1\n",
    "        for j in L[n:]:\n",
    "            if i+j == target_int:\n",
    "                print(f\"{i} + {j} = {target_int} -> Target integer \\n\\t- index position of {i} is [{L.index(i)}]. \\n\\t- index position of {j} is [{L.index(j)}].\\nResult:\")  \n",
    "                return f\"\\tIndices: {L.index(i)},{L.index(j)}\"\n",
    "        return f\"No two values from the Array can be added up to the target integer.\""
   ]
  },
  {
   "cell_type": "code",
   "execution_count": null,
   "id": "a29392db",
   "metadata": {},
   "outputs": [],
   "source": [
    "returned_val = return_2_indices_of_target_int([5, 2, 4, 6, 7],target_int=9)\n",
    "print(returned_val)"
   ]
  },
  {
   "cell_type": "code",
   "execution_count": null,
   "id": "cf72b907",
   "metadata": {},
   "outputs": [],
   "source": [
    "# Returning final instance instead of first\n",
    "L = [5, 2, 4, 6, 7, 3]\n",
    "targ_int = 9\n",
    "newArray = []\n",
    "\n",
    "for i in range(0,len(L)):\n",
    "    for j in range(i+1,len(L)):\n",
    "        if L[i]+L[j] == targ_int:\n",
    "            newArray.append([i,j])\n",
    "print(f\"Indices: {newArray[-1][0]},{newArray[-1][1]}\")\n",
    "#newArray            "
   ]
  },
  {
   "cell_type": "markdown",
   "id": "3f1486ea",
   "metadata": {},
   "source": [
    "# Determine whether an integer is a perfect square. If it is not a perfect square, identify which perfect square value is closest to the integer."
   ]
  },
  {
   "cell_type": "code",
   "execution_count": null,
   "id": "53d3a95c",
   "metadata": {},
   "outputs": [],
   "source": [
    "def sqrt(x):\n",
    "    perfect_sqrt = [list_comp**2 for list_comp in range(1,x+1)]\n",
    "    perfect_sqrt.append(x)\n",
    "    perfect_sqrt.sort()\n",
    "    \n",
    "    ind_no = perfect_sqrt.index(x)\n",
    "    print(perfect_sqrt)\n",
    "    if perfect_sqrt[ind_no] == perfect_sqrt[ind_no+1]:\n",
    "        return f\"{x} is perfect square!\"\n",
    "    else:\n",
    "        return f\"{x} is not perfect square!\"\n",
    "\n",
    "def mysqrt(x):\n",
    "    perfect_sqrt = [list_comp**2 for list_comp in range(1,x+1)]\n",
    "    perfect_sqrt.append(x)\n",
    "    perfect_sqrt.sort()\n",
    "    perfect_sqrt = perfect_sqrt[:perfect_sqrt.index(x)+2]\n",
    "    \n",
    "    ind_no = perfect_sqrt.index(x)\n",
    "    print(perfect_sqrt)\n",
    "    if perfect_sqrt[ind_no] == perfect_sqrt[ind_no+1]:\n",
    "        return f\"{x} is perfect square!\"\n",
    "    elif perfect_sqrt[ind_no] != perfect_sqrt[ind_no+1]:\n",
    "        if perfect_sqrt[ind_no]-perfect_sqrt[ind_no-1] < perfect_sqrt[ind_no+1]-perfect_sqrt[ind_no]:\n",
    "            return f\"{x} is not a perfect square and is closer to {perfect_sqrt[ind_no-1]}\"\n",
    "        else:\n",
    "            return f\"{x} is not a perfect square and is closer to {perfect_sqrt[ind_no+1]}\""
   ]
  },
  {
   "cell_type": "code",
   "execution_count": null,
   "id": "3d45f40d",
   "metadata": {},
   "outputs": [],
   "source": [
    "mysqrt(25)"
   ]
  },
  {
   "cell_type": "code",
   "execution_count": null,
   "id": "6347b21d",
   "metadata": {},
   "outputs": [],
   "source": [
    "mysqrt(90)"
   ]
  },
  {
   "cell_type": "code",
   "execution_count": null,
   "id": "827c2bcb",
   "metadata": {},
   "outputs": [],
   "source": [
    "mysqrt(69)"
   ]
  },
  {
   "cell_type": "markdown",
   "id": "65218827-c474-47b9-9034-5dc6de8ebed7",
   "metadata": {},
   "source": [
    "# Merge Intervals\n",
    "\n",
    "- Input: intervals = [[1,3],[2,6],[8,10],[15,18]]\n",
    "- Output: [[1,6],[8,10],[15,18]]\n",
    "- Explanation: Since intervals [1,3] and [2,6] overlap, merge them into [1,6]"
   ]
  },
  {
   "cell_type": "code",
   "execution_count": null,
   "id": "4f9e60c9-45f7-4b2d-90af-4044cde897e4",
   "metadata": {},
   "outputs": [],
   "source": [
    "def ult_merge_int(int_of_int):\n",
    "    \n",
    "    def merge_intervals(intervals):\n",
    "        new_intervals = []\n",
    "        new_intervals+=intervals\n",
    "        new_intervals.sort()\n",
    "        elem_L = []\n",
    "        cntr=0\n",
    "        for i in new_intervals: \n",
    "            if cntr == len(new_intervals)-1:\n",
    "                break\n",
    "            elif new_intervals[cntr][1] in range(new_intervals[cntr+1][0],new_intervals[cntr+1][1]):\n",
    "                elem_L.append([new_intervals[cntr][0],new_intervals[cntr+1][1]])\n",
    "                new_intervals.append(elem_L[0])\n",
    "                del new_intervals[new_intervals.index(new_intervals[cntr]):new_intervals.index(new_intervals[cntr+1])+1]\n",
    "                del elem_L[0]\n",
    "                new_intervals.sort()\n",
    "            cntr+=1        \n",
    "        if intervals == new_intervals:\n",
    "            return False\n",
    "        else:\n",
    "            return new_intervals\n",
    "            \n",
    "    final_merge = []\n",
    "    stg_int = merge_intervals(int_of_int)\n",
    "    if stg_int == False:\n",
    "        return 'No overlapping intervals'\n",
    "    else:        \n",
    "        while stg_int != False:\n",
    "            final_merge = []\n",
    "            for i in stg_int:\n",
    "                final_merge.append(i)\n",
    "            stg_int = merge_intervals(final_merge)\n",
    "        return final_merge"
   ]
  },
  {
   "cell_type": "code",
   "execution_count": null,
   "id": "14a67cf3-307f-4b0c-9db1-f1ce9fbb621a",
   "metadata": {},
   "outputs": [],
   "source": [
    "ult_merge_int([[1,7],[6,70],[69,99],[100,999]])"
   ]
  },
  {
   "cell_type": "code",
   "execution_count": null,
   "id": "30cba0c8-65e3-41a0-bbaa-d44803b21595",
   "metadata": {},
   "outputs": [],
   "source": [
    "def merge_intervals(intervals):\n",
    "    new_intervals = []\n",
    "    new_intervals+=intervals\n",
    "    new_intervals.sort()\n",
    "    elem_L = []\n",
    "    cntr=0\n",
    "    for i in new_intervals: \n",
    "        if cntr == len(new_intervals)-1:\n",
    "            break\n",
    "        elif new_intervals[cntr][1] in range(new_intervals[cntr+1][0],new_intervals[cntr+1][1]):\n",
    "            elem_L.append([new_intervals[cntr][0],new_intervals[cntr+1][1]])\n",
    "            new_intervals.append(elem_L[0])\n",
    "            del new_intervals[new_intervals.index(new_intervals[cntr]):new_intervals.index(new_intervals[cntr+1])+1]\n",
    "            del elem_L[0]\n",
    "            new_intervals.sort()\n",
    "        cntr+=1        \n",
    "    if intervals == new_intervals:\n",
    "        return 'No overlapping intervals'\n",
    "    else:\n",
    "        return new_intervals"
   ]
  },
  {
   "cell_type": "code",
   "execution_count": null,
   "id": "f2376365-f43c-4763-9bde-2200b4d7e0b4",
   "metadata": {},
   "outputs": [],
   "source": [
    "merge_intervals([[1,3],[2,8],[8,16],[15,18]])"
   ]
  },
  {
   "cell_type": "code",
   "execution_count": null,
   "id": "5c51d667-2479-445c-a821-e8f0ee06b283",
   "metadata": {},
   "outputs": [],
   "source": [
    "merge_intervals(merge_intervals(merge_intervals([[1,4],[6,15],[15,16],[17, 24],[23,30],[30,33],[32,69]])))"
   ]
  },
  {
   "cell_type": "markdown",
   "id": "4e2b4877-b5b0-4255-a1e1-099b7d37d94c",
   "metadata": {},
   "source": [
    "# Solution Approach below"
   ]
  },
  {
   "cell_type": "code",
   "execution_count": null,
   "id": "1cd3faad-cafb-4848-8f7a-0a69ceaf1a49",
   "metadata": {},
   "outputs": [],
   "source": [
    "for i in intervals:\n",
    "    print(i[0],i[1])"
   ]
  },
  {
   "cell_type": "code",
   "execution_count": null,
   "id": "a91abc83-f2ca-4708-a654-0b6e5b162d6c",
   "metadata": {},
   "outputs": [],
   "source": [
    "cntr=0\n",
    "for i in intervals:\n",
    "    print(intervals[cntr][0],intervals[cntr][1])\n",
    "    cntr+=1"
   ]
  },
  {
   "cell_type": "code",
   "execution_count": null,
   "id": "80f8cf8d-e1d8-430f-b7d3-74be6a743790",
   "metadata": {},
   "outputs": [],
   "source": [
    "3 in range(4,6)"
   ]
  },
  {
   "cell_type": "code",
   "execution_count": null,
   "id": "bd3dd930-308c-45a3-9c8a-047d067644e1",
   "metadata": {},
   "outputs": [],
   "source": [
    "L = [x for x in range(intervals[1][0],intervals[1][1])]\n",
    "L"
   ]
  },
  {
   "cell_type": "code",
   "execution_count": null,
   "id": "593c7bfe-f934-4168-a0cc-ebb917fbdc8e",
   "metadata": {},
   "outputs": [],
   "source": [
    "intervals = [[1,3],[2,6],[8,10],[15,18]]\n",
    "elem_L = []\n",
    "if intervals[0][1] in range(intervals[1][0],intervals[1][1]):\n",
    "    print(True)\n",
    "    elem_L.append([intervals[0][0],intervals[1][1]])\n",
    "    intervals.append(elem_L[0])\n",
    "    del intervals[0:2]\n",
    "    intervals.sort()\n",
    "else:\n",
    "    print(False)\n",
    "print(elem_L)\n",
    "print(intervals)"
   ]
  },
  {
   "cell_type": "code",
   "execution_count": null,
   "id": "2184d2c8-31f9-44af-881e-69ef64db2a01",
   "metadata": {},
   "outputs": [],
   "source": [
    "intervals = [[1,3],[4,6],[8,10],[15,18]]\n",
    "new_intervals = []\n",
    "new_intervals+=intervals\n",
    "elem_L = []\n",
    "cntr=0\n",
    "for i in new_intervals:\n",
    "    if new_intervals[cntr][1] in range(new_intervals[cntr+1][0],new_intervals[cntr+1][1]):\n",
    "        elem_L.append([new_intervals[cntr][0],new_intervals[cntr+1][1]])\n",
    "        new_intervals.append(elem_L[0])\n",
    "        del new_intervals[intervals.index(new_intervals[cntr]):new_intervals.index(new_intervals[cntr+1])+1]\n",
    "        new_intervals.sort()\n",
    "    cntr+=1 \n",
    "    if cntr == len(new_intervals)-1:\n",
    "        break\n",
    "\n",
    "if intervals == new_intervals:\n",
    "    print('No overlapping intervals')\n",
    "else:\n",
    "    print(new_intervals)"
   ]
  },
  {
   "cell_type": "code",
   "execution_count": null,
   "id": "9fa5eac1-115c-4db3-ab3d-f0670233ff5e",
   "metadata": {},
   "outputs": [],
   "source": [
    "elem_L"
   ]
  },
  {
   "cell_type": "code",
   "execution_count": null,
   "id": "0e12ca85-6a0b-4d55-b343-9028b02a6541",
   "metadata": {},
   "outputs": [],
   "source": [
    "intervals"
   ]
  },
  {
   "cell_type": "code",
   "execution_count": null,
   "id": "53ffac18-add3-4de5-87ed-12ca9f756915",
   "metadata": {},
   "outputs": [],
   "source": [
    "new_intervals"
   ]
  },
  {
   "cell_type": "code",
   "execution_count": null,
   "id": "4c56a173-1332-4045-8c4f-dd52588cc7e8",
   "metadata": {},
   "outputs": [],
   "source": [
    "intervals.index(intervals[cntr-1])"
   ]
  },
  {
   "cell_type": "code",
   "execution_count": null,
   "id": "bd40b965-d470-4c40-b6f5-0139654f8b13",
   "metadata": {},
   "outputs": [],
   "source": [
    "intervals[cntr-1]"
   ]
  },
  {
   "cell_type": "code",
   "execution_count": null,
   "id": "8f7f4d0e-5059-4cd5-83bc-756b028511af",
   "metadata": {},
   "outputs": [],
   "source": [
    "cntr"
   ]
  },
  {
   "cell_type": "code",
   "execution_count": null,
   "id": "7d1f6864-ac8b-41e7-b0be-d3dcd3943435",
   "metadata": {},
   "outputs": [],
   "source": [
    "def merge_intervals(intervals):\n",
    "    new_intervals = []\n",
    "    new_intervals+=intervals\n",
    "    new_intervals.sort()\n",
    "    elem_L = []\n",
    "    cntr=0\n",
    "    for i in new_intervals: \n",
    "        if cntr == len(new_intervals)-1:\n",
    "            break\n",
    "        elif new_intervals[cntr][1] in range(new_intervals[cntr+1][0],new_intervals[cntr+1][1]):\n",
    "            elem_L.append([new_intervals[cntr][0],new_intervals[cntr+1][1]])\n",
    "            new_intervals.append(elem_L[0])\n",
    "            del new_intervals[new_intervals.index(new_intervals[cntr]):new_intervals.index(new_intervals[cntr+1])+1]\n",
    "            del elem_L[0]\n",
    "            new_intervals.sort()\n",
    "        cntr+=1 \n",
    "    cntr=0\n",
    "    ult_intervals = []\n",
    "    ult_intervals+=new_intervals\n",
    "    elem_L = []\n",
    "    if intervals == new_intervals:\n",
    "        return 'No overlapping intervals'\n",
    "    else:\n",
    "        for i in ult_intervals:\n",
    "            if cntr == len(ult_intervals)-1:\n",
    "                break\n",
    "            elif ult_intervals[cntr][1] in range(ult_intervals[cntr+1][0],ult_intervals[cntr+1][1]):\n",
    "                elem_L.append([ult_intervals[cntr][0],ult_intervals[cntr+1][1]])\n",
    "                ult_intervals.append(elem_L[0])\n",
    "                del ult_intervals[ult_intervals.index(ult_intervals[cntr]):ult_intervals.index(ult_intervals[cntr+1])+1]\n",
    "                del elem_L[0]\n",
    "                ult_intervals.sort()\n",
    "            cntr+=1\n",
    "        if new_intervals == ult_intervals:\n",
    "            return new_intervals\n",
    "        else:\n",
    "            return ult_intervals"
   ]
  },
  {
   "cell_type": "code",
   "execution_count": null,
   "id": "00d0e534-864d-43cc-9f0e-e982acf7effa",
   "metadata": {},
   "outputs": [],
   "source": [
    "merge_intervals([[1,5],[4,8],[8,15],[15,18],[18,23]])"
   ]
  },
  {
   "cell_type": "code",
   "execution_count": null,
   "id": "e3c4798e-8e9b-4023-8def-a980061ae7e4",
   "metadata": {},
   "outputs": [],
   "source": [
    "def merge_intervals(intervals):\n",
    "    new_intervals = []\n",
    "    new_intervals+=intervals\n",
    "    new_intervals.sort()\n",
    "    elem_L = []\n",
    "    cntr=0\n",
    "    for i in new_intervals: \n",
    "        if cntr == len(new_intervals)-1:\n",
    "            break\n",
    "        elif new_intervals[cntr][1] in range(new_intervals[cntr+1][0],new_intervals[cntr+1][1]):\n",
    "            elem_L.append([new_intervals[cntr][0],new_intervals[cntr+1][1]])\n",
    "            new_intervals.append(elem_L[0])\n",
    "            del new_intervals[new_intervals.index(new_intervals[cntr]):new_intervals.index(new_intervals[cntr+1])+1]\n",
    "            del elem_L[0]\n",
    "            new_intervals.sort()\n",
    "        cntr+=1        \n",
    "    if intervals == new_intervals:\n",
    "        return 'No overlapping intervals'\n",
    "    else:\n",
    "        return new_intervals"
   ]
  },
  {
   "cell_type": "code",
   "execution_count": null,
   "id": "e8cbc622-1437-4484-b67a-92984a0e3c95",
   "metadata": {},
   "outputs": [],
   "source": [
    "merge_intervals([[1,5],[4,8],[8,15],[15,18],[18,23]])"
   ]
  },
  {
   "cell_type": "code",
   "execution_count": null,
   "id": "919e1021-f3f3-4913-8f1e-46c995d42b7f",
   "metadata": {},
   "outputs": [],
   "source": [
    "new_int = merge_intervals([[1,5],[4,8],[8,15],[15,18],[18,23]])\n",
    "new_int"
   ]
  },
  {
   "cell_type": "code",
   "execution_count": null,
   "id": "c1b6166c-192e-44c8-b98f-22677f0ed8bd",
   "metadata": {},
   "outputs": [],
   "source": [
    "merge_intervals(merge_intervals(merge_intervals([[1,5],[4,8],[8,15],[15,18],[18,23]])))"
   ]
  },
  {
   "cell_type": "code",
   "execution_count": null,
   "id": "22160bdb-5c6b-4c72-8276-5d36e479d99c",
   "metadata": {},
   "outputs": [],
   "source": [
    "merge_intervals(merge_intervals(merge_intervals(merge_intervals([[1,5],[4,8],[8,15],[15,18],[18,23]]))))"
   ]
  },
  {
   "cell_type": "code",
   "execution_count": null,
   "id": "d957f99d-a733-40ea-8c62-5f5c71e431d0",
   "metadata": {},
   "outputs": [],
   "source": [
    "new_int = merge_intervals([[1,5],[4,8],[8,15],[15,18],[18,23]])\n",
    "print(new_int)\n",
    "interval = []\n",
    "print()\n",
    "while new_int != 'No overlapping intervals':\n",
    "    interval = []\n",
    "    for i in new_int:\n",
    "        #print(interval)\n",
    "        interval.append(i)\n",
    "        if len(interval) == len(new_int):\n",
    "            break\n",
    "    #print(interval)\n",
    "    new_int = merge_intervals(interval)\n",
    "print(interval)    "
   ]
  },
  {
   "cell_type": "code",
   "execution_count": null,
   "id": "03fa099c-43b4-402d-a315-c0737fab3001",
   "metadata": {},
   "outputs": [],
   "source": [
    "new_int"
   ]
  },
  {
   "cell_type": "code",
   "execution_count": null,
   "id": "7c8125c6-4f75-4c43-960f-fafdc81c444f",
   "metadata": {},
   "outputs": [],
   "source": [
    "interval"
   ]
  },
  {
   "cell_type": "code",
   "execution_count": null,
   "id": "f4b5e00b-3579-43c2-b2bc-d1f945256393",
   "metadata": {},
   "outputs": [],
   "source": [
    "len(interval) == len(merge_intervals([[1,5],[4,8],[8,15],[15,18],[18,23]]))"
   ]
  },
  {
   "cell_type": "code",
   "execution_count": null,
   "id": "01068c71-71b1-4f93-bf53-ded4dfe6f360",
   "metadata": {},
   "outputs": [],
   "source": [
    "interval = []\n",
    "for i in merge_intervals([[1,5],[4,8],[8,15],[15,18],[18,23]]):\n",
    "    interval.append(i)\n",
    "interval"
   ]
  },
  {
   "cell_type": "markdown",
   "id": "4167112b-2a77-4f4a-a1e9-577a82fa8c82",
   "metadata": {},
   "source": [
    "## Luckily, made the loop working in the below cell"
   ]
  },
  {
   "cell_type": "code",
   "execution_count": null,
   "id": "36775e57-3463-47d6-93e6-8f145a95aee4",
   "metadata": {},
   "outputs": [],
   "source": [
    "#working loop\n",
    "stg_int = merge_intervals([[1,5],[4,8],[8,15],[15,18],[18,23],[23,30],[25,69]])\n",
    "print(stg_int)\n",
    "final_merge = []\n",
    "print()\n",
    "while stg_int != 'No overlapping intervals':\n",
    "    final_merge = []\n",
    "    for i in stg_int:\n",
    "        print(final_merge)\n",
    "        final_merge.append(i)\n",
    "        if len(final_merge) == len(stg_int):\n",
    "            break\n",
    "    stg_int = merge_intervals(final_merge)\n",
    "    print(final_merge)\n",
    "#print(final_merge)    "
   ]
  },
  {
   "cell_type": "code",
   "execution_count": null,
   "id": "5ebdd1e7-11b6-42f0-a6fb-23ad16802103",
   "metadata": {},
   "outputs": [],
   "source": [
    "final_merge"
   ]
  },
  {
   "cell_type": "code",
   "execution_count": null,
   "id": "a07ffd0f-9788-4c0c-8316-0e4fc32afefa",
   "metadata": {},
   "outputs": [],
   "source": [
    "stg_int = merge_intervals([[1,5],[4,8],[8,15],[15,18],[18,23],[23,30],[25,69]])\n",
    "final_merge = []\n",
    "while stg_int != 'No overlapping intervals':\n",
    "    final_merge = []\n",
    "    for i in stg_int:\n",
    "        final_merge.append(i)\n",
    "        if len(final_merge) == len(stg_int):\n",
    "            break\n",
    "    stg_int = merge_intervals(final_merge)\n",
    "print(final_merge)  "
   ]
  },
  {
   "cell_type": "code",
   "execution_count": null,
   "id": "ad92bf3b-72ef-4914-aa3f-2a79f6c51db6",
   "metadata": {},
   "outputs": [],
   "source": [
    "def ult_merge_int(L_of_L):\n",
    "    \n",
    "    def merge_intervals(intervals):\n",
    "        new_intervals = []\n",
    "        new_intervals+=intervals\n",
    "        new_intervals.sort()\n",
    "        elem_L = []\n",
    "        cntr=0\n",
    "        for i in new_intervals: \n",
    "            if cntr == len(new_intervals)-1:\n",
    "                break\n",
    "            elif new_intervals[cntr][1] in range(new_intervals[cntr+1][0],new_intervals[cntr+1][1]):\n",
    "                elem_L.append([new_intervals[cntr][0],new_intervals[cntr+1][1]])\n",
    "                new_intervals.append(elem_L[0])\n",
    "                del new_intervals[new_intervals.index(new_intervals[cntr]):new_intervals.index(new_intervals[cntr+1])+1]\n",
    "                del elem_L[0]\n",
    "                new_intervals.sort()\n",
    "            cntr+=1        \n",
    "        if intervals == new_intervals:\n",
    "            return 'No overlapping intervals'\n",
    "        else:\n",
    "            return new_intervals\n",
    "    \n",
    "    stg_int = merge_intervals(L_of_L)\n",
    "    final_merge = []\n",
    "    while stg_int != 'No overlapping intervals':\n",
    "        final_merge = []\n",
    "        for i in stg_int:\n",
    "            final_merge.append(i)\n",
    "            if len(final_merge) == len(stg_int):\n",
    "                break\n",
    "        stg_int = merge_intervals(final_merge)\n",
    "    return final_merge\n"
   ]
  },
  {
   "cell_type": "code",
   "execution_count": null,
   "id": "e0a1df22-4d96-4a86-b28c-9b9ddc48b942",
   "metadata": {},
   "outputs": [],
   "source": [
    "ult_merge_int([[1,5],[4,8],[8,15],[15,18],[18,23],[23,30],[25,69],[88,99]])"
   ]
  },
  {
   "cell_type": "markdown",
   "id": "fae41104-f2f3-42dc-bc89-a8b74697440c",
   "metadata": {},
   "source": [
    "# Merge Tables"
   ]
  },
  {
   "cell_type": "markdown",
   "id": "bcaabe0e-bc27-4185-ab3d-29e7ada5da8f",
   "metadata": {},
   "source": [
    "### input \n",
    "#### person = [\n",
    "\t{\n",
    "\t\t\"id\": 1,\n",
    "\t\t\"firstname\": \"Jaira\",\n",
    "\t\t\"lastname\" : \"Cicat\",\n",
    "\t\t\"age\": 29,\n",
    "\t\t\"dob\": \"08/10/1994\"\n",
    "\t},\n",
    "\t{\n",
    "\t\t\"id\": 2,\n",
    "\t\t\"firstname\": \"Gerone\",\n",
    "\t\t\"lastname\": \"Ona\",\n",
    "\t\t\"age\": 27,\n",
    "\t\t\"dob\": \"04/25/1996\"\n",
    "\t}\n",
    "]\n",
    "\n",
    "#### governmentDetails = [\n",
    "\t{\n",
    "\t\t\"pid\": 1,\n",
    "\t\t\"tin\": 11111111,\n",
    "\t\t\"sss\" : 12121212\n",
    "\t},\n",
    "\t{\n",
    "\t\t\"pid\": 1,\n",
    "\t\t\"philhealthid\" : \"PH-123\",\n",
    "\t\t\"driverslicense\": \"DL-123\"\n",
    "\t},\n",
    "\t{\n",
    "\t\t\"pid\": 1,\n",
    "\t\t\"passportid\" : \"PP12345\"\n",
    "\t},\n",
    "\t{\n",
    "\t\t\"pid\": 2,\n",
    "\t\t\"tin\": 222222222,\n",
    "\t\t\"sss\" : 2323232323\n",
    "\t},\n",
    "\t{\n",
    "\t\t\"pid\": 2,\n",
    "\t\t\"philhealthid\" : \"PH-456\",\n",
    "\t\t\"driverslicense\": \"DL-456\"\n",
    "\t},\n",
    "\t{\n",
    "\t\t\"pid\": 2,\n",
    "\t\t\"passportid\" : \"PP5678\"\n",
    "\t}\n",
    "\n",
    "]\n",
    "\n",
    "#### education = [\n",
    "\t{\n",
    "\t\t\"firstname\": \"Jaira\",\n",
    "\t\t\"lastname\": \"Cicat\",\n",
    "\t\t\"type\": \"College\",\n",
    "\t\t\"school\": \"University of the Philippines Manila\",\n",
    "\t},\n",
    "\t{\n",
    "\t\t\"firstname\": \"Jaira\",\n",
    "\t\t\"lastname\": \"Cicat\",\n",
    "\t\t\"type\": \"High School\",\n",
    "\t\t\"school\": \"Tarlac Montessori School\",\n",
    "\t},\n",
    "\t{\n",
    "\t\t\"firstname\": \"Gerone\",\n",
    "\t\t\"lastname\": \"Ona\",\n",
    "\t\t\"type\": \"College\",\n",
    "\t\t\"school\": \"San Beda University\",\n",
    "\t},\n",
    "\t{\n",
    "\t\t\"firstname\": \"Gerone\",\n",
    "\t\t\"lastname\": \"Ona\",\n",
    "\t\t\"type\": \"High School\",\n",
    "\t\t\"school\": \"Enverga University\",\n",
    "\t}\n",
    "]\n",
    "\n",
    "\n",
    "### output = [\n",
    "\t{\n",
    "\t\t\"pid\": 1,\n",
    "\t\t\"firstname\": \"Jaira\",\n",
    "\t\t\"lastname\": \"Cicat\",\n",
    "\t\t\"age\": 29,\n",
    "\t\t\"dob\": \"08/10/1994\"\n",
    "\t\t\"government\":{\n",
    "\t\t\t\"tin\": 11111111,\n",
    "\t\t\t\"sss\" : 12121212,\n",
    "\t\t\t\"philhealthid\" : \"PH-123\",\n",
    "\t\t\t\"driverslicense\": \"DL-123\",\n",
    "\t\t\t\"passportid\" : \"PP12345\"\n",
    "\t\t},\n",
    "\t\t\"education\":[\n",
    "\t\t\t{\n",
    "\t\t\t\t\"type\" : \"High School\",\n",
    "\t\t\t\t\"school\": \"Tarlac Montessori School\",\n",
    "\t\t\t},\n",
    "\t\t\t{\n",
    "\t\t\t\t\"type\" : \"College\",\n",
    "\t\t\t\t\"school\": \"University of the Philippines Manila\",\n",
    "\t\t\t},\n",
    "\t\t]\n",
    "\t},\n",
    "\t{\n",
    "\t\t\"pid\": 2,\n",
    "\t\t\"firstname\": \"Ona\",\n",
    "\t\t\"lastname\": \"Cicat\",\n",
    "\t\t\"age\": 27,\n",
    "\t\t\"dob\": \"04/25/1996\"\n",
    "\t\t\"government\":{\n",
    "\t\t\t\"tin\": 222222222,\n",
    "\t\t\t\"sss\" : 2323232323\n",
    "\t\t\t\"philhealthid\" : \"PH-456\",\n",
    "\t\t\t\"driverslicense\": \"DL-456\"\n",
    "\t\t\t\"passportid\" : \"PP5678\"\n",
    "\t\t},\n",
    "\t\t\"education\":[\n",
    "\t\t\t{\n",
    "\t\t\t\t\"type\": \"High School\",\n",
    "\t\t\t\t\"school\": \"Enverga University\"\n",
    "\t\t\t},\n",
    "\t\t\t{\n",
    "\t\t\t\t\"type\": \"College\",\n",
    "\t\t\t\t\"school\": \"San Beda University\"\n",
    "\t\t\t}\n",
    "\t\t]\n",
    "\t}\n",
    "]"
   ]
  },
  {
   "cell_type": "code",
   "execution_count": null,
   "id": "8c0b5b06-7979-46e9-924c-d72a34fbdace",
   "metadata": {},
   "outputs": [],
   "source": [
    "person"
   ]
  },
  {
   "cell_type": "code",
   "execution_count": null,
   "id": "c55261fb-fa8a-4ca9-bf76-8fc886b1c72a",
   "metadata": {},
   "outputs": [],
   "source": [
    "governmentDetails"
   ]
  },
  {
   "cell_type": "code",
   "execution_count": null,
   "id": "6b9fe9f7-6ede-4a42-9b5e-92ddaa5fa0ae",
   "metadata": {},
   "outputs": [],
   "source": [
    "education"
   ]
  },
  {
   "cell_type": "code",
   "execution_count": null,
   "id": "e3fcf2b3-15c3-4f02-92bb-5331aedad21f",
   "metadata": {},
   "outputs": [],
   "source": [
    "person = [\n",
    "\t{\n",
    "\t\t\"id\": 1,\n",
    "\t\t\"firstname\": \"Jaira\",\n",
    "\t\t\"lastname\" : \"Cicat\",\n",
    "\t\t\"age\": 29,\n",
    "\t\t\"dob\": \"08/10/1994\"\n",
    "\t},\n",
    "\t{\n",
    "\t\t\"id\": 2,\n",
    "\t\t\"firstname\": \"Gerone\",\n",
    "\t\t\"lastname\": \"Ona\",\n",
    "\t\t\"age\": 27,\n",
    "\t\t\"dob\": \"04/25/1996\"\n",
    "\t}\n",
    "]\n",
    "\n",
    "governmentDetails = [\n",
    "\t{\n",
    "\t\t\"pid\": 1,\n",
    "\t\t\"tin\": 11111111,\n",
    "\t\t\"sss\" : 12121212\n",
    "\t},\n",
    "\t{\n",
    "\t\t\"pid\": 1,\n",
    "\t\t\"philhealthid\" : \"PH-123\",\n",
    "\t\t\"driverslicense\": \"DL-123\"\n",
    "\t},\n",
    "\t{\n",
    "\t\t\"pid\": 1,\n",
    "\t\t\"passportid\" : \"PP12345\"\n",
    "\t},\n",
    "\t{\n",
    "\t\t\"pid\": 2,\n",
    "\t\t\"tin\": 222222222,\n",
    "\t\t\"sss\" : 2323232323\n",
    "\t},\n",
    "\t{\n",
    "\t\t\"pid\": 2,\n",
    "\t\t\"philhealthid\" : \"PH-456\",\n",
    "\t\t\"driverslicense\": \"DL-456\"\n",
    "\t},\n",
    "\t{\n",
    "\t\t\"pid\": 2,\n",
    "\t\t\"passportid\" : \"PP5678\"\n",
    "\t}\n",
    "\n",
    "]\n",
    "\n",
    "education = [\n",
    "\t{\n",
    "\t\t\"firstname\": \"Jaira\",\n",
    "\t\t\"lastname\": \"Cicat\",\n",
    "\t\t\"type\": \"College\",\n",
    "\t\t\"school\": \"University of the Philippines Manila\",\n",
    "\t},\n",
    "\t{\n",
    "\t\t\"firstname\": \"Jaira\",\n",
    "\t\t\"lastname\": \"Cicat\",\n",
    "\t\t\"type\": \"High School\",\n",
    "\t\t\"school\": \"Tarlac Montessori School\",\n",
    "\t},\n",
    "\t{\n",
    "\t\t\"firstname\": \"Gerone\",\n",
    "\t\t\"lastname\": \"Ona\",\n",
    "\t\t\"type\": \"College\",\n",
    "\t\t\"school\": \"San Beda University\",\n",
    "\t},\n",
    "\t{\n",
    "\t\t\"firstname\": \"Gerone\",\n",
    "\t\t\"lastname\": \"Ona\",\n",
    "\t\t\"type\": \"High School\",\n",
    "\t\t\"school\": \"Enverga University\",\n",
    "\t}\n",
    "]"
   ]
  },
  {
   "cell_type": "code",
   "execution_count": null,
   "id": "18548909-85db-4e28-b4dd-8a45f2b4c8f3",
   "metadata": {},
   "outputs": [],
   "source": [
    "#before\n",
    "governmentDetails"
   ]
  },
  {
   "cell_type": "code",
   "execution_count": null,
   "id": "750a6385-874a-4c2c-9d42-b80fcc5acdb2",
   "metadata": {},
   "outputs": [],
   "source": [
    "new_Array_for_Gov = []\n",
    "new_Obj_for_Gov = {}\n",
    "counter = 0\n",
    "for i in governmentDetails:\n",
    "    print(i)\n",
    "    for k,j in i.items():\n",
    "        print(k,j)\n",
    "        if k == 'pid' and j == 2:\n",
    "            new_Array_for_Gov.append(new_Obj_for_Gov)\n",
    "            new_Obj_for_Gov = {}\n",
    "            break\n",
    "        new_Obj_for_Gov[k] = j        \n",
    "    #counter+=1\n",
    "#governmentDetails\n",
    "new_Array_for_Gov"
   ]
  },
  {
   "cell_type": "code",
   "execution_count": null,
   "id": "2382bd88-b460-4832-954d-c5fac42cd7a9",
   "metadata": {},
   "outputs": [],
   "source": [
    "new_Array_for_Gov = []\n",
    "new_Obj_for_Gov = {}\n",
    "counter = 1\n",
    "for i in governmentDetails:\n",
    "    print(f\"\\n\\n1st level for loop iteration per object\\t-\\t{i}\\n\")\n",
    "    for k,j in i.items():\n",
    "        \n",
    "        if j == 2:\n",
    "            break\n",
    "        \n",
    "        print(f\"\\t 2nd level for loop for key/value:\\t{k,j}\\n\")\n",
    "        new_Obj_for_Gov[k] = j\n",
    "        print(f\"\\t\\tnew_Obj_for_Gov\\t\\t-\\t{new_Obj_for_Gov} = to be appended in [new_Array_for_Gov]\\n\")\n",
    "        new_Array_for_Gov.append(new_Obj_for_Gov)\n",
    "        print(f\"\\t\\tnew_Array_for_Gov\\t-\\t{new_Array_for_Gov} = APPENDED OBJECT in [new_Array_for_Gov]\\n\")\n",
    "        #new_Array_for_Gov = new_Array_for_Gov + [new_Obj_for_Gov]\n",
    "        #print(f\"new_Array_for_Gov - {new_Array_for_Gov}\")\n",
    "        \"\"\"\n",
    "        if k == 'pid' and j == counter:\n",
    "            new_Array_for_Gov.append(new_Obj_for_Gov)  \n",
    "            #new_Obj_for_Gov = {}\n",
    "            counter+=1\n",
    "        \"\"\""
   ]
  },
  {
   "cell_type": "code",
   "execution_count": null,
   "id": "2927025a-8ae4-463d-9675-85d5f44aff47",
   "metadata": {},
   "outputs": [],
   "source": [
    "new_Array_for_Gov = []\n",
    "new_Obj_for_Gov = {}\n",
    "counter = 1\n",
    "for i in governmentDetails:\n",
    "    print(f\"\\n\\n1st level for loop iteration per object\\t-\\t{i}\\n\")\n",
    "    for k,j in i.items():\n",
    "        \"\"\"\n",
    "        if j == 2:\n",
    "            break\n",
    "        \"\"\"\n",
    "        print(f\"\\t 2nd level for loop for key/value:\\t{k,j}\\n\")\n",
    "        new_Obj_for_Gov[k] = j\n",
    "        print(f\"\\t\\tnew_Obj_for_Gov\\t\\t-\\t{new_Obj_for_Gov} = to be appended in [new_Array_for_Gov]\\n\")\n",
    "        new_Array_for_Gov.append(new_Obj_for_Gov)\n",
    "        #new_Array_for_Gov = new_Array_for_Gov + [new_Obj_for_Gov]\n",
    "        #print(f\"new_Array_for_Gov - {new_Array_for_Gov}\")\n",
    "        \"\"\"\n",
    "        if k == 'pid' and j == counter:\n",
    "            new_Array_for_Gov.append(new_Obj_for_Gov)  \n",
    "            #new_Obj_for_Gov = {}\n",
    "            counter+=1\n",
    "        \"\"\""
   ]
  },
  {
   "cell_type": "code",
   "execution_count": null,
   "id": "dfc41511-a50c-4f02-a2fb-55278c8d3632",
   "metadata": {},
   "outputs": [],
   "source": [
    "new_Array_for_Gov[0]"
   ]
  },
  {
   "cell_type": "code",
   "execution_count": null,
   "id": "c9bfa26e-11d1-4b2c-9304-c558c2f8dc2d",
   "metadata": {},
   "outputs": [],
   "source": [
    "for i in new_Array_for_Gov:\n",
    "    print(i)"
   ]
  },
  {
   "cell_type": "code",
   "execution_count": null,
   "id": "8822a63b-98db-43ad-a737-01c3c4f46288",
   "metadata": {},
   "outputs": [],
   "source": [
    "new_Obj_for_Gov"
   ]
  },
  {
   "cell_type": "code",
   "execution_count": null,
   "id": "2ed0cd86-f1d5-4d89-9ba4-99101597674a",
   "metadata": {},
   "outputs": [],
   "source": [
    "governmentDetails[0]['philhealthid'] = 'PH-123'"
   ]
  },
  {
   "cell_type": "code",
   "execution_count": null,
   "id": "5d5b1621-01c2-44a1-b968-4dfa555269c5",
   "metadata": {},
   "outputs": [],
   "source": [
    "governmentDetails[0]['pid'] = 1"
   ]
  },
  {
   "cell_type": "code",
   "execution_count": null,
   "id": "4be001c1-6e49-4a52-8f16-a7c25533d77f",
   "metadata": {},
   "outputs": [],
   "source": [
    "governmentDetails[0]['pid']"
   ]
  },
  {
   "cell_type": "code",
   "execution_count": null,
   "id": "01b709b5-4a5a-4083-b27b-166a685d4d3d",
   "metadata": {},
   "outputs": [],
   "source": [
    "governmentDetails[0] == governmentDetails[1]"
   ]
  },
  {
   "cell_type": "markdown",
   "id": "ec0b0504-a79e-4a5e-aac5-e845bc6b1d47",
   "metadata": {},
   "source": [
    "### Input: governmentDetails = [\n",
    "\t{\n",
    "\t\t\"pid\": 1,\n",
    "\t\t\"tin\": 11111111,\n",
    "\t\t\"sss\" : 12121212\n",
    "\t},\n",
    "\t{\n",
    "\t\t\"pid\": 1,\n",
    "\t\t\"philhealthid\" : \"PH-123\",\n",
    "\t\t\"driverslicense\": \"DL-123\"\n",
    "\t},\n",
    "\t{\n",
    "\t\t\"pid\": 1,\n",
    "\t\t\"passportid\" : \"PP12345\"\n",
    "\t},\n",
    "\t{\n",
    "\t\t\"pid\": 2,\n",
    "\t\t\"tin\": 222222222,\n",
    "\t\t\"sss\" : 2323232323\n",
    "\t},\n",
    "\t{\n",
    "\t\t\"pid\": 2,\n",
    "\t\t\"philhealthid\" : \"PH-456\",\n",
    "\t\t\"driverslicense\": \"DL-456\"\n",
    "\t},\n",
    "\t{\n",
    "\t\t\"pid\": 2,\n",
    "\t\t\"passportid\" : \"PP5678\"\n",
    "\t}\n",
    "\n",
    "]"
   ]
  },
  {
   "cell_type": "markdown",
   "id": "1ddb6fc5-3866-464a-a4f2-db5844c574d3",
   "metadata": {},
   "source": [
    "## Output = {\n",
    "    1: {'pid': 1,\n",
    "      'tin': 11111111,\n",
    "      'sss': 12121212,\n",
    "      'philhealthid': 'PH-123',\n",
    "      'driverslicense': 'DL-123',\n",
    "      'passportid': 'PP12345'},\n",
    "    2: {'pid': 2,\n",
    "      'tin': 222222222,\n",
    "      'sss': 2323232323,\n",
    "      'philhealthid': 'PH-456',\n",
    "      'driverslicense': 'DL-456',\n",
    "      'passportid': 'PP5678'} \n",
    "###      }"
   ]
  },
  {
   "cell_type": "markdown",
   "id": "ba9e6172-03ac-478e-a257-85ddc6f4742f",
   "metadata": {},
   "source": [
    "## Working"
   ]
  },
  {
   "cell_type": "code",
   "execution_count": null,
   "id": "34bbf827-cf6f-4783-9cc6-ad668c57a38e",
   "metadata": {},
   "outputs": [],
   "source": [
    "new_Obj_for_Gov = {}\n",
    "unique_PID = []\n",
    "\n",
    "for i in governmentDetails:\n",
    "    value = i['pid']\n",
    "    unique_PID.append(value)\n",
    "    unique_PID = list(set(unique_PID))\n",
    "\n",
    "for i in unique_PID:\n",
    "    new_Obj_for_Gov[i] = {}\n",
    "    \n",
    "for i in governmentDetails:\n",
    "    value = i['pid']\n",
    "    print(f\"\\nfirst loop level\\t-\\t{value} : {i}\")\n",
    "    print()\n",
    "    for j,k in i.items():\n",
    "        new_Obj_for_Gov[value][j] = k\n",
    "        print(f'\\t\\tnew2_Obj_for_Gov value\\t-\\t\"{new_Obj_for_Gov}\"')\n",
    "print()\n",
    "print()\n",
    "new_Obj_for_Gov        "
   ]
  },
  {
   "cell_type": "code",
   "execution_count": null,
   "id": "ae825eb6-6a9f-4cbe-bcec-89d68bee38a6",
   "metadata": {},
   "outputs": [],
   "source": [
    "unique_PID"
   ]
  },
  {
   "cell_type": "code",
   "execution_count": null,
   "id": "b3c1acc0-e747-44a6-a339-1235e80bba89",
   "metadata": {},
   "outputs": [],
   "source": [
    "new_Obj_for_Gov"
   ]
  },
  {
   "cell_type": "code",
   "execution_count": null,
   "id": "7f429e28-b135-4653-bfbf-4ba469157e54",
   "metadata": {},
   "outputs": [],
   "source": [
    "governmentDetails"
   ]
  },
  {
   "cell_type": "code",
   "execution_count": null,
   "id": "a3930092-0d07-4b41-a53e-e2f1b6d06ce2",
   "metadata": {},
   "outputs": [],
   "source": [
    "double_obj = {\n",
    "    \"1\": {\n",
    "      'tin': 11111111,\n",
    "      'sss': 12121212,\n",
    "      'philhealthid': 'PH-123',\n",
    "      'driverslicense': 'DL-123',\n",
    "      'passportid': 'PP12345'\n",
    "    }\n",
    "}"
   ]
  },
  {
   "cell_type": "code",
   "execution_count": null,
   "id": "0628185d-6aa5-4a13-8149-59a3a53b1567",
   "metadata": {},
   "outputs": [],
   "source": [
    "double_obj['1']['tin']"
   ]
  },
  {
   "cell_type": "markdown",
   "id": "ae0a04b3",
   "metadata": {},
   "source": [
    "# Dealing with XML"
   ]
  },
  {
   "cell_type": "code",
   "execution_count": null,
   "id": "6029554f",
   "metadata": {},
   "outputs": [],
   "source": [
    "# SAX Method\n",
    "\n",
    "import xml.sax\n",
    "\n",
    "class PeopleHandler(xml.sax.ContentHandler):\n",
    "    \n",
    "    def startElement(self, name, attrs):\n",
    "        self.current = name\n",
    "        if name == \"person\":\n",
    "            print(f\"-- Person {attrs['id']} --\")\n",
    "    \n",
    "    def characters(self, content):\n",
    "        if self.current == \"name\":\n",
    "            self.name = content\n",
    "        elif self.current == \"age\":\n",
    "            self.age = content\n",
    "        elif self.current == \"weight\":\n",
    "            self.weight = content\n",
    "        elif self.current == \"height\":\n",
    "            self.height = content\n",
    "\n",
    "    def endElement(self, name):\n",
    "        if self.current == \"name\":\n",
    "            print(f\"Name: {self.name}\")\n",
    "        elif self.current == \"age\":\n",
    "            print(f\"Age: {self.age}\")\n",
    "        elif self.current == \"weight\":\n",
    "            print(f\"Weight: {self.weight}\")\n",
    "        elif self.current == \"height\":\n",
    "            print(f\"Height: {self.height}\")\n",
    "        self.current = \"\"\n",
    "\n",
    "handler = PeopleHandler()\n",
    "parser = xml.sax.make_parser()\n",
    "parser.setContentHandler(handler)\n",
    "parser.parse(\"people.xml\")\n",
    "\n"
   ]
  },
  {
   "cell_type": "code",
   "execution_count": null,
   "id": "7a7c8e54",
   "metadata": {},
   "outputs": [],
   "source": [
    "# DOM Method\n",
    "\n",
    "import xml.dom.minidom\n",
    "# creating a domtree out of xml file\n",
    "domtree = xml.dom.minidom.parse('people.xml')\n",
    "# the group is the top most element in the xml file\n",
    "group = domtree.documentElement\n",
    "# gives use the collection of people we can iterate through\n",
    "people = group.getElementsByTagName('person')\n",
    "\n",
    "for person in people:\n",
    "    print(f\"-- Person {person.getAttribute('id')} --\")\n",
    "    print(f\"Name: {person.getElementsByTagName('name')[0].childNodes[0].nodeValue}\")\n",
    "    print(f\"Age: {person.getElementsByTagName('age')[0].childNodes[0].nodeValue}\")\n",
    "    print(f\"Weight: {person.getElementsByTagName('weight')[0].childNodes[0].nodeValue}\")\n",
    "    print(f\"Height: {person.getElementsByTagName('height')[0].childNodes[0].nodeValue}\")\n",
    "\n",
    "\n"
   ]
  },
  {
   "cell_type": "markdown",
   "id": "c13cb263",
   "metadata": {},
   "source": [
    "# Websrape"
   ]
  },
  {
   "cell_type": "code",
   "execution_count": null,
   "id": "2d5e0654",
   "metadata": {},
   "outputs": [],
   "source": [
    "pip install lxml "
   ]
  },
  {
   "cell_type": "code",
   "execution_count": null,
   "id": "b25cc536",
   "metadata": {},
   "outputs": [],
   "source": [
    "import pandas as pd\n",
    "\n",
    "tables = pd.read_html('https://github.com/isaacs/github/issues/37')\n",
    "\n",
    "text_content = tables[0].to_string(index=False)\n",
    "len(tables)"
   ]
  },
  {
   "cell_type": "code",
   "execution_count": null,
   "id": "ca014d4c",
   "metadata": {},
   "outputs": [],
   "source": [
    "for i in range(0,len(tables)):\n",
    "    print(tables[i])"
   ]
  },
  {
   "cell_type": "code",
   "execution_count": null,
   "id": "c5035804",
   "metadata": {},
   "outputs": [],
   "source": [
    "tables[0].iloc[0].to_string()[5:]"
   ]
  },
  {
   "cell_type": "code",
   "execution_count": null,
   "id": "d5e63f9b",
   "metadata": {},
   "outputs": [],
   "source": [
    "for i in range(0,len(tables)):\n",
    "    print(f'Row#{i+1}:  \\t{tables[i].iloc[0].to_string()[5:]}')"
   ]
  },
  {
   "cell_type": "code",
   "execution_count": null,
   "id": "25c6b82e",
   "metadata": {},
   "outputs": [],
   "source": [
    "#print(text_content[:text_content.index('.')+1])\n",
    "print(text_content[2:])"
   ]
  },
  {
   "cell_type": "code",
   "execution_count": null,
   "id": "2eb717ae",
   "metadata": {},
   "outputs": [],
   "source": [
    "import pandas as pd\n",
    "\n",
    "# Read the HTML tables from the webpage\n",
    "tables = pd.read_html('https://github.com/isaacs/github/issues/37')\n",
    "\n",
    "# Set Pandas options to prevent text truncation\n",
    "pd.set_option('display.max_colwidth', None)\n",
    "\n",
    "# Extract the text from the first row of tables[0]\n",
    "first_row_text = tables[0].iloc[0].to_string(index=False)\n",
    "\n",
    "print(first_row_text)\n"
   ]
  },
  {
   "cell_type": "markdown",
   "id": "f58bb9b6",
   "metadata": {},
   "source": [
    "# Move 0 at the end of the array"
   ]
  },
  {
   "cell_type": "code",
   "execution_count": null,
   "id": "0f0863fb",
   "metadata": {},
   "outputs": [],
   "source": [
    "'''\n",
    "Input: [0,1,0,3,12]\n",
    "Output: [1,3,12,0,0]\n",
    "'''"
   ]
  },
  {
   "cell_type": "code",
   "execution_count": null,
   "id": "7931187f",
   "metadata": {},
   "outputs": [],
   "source": [
    "L = [0,1,0,3,12]\n",
    "L[::-1]"
   ]
  },
  {
   "cell_type": "code",
   "execution_count": null,
   "id": "4cd0adfa",
   "metadata": {},
   "outputs": [],
   "source": [
    "L = [0,1,0,3,12]\n",
    "\n",
    "for i in L[::1]:\n",
    "    popped_val = L.pop(L.index(0))\n",
    "    L.append(popped_val)\n",
    "\n",
    "print(L)        "
   ]
  },
  {
   "cell_type": "code",
   "execution_count": null,
   "id": "934b8203",
   "metadata": {},
   "outputs": [],
   "source": [
    "# remove int 2 without ruining the index\n",
    "# 1st solution\n",
    "'''\n",
    "Input: [1,2,3,4,5]\n",
    "Output:\n",
    "1\n",
    "3\n",
    "4\n",
    "5\n",
    "'''\n",
    "\n",
    "L =  [1,2,3,4,5]\n",
    "for i in L[::-1]:\n",
    "    if i == 2:\n",
    "        L.remove(2)\n",
    "for i in L:\n",
    "    print(i)"
   ]
  },
  {
   "cell_type": "code",
   "execution_count": null,
   "id": "6b902d99",
   "metadata": {},
   "outputs": [],
   "source": [
    "# remove int 2 without ruining the index\n",
    "# 2nd solution\n",
    "'''\n",
    "Input: [1,2,3,4,5]\n",
    "Output: \n",
    "1\n",
    "3\n",
    "4\n",
    "5\n",
    "'''\n",
    "L =  [1,2,3,4,5]\n",
    "for i in L:\n",
    "    if i == 2:\n",
    "        pass\n",
    "    else:\n",
    "        print(i)"
   ]
  },
  {
   "cell_type": "code",
   "execution_count": null,
   "id": "ca433878",
   "metadata": {},
   "outputs": [],
   "source": [
    "# remove int 2 without ruining the index\n",
    "# 3rd solution\n",
    "'''\n",
    "Input: [1,2,3,4,5]\n",
    "Output: \n",
    "1\n",
    "3\n",
    "4\n",
    "5\n",
    "'''\n",
    "L =  [1,2,3,4,5]\n",
    "L.remove(2)\n",
    "for i in L:\n",
    "    print(i)"
   ]
  },
  {
   "cell_type": "markdown",
   "id": "36910b76",
   "metadata": {},
   "source": [
    "# Given an array of integers, \n",
    "# find all triplets that sum up to the target of Zero"
   ]
  },
  {
   "cell_type": "code",
   "execution_count": null,
   "id": "54aaae82",
   "metadata": {},
   "outputs": [],
   "source": [
    "# input = [1,-1,-1,0,2]\n",
    "# output = [-1,-1,2],[-1,0,1]"
   ]
  },
  {
   "cell_type": "code",
   "execution_count": null,
   "id": "3699f51f",
   "metadata": {},
   "outputs": [],
   "source": [
    "input = [1,-1,-1,0,2,-2]\n",
    "\n",
    "new_L = []\n",
    "for i in input:\n",
    "    for j in input:\n",
    "        for k in input:\n",
    "            if i+j+k == 0 and (i!=0 or j!=0 or k!=0):\n",
    "                #print(f\"{i} + {j} + {k}\\t=\\t{i+j+k}\")\n",
    "                new_L.append([i,j,k])\n",
    "\n",
    "for i in new_L:\n",
    "    i.sort()\n",
    "new_L.sort()\n",
    "\n",
    "output = []\n",
    "for idx,val in enumerate(new_L): \n",
    "    if new_L[idx-1] != new_L[idx]:\n",
    "        output.append(val)\n",
    " \n",
    "print(*output)"
   ]
  },
  {
   "cell_type": "code",
   "execution_count": null,
   "id": "e76d0e6e",
   "metadata": {},
   "outputs": [
    {
     "name": "stdout",
     "output_type": "stream",
     "text": [
      "[-2, 0, 2] [-2, 1, 1] [-1, -1, 2] [-1, 0, 1]\n"
     ]
    }
   ],
   "source": [
    "#v2 sol\n",
    "input = [1,-1,-1,0,2,-2]\n",
    "\n",
    "new_L = []\n",
    "for i in input:\n",
    "    for j in input:\n",
    "        for k in input:\n",
    "            if i+j+k == 0 and (i!=0 or j!=0 or k!=0):\n",
    "                new_L.append(sorted([i,j,k]))\n",
    "\n",
    "new_L.sort()\n",
    "output = []\n",
    "for idx,val in enumerate(new_L):\n",
    "    if new_L[idx-1] != new_L[idx]:\n",
    "        output.append(val)\n",
    " \n",
    "print(*output)"
   ]
  },
  {
   "cell_type": "markdown",
   "id": "f81e44e5",
   "metadata": {},
   "source": [
    "# Missing Number\n",
    "\n",
    "#### Given an array nums containing n distinct numbers in the range [0, n], \n",
    "#### return the only number in the range that is missing from the array.\n",
    "### Example:\n",
    "#### Input: nums = [3,0,1]\n",
    "#### Output: 2"
   ]
  },
  {
   "cell_type": "code",
   "execution_count": null,
   "id": "848b5a9a",
   "metadata": {},
   "outputs": [],
   "source": [
    "# Solution v1\n",
    "nums = [3,0,1]\n",
    "\n",
    "nums.sort()\n",
    "for idx,num in enumerate(range(nums[0],nums[-1]+1)):\n",
    "    if idx == 0:\n",
    "        pass\n",
    "    elif idx not in nums:\n",
    "        print(f'Output: {idx}')"
   ]
  },
  {
   "cell_type": "code",
   "execution_count": null,
   "id": "9ecf3645",
   "metadata": {},
   "outputs": [],
   "source": [
    "# Solution v2\n",
    "nums = [3,0,1]\n",
    "\n",
    "for idx,num in enumerate(range(0,max(nums)+1)):\n",
    "    if idx == 0:\n",
    "        pass\n",
    "    elif idx not in nums:\n",
    "        print(f'Output: {idx}')"
   ]
  },
  {
   "cell_type": "markdown",
   "id": "134feb13",
   "metadata": {},
   "source": [
    "# Combination SUM\n",
    "\n",
    "#### Input = [2,3,6,7], target = 7\n",
    "#### Output = [[2,2,3], [7]] "
   ]
  },
  {
   "cell_type": "code",
   "execution_count": null,
   "id": "fae2b2fd",
   "metadata": {},
   "outputs": [
    {
     "name": "stdout",
     "output_type": "stream",
     "text": [
      "Output = [[2, 2, 3], [7]]\n"
     ]
    }
   ],
   "source": [
    "# v1 solution\n",
    "Input = [2,3,6,7]\n",
    "target = 7\n",
    "Output = []\n",
    "\n",
    "for idx,i in enumerate(Input):\n",
    "    if i == target and [i] not in Output:\n",
    "        Output+=[[i]]\n",
    "    for j in Input:\n",
    "        if i+j == target and sorted([i,j]) not in Output:\n",
    "            Output+=[[i,j]]\n",
    "        else:\n",
    "            for k in Input:\n",
    "                if i+j+k == target and sorted([i,j,k]) not in Output:\n",
    "                    Output+=[[i,j,k]]\n",
    "print(f'Output = {Output}')"
   ]
  },
  {
   "cell_type": "code",
   "execution_count": null,
   "id": "dde5a688",
   "metadata": {},
   "outputs": [
    {
     "name": "stdout",
     "output_type": "stream",
     "text": [
      "Output = [[2, 2, 3], [7]]\n"
     ]
    }
   ],
   "source": [
    "# v2 solution\n",
    "Input = [2,3,6,7]\n",
    "target = 7\n",
    "Output = []\n",
    "\n",
    "for idx,i in enumerate(Input):\n",
    "    for j in Input:\n",
    "        if i+j == target and sorted([i,j]) not in Output:\n",
    "            Output+=[[i,j]]\n",
    "        else:\n",
    "            for k in Input:\n",
    "                if i+j+k == target and sorted([i,j,k]) not in Output:\n",
    "                    Output+=[[i,j,k]]\n",
    "Output+=[[target]]\n",
    "print(f'Output = {Output}')"
   ]
  },
  {
   "cell_type": "markdown",
   "id": "7db0c7e4",
   "metadata": {},
   "source": [
    "# Sort Array by Increasing Frequency\n",
    "#### Example:\n",
    "#### Input = [1, 1, 2, 2, 2, 3]\n",
    "#### Output = [3, 1, 1, 2, 2, 2]\n",
    "#### Explanation: \n",
    "##### &nbsp;&nbsp;&nbsp;&nbsp;&nbsp;&nbsp;&nbsp;&nbsp;&nbsp;&nbsp;&nbsp;&nbsp;&nbsp;&nbsp;&nbsp;&nbsp;&nbsp;&nbsp;&nbsp;&nbsp;&nbsp;&nbsp;&nbsp;&nbsp;'3' has a frequency of 1,\n",
    "##### &nbsp;&nbsp;&nbsp;&nbsp;&nbsp;&nbsp;&nbsp;&nbsp;&nbsp;&nbsp;&nbsp;&nbsp;&nbsp;&nbsp;&nbsp;&nbsp;&nbsp;&nbsp;&nbsp;&nbsp;&nbsp;&nbsp;&nbsp;&nbsp;'1' has a frequency of 2,\n",
    "##### &nbsp;&nbsp;&nbsp;&nbsp;&nbsp;&nbsp;&nbsp;&nbsp;&nbsp;&nbsp;&nbsp;&nbsp;&nbsp;&nbsp;&nbsp;&nbsp;&nbsp;&nbsp;&nbsp;&nbsp;&nbsp;&nbsp;&nbsp;&nbsp;'2' has a frequency of 3."
   ]
  },
  {
   "cell_type": "code",
   "execution_count": null,
   "id": "83748b80",
   "metadata": {},
   "outputs": [
    {
     "name": "stdout",
     "output_type": "stream",
     "text": [
      "Output = [3, 1, 1, 2, 2, 2]\n"
     ]
    }
   ],
   "source": [
    "# v1 solution\n",
    "Input = [1,1,2,2,2,3]\n",
    "Output = []\n",
    "\n",
    "Empty_Object = {}\n",
    "for array_val in Input:\n",
    "    Empty_Object[array_val] = Empty_Object.get(array_val,0) + 1\n",
    "\n",
    "Invert_Object = {}\n",
    "for key,val in Empty_Object.items():\n",
    "    Invert_Object[val] = key\n",
    "\n",
    "for key,val in sorted(Invert_Object.items()):\n",
    "    Output+=[val]*key\n",
    "\n",
    "print(f'Output = {Output}')\n"
   ]
  },
  {
   "cell_type": "code",
   "execution_count": null,
   "id": "a09689c1",
   "metadata": {},
   "outputs": [
    {
     "name": "stdout",
     "output_type": "stream",
     "text": [
      "{1: 2, 2: 3, 3: 1}\n",
      "[(1, 3), (2, 1), (3, 2)]\n",
      "Output = [3, 1, 1, 2, 2, 2]\n"
     ]
    }
   ],
   "source": [
    "# v2 solution\n",
    "Input = [1,1,2,2,2,3]\n",
    "Output = []\n",
    "\n",
    "Empty_Object = {}\n",
    "for array_val in Input:\n",
    "    Empty_Object[array_val] = Empty_Object.get(array_val,0) + 1\n",
    "print(Empty_Object)\n",
    "\n",
    "Invert_Object = {val_freq: key for key, val_freq in Empty_Object.items()}\n",
    "print(sorted(Invert_Object.items()))\n",
    "\n",
    "for frequency,val in sorted(Invert_Object.items()):\n",
    "    Output+=[val]*frequency\n",
    "\n",
    "print(f'Output = {Output}')\n",
    "    \n"
   ]
  },
  {
   "cell_type": "markdown",
   "id": "fab7a05d",
   "metadata": {},
   "source": [
    "# OOP Refresher"
   ]
  },
  {
   "cell_type": "code",
   "execution_count": null,
   "id": "12f62c22",
   "metadata": {},
   "outputs": [
    {
     "name": "stdout",
     "output_type": "stream",
     "text": [
      "Coin spent!\n"
     ]
    }
   ],
   "source": [
    "import random\n",
    "\n",
    "class Pound:\n",
    "\n",
    "    def __init__(self,rare=False):\n",
    "\n",
    "        self.rare = rare\n",
    "        \n",
    "        if self.rare == True:\n",
    "            self.value = 1.25\n",
    "        else:\n",
    "            self.value = 1.00\n",
    "\n",
    "        self.colour = 'gold'\n",
    "        self.num_edges = 1\n",
    "        self.diameter = 22.5 #mm\n",
    "        self.thickness = 3.15 #mm\n",
    "        self.heads = True\n",
    "\n",
    "    def __del__(self):\n",
    "        print('Coin spent!')\n",
    "\n",
    "    def rust(self):\n",
    "        self.colour = 'greenish'\n",
    "    \n",
    "    def clean(self):\n",
    "        if self.colour == 'greenish':\n",
    "            self.colour = 'gold'\n",
    "        elif self.colour == 'gold':\n",
    "            print('coin already clean!')\n",
    "\n",
    "    def flip(self):\n",
    "        self.heads = bool(random.getrandbits(1)) # or random.choice([True, False])\n",
    "\n",
    "coin1 = Pound()     \n",
    "coin2 = Pound(rare=True)        "
   ]
  },
  {
   "cell_type": "code",
   "execution_count": null,
   "id": "912cdb0f",
   "metadata": {},
   "outputs": [
    {
     "name": "stdout",
     "output_type": "stream",
     "text": [
      "1.0\n"
     ]
    },
    {
     "ename": "NameError",
     "evalue": "name 'coin2' is not defined",
     "output_type": "error",
     "traceback": [
      "\u001b[1;31m---------------------------------------------------------------------------\u001b[0m",
      "\u001b[1;31mNameError\u001b[0m                                 Traceback (most recent call last)",
      "Cell \u001b[1;32mIn[543], line 2\u001b[0m\n\u001b[0;32m      1\u001b[0m \u001b[38;5;28mprint\u001b[39m(coin1\u001b[38;5;241m.\u001b[39mvalue)\n\u001b[1;32m----> 2\u001b[0m \u001b[38;5;28mprint\u001b[39m(\u001b[43mcoin2\u001b[49m\u001b[38;5;241m.\u001b[39mvalue)\n\u001b[0;32m      4\u001b[0m coin2\u001b[38;5;241m.\u001b[39mrust()\n\u001b[0;32m      5\u001b[0m \u001b[38;5;28mprint\u001b[39m(coin2\u001b[38;5;241m.\u001b[39mcolour)\n",
      "\u001b[1;31mNameError\u001b[0m: name 'coin2' is not defined"
     ]
    }
   ],
   "source": [
    "print(coin1.value)\n",
    "print(coin2.value)\n",
    "\n",
    "coin2.rust()\n",
    "print(coin2.colour)\n",
    "coin2.clean()\n",
    "print(coin2.colour)\n",
    "coin2.clean()\n",
    "coin2.rust()\n",
    "print(coin2.colour)\n",
    "print(coin2.heads)\n",
    "coin2.flip()\n",
    "print(coin2.heads)"
   ]
  },
  {
   "cell_type": "code",
   "execution_count": null,
   "id": "3cf1d7b0",
   "metadata": {},
   "outputs": [
    {
     "name": "stdout",
     "output_type": "stream",
     "text": [
      "Coin spent!\n"
     ]
    }
   ],
   "source": [
    "del coin2"
   ]
  },
  {
   "cell_type": "markdown",
   "id": "1678e23d",
   "metadata": {},
   "source": [
    "# Valid Palindrome II\n",
    "\n",
    "Given a string `s`, return `True` if the `s` can be a palindrome after deleting at most one character from it.\n",
    "\n",
    "### Example 1:\n",
    "- **Input:** `s = \"aba\"`\n",
    "- **Output:** `True`\n",
    "\n",
    "### Example 2:\n",
    "- **Input:** `s = \"abca\"`\n",
    "- **Output:** `True`\n",
    "- **Explanation:** You could delete the character `\"c\"`.\n",
    "\n",
    "### Example 3:\n",
    "- **Input:** `s = \"abc\"`\n",
    "- **Output:** `False`\n"
   ]
  },
  {
   "cell_type": "code",
   "execution_count": null,
   "id": "b1109a84",
   "metadata": {},
   "outputs": [
    {
     "name": "stdout",
     "output_type": "stream",
     "text": [
      "Output: True\n",
      "Explanation: String \"aba\" is already a valid palindrome\n",
      "\n",
      "Output: True\n",
      "Explanation: You could delete the character \"c\".\n",
      "             String is now \"aba\" which is a valid palindrome (previously \"abca\"). \n",
      "\n",
      "Output: False\n",
      "Explanation: No character could be deleted for string \"abc\" to be valid palindrome.\n",
      "\n",
      "Output: True\n",
      "Explanation: You could delete the character \"a\".\n",
      "             String is now \"adda\" which is a valid palindrome (previously \"aadda\"). \n",
      "\n"
     ]
    }
   ],
   "source": [
    "def valid_palindrome(s):\n",
    "    if s == s[::-1]:\n",
    "        return f'{True}\\nExplanation: String \"{s}\" is already a valid palindrome\\n'\n",
    "    else:\n",
    "        placeholder_array = []\n",
    "        for idx,char1 in enumerate(s):\n",
    "            for char2 in s:\n",
    "                placeholder_array.append(char2)\n",
    "            len_s_placeholder_array = placeholder_array[:len(s)]\n",
    "            popped_val = len_s_placeholder_array.pop((idx+1)*-1)\n",
    "            if len_s_placeholder_array == len_s_placeholder_array[::-1]:\n",
    "                return f\"\"\"{True}\\nExplanation: You could delete the character \"{popped_val}\".\n",
    "             String is now \"{''.join(len_s_placeholder_array)}\" which is a valid palindrome (previously \"{s}\"). \\n\"\"\"\n",
    "        return f'{False}\\nExplanation: No character could be deleted for string \"{s}\" to be valid palindrome.\\n'\n",
    "\n",
    "print(f\"Output: {valid_palindrome('aba')}\")\n",
    "print(f\"Output: {valid_palindrome('abca')}\")\n",
    "print(f\"Output: {valid_palindrome('abc')}\")\n",
    "print(f\"Output: {valid_palindrome('aadda')}\")"
   ]
  },
  {
   "cell_type": "code",
   "execution_count": null,
   "id": "f1a882bc",
   "metadata": {},
   "outputs": [
    {
     "name": "stdout",
     "output_type": "stream",
     "text": [
      "True\n",
      "True\n",
      "False\n"
     ]
    }
   ],
   "source": [
    "s = \"abca\"\n"
   ]
  },
  {
   "cell_type": "code",
   "execution_count": null,
   "id": "3838f3e0",
   "metadata": {},
   "outputs": [],
   "source": [
    "def valid_palindrome(s):\n",
    "    if s == s[::-1]:\n",
    "        return True\n",
    "    else:\n",
    "        return False"
   ]
  },
  {
   "cell_type": "code",
   "execution_count": null,
   "id": "be0c0a7d",
   "metadata": {},
   "outputs": [
    {
     "data": {
      "text/plain": [
       "False"
      ]
     },
     "execution_count": 11,
     "metadata": {},
     "output_type": "execute_result"
    }
   ],
   "source": [
    "valid_palindrome(\"abca\")"
   ]
  },
  {
   "cell_type": "code",
   "execution_count": null,
   "id": "57b10e9a",
   "metadata": {},
   "outputs": [
    {
     "name": "stdout",
     "output_type": "stream",
     "text": [
      "0 -1 a 0 a\n",
      "0 -2 a 1 b\n",
      "0 -3 a 2 c\n",
      "0 -4 a 3 a\n",
      "-1\n",
      "['a', 'b', 'c', 'a']\n",
      "['a', 'b', 'c', 'a']\n",
      "['a', 'b', 'c']\n",
      "False\n",
      "\n",
      "1 -1 b 0 a\n",
      "1 -2 b 1 b\n",
      "1 -3 b 2 c\n",
      "1 -4 b 3 a\n",
      "-2\n",
      "['a', 'b', 'c', 'a', 'a', 'b', 'c', 'a']\n",
      "['a', 'b', 'c', 'a']\n",
      "['a', 'b', 'a']\n",
      "True\n",
      "\n",
      "2 -1 c 0 a\n",
      "2 -2 c 1 b\n",
      "2 -3 c 2 c\n",
      "2 -4 c 3 a\n",
      "-3\n",
      "['a', 'b', 'c', 'a', 'a', 'b', 'c', 'a', 'a', 'b', 'c', 'a']\n",
      "['a', 'b', 'c', 'a']\n",
      "['a', 'c', 'a']\n",
      "True\n",
      "\n",
      "3 -1 a 0 a\n",
      "3 -2 a 1 b\n",
      "3 -3 a 2 c\n",
      "3 -4 a 3 a\n",
      "-4\n",
      "['a', 'b', 'c', 'a', 'a', 'b', 'c', 'a', 'a', 'b', 'c', 'a', 'a', 'b', 'c', 'a']\n",
      "['a', 'b', 'c', 'a']\n",
      "['b', 'c', 'a']\n",
      "False\n",
      "\n"
     ]
    },
    {
     "data": {
      "text/plain": [
       "'\\nif s == s[::-1]:\\n    print(True)\\nelse:\\n    print(False)\\n'"
      ]
     },
     "execution_count": 80,
     "metadata": {},
     "output_type": "execute_result"
    }
   ],
   "source": [
    "s = \"abca\"\n",
    "placeholder_array = []\n",
    "\n",
    "for idx1,char1 in enumerate(s):\n",
    "    #print(idx,char)\n",
    "    for idx2,char2 in enumerate(s):\n",
    "        print(idx1,(idx2+1)*-1,char1,idx2,char2)\n",
    "        placeholder_array.append(char2)\n",
    "    print((idx1+1)*-1)\n",
    "    #placeholder_array.pop((idx1+1)*-1)\n",
    "    print(placeholder_array)\n",
    "    len_s_placeholder_array = placeholder_array[:len(s)]\n",
    "    print(len_s_placeholder_array)\n",
    "    len_s_placeholder_array.pop((idx1+1)*-1)\n",
    "    print(len_s_placeholder_array)\n",
    "    if len_s_placeholder_array == len_s_placeholder_array[::-1]:\n",
    "        print(True)\n",
    "    else:\n",
    "        print(False)\n",
    "\n",
    "    print()\n"
   ]
  },
  {
   "cell_type": "code",
   "execution_count": null,
   "id": "594090fd",
   "metadata": {},
   "outputs": [
    {
     "name": "stdout",
     "output_type": "stream",
     "text": [
      "True\n"
     ]
    }
   ],
   "source": [
    "s = \"abca\"\n",
    "s_array = s.split(sep='c')\n",
    "array_s = ''.join(s_array)\n",
    "if array_s == array_s[::-1]:\n",
    "    print(True)\n",
    "else:\n",
    "    print(False)"
   ]
  },
  {
   "cell_type": "code",
   "execution_count": null,
   "id": "91c4182c",
   "metadata": {},
   "outputs": [
    {
     "data": {
      "text/plain": [
       "'aba'"
      ]
     },
     "execution_count": 46,
     "metadata": {},
     "output_type": "execute_result"
    }
   ],
   "source": [
    "array_s"
   ]
  },
  {
   "cell_type": "code",
   "execution_count": null,
   "id": "6abe099b",
   "metadata": {},
   "outputs": [
    {
     "name": "stdout",
     "output_type": "stream",
     "text": [
      "False\n"
     ]
    }
   ],
   "source": [
    "s = \"abca\"\n",
    "\n",
    "\n",
    "s_array = s.split(sep='a')\n",
    "array_s = ''.join(s_array)\n",
    "if array_s == array_s[::-1]:\n",
    "    print(True)\n",
    "else:\n",
    "    print(False)"
   ]
  },
  {
   "cell_type": "code",
   "execution_count": null,
   "id": "151ed893",
   "metadata": {},
   "outputs": [
    {
     "data": {
      "text/plain": [
       "['', 'bc', '']"
      ]
     },
     "execution_count": 48,
     "metadata": {},
     "output_type": "execute_result"
    }
   ],
   "source": [
    "s_array"
   ]
  },
  {
   "cell_type": "markdown",
   "id": "568ba987",
   "metadata": {},
   "source": [
    "# Happy Number"
   ]
  },
  {
   "cell_type": "code",
   "execution_count": null,
   "id": "bb3ef939",
   "metadata": {},
   "outputs": [],
   "source": [
    "\"\"\"\n",
    "Input: n = 19\n",
    "Explanation:\n",
    "1^2 + 9^2 = 82\n",
    "8^2 + 2^2 = 68\n",
    "6^2 + 8^2 = 100\n",
    "1^2 + 0^2 + 0^2 = 1\n",
    "\"\"\""
   ]
  },
  {
   "cell_type": "code",
   "execution_count": 72,
   "id": "66867ba2",
   "metadata": {},
   "outputs": [
    {
     "name": "stdout",
     "output_type": "stream",
     "text": [
      "0 is not a valid input\n",
      "1 is Happy Number\n",
      "2 is not a Happy Number\n",
      "3 is not a Happy Number\n",
      "4 is not a Happy Number\n",
      "5 is not a Happy Number\n",
      "6 is not a Happy Number\n",
      "7 is Happy Number\n",
      "8 is not a Happy Number\n",
      "9 is not a Happy Number\n",
      "10 is Happy Number\n",
      "11 is not a Happy Number\n",
      "12 is not a Happy Number\n",
      "13 is Happy Number\n",
      "14 is not a Happy Number\n",
      "15 is not a Happy Number\n",
      "16 is not a Happy Number\n",
      "17 is not a Happy Number\n",
      "18 is not a Happy Number\n",
      "19 is Happy Number\n",
      "20 is not a Happy Number\n",
      "21 is not a Happy Number\n",
      "22 is not a Happy Number\n",
      "23 is Happy Number\n",
      "24 is not a Happy Number\n",
      "25 is not a Happy Number\n",
      "26 is not a Happy Number\n",
      "27 is not a Happy Number\n",
      "28 is Happy Number\n",
      "29 is not a Happy Number\n",
      "30 is not a Happy Number\n",
      "31 is Happy Number\n",
      "32 is Happy Number\n",
      "33 is not a Happy Number\n",
      "34 is not a Happy Number\n",
      "35 is not a Happy Number\n",
      "36 is not a Happy Number\n",
      "37 is not a Happy Number\n",
      "38 is not a Happy Number\n",
      "39 is not a Happy Number\n",
      "40 is not a Happy Number\n",
      "41 is not a Happy Number\n",
      "42 is not a Happy Number\n",
      "43 is not a Happy Number\n",
      "44 is Happy Number\n",
      "45 is not a Happy Number\n",
      "46 is not a Happy Number\n",
      "47 is not a Happy Number\n",
      "48 is not a Happy Number\n",
      "49 is Happy Number\n",
      "50 is not a Happy Number\n",
      "51 is not a Happy Number\n",
      "52 is not a Happy Number\n",
      "53 is not a Happy Number\n",
      "54 is not a Happy Number\n",
      "55 is not a Happy Number\n",
      "56 is not a Happy Number\n",
      "57 is not a Happy Number\n",
      "58 is not a Happy Number\n",
      "59 is not a Happy Number\n",
      "60 is not a Happy Number\n",
      "61 is not a Happy Number\n",
      "62 is not a Happy Number\n",
      "63 is not a Happy Number\n",
      "64 is not a Happy Number\n",
      "65 is not a Happy Number\n",
      "66 is not a Happy Number\n",
      "67 is not a Happy Number\n",
      "68 is Happy Number\n",
      "69 is not a Happy Number\n",
      "70 is Happy Number\n",
      "71 is not a Happy Number\n",
      "72 is not a Happy Number\n",
      "73 is not a Happy Number\n",
      "74 is not a Happy Number\n",
      "75 is not a Happy Number\n",
      "76 is not a Happy Number\n",
      "77 is not a Happy Number\n",
      "78 is not a Happy Number\n",
      "79 is Happy Number\n",
      "80 is not a Happy Number\n",
      "81 is not a Happy Number\n",
      "82 is Happy Number\n",
      "83 is not a Happy Number\n",
      "84 is not a Happy Number\n",
      "85 is not a Happy Number\n",
      "86 is Happy Number\n",
      "87 is not a Happy Number\n",
      "88 is not a Happy Number\n",
      "89 is not a Happy Number\n",
      "90 is not a Happy Number\n",
      "91 is Happy Number\n",
      "92 is not a Happy Number\n",
      "93 is not a Happy Number\n",
      "94 is Happy Number\n",
      "95 is not a Happy Number\n",
      "96 is not a Happy Number\n",
      "97 is Happy Number\n",
      "98 is not a Happy Number\n",
      "99 is not a Happy Number\n",
      "100 is Happy Number\n"
     ]
    }
   ],
   "source": [
    "for n in range(0,101):\n",
    "    n_to_process = n\n",
    "    if n == 0:\n",
    "        print(f\"{n} is not a valid input\")\n",
    "    else:\n",
    "        limit_cntr=0\n",
    "        while True:\n",
    "            if n_to_process == 1:\n",
    "                print(f\"{n} is Happy Number\")\n",
    "                break\n",
    "            elif limit_cntr == 10:\n",
    "                print(f\"{n} is not a Happy Number\")\n",
    "                break\n",
    "            happy_check=0            \n",
    "            limit_cntr+=1\n",
    "            for i in str(n_to_process):\n",
    "                happy_check += (int(i)*int(i))\n",
    "            n_to_process = happy_check"
   ]
  },
  {
   "cell_type": "code",
   "execution_count": 71,
   "id": "3808d8b9",
   "metadata": {},
   "outputs": [
    {
     "name": "stdout",
     "output_type": "stream",
     "text": [
      "0 is not a valid input\n",
      "1 is Happy Number\n",
      "2 is not a Happy Number\n",
      "3 is not a Happy Number\n",
      "4 is not a Happy Number\n",
      "5 is not a Happy Number\n",
      "6 is not a Happy Number\n",
      "7 is Happy Number\n",
      "8 is not a Happy Number\n",
      "9 is not a Happy Number\n",
      "10 is Happy Number\n",
      "11 is not a Happy Number\n",
      "12 is not a Happy Number\n",
      "13 is Happy Number\n",
      "14 is not a Happy Number\n",
      "15 is not a Happy Number\n",
      "16 is not a Happy Number\n",
      "17 is not a Happy Number\n",
      "18 is not a Happy Number\n",
      "19 is Happy Number\n",
      "20 is not a Happy Number\n",
      "21 is not a Happy Number\n",
      "22 is not a Happy Number\n",
      "23 is Happy Number\n",
      "24 is not a Happy Number\n",
      "25 is not a Happy Number\n",
      "26 is not a Happy Number\n",
      "27 is not a Happy Number\n",
      "28 is Happy Number\n",
      "29 is not a Happy Number\n",
      "30 is not a Happy Number\n",
      "31 is Happy Number\n",
      "32 is Happy Number\n",
      "33 is not a Happy Number\n",
      "34 is not a Happy Number\n",
      "35 is not a Happy Number\n",
      "36 is not a Happy Number\n",
      "37 is not a Happy Number\n",
      "38 is not a Happy Number\n",
      "39 is not a Happy Number\n",
      "40 is not a Happy Number\n",
      "41 is not a Happy Number\n",
      "42 is not a Happy Number\n",
      "43 is not a Happy Number\n",
      "44 is Happy Number\n",
      "45 is not a Happy Number\n",
      "46 is not a Happy Number\n",
      "47 is not a Happy Number\n",
      "48 is not a Happy Number\n",
      "49 is Happy Number\n",
      "50 is not a Happy Number\n",
      "51 is not a Happy Number\n",
      "52 is not a Happy Number\n",
      "53 is not a Happy Number\n",
      "54 is not a Happy Number\n",
      "55 is not a Happy Number\n",
      "56 is not a Happy Number\n",
      "57 is not a Happy Number\n",
      "58 is not a Happy Number\n",
      "59 is not a Happy Number\n",
      "60 is not a Happy Number\n",
      "61 is not a Happy Number\n",
      "62 is not a Happy Number\n",
      "63 is not a Happy Number\n",
      "64 is not a Happy Number\n",
      "65 is not a Happy Number\n",
      "66 is not a Happy Number\n",
      "67 is not a Happy Number\n",
      "68 is Happy Number\n",
      "69 is not a Happy Number\n",
      "70 is Happy Number\n",
      "71 is not a Happy Number\n",
      "72 is not a Happy Number\n",
      "73 is not a Happy Number\n",
      "74 is not a Happy Number\n",
      "75 is not a Happy Number\n",
      "76 is not a Happy Number\n",
      "77 is not a Happy Number\n",
      "78 is not a Happy Number\n",
      "79 is Happy Number\n",
      "80 is not a Happy Number\n",
      "81 is not a Happy Number\n",
      "82 is Happy Number\n",
      "83 is not a Happy Number\n",
      "84 is not a Happy Number\n",
      "85 is not a Happy Number\n",
      "86 is Happy Number\n",
      "87 is not a Happy Number\n",
      "88 is not a Happy Number\n",
      "89 is not a Happy Number\n",
      "90 is not a Happy Number\n",
      "91 is Happy Number\n",
      "92 is not a Happy Number\n",
      "93 is not a Happy Number\n",
      "94 is Happy Number\n",
      "95 is not a Happy Number\n",
      "96 is not a Happy Number\n",
      "97 is Happy Number\n",
      "98 is not a Happy Number\n",
      "99 is not a Happy Number\n",
      "100 is Happy Number\n"
     ]
    }
   ],
   "source": [
    "for n in range(0,101):\n",
    "    n_to_process = n\n",
    "    if n == 0:\n",
    "        print(f\"{n} is not a valid input\")\n",
    "    else:\n",
    "        while True:\n",
    "            if n_to_process == 1:\n",
    "                print(f\"{n} is Happy Number\")\n",
    "                break\n",
    "            elif n_to_process == 145:\n",
    "                print(f\"{n} is not a Happy Number\")\n",
    "                break\n",
    "            happy_check=0\n",
    "            for i in str(n_to_process):\n",
    "                happy_check += (int(i)*int(i))\n",
    "            n_to_process = happy_check"
   ]
  },
  {
   "cell_type": "code",
   "execution_count": 48,
   "id": "5061da58",
   "metadata": {},
   "outputs": [
    {
     "name": "stdout",
     "output_type": "stream",
     "text": [
      "82\n",
      "68\n",
      "100\n",
      "1\n",
      "19 is Happy Number\n"
     ]
    }
   ],
   "source": [
    "n = 19\n",
    "n_to_process = n\n",
    "while True:\n",
    "    if n_to_process == 1:\n",
    "        print(f\"{n} is Happy Number\")\n",
    "        break\n",
    "    L = []\n",
    "    for i in str(n_to_process):\n",
    "        L.append((int(i)*int(i)))\n",
    "    n_to_process = sum(L)\n",
    "    print(n_to_process)    "
   ]
  },
  {
   "cell_type": "code",
   "execution_count": null,
   "id": "23b2719e",
   "metadata": {},
   "outputs": [],
   "source": [
    "n = 769857698425784514537572845\n",
    "n_to_process = n\n",
    "while True:\n",
    "    if n_to_process == 1:\n",
    "        print(f\"{n} is Happy Number\")\n",
    "        break\n",
    "    happy_check=0\n",
    "    for i in str(n_to_process):\n",
    "        happy_check += (int(i)*int(i))\n",
    "    n_to_process = happy_check\n",
    "    print(n_to_process)    "
   ]
  },
  {
   "cell_type": "code",
   "execution_count": 57,
   "id": "3fa8e7cf",
   "metadata": {},
   "outputs": [],
   "source": [
    "n=0\n",
    "n_to_process = n\n",
    "while n!=0:\n",
    "    if n_to_process == 1:\n",
    "        print(f\"{n} is Happy Number\")\n",
    "        break\n",
    "    elif n_to_process == 145:\n",
    "        print(f\"{n} is not a Happy Number\")\n",
    "        break\n",
    "    happy_check=0\n",
    "    for i in str(n_to_process):\n",
    "        happy_check += (int(i)*int(i))\n",
    "    n_to_process = happy_check"
   ]
  },
  {
   "cell_type": "markdown",
   "id": "2f0a658a",
   "metadata": {},
   "source": [
    "# Maximum Subarray\n",
    "**Given an interger array `nums`, find the *subarray* with the largest *sum***.\n",
    "\n",
    "**Example:**\n",
    "\n",
    "- **Input:** nums = `[-2,1,-3,4,-1,2,1,-5,4]`\n",
    "- **Output:** `6`\n",
    "- **Explanation:** The subarray `[4,-1,2,1]` has the largest sum `6`."
   ]
  },
  {
   "cell_type": "code",
   "execution_count": 68,
   "id": "b04b76e1",
   "metadata": {},
   "outputs": [
    {
     "name": "stdout",
     "output_type": "stream",
     "text": [
      "Input: nums = [-2, 1, -3, 4, -1, 2, 1, -5, 4]\n",
      "Output: 6\n",
      "Explanation: The subarray [4, -1, 2, 1] \n",
      "\t\t has the largest sum 6.\n"
     ]
    }
   ],
   "source": [
    "from copy import deepcopy\n",
    "\n",
    "nums = [-2,1,-3,4,-1,2,1,-5,4]\n",
    "print(f\"Input: nums = {nums}\")\n",
    "index_flip=0\n",
    "Array_placeholder_for_total = []\n",
    "while nums != []:\n",
    "    nums_to_process = deepcopy(nums)\n",
    "    total=0\n",
    "    for i in nums:\n",
    "        total+=i\n",
    "    Array_placeholder_for_total.append((total,nums_to_process))\n",
    "    if index_flip == 0:\n",
    "        nums.pop(0)\n",
    "        index_flip = 1\n",
    "    elif index_flip == 1:\n",
    "        nums.pop(-1)\n",
    "        index_flip = 0\n",
    "\n",
    "print(f\"Output: {max(Array_placeholder_for_total)[0]}\")\n",
    "print(f\"\"\"Explanation: The subarray {max(Array_placeholder_for_total)[-1]} \n",
    "\\t\\t has the largest sum {max(Array_placeholder_for_total)[0]}.\"\"\")"
   ]
  },
  {
   "cell_type": "code",
   "execution_count": 42,
   "id": "7355ca1d",
   "metadata": {},
   "outputs": [],
   "source": [
    "from copy import deepcopy\n",
    "\n",
    "def max_subarray(nums):\n",
    "    index_flip=0\n",
    "    print(f\"Input: nums = {nums}\")\n",
    "    Array_placeholder_for_total = []\n",
    "    while nums != []:\n",
    "        nums_to_process = deepcopy(nums)\n",
    "        total=0\n",
    "        for i in nums:\n",
    "            total+=i\n",
    "        print(nums)\n",
    "        print(total)\n",
    "        Array_placeholder_for_total.append((total,nums_to_process))\n",
    "        if index_flip == 0:\n",
    "            nums.pop(0)\n",
    "            index_flip = 1\n",
    "        elif index_flip == 1:\n",
    "            nums.pop(-1)\n",
    "            index_flip = 0\n",
    "    print(f\"Output: {max(Array_placeholder_for_total)[0]}\")\n",
    "    print(f\"Explanation: The subarray {max(Array_placeholder_for_total)[-1]} has the largest sum {max(Array_placeholder_for_total)[0]}.\")"
   ]
  },
  {
   "cell_type": "code",
   "execution_count": 77,
   "id": "5c85052b",
   "metadata": {},
   "outputs": [
    {
     "name": "stdout",
     "output_type": "stream",
     "text": [
      "Input: nums = [-2, 1, -3, 4, -1, 2, 1, -5, 4]\n",
      "[-2, 1, -3, 4, -1, 2, 1, -5, 4]\n",
      "1\n",
      "[1, -3, 4, -1, 2, 1, -5, 4]\n",
      "3\n",
      "[1, -3, 4, -1, 2, 1, -5]\n",
      "-1\n",
      "[-3, 4, -1, 2, 1, -5]\n",
      "-2\n",
      "[-3, 4, -1, 2, 1]\n",
      "3\n",
      "[4, -1, 2, 1]\n",
      "6\n",
      "[4, -1, 2]\n",
      "5\n",
      "[-1, 2]\n",
      "1\n",
      "[-1]\n",
      "-1\n",
      "Output: 6\n",
      "Explanation: The subarray [4, -1, 2, 1] has the largest sum 6.\n"
     ]
    }
   ],
   "source": [
    "max_subarray([-2, 1, -3, 4, -1,2, 1, -5, 4])"
   ]
  },
  {
   "cell_type": "code",
   "execution_count": 77,
   "id": "c5fca974",
   "metadata": {},
   "outputs": [
    {
     "name": "stdout",
     "output_type": "stream",
     "text": [
      "-2\n",
      "-1\n",
      "-4\n",
      "0\n",
      "-1\n",
      "1\n",
      "2\n",
      "-3\n",
      "1\n"
     ]
    },
    {
     "data": {
      "text/plain": [
       "1"
      ]
     },
     "execution_count": 77,
     "metadata": {},
     "output_type": "execute_result"
    }
   ],
   "source": [
    "total=0\n",
    "nums = [-2,1,-3,4,-1,2,1,-5,4]\n",
    "for i in nums:\n",
    "    total+=i\n",
    "    print(total)\n",
    "total"
   ]
  },
  {
   "cell_type": "code",
   "execution_count": 145,
   "id": "ef98b8ae",
   "metadata": {},
   "outputs": [
    {
     "data": {
      "text/plain": [
       "[(1, []),\n",
       " (3, []),\n",
       " (-1, []),\n",
       " (-2, []),\n",
       " (3, []),\n",
       " (6, []),\n",
       " (5, []),\n",
       " (1, []),\n",
       " (-1, [])]"
      ]
     },
     "execution_count": 145,
     "metadata": {},
     "output_type": "execute_result"
    }
   ],
   "source": [
    "Array_placeholder_for_total"
   ]
  },
  {
   "cell_type": "code",
   "execution_count": 147,
   "id": "771ec837",
   "metadata": {},
   "outputs": [
    {
     "name": "stdout",
     "output_type": "stream",
     "text": [
      "[-2, 1, -3, 4, -1, 2, 1, -5, 4]\n",
      "1\n",
      "[(1, [-2, 1, -3, 4, -1, 2, 1, -5, 4])]\n",
      "[1, -3, 4, -1, 2, 1, -5, 4]\n",
      "3\n",
      "[(1, [1, -3, 4, -1, 2, 1, -5, 4]), (3, [1, -3, 4, -1, 2, 1, -5, 4])]\n",
      "[1, -3, 4, -1, 2, 1, -5]\n",
      "-1\n",
      "[(1, [1, -3, 4, -1, 2, 1, -5]), (3, [1, -3, 4, -1, 2, 1, -5]), (-1, [1, -3, 4, -1, 2, 1, -5])]\n",
      "[-3, 4, -1, 2, 1, -5]\n",
      "-2\n",
      "[(1, [-3, 4, -1, 2, 1, -5]), (3, [-3, 4, -1, 2, 1, -5]), (-1, [-3, 4, -1, 2, 1, -5]), (-2, [-3, 4, -1, 2, 1, -5])]\n",
      "[-3, 4, -1, 2, 1]\n",
      "3\n",
      "[(1, [-3, 4, -1, 2, 1]), (3, [-3, 4, -1, 2, 1]), (-1, [-3, 4, -1, 2, 1]), (-2, [-3, 4, -1, 2, 1]), (3, [-3, 4, -1, 2, 1])]\n",
      "[4, -1, 2, 1]\n",
      "6\n",
      "[(1, [4, -1, 2, 1]), (3, [4, -1, 2, 1]), (-1, [4, -1, 2, 1]), (-2, [4, -1, 2, 1]), (3, [4, -1, 2, 1]), (6, [4, -1, 2, 1])]\n",
      "[4, -1, 2]\n",
      "5\n",
      "[(1, [4, -1, 2]), (3, [4, -1, 2]), (-1, [4, -1, 2]), (-2, [4, -1, 2]), (3, [4, -1, 2]), (6, [4, -1, 2]), (5, [4, -1, 2])]\n",
      "[-1, 2]\n",
      "1\n",
      "[(1, [-1, 2]), (3, [-1, 2]), (-1, [-1, 2]), (-2, [-1, 2]), (3, [-1, 2]), (6, [-1, 2]), (5, [-1, 2]), (1, [-1, 2])]\n",
      "[-1]\n",
      "-1\n",
      "[(1, [-1]), (3, [-1]), (-1, [-1]), (-2, [-1]), (3, [-1]), (6, [-1]), (5, [-1]), (1, [-1]), (-1, [-1])]\n",
      "(6, [])\n"
     ]
    }
   ],
   "source": [
    "from copy import deepcopy\n",
    "\n",
    "index_flip=0\n",
    "nums = [-2,1,-3,4,-1,2,1,-5,4]\n",
    "Array_placeholder_for_total = []\n",
    "while nums != []:\n",
    "    total=0\n",
    "    for i in nums:\n",
    "        total+=i\n",
    "    print(nums)\n",
    "    print(total)\n",
    "    Array_placeholder_for_total.append((total,nums))\n",
    "    print(Array_placeholder_for_total)\n",
    "    if index_flip == 0:\n",
    "        nums.pop(0)\n",
    "        index_flip = 1\n",
    "    elif index_flip == 1:\n",
    "        nums.pop(-1)\n",
    "        index_flip = 0\n",
    "print(max(Array_placeholder_for_total))"
   ]
  },
  {
   "cell_type": "code",
   "execution_count": 11,
   "id": "c210711d",
   "metadata": {},
   "outputs": [
    {
     "name": "stdout",
     "output_type": "stream",
     "text": [
      "Input: nums = [-2, 1, -3, 4, -1, 2, 1, -5, 4]\n",
      "Output: 6\n",
      "Explanation: The subarray [4, -1, 2, 1] has the largest sum 6.\n"
     ]
    }
   ],
   "source": [
    "from copy import deepcopy\n",
    "\n",
    "index_flip=0\n",
    "nums = [-2,1,-3,4,-1,2,1,-5,4]\n",
    "print(f\"Input: nums = {nums}\")\n",
    "Array_placeholder_for_total = []\n",
    "while True:\n",
    "    nums_to_process = deepcopy(nums)\n",
    "    if nums == []:\n",
    "        break\n",
    "    total=0\n",
    "    for i in nums:\n",
    "        total+=i\n",
    "    #print(nums)\n",
    "    #print(total)\n",
    "    Array_placeholder_for_total.append((total,nums_to_process))\n",
    "    #print(Array_placeholder_for_total)\n",
    "    if index_flip == 0:\n",
    "        nums.pop(0)\n",
    "        index_flip = 1\n",
    "    elif index_flip == 1:\n",
    "        nums.pop(-1)\n",
    "        index_flip = 0\n",
    "print(f\"Output: {max(Array_placeholder_for_total)[0]}\")\n",
    "print(f\"Explanation: The subarray {max(Array_placeholder_for_total)[-1]} has the largest sum {max(Array_placeholder_for_total)[0]}.\")"
   ]
  },
  {
   "cell_type": "code",
   "execution_count": 134,
   "id": "8365a20f",
   "metadata": {},
   "outputs": [
    {
     "data": {
      "text/plain": [
       "[[], [], [], [], [], [], [], [], []]"
      ]
     },
     "execution_count": 134,
     "metadata": {},
     "output_type": "execute_result"
    }
   ],
   "source": [
    "empty_Array_for_subArray"
   ]
  },
  {
   "cell_type": "code",
   "execution_count": 79,
   "id": "0593201e",
   "metadata": {},
   "outputs": [
    {
     "data": {
      "text/plain": [
       "True"
      ]
     },
     "execution_count": 79,
     "metadata": {},
     "output_type": "execute_result"
    }
   ],
   "source": [
    "nums != []"
   ]
  },
  {
   "cell_type": "markdown",
   "id": "2256b865",
   "metadata": {},
   "source": [
    "# Max Consecutive Ones III\n",
    "\n",
    "Given a binary array `nums` and an integer `k`, return \n",
    "\n",
    "*the maximum number of consecutive `1`'s in the array if you can flip at most `k` `0`'s.*\n",
    "\n",
    "**Input: nums** = [1,1,1,0,0,0,1,1,1,1,0]\n",
    "\n",
    "**k** = 2\n",
    "\n",
    "**Output:** 6\n",
    "\n",
    "**Explanation:**[1,1,1,0,0,`1`,1,1,1,1,`1`]\n"
   ]
  },
  {
   "cell_type": "code",
   "execution_count": 3,
   "id": "53b01871",
   "metadata": {},
   "outputs": [
    {
     "data": {
      "text/plain": [
       "6"
      ]
     },
     "execution_count": 3,
     "metadata": {},
     "output_type": "execute_result"
    }
   ],
   "source": [
    "import sys\n",
    "\n",
    "nums = [1,1,1,0,0,0,1,1,1,1,0]\n",
    "k = 2\n",
    "ph_dic = {}\n",
    "ph_arr = []\n",
    "ph_arr_inv = []\n",
    "ph_arr_main = []\n",
    "ph_unique_arr = []\n",
    "\n",
    "def get_highest_key(d):\n",
    "    return max(d.keys()) if d else float('-inf')\n",
    "\n",
    "for i in nums:\n",
    "    ph_dic[i] = ph_dic.get(i,0) + 1\n",
    "    if i == 0:\n",
    "        ph_arr.append(ph_dic)    \n",
    "        ph_dic = {}\n",
    "    if i == 1:\n",
    "        ph_arr.append(ph_dic)  \n",
    "\n",
    "for i in ph_arr:\n",
    "    if len(i) == 1:\n",
    "        ph_unique_arr.append(i)\n",
    "    if i not in ph_unique_arr: \n",
    "        ph_unique_arr.append(i)\n",
    "\n",
    "for i in ph_unique_arr:\n",
    "    ph_arr_inv.append({val_freq: key for key, val_freq in i.items()})\n",
    "\n",
    "sorted_data = sorted(ph_arr_inv, key=get_highest_key, reverse=False)\n",
    "\n",
    "if len(sorted_data[-1]) == 1:\n",
    "    k-=1\n",
    "    print(\"Not valid because there's no two 0's next to max consecutive 1s\")\n",
    "    sys.exit()\n",
    "\n",
    "for i in ph_arr_inv:\n",
    "    for value,key in i.items():\n",
    "        if key == 1:\n",
    "            ph_arr_main.append(value)\n",
    "\n",
    "max(ph_arr_main)+k\n"
   ]
  },
  {
   "cell_type": "code",
   "execution_count": 150,
   "id": "f327b60d",
   "metadata": {},
   "outputs": [
    {
     "data": {
      "text/plain": [
       "6"
      ]
     },
     "execution_count": 150,
     "metadata": {},
     "output_type": "execute_result"
    }
   ],
   "source": [
    "nums = [1,1,1,0,0,0,1,1,1,1,0]\n",
    "ph_dic = {}\n",
    "ph_arr = []\n",
    "ph_arr_inv = []\n",
    "ph_arr_main = []\n",
    "for i in nums:\n",
    "    ph_dic[i] = ph_dic.get(i,0) + 1\n",
    "    if i != 1:\n",
    "        ph_arr.append(ph_dic)\n",
    "        ph_dic = {}\n",
    "for i in ph_arr:\n",
    "    ph_arr_inv.append({val_freq: key for key, val_freq in i.items()})\n",
    "for i in ph_arr_inv:\n",
    "    for value,key in i.items():\n",
    "        if key == 1 and len(i.items())>1:\n",
    "            ph_arr_main.append(value)\n",
    "max(ph_arr_main)+2 \n"
   ]
  },
  {
   "cell_type": "code",
   "execution_count": 152,
   "id": "da0d3c84",
   "metadata": {},
   "outputs": [
    {
     "data": {
      "text/plain": [
       "6"
      ]
     },
     "execution_count": 152,
     "metadata": {},
     "output_type": "execute_result"
    }
   ],
   "source": [
    "nums = [1,1,1,0,0,0,1,1,1,1,0]\n",
    "k = 2\n",
    "ph_dic = {}\n",
    "ph_arr = []\n",
    "ph_arr_inv = []\n",
    "for i in nums:\n",
    "    ph_dic[i] = ph_dic.get(i,0) + 1\n",
    "    if i != 1:\n",
    "        ph_arr.append(ph_dic)\n",
    "        ph_dic = {}\n",
    "for i in ph_arr:\n",
    "    ph_arr_inv.append({val_freq: key for key, val_freq in i.items()})\n",
    "ph_arr = []    \n",
    "for i in ph_arr_inv:\n",
    "    for value,key in i.items():\n",
    "        if key == 1 and len(i.items())>1:\n",
    "            ph_arr.append(value)\n",
    "max(ph_arr)+k\n"
   ]
  },
  {
   "cell_type": "code",
   "execution_count": 179,
   "id": "4d33028a",
   "metadata": {},
   "outputs": [
    {
     "name": "stdout",
     "output_type": "stream",
     "text": [
      "[{1: 3, 0: 1}, {1: 3, 0: 1}, {1: 3, 0: 1}, {1: 4, 0: 1}, {1: 4, 0: 1}, {1: 4, 0: 1}, {1: 4, 0: 1}]\n"
     ]
    }
   ],
   "source": [
    "nums = [1,1,1,0,0,0,1,1,1,1,0]\n",
    "ph_dic = {}\n",
    "ph_arr = []\n",
    "ph_arr_inv = []\n",
    "ph_arr_main = []\n",
    "for i in nums:\n",
    "    ph_dic[i] = ph_dic.get(i,0) + 1\n",
    "    if i == 1:\n",
    "        ph_arr.append(ph_dic)\n",
    "    elif i == 0:\n",
    "        #ph_arr.append(ph_dic)     \n",
    "        ph_dic = {}\n",
    "print(ph_arr)\n"
   ]
  },
  {
   "cell_type": "code",
   "execution_count": 261,
   "id": "b29ee918",
   "metadata": {},
   "outputs": [
    {
     "name": "stdout",
     "output_type": "stream",
     "text": [
      "[{1: 3, 0: 1}, {1: 3, 0: 1}, {1: 3, 0: 1}, {1: 3, 0: 1}, {0: 1}, {0: 1}, {1: 4}, {1: 4}, {1: 4}, {1: 4}]\n"
     ]
    }
   ],
   "source": [
    "nums = [1,1,1,0,0,0,1,1,1,1]\n",
    "ph_dic = {}\n",
    "ph_arr = []\n",
    "ph_arr_inv = []\n",
    "ph_arr_main = []\n",
    "for i in nums:\n",
    "    ph_dic[i] = ph_dic.get(i,0) + 1\n",
    "    if i == 0:\n",
    "        ph_arr.append(ph_dic)    \n",
    "        ph_dic = {}\n",
    "    if i == 1:\n",
    "        ph_arr.append(ph_dic)  \n",
    "print(ph_arr)\n"
   ]
  },
  {
   "cell_type": "code",
   "execution_count": 250,
   "id": "e3473f10",
   "metadata": {},
   "outputs": [
    {
     "name": "stdout",
     "output_type": "stream",
     "text": [
      "0 {1: 3, 0: 1}\n",
      "1 {1: 3, 0: 1}\n",
      "2 {1: 3, 0: 1}\n",
      "3 {1: 3, 0: 1}\n",
      "4 {0: 1}\n",
      "5 {0: 1}\n",
      "6 {1: 4, 0: 1}\n",
      "7 {1: 4, 0: 1}\n",
      "8 {1: 4, 0: 1}\n",
      "9 {1: 4, 0: 1}\n",
      "10 {1: 4, 0: 1}\n",
      "11 {0: 1}\n",
      "12 {1: 1}\n"
     ]
    },
    {
     "data": {
      "text/plain": [
       "[{1: 3, 0: 1}, {0: 1}, {0: 1}, {1: 4, 0: 1}, {0: 1}, {1: 1}]"
      ]
     },
     "execution_count": 250,
     "metadata": {},
     "output_type": "execute_result"
    }
   ],
   "source": [
    "ph_unique_arr = [{}]\n",
    "for idx,i in enumerate(ph_arr):\n",
    "    print(idx,i)\n",
    "    if ph_unique_arr[-1] == i and len(i)>1:\n",
    "        pass\n",
    "    else:\n",
    "        ph_unique_arr.append(i)\n",
    "del ph_unique_arr[0]\n",
    "ph_unique_arr"
   ]
  },
  {
   "cell_type": "code",
   "execution_count": 244,
   "id": "d4b6087c",
   "metadata": {},
   "outputs": [
    {
     "name": "stdout",
     "output_type": "stream",
     "text": [
      "{1: 3, 0: 1}\n",
      "{3: 1, 1: 0}\n",
      "{0: 1}\n",
      "{1: 0}\n",
      "{0: 1}\n",
      "{1: 0}\n",
      "{1: 4, 0: 1}\n",
      "{4: 1, 1: 0}\n",
      "{0: 1}\n",
      "{1: 0}\n",
      "{1: 1}\n",
      "{1: 1}\n"
     ]
    }
   ],
   "source": [
    "for i in ph_unique_arr:\n",
    "    print(i)\n",
    "    print({val_freq: key for key, val_freq in i.items()})\n",
    "    ph_arr_inv.append({val_freq: key for key, val_freq in i.items()})"
   ]
  },
  {
   "cell_type": "code",
   "execution_count": 155,
   "id": "e41f4f5c",
   "metadata": {},
   "outputs": [
    {
     "name": "stdout",
     "output_type": "stream",
     "text": [
      "{1: 3, 0: 1}\n",
      "{3: 1, 1: 0}\n",
      "{0: 1}\n",
      "{1: 0}\n",
      "{0: 1}\n",
      "{1: 0}\n"
     ]
    }
   ],
   "source": [
    "for i in ph_arr:\n",
    "    print(i)\n",
    "    print({val_freq: key for key, val_freq in i.items()})\n",
    "    ph_arr_inv.append({val_freq: key for key, val_freq in i.items()})"
   ]
  },
  {
   "cell_type": "code",
   "execution_count": 247,
   "id": "448f571d",
   "metadata": {},
   "outputs": [
    {
     "name": "stdout",
     "output_type": "stream",
     "text": [
      "{3: 1, 1: 0}\n",
      "dict_items([(3, 1), (1, 0)])\n",
      "3 1\n",
      "{1: 0}\n",
      "{1: 0}\n",
      "{4: 1, 1: 0}\n",
      "dict_items([(4, 1), (1, 0)])\n",
      "4 1\n",
      "{1: 0}\n",
      "{1: 1}\n",
      "dict_items([(1, 1)])\n",
      "1 1\n"
     ]
    },
    {
     "data": {
      "text/plain": [
       "6"
      ]
     },
     "execution_count": 247,
     "metadata": {},
     "output_type": "execute_result"
    }
   ],
   "source": [
    "ph_arr_main = []\n",
    "for i in ph_arr_inv:\n",
    "    print(i)\n",
    "    for value,key in i.items():\n",
    "        #print(len(i.items()))\n",
    "        if key == 1:# and len(i.items())>1:\n",
    "            print(i.items())\n",
    "            print(value,key)\n",
    "            ph_arr_main.append(value)\n",
    "max(ph_arr_main)+2 \n"
   ]
  },
  {
   "cell_type": "code",
   "execution_count": 94,
   "id": "5150cddd",
   "metadata": {},
   "outputs": [
    {
     "data": {
      "text/plain": [
       "{4: 1, 1: 0}"
      ]
     },
     "execution_count": 94,
     "metadata": {},
     "output_type": "execute_result"
    }
   ],
   "source": [
    "ph_dic = {1: 4, 0: 1}\n",
    "invert_dic = {val_freq: key for key, val_freq in ph_dic.items()}\n",
    "invert_dic"
   ]
  },
  {
   "cell_type": "code",
   "execution_count": 339,
   "id": "75c0814f",
   "metadata": {},
   "outputs": [
    {
     "data": {
      "text/plain": [
       "6"
      ]
     },
     "execution_count": 339,
     "metadata": {},
     "output_type": "execute_result"
    }
   ],
   "source": [
    "nums = [1,1,1,0,0,0,1,1,1,1,0]\n",
    "k = 2\n",
    "ph_dic = {}\n",
    "ph_arr = []\n",
    "ph_arr_inv = []\n",
    "ph_arr_main = []\n",
    "ph_unique_arr = []\n",
    "\n",
    "def get_highest_key(d):\n",
    "    return max(d.keys()) if d else float('-inf')\n",
    "\n",
    "for i in nums:\n",
    "    ph_dic[i] = ph_dic.get(i,0) + 1\n",
    "    if i == 0:\n",
    "        ph_arr.append(ph_dic)    \n",
    "        ph_dic = {}\n",
    "    if i == 1:\n",
    "        ph_arr.append(ph_dic)  \n",
    "\n",
    "for i in ph_arr:\n",
    "    if len(i) == 1:\n",
    "        ph_unique_arr.append(i)\n",
    "    if i not in ph_unique_arr: \n",
    "        ph_unique_arr.append(i)\n",
    "\n",
    "for i in ph_unique_arr:\n",
    "    ph_arr_inv.append({val_freq: key for key, val_freq in i.items()})\n",
    "\n",
    "sorted_data = sorted(ph_arr_inv, key=get_highest_key, reverse=False)\n",
    "\n",
    "if len(sorted_data[-1]) == 1:\n",
    "    k-=1\n",
    "\n",
    "for i in ph_arr_inv:\n",
    "    for value,key in i.items():\n",
    "        if key == 1:\n",
    "            ph_arr_main.append(value)\n",
    "\n",
    "max(ph_arr_main)+k\n"
   ]
  },
  {
   "cell_type": "code",
   "execution_count": 335,
   "id": "8f159268",
   "metadata": {},
   "outputs": [
    {
     "data": {
      "text/plain": [
       "True"
      ]
     },
     "execution_count": 335,
     "metadata": {},
     "output_type": "execute_result"
    }
   ],
   "source": [
    "len(sorted_data[-1]) == 1"
   ]
  },
  {
   "cell_type": "code",
   "execution_count": 315,
   "id": "24672789",
   "metadata": {},
   "outputs": [
    {
     "name": "stdout",
     "output_type": "stream",
     "text": [
      "[{1: 0}, {1: 0}, {3: 1, 1: 0}, {5: 1}]\n"
     ]
    }
   ],
   "source": [
    "# Sample list of dictionaries\n",
    "data = [{3: 1, 1: 0}, {1: 0}, {5: 1}, {1: 0}]\n",
    "\n",
    "# Function to get the highest key from a dictionary\n",
    "def get_highest_key(d):\n",
    "    return max(d.keys()) if d else float('-inf')\n",
    "\n",
    "# Sort the list of dictionaries by the highest key in each dictionary\n",
    "sorted_data = sorted(data, key=get_highest_key, reverse=False)\n",
    "\n",
    "print(sorted_data)\n"
   ]
  },
  {
   "cell_type": "markdown",
   "id": "968a7796",
   "metadata": {},
   "source": [
    "# Jewels and Stones\n",
    "\n",
    "You're given strings `jewels` representing the types of stones that are jewels, \n",
    "\n",
    "and `stones` representing the stones you have. Each character in `stones` is a type of stone you have. \n",
    "\n",
    "You want to know how many of the stones you have are also jewels.\n",
    "\n",
    "Letters are case sensitive, so `\"a\"` is considered a different type of stone from `\"A\"`.\n",
    "\n",
    "## Example 1:\n",
    "- **Input:** `jewels = \"aA\"`, `stones = \"aAAbbbb\"`\n",
    "- **Output:** `3`\n",
    "\n",
    "## Example 2:\n",
    "- **Input:** `jewels = \"z\"`, `stones = \"ZZ\"`\n",
    "- **Output:** `0`"
   ]
  },
  {
   "cell_type": "code",
   "execution_count": 27,
   "id": "3f459335",
   "metadata": {},
   "outputs": [
    {
     "name": "stdout",
     "output_type": "stream",
     "text": [
      "\n",
      "Input: jewels = \"aA\", stones = \"aAAbbbb\"\n",
      "Output: 3\n",
      "\n",
      "Input: jewels = \"z\", stones = \"ZZ\"\n",
      "Output: 0\n"
     ]
    }
   ],
   "source": [
    "def jewels_stones(jewels,stones):\n",
    "    cntr = 0\n",
    "    for i in jewels:\n",
    "        for j in stones:\n",
    "            if i == j:\n",
    "                cntr += 1\n",
    "    return f'\\nInput: jewels = \"{jewels}\", stones = \"{stones}\"\\nOutput: {cntr}'\n",
    "\n",
    "print(jewels_stones(jewels=\"aA\",stones=\"aAAbbbb\"))\n",
    "print(jewels_stones(jewels=\"z\",stones=\"ZZ\"))"
   ]
  },
  {
   "cell_type": "code",
   "execution_count": 24,
   "id": "f3952d45",
   "metadata": {},
   "outputs": [
    {
     "name": "stdout",
     "output_type": "stream",
     "text": [
      "\n",
      "Input: jewels = \"aA\", stones = \"aAAbbbb\"\n",
      "Output: 3\n",
      "\n",
      "Input: jewels = \"z\", stones = \"ZZ\"\n",
      "Output: 0\n"
     ]
    }
   ],
   "source": [
    "class Solution:\n",
    "    def jewels_stones(self, jewels, stones):\n",
    "        cntr = 0\n",
    "        for i in jewels:\n",
    "            for j in stones:\n",
    "                if i == j:\n",
    "                    cntr += 1\n",
    "        return f'\\nInput: jewels = \"{jewels}\", stones = \"{stones}\"\\nOutput: {cntr}'\n",
    "\n",
    "# Create an instance of the Solution class\n",
    "solution = Solution()\n",
    "\n",
    "# Call the method with the required parameters\n",
    "print(solution.jewels_stones(jewels=\"aA\", stones=\"aAAbbbb\"))\n",
    "print(solution.jewels_stones(jewels=\"z\", stones=\"ZZ\"))\n"
   ]
  },
  {
   "cell_type": "markdown",
   "id": "9e93b436",
   "metadata": {},
   "source": [
    "## Reverse Polish Notation\n",
    "##### Example 1:\n",
    "- **Input:** `tokens = [\"2\",\"1\",\"+\",\"3\",\"*\"]`\n",
    "- **Output:** `9`\n",
    "- **Explanation:** `((2 + 1) * 3) = 9`\n",
    "\n",
    "##### Example 2:\n",
    "- **Input:** `tokens = [\"6\",\"9\",\"+\",\"3\",\"/\"]`\n",
    "- **Output:** `5`\n",
    "- **Explanation:** `((6 + 9) / 3) = 5`"
   ]
  },
  {
   "cell_type": "code",
   "execution_count": 73,
   "id": "25b929b4",
   "metadata": {},
   "outputs": [
    {
     "name": "stdout",
     "output_type": "stream",
     "text": [
      "Input: tokens = ['2', '1', '+', '3', '*']\n",
      "Output: 9\n",
      "\n",
      "Input: tokens = ['6', '9', '+', '3', '/']\n",
      "Output: 5\n"
     ]
    }
   ],
   "source": [
    "class Reverse_Polish_Notation_Solution:\n",
    "    \n",
    "    def reverse_polish_notation(self,tokens):\n",
    "\n",
    "        operators = ('+','-','*','/')\n",
    "        ph_arr = []\n",
    "        ph_main_arr = []\n",
    "\n",
    "        for i in tokens:\n",
    "            if i not in operators:\n",
    "                ph_arr.append(i)\n",
    "            elif i in operators:\n",
    "                ph_main_arr.append((i,ph_arr))\n",
    "                ph_arr = []\n",
    "\n",
    "        total_int = 0\n",
    "        for operator,string_int_array in ph_main_arr:\n",
    "            if operator == '+' and len(string_int_array) > 1:\n",
    "                for string_int in string_int_array:\n",
    "                    total_int += int(string_int)\n",
    "            elif len(string_int_array) == 1 and operator == '*':\n",
    "                for string_int in string_int_array:\n",
    "                    total_int = total_int * int(string_int)\n",
    "            elif len(string_int_array) == 1 and operator == '/':\n",
    "                for string_int in string_int_array:\n",
    "                    total_int = int(total_int / int(string_int))\n",
    "\n",
    "        return f'Input: tokens = {tokens}\\nOutput: {total_int}'\n",
    "    \n",
    "solution = Reverse_Polish_Notation_Solution()    \n",
    "\n",
    "print(solution.reverse_polish_notation([\"2\",\"1\",\"+\",\"3\",\"*\"]))\n",
    "print()\n",
    "print(solution.reverse_polish_notation([\"6\",\"9\",\"+\",\"3\",\"/\"]))"
   ]
  },
  {
   "cell_type": "code",
   "execution_count": null,
   "id": "562a5d09",
   "metadata": {},
   "outputs": [
    {
     "name": "stdout",
     "output_type": "stream",
     "text": [
      "[('+', ['2', '1']), ('*', ['3'])]\n",
      "9\n"
     ]
    }
   ],
   "source": [
    "tokens = [\"2\",\"1\",\"+\",\"3\",\"*\"]\n",
    "operators = ('+','-','*','/')\n",
    "ph_arr = []\n",
    "ph_main_arr = []\n",
    "\n",
    "for i in tokens:\n",
    "    if i not in operators:\n",
    "        ph_arr.append(i)\n",
    "    elif i in operators:\n",
    "        ph_main_arr.append((i,ph_arr))\n",
    "        ph_arr = []\n",
    "\n",
    "print(ph_main_arr)\n",
    "total_int = 0\n",
    "for operator,string_int_array in ph_main_arr:\n",
    "    #for string_int in string_int_array:\n",
    "        #print(operator,string_int)\n",
    "    if operator == '+' and len(string_int_array) > 1:\n",
    "        for string_int in string_int_array:\n",
    "            total_int += int(string_int)\n",
    "    elif len(string_int_array) == 1 and operator == '*':\n",
    "        for string_int in string_int_array:\n",
    "            total_int = total_int * int(string_int)\n",
    "    elif len(string_int_array) == 1 and operator == '/':\n",
    "        for string_int in string_int_array:\n",
    "            total_int = int(total_int / int(string_int))\n",
    "\n",
    "print(total_int)\n"
   ]
  },
  {
   "cell_type": "markdown",
   "id": "c792aac7",
   "metadata": {},
   "source": [
    "# 75 Leetcode Questions"
   ]
  },
  {
   "cell_type": "markdown",
   "id": "e4fa091c",
   "metadata": {},
   "source": [
    "## 1. Two Sum \n",
    "\n",
    "Given an array of integers `nums` and an integer `target`, return the indices of the two numbers such that they add up to `target`.\n",
    "\n",
    "You may assume that each input will have exactly one solution, and you may not use the same element twice.\n",
    "\n",
    "You can return the answer in any order.\n",
    "\n",
    "### Example 1:\n",
    "- **Input:** `nums = [2, 7, 11, 15]`, `target = 9`\n",
    "- **Output:** `[0, 1]`\n",
    "- **Explanation:** Because `nums[0] + nums[1] == 9`, we return `[0, 1]`.\n",
    "\n",
    "### Example 2:\n",
    "- **Input:** `nums = [3, 2, 4]`, `target = 6`\n",
    "- **Output:** `[1, 2]`\n",
    "\n",
    "### Example 3:\n",
    "- **Input:** `nums = [3, 3]`, `target = 6`\n",
    "- **Output:** `[0, 1]`"
   ]
  },
  {
   "cell_type": "code",
   "execution_count": 30,
   "id": "437a4977",
   "metadata": {},
   "outputs": [
    {
     "name": "stdout",
     "output_type": "stream",
     "text": [
      "Input: nums = [2, 7, 11, 15], target = 9\n",
      "Output: [0, 1]\n",
      "\n",
      "Input: nums = [3, 2, 4], target = 6\n",
      "Output: [1, 2]\n",
      "\n",
      "Input: nums = [3, 3], target = 6\n",
      "Output: [0, 1]\n"
     ]
    }
   ],
   "source": [
    "class Solution(object):\n",
    "\n",
    "    def twoSum(self,nums,target):\n",
    "        output = []\n",
    "        for idx,i in enumerate(nums):\n",
    "            for j in nums:\n",
    "                if i+j == target and i != j:\n",
    "                    if idx not in output:\n",
    "                        output.append(idx)\n",
    "                elif len(nums) == 2 and i == j:\n",
    "                    if idx not in output:\n",
    "                        output.append(idx)\n",
    "        return f\"Input: nums = {nums}, target = {target}\\nOutput: {output}\"\n",
    "\n",
    "solution = Solution()\n",
    "\n",
    "print(solution.twoSum([2, 7, 11, 15],9))\n",
    "print()\n",
    "print(solution.twoSum([3, 2, 4],6))\n",
    "print()\n",
    "print(solution.twoSum([3, 3],6))"
   ]
  },
  {
   "cell_type": "code",
   "execution_count": 5,
   "id": "c57e0a0e",
   "metadata": {},
   "outputs": [
    {
     "name": "stdout",
     "output_type": "stream",
     "text": [
      "0 2 7\n",
      "1 7 2\n",
      "[0, 1]\n"
     ]
    }
   ],
   "source": [
    "nums = [2, 7, 11, 15]\n",
    "target = 9\n",
    "output = []\n",
    "\n",
    "for idx,i in enumerate(nums):\n",
    "    for j in nums:\n",
    "        if i+j == target:\n",
    "            print(idx,i,j)\n",
    "            output.append(idx)\n",
    "\n",
    "print(output)            "
   ]
  },
  {
   "cell_type": "code",
   "execution_count": 14,
   "id": "ef118837",
   "metadata": {},
   "outputs": [
    {
     "name": "stdout",
     "output_type": "stream",
     "text": [
      "1 2 4\n",
      "2 4 2\n",
      "[1, 2]\n"
     ]
    }
   ],
   "source": [
    "nums = [3, 2, 4]\n",
    "target = 6\n",
    "output = []\n",
    "\n",
    "for idx,i in enumerate(nums):\n",
    "    for j in nums:\n",
    "        if i+j == target and i != j:\n",
    "            print(idx,i,j)\n",
    "            output.append(idx)\n",
    "\n",
    "print(output)            "
   ]
  },
  {
   "cell_type": "markdown",
   "id": "b47711e2",
   "metadata": {},
   "source": [
    "# 121. Best Time to Buy and Sell Stock\n",
    "\n",
    "You are given an array `prices` where `prices[i]` is the price of a given stock on the ith day.\n",
    "\n",
    "You want to maximize your profit by choosing a single day to buy one stock and choosing a different day in the future to sell that stock.\n",
    "\n",
    "Return the maximum profit you can achieve from this transaction. If you cannot achieve any profit, return 0.\n",
    "\n",
    "## Example 1:\n",
    "- **Input:** `prices = [7, 1, 5, 3, 6, 4]`\n",
    "- **Output:** `5`\n",
    "- **Explanation:** Buy on day 2 (price = 1) and sell on day 5 (price = 6), profit = 6 - 1 = 5. \n",
    "\n",
    "  Note that buying on day 2 and selling on day 1 is not allowed because you must buy before you sell.\n",
    "\n",
    "## Example 2:\n",
    "- **Input:** `prices = [7, 6, 4, 3, 1]`\n",
    "- **Output:** `0`\n",
    "- **Explanation:** In this case, no transactions are done and the max profit = 0.\n"
   ]
  },
  {
   "cell_type": "code",
   "execution_count": 75,
   "id": "0e321b72",
   "metadata": {},
   "outputs": [
    {
     "name": "stdout",
     "output_type": "stream",
     "text": [
      "Input: prices = [7, 1, 5, 3, 6, 4]\n",
      "Output: 5\n",
      "Explanation: Buy on day 2 (price = 1) and sell on day 5 (price = 6), profit = 6 - 1 = 5\n",
      "\n",
      "Input: prices = [7, 6, 4, 3, 1]\n",
      "Output: 0\n",
      "Explanation: In this case, no transactions are done and the max profit = 0\n"
     ]
    }
   ],
   "source": [
    "class Solution(object):\n",
    "    def maxProfit(self, prices):\n",
    "        new_prices = prices[prices.index(min(prices)):]\n",
    "        new_price_max_val = new_prices[new_prices.index(max(new_prices))]\n",
    "        if new_price_max_val - new_prices[0] > 0:\n",
    "            return f\"\"\"Input: prices = {prices}\n",
    "Output: {new_price_max_val - new_prices[0]}\n",
    "Explanation: Buy on day {prices.index(min(prices))+1} (price = {prices[prices.index(min(prices))]}) and sell on day {prices.index(new_price_max_val)+1} (price = {new_prices[new_prices.index(max(new_prices))]}), profit = {new_price_max_val} - {new_prices[0]} = {new_price_max_val - new_prices[0]}\"\"\"\n",
    "        else:\n",
    "            return f\"Input: prices = {prices}\\nOutput: {new_price_max_val - new_prices[0]}\\nExplanation: In this case, no transactions are done and the max profit = {new_price_max_val - new_prices[0]}\"\n",
    "\n",
    "solution = Solution()\n",
    "\n",
    "print(solution.maxProfit([7, 1, 5, 3, 6, 4]))\n",
    "print()\n",
    "print(solution.maxProfit([7, 6, 4, 3, 1]))"
   ]
  },
  {
   "cell_type": "code",
   "execution_count": 48,
   "id": "6f7ade7f",
   "metadata": {},
   "outputs": [
    {
     "name": "stdout",
     "output_type": "stream",
     "text": [
      "1\n",
      "7\n",
      "1\n",
      "0\n",
      "[1, 5, 3, 6, 4]\n",
      "7\n"
     ]
    },
    {
     "data": {
      "text/plain": [
       "5"
      ]
     },
     "execution_count": 48,
     "metadata": {},
     "output_type": "execute_result"
    }
   ],
   "source": [
    "prices = [7, 1, 5, 3, 6, 4]\n",
    "\n",
    "print(min(prices))\n",
    "print(max(prices))\n",
    "print(prices.index(min(prices)))\n",
    "print(prices.index(max(prices)))\n",
    "print(prices[prices.index(min(prices)):])\n",
    "print(prices[prices.index(max(prices))])\n",
    "\n",
    "new_prices = prices[prices.index(min(prices)):]\n",
    "new_prices[new_prices.index(max(new_prices))] - new_prices[0]"
   ]
  },
  {
   "cell_type": "code",
   "execution_count": 49,
   "id": "9cbfbfe5",
   "metadata": {},
   "outputs": [
    {
     "name": "stdout",
     "output_type": "stream",
     "text": [
      "1\n",
      "7\n",
      "4\n",
      "0\n",
      "[1]\n",
      "7\n"
     ]
    },
    {
     "data": {
      "text/plain": [
       "0"
      ]
     },
     "execution_count": 49,
     "metadata": {},
     "output_type": "execute_result"
    }
   ],
   "source": [
    "prices = [7, 6, 4, 3, 1]\n",
    "\n",
    "print(min(prices))\n",
    "print(max(prices))\n",
    "print(prices.index(min(prices)))\n",
    "print(prices.index(max(prices)))\n",
    "print(prices[prices.index(min(prices)):])\n",
    "print(prices[prices.index(max(prices))])\n",
    "\n",
    "new_prices = prices[prices.index(min(prices)):]\n",
    "new_prices[new_prices.index(max(new_prices))] - new_prices[0]"
   ]
  },
  {
   "cell_type": "markdown",
   "id": "40c8dc1a",
   "metadata": {},
   "source": [
    "# 217. Contains Duplicate\n",
    "\n",
    "Given an integer array `nums`, return `true` if any value appears at least twice in the array, and return `false` if every element is distinct.\n",
    "\n",
    "## Example 1:\n",
    "- **Input:** `nums = [1, 2, 3, 1]`\n",
    "- **Output:** `true`\n",
    "- **Explanation:** The element `1` occurs at indices 0 and 3.\n",
    "\n",
    "## Example 2:\n",
    "- **Input:** `nums = [1, 2, 3, 4]`\n",
    "- **Output:** `false`\n",
    "- **Explanation:** All elements are distinct.\n",
    "\n",
    "## Example 3:\n",
    "- **Input:** `nums = [1, 1, 1, 3, 3, 4, 3, 2, 4, 2]`\n",
    "- **Output:** `true`\n"
   ]
  },
  {
   "cell_type": "code",
   "execution_count": 157,
   "id": "9c0f25cb",
   "metadata": {},
   "outputs": [
    {
     "name": "stdout",
     "output_type": "stream",
     "text": [
      "Input: nums = [1, 2, 3, 1]\n",
      "Output: True\n",
      "Explanation: The element 1 occurs at indices 0 and 3.\n",
      "\n",
      "Input: nums = [1, 2, 3, 4]\n",
      "Output: False\n",
      "Explanation: All elements are distinct.\n",
      "\n",
      "Input: nums = [1, 1, 1, 3, 3, 4, 3, 2, 4, 2]\n",
      "Output: True\n"
     ]
    }
   ],
   "source": [
    "class Solution(object):\n",
    "\n",
    "    def contains_duplicate(self,nums):\n",
    "        ph_dict = {}\n",
    "        ph_arr,ph_arr_dups,ph_arr_dups_main = [],[],[]\n",
    "            \n",
    "        def append_ph_arr_dups_main(ph_arr,ph_arr_dups):\n",
    "            for arr_i,arr_j in ph_arr:\n",
    "                for arr_dup_i,arr_dup_j in ph_arr_dups:\n",
    "                    if arr_dup_i == arr_j:\n",
    "                        ph_arr_dups_main.append((arr_i,arr_j))\n",
    "\n",
    "        def process_ph_arr_dups_main(ph_arr_dups_main):\n",
    "            if len(ph_arr_dups_main) == 2:\n",
    "                return f\"{ph_arr_dups_main[0][0]} and {ph_arr_dups_main[1][0]}.\"\n",
    "\n",
    "        for idx,i in enumerate(nums):\n",
    "            ph_dict[i] = ph_dict.get(i,0) + 1\n",
    "            ph_arr.append((idx,i))\n",
    "\n",
    "        for i,j in ph_dict.items():\n",
    "            if j>1:\n",
    "                ph_arr_dups.append((i,j))\n",
    "\n",
    "        if len(ph_arr_dups) == 1:\n",
    "            append_ph_arr_dups_main(ph_arr,ph_arr_dups)\n",
    "            return f\"Input: nums = {nums}\\nOutput: {True}\\nExplanation: The element {ph_arr_dups[0][0]} occurs at indices {process_ph_arr_dups_main(ph_arr_dups_main)}\"\n",
    "        elif len(ph_arr_dups) > 1:\n",
    "            append_ph_arr_dups_main(ph_arr,ph_arr_dups)\n",
    "            return f\"Input: nums = {nums}\\nOutput: {True}\"\n",
    "        return f\"Input: nums = {nums}\\nOutput: {False}\\nExplanation: All elements are distinct.\"\n",
    "\n",
    "solution = Solution()  \n",
    "\n",
    "print(solution.contains_duplicate([1,2,3,1]))    \n",
    "print()    \n",
    "print(solution.contains_duplicate([1,2,3,4])) \n",
    "print()\n",
    "print(solution.contains_duplicate([1,1,1,3,3,4,3,2,4,2])) "
   ]
  },
  {
   "cell_type": "code",
   "execution_count": 308,
   "id": "b67e76c3",
   "metadata": {},
   "outputs": [
    {
     "name": "stdout",
     "output_type": "stream",
     "text": [
      "position in 0, 1, and 2 for value:`1`, position in 7, and 9 for value:`2`, position in 3, 4, and 6 for value:`3`, and position in 5, and 8 for value:`4`\n"
     ]
    }
   ],
   "source": [
    "\n",
    "\n",
    "input_arr = sorted([x[::-1] for x in ph_arr_dups_main])\n",
    "\n",
    "ph_arr = []\n",
    "ph_arr_main = []\n",
    "\n",
    "def process_idx_position(j):\n",
    "    ph_arr = []\n",
    "    for idx,i in enumerate(j):\n",
    "        if idx == len(j)-1:\n",
    "            ph_arr.append(\"and \"+str(i))\n",
    "        else:\n",
    "            ph_arr.append(str(i))\n",
    "    return f\"position in {', '.join(ph_arr)}\"\n",
    "\n",
    "def process_idx_position_main(ph_arr_main):\n",
    "    ph_arr = []\n",
    "    for idx,i in enumerate(ph_arr_main):\n",
    "        if idx == len(ph_arr_main)-1:\n",
    "            ph_arr.append(\"and \"+i)\n",
    "        else:\n",
    "            ph_arr.append(i)\n",
    "    return f\"{', '.join(ph_arr)}\"\n",
    "\n",
    "#print(input_arr)\n",
    "for val,idx in input_arr:\n",
    "    if (val,[]) not in ph_arr:\n",
    "        ph_arr += [(val,[])]\n",
    "#print(ph_arr)\n",
    "for val,idx in input_arr:\n",
    "    for val_in_arr,ph_in_arr in ph_arr:\n",
    "        if val == val_in_arr:\n",
    "            #print(val_in_arr,ph_in_arr,val,idx)\n",
    "            ph_in_arr.append(idx)\n",
    "#print(ph_arr)\n",
    "\n",
    "for i,j in ph_arr:\n",
    "    #print(f\"{process_idx_position(j)} for value:`{i}`\")\n",
    "    ph_arr_main.append(f\"{process_idx_position(j)} for value:`{i}`\")\n",
    "\n",
    "#print('\\n'.join(ph_arr_main))\n",
    "print(process_idx_position_main(ph_arr_main))\n",
    "\n"
   ]
  },
  {
   "cell_type": "code",
   "execution_count": 315,
   "id": "76ce47a7",
   "metadata": {},
   "outputs": [],
   "source": [
    "def multindices(ph_arr_dups_main):\n",
    "\n",
    "    input_arr = sorted([x[::-1] for x in ph_arr_dups_main])\n",
    "\n",
    "    ph_arr = []\n",
    "    ph_arr_main = []\n",
    "\n",
    "    def process_idx_position(j):\n",
    "        ph_arr = []\n",
    "        for idx,i in enumerate(j):\n",
    "            if idx == len(j)-1:\n",
    "                ph_arr.append(\"and \"+str(i))\n",
    "            else:\n",
    "                ph_arr.append(str(i))\n",
    "        return f\"position in {', '.join(ph_arr)}\"\n",
    "\n",
    "    def process_idx_position_main(ph_arr_main):\n",
    "        ph_arr = []\n",
    "        for idx,i in enumerate(ph_arr_main):\n",
    "            if idx == len(ph_arr_main)-1:\n",
    "                ph_arr.append(\"\\n\\tand \"+i)\n",
    "            else:\n",
    "                ph_arr.append('\\n\\t'+i)\n",
    "        return f\"{', '.join(ph_arr)}\"\n",
    "\n",
    "    #print(input_arr)\n",
    "    for val,idx in input_arr:\n",
    "        if (val,[]) not in ph_arr:\n",
    "            ph_arr += [(val,[])]\n",
    "    #print(ph_arr)\n",
    "    for val,idx in input_arr:\n",
    "        for val_in_arr,ph_in_arr in ph_arr:\n",
    "            if val == val_in_arr:\n",
    "                #print(val_in_arr,ph_in_arr,val,idx)\n",
    "                ph_in_arr.append(idx)\n",
    "    #print(ph_arr)\n",
    "\n",
    "    for i,j in ph_arr:\n",
    "        #print(f\"{process_idx_position(j)} for value:`{i}`\")\n",
    "        ph_arr_main.append(f\"{process_idx_position(j)} for value:`{i}`\")\n",
    "\n",
    "    #print('\\n'.join(ph_arr_main))\n",
    "    return process_idx_position_main(ph_arr_main)\n",
    "\n"
   ]
  },
  {
   "cell_type": "code",
   "execution_count": 382,
   "id": "87731c44",
   "metadata": {},
   "outputs": [
    {
     "name": "stdout",
     "output_type": "stream",
     "text": [
      "Input: nums = [1, 2, 3, 1]\n",
      "Output: True\n",
      "Explanation: The element 1 occurs at indices position in 0, and 3.\n",
      "\n",
      "Input: nums = [1, 2, 3, 4]\n",
      "Output: False\n",
      "Explanation: All elements are distinct.\n",
      "\n",
      "Input: nums = [1, 1, 1, 3, 3, 4, 3, 2, 4, 2]\n",
      "Output: True\n",
      "Explanation: The elements 1, 3, 4, and 2 occurs at indices position in 0, 1, and 2 for value:\t`1`, \n",
      "\t\t\t\t\t\t\t   position in 7, and 9 for value:\t`2`, \n",
      "\t\t\t\t\t\t\t   position in 3, 4, and 6 for value:\t`3`, \n",
      "\t\t\t\t\t\t\t   and position in 5, and 8 for value:\t`4`.\n",
      "Input: nums = [1, 1, 1, 4, 3, 2, 1]\n",
      "Output: True\n",
      "Explanation: The element 1 occurs at indices position in 0, 1, 2, and 6.\n"
     ]
    }
   ],
   "source": [
    "class Solution(object):    \n",
    "\n",
    "    def contains_duplicate(self,nums):\n",
    "        ph_dict = {}\n",
    "        ph_arr,ph_arr_dups,ph_arr_dups_main = [],[],[]\n",
    "\n",
    "        def multindices(ph_arr_dups_main):\n",
    "\n",
    "            input_arr = sorted([x[::-1] for x in ph_arr_dups_main])\n",
    "\n",
    "            ph_arr = []\n",
    "            ph_arr_main = []\n",
    "\n",
    "            def process_idx_position(j):\n",
    "                ph_arr = []\n",
    "                for idx,i in enumerate(j):\n",
    "                    if idx == len(j)-1:\n",
    "                        ph_arr.append(\"and \"+str(i))\n",
    "                    else:\n",
    "                        ph_arr.append(str(i))\n",
    "                return f\"position in {', '.join(ph_arr)}\"\n",
    "\n",
    "            def process_idx_position_main(ph_arr_main):\n",
    "                ph_arr = []\n",
    "                for idx,i in enumerate(ph_arr_main):\n",
    "                    if idx == 0:\n",
    "                        ph_arr.append(i)\n",
    "                    elif idx == len(ph_arr_main)-1:\n",
    "                        ph_arr.append(\"\\n\\t\\t\\t\\t\\t\\t\\t   and \"+i+'.')\n",
    "                    else:\n",
    "                        ph_arr.append('\\n\\t\\t\\t\\t\\t\\t\\t   '+i)\n",
    "                return f\"{', '.join(ph_arr)}\"\n",
    "\n",
    "            for val,idx in input_arr:\n",
    "                if (val,[]) not in ph_arr:\n",
    "                    ph_arr += [(val,[])]\n",
    "            for val,idx in input_arr:\n",
    "                for val_in_arr,ph_in_arr in ph_arr:\n",
    "                    if val == val_in_arr:\n",
    "                        ph_in_arr.append(idx)\n",
    "\n",
    "            for i,j in ph_arr:\n",
    "                ph_arr_main.append(f\"{process_idx_position(j)} for value:\\t`{i}`\")\n",
    "\n",
    "            return process_idx_position_main(ph_arr_main)        \n",
    "            \n",
    "        def append_ph_arr_dups_main(ph_arr,ph_arr_dups):\n",
    "            for arr_i,arr_j in ph_arr:\n",
    "                for arr_dup_i,arr_dup_j in ph_arr_dups:\n",
    "                    if arr_dup_i == arr_j:\n",
    "                        ph_arr_dups_main.append((arr_i,arr_j))\n",
    "\n",
    "        def process_ph_arr_dups_main(ph_arr_dups_main,ph_arr_dups=None):\n",
    "            ph_arr = []\n",
    "            if len(ph_arr_dups_main) == 2:\n",
    "                return f\"{ph_arr_dups_main[0][0]} and {ph_arr_dups_main[1][0]}.\"\n",
    "            elif len(ph_arr_dups_main) > 2:\n",
    "                for idx,(i,j) in enumerate(ph_arr_dups):\n",
    "                    if idx == len(ph_arr_dups)-1:\n",
    "                        ph_arr.append(\"and \"+str(i))\n",
    "                    else:\n",
    "                        ph_arr.append(str(i))\n",
    "                return f\"{', '.join(ph_arr)}\"\n",
    "\n",
    "        for idx,i in enumerate(nums):\n",
    "            ph_dict[i] = ph_dict.get(i,0) + 1\n",
    "            ph_arr.append((idx,i))\n",
    "\n",
    "        for i,j in ph_dict.items():\n",
    "            if j>1:\n",
    "                ph_arr_dups.append((i,j))\n",
    "\n",
    "        if len(ph_arr_dups) == 1:\n",
    "            append_ph_arr_dups_main(ph_arr,ph_arr_dups)\n",
    "            return f\"Input: nums = {nums}\\nOutput: {True}\\nExplanation: The element {ph_arr_dups[0][0]} occurs at indices {multindices(ph_arr_dups_main)[:multindices(ph_arr_dups_main).index('f')-1]}.\"\n",
    "        elif len(ph_arr_dups) > 1:\n",
    "            append_ph_arr_dups_main(ph_arr,ph_arr_dups)\n",
    "            return f\"Input: nums = {nums}\\nOutput: {True}\\nExplanation: The elements {process_ph_arr_dups_main(ph_arr_dups_main,ph_arr_dups)} occurs at indices {multindices(ph_arr_dups_main)}\"\n",
    "        return f\"Input: nums = {nums}\\nOutput: {False}\\nExplanation: All elements are distinct.\"\n",
    "\n",
    "solution = Solution()  \n",
    "\n",
    "print(solution.contains_duplicate([1,2,3,1]))    \n",
    "print()    \n",
    "print(solution.contains_duplicate([1,2,3,4])) \n",
    "print()\n",
    "print(solution.contains_duplicate([1,1,1,3,3,4,3,2,4,2])) \n",
    "print(solution.contains_duplicate([1,1,1,4,3,2,1])) "
   ]
  },
  {
   "cell_type": "code",
   "execution_count": 86,
   "id": "e0f2053b",
   "metadata": {},
   "outputs": [
    {
     "name": "stdout",
     "output_type": "stream",
     "text": [
      "True\n",
      "\n",
      "False\n",
      "\n",
      "True\n"
     ]
    }
   ],
   "source": [
    "class Solution(object):\n",
    "\n",
    "    def contains_duplicate(self,nums):\n",
    "        ph_dict = {}\n",
    "        for i in nums:\n",
    "            ph_dict[i] = ph_dict.get(i,0) + 1\n",
    "\n",
    "        for i,j in ph_dict.items():\n",
    "            if j>1:\n",
    "                return f\"Input: nums = {nums}\\nOutput: {True}\"\n",
    "            return False\n",
    "        \n",
    "solution = Solution()        \n",
    "\n",
    "print(solution.contains_duplicate([1,2,3,1]))    \n",
    "print()    \n",
    "print(solution.contains_duplicate([1,2,3,4])) \n",
    "print()\n",
    "print(solution.contains_duplicate([1,1,1,3,3,4,3,2,4,2])) "
   ]
  },
  {
   "cell_type": "code",
   "execution_count": 84,
   "id": "133c1cfb",
   "metadata": {},
   "outputs": [
    {
     "name": "stdout",
     "output_type": "stream",
     "text": [
      "True\n",
      "False\n",
      "False\n"
     ]
    }
   ],
   "source": [
    "input = [1,2,3,1]\n",
    "ph_dict = {}\n",
    "\n",
    "for i in input:\n",
    "    ph_dict[i] = ph_dict.get(i,0) + 1\n",
    "\n",
    "for i,j in ph_dict.items():\n",
    "    if j>1:\n",
    "        print(True)\n",
    "    else:\n",
    "        print(False)"
   ]
  },
  {
   "cell_type": "code",
   "execution_count": 97,
   "id": "3c876fe1",
   "metadata": {},
   "outputs": [
    {
     "name": "stdout",
     "output_type": "stream",
     "text": [
      "True\n",
      "False\n",
      "False\n",
      "{1: 2, 2: 1, 3: 1}\n",
      "[(0, 1), (1, 2), (2, 3), (3, 1)]\n",
      "[(1, 2)]\n",
      "0 1\n",
      "3 1\n"
     ]
    }
   ],
   "source": [
    "input = [1,2,3,1]\n",
    "ph_dict = {}\n",
    "ph_arr = []\n",
    "ph_arr_dups = []\n",
    "ph_arr_ex = []\n",
    "\n",
    "for idx,i in enumerate(input):\n",
    "    ph_dict[i] = ph_dict.get(i,0) + 1\n",
    "    ph_arr.append((idx,i))\n",
    "\n",
    "for i,j in ph_dict.items():\n",
    "    if j>1:\n",
    "        ph_arr_dups.append((i,j))\n",
    "        print(True)\n",
    "    else:\n",
    "        print(False)\n",
    "\n",
    "print(ph_dict)\n",
    "print(ph_arr)\n",
    "print(ph_arr_dups)\n",
    "\n",
    "for i,j in ph_arr:\n",
    "    if ph_arr_dups[0][0] == j:\n",
    "        print(i,j)"
   ]
  },
  {
   "cell_type": "code",
   "execution_count": 109,
   "id": "aef371f0",
   "metadata": {},
   "outputs": [
    {
     "name": "stdout",
     "output_type": "stream",
     "text": [
      "Input: nums = [1, 2, 3, 1]\n",
      "Output: True\n",
      "Explanation: The element 1 occurs at indices [(0, 1), (3, 1)]\n"
     ]
    }
   ],
   "source": [
    "nums = [1,2,3,1]\n",
    "ph_dict = {}\n",
    "ph_arr = []\n",
    "ph_arr_dups = []\n",
    "ph_arr_idx = []\n",
    "\n",
    "for idx,i in enumerate(nums):\n",
    "    ph_dict[i] = ph_dict.get(i,0) + 1\n",
    "    ph_arr.append((idx,i))\n",
    "\n",
    "for i,j in ph_dict.items():\n",
    "    if j>1:\n",
    "        ph_arr_dups.append((i,j))\n",
    "\n",
    "#print(ph_dict)\n",
    "#print(ph_arr)\n",
    "#print(ph_arr_dups)\n",
    "\n",
    "if ph_arr_dups != []:\n",
    "    for i,j in ph_arr:\n",
    "        if ph_arr_dups[0][0] == j:\n",
    "            ph_arr_idx.append((i,j))\n",
    "    print(f\"Input: nums = {nums}\\nOutput: {True}\\nExplanation: The element {ph_arr_dups[0][0]} occurs at indices {ph_arr_idx}\")\n",
    "else:\n",
    "    print(False)\n",
    "\n",
    "#print(ph_arr_idx)"
   ]
  },
  {
   "cell_type": "code",
   "execution_count": 140,
   "id": "f41530b0",
   "metadata": {},
   "outputs": [
    {
     "name": "stdout",
     "output_type": "stream",
     "text": [
      "Input: nums = [1, 2, 3, 1]\n",
      "Output: True\n",
      "Explanation: The element 1 occurs at indices 0 and 3.\n"
     ]
    }
   ],
   "source": [
    "nums = [1,2,3,1]\n",
    "ph_dict = {}\n",
    "ph_arr = []\n",
    "ph_arr_dups = []\n",
    "ph_arr_idx = []\n",
    "ph_arr_dups_main = []\n",
    "\n",
    "def process_ph_arr_dups_main(ph_arr_dups_main):\n",
    "    if len(ph_arr_dups_main) == 2:\n",
    "        return f\"{ph_arr_dups_main[0][0]} and {ph_arr_dups_main[1][0]}.\"\n",
    "\n",
    "for idx,i in enumerate(nums):\n",
    "    ph_dict[i] = ph_dict.get(i,0) + 1\n",
    "    ph_arr.append((idx,i))\n",
    "\n",
    "for i,j in ph_dict.items():\n",
    "    if j>1:\n",
    "        ph_arr_dups.append((i,j))\n",
    "\n",
    "if ph_arr_dups != [] and len(ph_arr_dups) == 1:\n",
    "    for arr_i,arr_j in ph_arr:\n",
    "        for arr_dup_i,arr_dup_j in ph_arr_dups:\n",
    "            if arr_dup_i == arr_j:\n",
    "                ph_arr_dups_main.append((arr_i,arr_j))\n",
    "    print(f\"Input: nums = {nums}\\nOutput: {True}\\nExplanation: The element {arr_dup_i} occurs at indices {process_ph_arr_dups_main(ph_arr_dups_main)}\")\n",
    "elif ph_arr_dups != [] and len(ph_arr_dups) > 1:\n",
    "    for arr_i,arr_j in ph_arr:\n",
    "        for arr_dup_i,arr_dup_j in ph_arr_dups:\n",
    "            if arr_dup_i == arr_j:\n",
    "                print((arr_i,arr_j),(arr_dup_i,arr_dup_j))\n",
    "                ph_arr_dups_main.append((arr_i,arr_j))\n",
    "    print(f\"Input: nums = {nums}\\nOutput: {True}\")\n",
    "else:\n",
    "    print(f\"Input: nums = {nums}\\nOutput: {False}\\nExplanation: All elements are distinct.\") "
   ]
  },
  {
   "cell_type": "markdown",
   "id": "e945661a",
   "metadata": {},
   "source": [
    "# 238. Product of Array Except Self\n",
    "\n",
    "## Problem Statement\n",
    "Given an integer array `nums`, return an array `answer` such that `answer[i]` is equal to the product of all the elements of `nums` except `nums[i]`.\n",
    "\n",
    "The product of any prefix or suffix of `nums` is guaranteed to fit in a 32-bit integer.\n",
    "\n",
    "## Examples\n",
    "\n",
    "### Example 1\n",
    "- **Input**: `nums = [1,2,3,4]`\n",
    "- **Output**: `[24,12,8,6]`\n",
    "- **Explanation**:  \n",
    "  - For `answer[0]`, the product of all elements except `nums[0]` (1) is `2 * 3 * 4 = 24`.\n",
    "  - For `answer[1]`, the product of all elements except `nums[1]` (2) is `1 * 3 * 4 = 12`.\n",
    "  - For `answer[2]`, the product of all elements except `nums[2]` (3) is `1 * 2 * 4 = 8`.\n",
    "  - For `answer[3]`, the product of all elements except `nums[3]` (4) is `1 * 2 * 3 = 6`.\n",
    "\n",
    "### Example 2\n",
    "- **Input**: `nums = [-1,1,0,-3,3]`\n",
    "- **Output**: `[0,0,9,0,0]`\n",
    "- **Explanation**:  \n",
    "  - For `answer[2]`, the product of all elements except `nums[2]` (0) is `-1 * 1 * -3 * 3 = 9`.\n",
    "  - Since `nums[2]` is 0, all other elements in `answer` are 0 because the product involving zero results in zero."
   ]
  },
  {
   "cell_type": "code",
   "execution_count": 422,
   "id": "e3d4a34b",
   "metadata": {},
   "outputs": [
    {
     "name": "stdout",
     "output_type": "stream",
     "text": [
      "Input: nums = [1, 2, 3, 4]\n",
      "Output: [24, 12, 8, 6]\n",
      "\n",
      "Input: nums = [-1, 1, 0, -3, 3]\n",
      "Output: [0, 0, 9, 0, 0]\n"
     ]
    }
   ],
   "source": [
    "class Solution:\n",
    "    def productExceptSelf(self, nums):\n",
    "        ph_arr_stg,ph_arr_main = [],[]\n",
    "        product_except_self_op = 1\n",
    "        for i in nums:\n",
    "            for j in nums:\n",
    "                if (i,nums) not in ph_arr_stg:\n",
    "                    ph_arr_stg.append((i,nums))\n",
    "        for i,j in ph_arr_stg:\n",
    "            for val in j:\n",
    "                if i != val:\n",
    "                    product_except_self_op *= val\n",
    "            ph_arr_main.append(product_except_self_op)\n",
    "            product_except_self_op = 1\n",
    "        return f\"Input: nums = {nums}\\nOutput: {ph_arr_main}\"\n",
    "         \n",
    "solution = Solution()\n",
    "\n",
    "print(solution.productExceptSelf([1,2,3,4]))\n",
    "print()\n",
    "print(solution.productExceptSelf([-1,1,0,-3,3]))"
   ]
  },
  {
   "cell_type": "code",
   "execution_count": 427,
   "id": "e6aed07d",
   "metadata": {},
   "outputs": [
    {
     "name": "stdout",
     "output_type": "stream",
     "text": [
      "(1, [1, 2, 3, 4])\n",
      "(2, [1, 2, 3, 4])\n",
      "(3, [1, 2, 3, 4])\n",
      "(4, [1, 2, 3, 4])\n",
      "\n",
      "1 not in [1, 2, 3, 4]\n",
      "\t\t  -> 2\n",
      "\t\t  -> 3\n",
      "\t\t  -> 4\n",
      "2 not in [1, 2, 3, 4]\n",
      "\t\t  -> 1\n",
      "\t\t  -> 3\n",
      "\t\t  -> 4\n",
      "3 not in [1, 2, 3, 4]\n",
      "\t\t  -> 1\n",
      "\t\t  -> 2\n",
      "\t\t  -> 4\n",
      "4 not in [1, 2, 3, 4]\n",
      "\t\t  -> 1\n",
      "\t\t  -> 2\n",
      "\t\t  -> 3\n"
     ]
    },
    {
     "data": {
      "text/plain": [
       "[24, 12, 8, 6]"
      ]
     },
     "execution_count": 427,
     "metadata": {},
     "output_type": "execute_result"
    }
   ],
   "source": [
    "nums = [1,2,3,4]\n",
    "ph_arr_stg,ph_arr_main = [],[]\n",
    "product_except_self_op = 1\n",
    "\n",
    "for i in nums:\n",
    "    for j in nums:\n",
    "        if (i,nums) not in ph_arr_stg:\n",
    "            print((i,nums))\n",
    "            ph_arr_stg.append((i,nums))\n",
    "print()\n",
    "for i,j in ph_arr_stg:\n",
    "    print(f'{i} not in {j}')\n",
    "    for val in j:\n",
    "        if i != val:\n",
    "            print(f'\\t\\t  -> {val}')\n",
    "            product_except_self_op *= val\n",
    "    ph_arr_main.append(product_except_self_op)\n",
    "    product_except_self_op = 1\n",
    "ph_arr_main        \n"
   ]
  },
  {
   "cell_type": "code",
   "execution_count": 415,
   "id": "6a9728bf",
   "metadata": {},
   "outputs": [
    {
     "name": "stdout",
     "output_type": "stream",
     "text": [
      "-1 not in [-1, 1, 0, -3, 3]\n",
      "\t\t  -> 1\n",
      "\t\t  -> 0\n",
      "\t\t  -> -3\n",
      "\t\t  -> 3\n",
      "1 not in [-1, 1, 0, -3, 3]\n",
      "\t\t  -> -1\n",
      "\t\t  -> 0\n",
      "\t\t  -> -3\n",
      "\t\t  -> 3\n",
      "0 not in [-1, 1, 0, -3, 3]\n",
      "\t\t  -> -1\n",
      "\t\t  -> 1\n",
      "\t\t  -> -3\n",
      "\t\t  -> 3\n",
      "-3 not in [-1, 1, 0, -3, 3]\n",
      "\t\t  -> -1\n",
      "\t\t  -> 1\n",
      "\t\t  -> 0\n",
      "\t\t  -> 3\n",
      "3 not in [-1, 1, 0, -3, 3]\n",
      "\t\t  -> -1\n",
      "\t\t  -> 1\n",
      "\t\t  -> 0\n",
      "\t\t  -> -3\n"
     ]
    },
    {
     "data": {
      "text/plain": [
       "[0, 0, 9, 0, 0]"
      ]
     },
     "execution_count": 415,
     "metadata": {},
     "output_type": "execute_result"
    }
   ],
   "source": [
    "nums = [-1,1,0,-3,3]\n",
    "ph_arr_stg,ph_arr_main = [],[]\n",
    "product_except_self_op = 1\n",
    "\n",
    "for i in nums:\n",
    "    for j in nums:\n",
    "        if (i,nums) not in ph_arr_stg:\n",
    "            ph_arr_stg.append((i,nums))\n",
    "\n",
    "for i,j in ph_arr_stg:\n",
    "    print(f'{i} not in {j}')\n",
    "    for val in j:\n",
    "        if i != val:\n",
    "            print(f'\\t\\t  -> {val}')\n",
    "            product_except_self_op *= val\n",
    "    ph_arr_main.append(product_except_self_op)\n",
    "    product_except_self_op = 1\n",
    "ph_arr_main        \n"
   ]
  },
  {
   "cell_type": "markdown",
   "id": "e8b47eff",
   "metadata": {},
   "source": [
    "### Example 1\n",
    "- **Input**: `nums = [1,2,3,4]`\n",
    "- **Output**: `[24,12,8,6]`\n",
    "- **Explanation**:  \n",
    "  - For `answer[0]`, the product of all elements except `nums[0]` (1) is `2 * 3 * 4 = 24`.\n",
    "  - For `answer[1]`, the product of all elements except `nums[1]` (2) is `1 * 3 * 4 = 12`.\n",
    "  - For `answer[2]`, the product of all elements except `nums[2]` (3) is `1 * 2 * 4 = 8`.\n",
    "  - For `answer[3]`, the product of all elements except `nums[3]` (4) is `1 * 2 * 3 = 6`."
   ]
  },
  {
   "cell_type": "code",
   "execution_count": 506,
   "id": "184d0a4c",
   "metadata": {},
   "outputs": [
    {
     "name": "stdout",
     "output_type": "stream",
     "text": [
      "Input: nums = [1, 2, 3, 4]\n",
      "\n",
      "Output: [24, 12, 8, 6]\n",
      "\n",
      "Explanation:\n",
      "\n",
      "\t- For `answer[0]`, the product of all elements except `nums[0]` (1) is `2 * 3 * 4 = 24`. \n",
      "\t- For `answer[1]`, the product of all elements except `nums[1]` (2) is `1 * 3 * 4 = 12`. \n",
      "\t- For `answer[2]`, the product of all elements except `nums[2]` (3) is `1 * 2 * 4 = 8`. \n",
      "\t- For `answer[3]`, the product of all elements except `nums[3]` (4) is `1 * 2 * 3 = 6`.\n",
      "\n",
      "Input: nums = [-1, 1, 0, -3, 3]\n",
      "\n",
      "Output: [0, 0, 9, 0, 0]\n",
      "\n",
      "Explanation:\n",
      "\n",
      "\t- For `answer[0]`, the product of all elements except `nums[0]` (1) is `1 * 0 * -3 * 3 = 0`. \n",
      "\t- For `answer[1]`, the product of all elements except `nums[1]` (2) is `-1 * 0 * -3 * 3 = 0`. \n",
      "\t- For `answer[2]`, the product of all elements except `nums[2]` (3) is `-1 * 1 * -3 * 3 = 9`. \n",
      "\t- For `answer[3]`, the product of all elements except `nums[3]` (4) is `-1 * 1 * 0 * 3 = 0`. \n",
      "\t- For `answer[4]`, the product of all elements except `nums[4]` (5) is `-1 * 1 * 0 * -3 = 0`.\n",
      "\n"
     ]
    }
   ],
   "source": [
    "class Solution:\n",
    "    \n",
    "    def productExceptSelf(self, nums):\n",
    "\n",
    "        def explanation(explanation_main,arr_main):\n",
    "            ph_func_explanation = []\n",
    "            for idx,(explanation_val,output_val) in enumerate(zip(explanation_main,arr_main)):\n",
    "                ph_func_explanation.append(f\"\\n\\t- For `answer[{idx}]`, the product of all elements except `nums[{idx}]` ({idx+1}) is `{' * '.join(explanation_val)} = {str(output_val)}`.\")\n",
    "            return ph_func_explanation\n",
    "        \n",
    "        ph_arr_stg,ph_arr_main,ph_explanation_stg,ph_explanation_main = [],[],[],[]\n",
    "        product_except_self_op = 1\n",
    "\n",
    "        for i in nums:\n",
    "            for j in nums:\n",
    "                if (i,nums) not in ph_arr_stg:\n",
    "                    ph_arr_stg.append((i,nums))\n",
    "\n",
    "        for i,j in ph_arr_stg:\n",
    "            for val in j:\n",
    "                if i != val:\n",
    "                    ph_explanation_stg.append(str(val))\n",
    "                    product_except_self_op *= val\n",
    "            ph_explanation_main.append(ph_explanation_stg)\n",
    "            ph_arr_main.append(product_except_self_op)\n",
    "            product_except_self_op = 1\n",
    "            ph_explanation_stg = []\n",
    "\n",
    "        print(f\"Input: nums = {nums}\\n\\nOutput: {ph_arr_main}\\n\\nExplanation:\")\n",
    "        print(*explanation(ph_explanation_main,ph_arr_main))\n",
    "        return ''\n",
    "\n",
    "solution = Solution()\n",
    "\n",
    "print(solution.productExceptSelf([1,2,3,4]))\n",
    "print(solution.productExceptSelf([-1,1,0,-3,3]))"
   ]
  },
  {
   "cell_type": "markdown",
   "id": "6b421002",
   "metadata": {},
   "source": [
    "# 53. Maximum Subarray\n",
    "\n",
    "Given an integer array `nums`, find the subarray with the largest sum, and return its sum.\n",
    "\n",
    "## Examples\n",
    "\n",
    "### Example 1:\n",
    "- **Input:** `nums = [-2,1,-3,4,-1,2,1,-5,4]`\n",
    "- **Output:** `6`\n",
    "- **Explanation:** The subarray `[4,-1,2,1]` has the largest sum `6`.\n",
    "\n",
    "### Example 2:\n",
    "- **Input:** `nums = [1]`\n",
    "- **Output:** `1`\n",
    "- **Explanation:** The subarray `[1]` has the largest sum `1`.\n",
    "\n",
    "### Example 3:\n",
    "- **Input:** `nums = [5,4,-1,7,8]`\n",
    "- **Output:** `23`\n",
    "- **Explanation:** The subarray `[5,4,-1,7,8]` has the largest sum `23`.\n"
   ]
  },
  {
   "cell_type": "code",
   "execution_count": 81,
   "id": "5a70bc8d",
   "metadata": {},
   "outputs": [
    {
     "name": "stdout",
     "output_type": "stream",
     "text": [
      "\n",
      "\tInput: nums = [-2, 1, -3, 4, -1, 2, 1, -5, 4]\n",
      "        Output: 6\n",
      "        Explanation: The subarray [4, -1, 2, 1] has the largest sum 6\n",
      "\n",
      "\tInput: nums = [1]\n",
      "        Output: 1\n",
      "        Explanation: The subarray [1] has the largest sum 1\n",
      "\n",
      "\tInput: nums = [5, 4, -1, 7, 8]\n",
      "        Output: 23\n",
      "        Explanation: The subarray [5, 4, -1, 7, 8] has the largest sum 23\n",
      "\n"
     ]
    }
   ],
   "source": [
    "class Solution(object):\n",
    "\n",
    "    def maxSubArray(self,nums):\n",
    "\n",
    "        from copy import deepcopy\n",
    "        ph_output_maxSubarray = []\n",
    "\n",
    "        def append_maximum_sum_and_subArray_tuple_pop(nums_func,approach):\n",
    "\n",
    "            nums_to_process_for_function_call = deepcopy(nums_func)\n",
    "            flip = 0\n",
    "            ph_sum_array = 0\n",
    "            ph_subArray_sum = []\n",
    "\n",
    "            while nums_to_process_for_function_call != []:\n",
    "                nums_to_process = deepcopy(nums_to_process_for_function_call)\n",
    "                for i in nums_to_process_for_function_call:\n",
    "                    ph_sum_array += i\n",
    "                if (ph_sum_array,nums_to_process) not in ph_subArray_sum:\n",
    "                    ph_subArray_sum.append((ph_sum_array,nums_to_process))\n",
    "                ph_sum_array = 0\n",
    "                if approach == 'side-by-side':\n",
    "                    if flip == 0:\n",
    "                        nums_to_process_for_function_call.pop(0)\n",
    "                        flip = 1\n",
    "                    elif flip == 1:\n",
    "                        nums_to_process_for_function_call.pop(-1)\n",
    "                        flip = 0\n",
    "                else:\n",
    "                    nums_to_process_for_function_call.pop(approach)\n",
    "            ph_output_maxSubarray.append(max(ph_subArray_sum))\n",
    "        \n",
    "        append_maximum_sum_and_subArray_tuple_pop(nums,0),\n",
    "        append_maximum_sum_and_subArray_tuple_pop(nums,-1),\n",
    "        append_maximum_sum_and_subArray_tuple_pop(nums,'side-by-side')\n",
    "\n",
    "        return f'''\\tInput: nums = {nums}\n",
    "        Output: {max(ph_output_maxSubarray)[0]}\n",
    "        Explanation: The subarray {max(ph_output_maxSubarray)[1]} has the largest sum {max(ph_output_maxSubarray)[0]}'''\n",
    "    \n",
    "solution = Solution()\n",
    "\n",
    "print()\n",
    "print(solution.maxSubArray([-2,1,-3,4,-1,2,1,-5,4]))\n",
    "print()\n",
    "print(solution.maxSubArray([1]))\n",
    "print()\n",
    "print(solution.maxSubArray([5,4,-1,7,8]))\n",
    "print()"
   ]
  },
  {
   "cell_type": "code",
   "execution_count": 58,
   "id": "fe4caace",
   "metadata": {},
   "outputs": [
    {
     "name": "stdout",
     "output_type": "stream",
     "text": [
      "(2, [-2, 1, -3, 4, -1, 2, 1])\n",
      "(5, [4, -1, 2, 1, -5, 4])\n",
      "(6, [4, -1, 2, 1])\n",
      "6\n",
      "\n",
      "(1, [1])\n",
      "(1, [1])\n",
      "(1, [1])\n",
      "1\n",
      "\n",
      "(23, [5, 4, -1, 7, 8])\n",
      "(23, [5, 4, -1, 7, 8])\n",
      "(23, [5, 4, -1, 7, 8])\n",
      "23\n"
     ]
    }
   ],
   "source": [
    "class Solution(object):\n",
    "\n",
    "    def maxSubarray(self,nums):\n",
    "\n",
    "        from copy import deepcopy\n",
    "\n",
    "        def append_maximum_sum_and_subArray_tuple_pop_from_last(nums_func):\n",
    "            nums_to_process_for_function_call = deepcopy(nums_func)\n",
    "            ph_sum_array = 0\n",
    "            ph_subArray_sum = []\n",
    "            while nums_to_process_for_function_call != []:\n",
    "                nums_to_process = deepcopy(nums_to_process_for_function_call)\n",
    "                for i in nums_to_process_for_function_call:\n",
    "                    ph_sum_array += i\n",
    "                if (ph_sum_array,nums_to_process) not in ph_subArray_sum:\n",
    "                    ph_subArray_sum.append((ph_sum_array,nums_to_process))\n",
    "                ph_sum_array = 0\n",
    "                nums_to_process_for_function_call.pop(-1)\n",
    "            ph_subArray_sum.sort()\n",
    "            print(ph_subArray_sum[-1])\n",
    "            return ph_subArray_sum[-1]\n",
    "\n",
    "        def append_maximum_sum_and_subArray_tuple_pop_from_beginning(nums_func):\n",
    "            nums_to_process_for_function_call = deepcopy(nums_func)\n",
    "            ph_sum_array = 0\n",
    "            ph_subArray_sum = []\n",
    "            while nums_to_process_for_function_call != []:\n",
    "                nums_to_process = deepcopy(nums_to_process_for_function_call)\n",
    "                for i in nums_to_process_for_function_call:\n",
    "                    ph_sum_array += i\n",
    "                if (ph_sum_array,nums_to_process) not in ph_subArray_sum:\n",
    "                    ph_subArray_sum.append((ph_sum_array,nums_to_process))\n",
    "                ph_sum_array = 0\n",
    "                nums_to_process_for_function_call.pop(0)\n",
    "            ph_subArray_sum.sort()\n",
    "            print(ph_subArray_sum[-1])\n",
    "            return ph_subArray_sum[-1]\n",
    "\n",
    "        def append_maximum_sum_and_subArray_tuple_pop_from_sidebyside(nums_func):\n",
    "            flip = 0\n",
    "            nums_to_process_for_function_call = deepcopy(nums_func)\n",
    "            ph_sum_array = 0\n",
    "            ph_subArray_sum = []\n",
    "            while nums_to_process_for_function_call != []:\n",
    "                nums_to_process = deepcopy(nums_to_process_for_function_call)\n",
    "                for i in nums_to_process_for_function_call:\n",
    "                    ph_sum_array += i\n",
    "                if (ph_sum_array,nums_to_process) not in ph_subArray_sum:\n",
    "                    ph_subArray_sum.append((ph_sum_array,nums_to_process))\n",
    "                ph_sum_array = 0\n",
    "                if flip == 0:\n",
    "                    nums_to_process_for_function_call.pop(0)\n",
    "                    flip = 1\n",
    "                elif flip == 1:\n",
    "                    nums_to_process_for_function_call.pop(-1)\n",
    "                    flip = 0          \n",
    "            ph_subArray_sum.sort()\n",
    "            print(ph_subArray_sum[-1])\n",
    "            return ph_subArray_sum[-1]\n",
    "\n",
    "        result_of_max_subArray_popped_last,result_of_max_subArray_popped_beginning,result_of_max_subArray_popped_sidebyside = append_maximum_sum_and_subArray_tuple_pop_from_last(nums),append_maximum_sum_and_subArray_tuple_pop_from_beginning(nums),append_maximum_sum_and_subArray_tuple_pop_from_sidebyside(nums)\n",
    "\n",
    "        ph_output_maxSubarray = [result_of_max_subArray_popped_last,result_of_max_subArray_popped_beginning,result_of_max_subArray_popped_sidebyside]\n",
    "        ph_output_maxSubarray.sort()\n",
    "        return ph_output_maxSubarray[-1][0]\n",
    "    \n",
    "solution = Solution()\n",
    "\n",
    "print(solution.maxSubarray([-2,1,-3,4,-1,2,1,-5,4]))\n",
    "print()\n",
    "print(solution.maxSubarray([1]))\n",
    "print()\n",
    "print(solution.maxSubarray([5,4,-1,7,8]))"
   ]
  },
  {
   "cell_type": "code",
   "execution_count": 68,
   "id": "e8591fc0",
   "metadata": {},
   "outputs": [
    {
     "name": "stdout",
     "output_type": "stream",
     "text": [
      "6\n",
      "\n",
      "1\n",
      "\n",
      "23\n"
     ]
    }
   ],
   "source": [
    "class Solution(object):\n",
    "\n",
    "    def maxSubArray(self,nums):\n",
    "\n",
    "        from copy import deepcopy\n",
    "        ph_output_maxSubarray = []\n",
    "\n",
    "        def append_maximum_sum_and_subArray_tuple_pop_from_last(nums_func):\n",
    "            nums_to_process_for_function_call = deepcopy(nums_func)\n",
    "            ph_sum_array = 0\n",
    "            ph_subArray_sum = []\n",
    "            while nums_to_process_for_function_call != []:\n",
    "                nums_to_process = deepcopy(nums_to_process_for_function_call)\n",
    "                for i in nums_to_process_for_function_call:\n",
    "                    ph_sum_array += i\n",
    "                if (ph_sum_array,nums_to_process) not in ph_subArray_sum:\n",
    "                    ph_subArray_sum.append((ph_sum_array,nums_to_process))\n",
    "                ph_sum_array = 0\n",
    "                nums_to_process_for_function_call.pop(-1)\n",
    "            ph_output_maxSubarray.append(max(ph_subArray_sum))\n",
    "\n",
    "        def append_maximum_sum_and_subArray_tuple_pop_from_beginning(nums_func):\n",
    "            nums_to_process_for_function_call = deepcopy(nums_func)\n",
    "            ph_sum_array = 0\n",
    "            ph_subArray_sum = []\n",
    "            while nums_to_process_for_function_call != []:\n",
    "                nums_to_process = deepcopy(nums_to_process_for_function_call)\n",
    "                for i in nums_to_process_for_function_call:\n",
    "                    ph_sum_array += i\n",
    "                if (ph_sum_array,nums_to_process) not in ph_subArray_sum:\n",
    "                    ph_subArray_sum.append((ph_sum_array,nums_to_process))\n",
    "                ph_sum_array = 0\n",
    "                nums_to_process_for_function_call.pop(0)\n",
    "            ph_output_maxSubarray.append(max(ph_subArray_sum))\n",
    "\n",
    "        def append_maximum_sum_and_subArray_tuple_pop_from_sidebyside(nums_func):\n",
    "            flip = 0\n",
    "            nums_to_process_for_function_call = deepcopy(nums_func)\n",
    "            ph_sum_array = 0\n",
    "            ph_subArray_sum = []\n",
    "            while nums_to_process_for_function_call != []:\n",
    "                nums_to_process = deepcopy(nums_to_process_for_function_call)\n",
    "                for i in nums_to_process_for_function_call:\n",
    "                    ph_sum_array += i\n",
    "                if (ph_sum_array,nums_to_process) not in ph_subArray_sum:\n",
    "                    ph_subArray_sum.append((ph_sum_array,nums_to_process))\n",
    "                ph_sum_array = 0\n",
    "                if flip == 0:\n",
    "                    nums_to_process_for_function_call.pop(0)\n",
    "                    flip = 1\n",
    "                elif flip == 1:\n",
    "                    nums_to_process_for_function_call.pop(-1)\n",
    "                    flip = 0\n",
    "            ph_output_maxSubarray.append(max(ph_subArray_sum))\n",
    "        \n",
    "        append_maximum_sum_and_subArray_tuple_pop_from_last(nums),append_maximum_sum_and_subArray_tuple_pop_from_beginning(nums),append_maximum_sum_and_subArray_tuple_pop_from_sidebyside(nums)\n",
    "\n",
    "        return max(ph_output_maxSubarray)[0]\n",
    "    \n",
    "solution = Solution()\n",
    "\n",
    "print(solution.maxSubArray([-2,1,-3,4,-1,2,1,-5,4]))\n",
    "print()\n",
    "print(solution.maxSubArray([1]))\n",
    "print()\n",
    "print(solution.maxSubArray([5,4,-1,7,8]))"
   ]
  },
  {
   "cell_type": "code",
   "execution_count": 42,
   "id": "a231b656",
   "metadata": {},
   "outputs": [
    {
     "name": "stdout",
     "output_type": "stream",
     "text": [
      "[(1, [-2, 1, -3, 4, -1, 2, 1, -5, 4])]\n",
      "[(1, [-2, 1, -3, 4, -1, 2, 1, -5, 4]), (-3, [-2, 1, -3, 4, -1, 2, 1, -5])]\n",
      "[(1, [-2, 1, -3, 4, -1, 2, 1, -5, 4]), (-3, [-2, 1, -3, 4, -1, 2, 1, -5]), (2, [-2, 1, -3, 4, -1, 2, 1])]\n",
      "[(1, [-2, 1, -3, 4, -1, 2, 1, -5, 4]), (-3, [-2, 1, -3, 4, -1, 2, 1, -5]), (2, [-2, 1, -3, 4, -1, 2, 1]), (1, [-2, 1, -3, 4, -1, 2])]\n",
      "[(1, [-2, 1, -3, 4, -1, 2, 1, -5, 4]), (-3, [-2, 1, -3, 4, -1, 2, 1, -5]), (2, [-2, 1, -3, 4, -1, 2, 1]), (1, [-2, 1, -3, 4, -1, 2]), (-1, [-2, 1, -3, 4, -1])]\n",
      "[(1, [-2, 1, -3, 4, -1, 2, 1, -5, 4]), (-3, [-2, 1, -3, 4, -1, 2, 1, -5]), (2, [-2, 1, -3, 4, -1, 2, 1]), (1, [-2, 1, -3, 4, -1, 2]), (-1, [-2, 1, -3, 4, -1]), (0, [-2, 1, -3, 4])]\n",
      "[(1, [-2, 1, -3, 4, -1, 2, 1, -5, 4]), (-3, [-2, 1, -3, 4, -1, 2, 1, -5]), (2, [-2, 1, -3, 4, -1, 2, 1]), (1, [-2, 1, -3, 4, -1, 2]), (-1, [-2, 1, -3, 4, -1]), (0, [-2, 1, -3, 4]), (-4, [-2, 1, -3])]\n",
      "[(1, [-2, 1, -3, 4, -1, 2, 1, -5, 4]), (-3, [-2, 1, -3, 4, -1, 2, 1, -5]), (2, [-2, 1, -3, 4, -1, 2, 1]), (1, [-2, 1, -3, 4, -1, 2]), (-1, [-2, 1, -3, 4, -1]), (0, [-2, 1, -3, 4]), (-4, [-2, 1, -3]), (-1, [-2, 1])]\n",
      "[(1, [-2, 1, -3, 4, -1, 2, 1, -5, 4]), (-3, [-2, 1, -3, 4, -1, 2, 1, -5]), (2, [-2, 1, -3, 4, -1, 2, 1]), (1, [-2, 1, -3, 4, -1, 2]), (-1, [-2, 1, -3, 4, -1]), (0, [-2, 1, -3, 4]), (-4, [-2, 1, -3]), (-1, [-2, 1]), (-2, [-2])]\n",
      "[(2, [-2, 1, -3, 4, -1, 2, 1]), (1, [-2, 1, -3, 4, -1, 2, 1, -5, 4]), (1, [-2, 1, -3, 4, -1, 2]), (0, [-2, 1, -3, 4]), (-1, [-2, 1, -3, 4, -1]), (-1, [-2, 1]), (-2, [-2]), (-3, [-2, 1, -3, 4, -1, 2, 1, -5]), (-4, [-2, 1, -3])]\n"
     ]
    }
   ],
   "source": [
    "from copy import deepcopy\n",
    "\n",
    "nums = [-2,1,-3,4,-1,2,1,-5,4]\n",
    "ph_sum_array = 0\n",
    "ph_subArray_sum = []\n",
    "\n",
    "while nums != []:\n",
    "    nums_to_process = deepcopy(nums)\n",
    "    for i in nums:\n",
    "        #print(f'{ph_sum_array} + {i}')\n",
    "        ph_sum_array += i\n",
    "        #print(f'= {ph_sum_array}')\n",
    "    if (ph_sum_array,nums_to_process) not in ph_subArray_sum:\n",
    "        ph_subArray_sum.append((ph_sum_array,nums_to_process))\n",
    "    ph_sum_array = 0        \n",
    "    print(ph_subArray_sum)\n",
    "    nums.pop(-1) \n",
    "ph_subArray_sum.sort(reverse=True)\n",
    "print(ph_subArray_sum)"
   ]
  },
  {
   "cell_type": "code",
   "execution_count": 41,
   "id": "58a9b080",
   "metadata": {},
   "outputs": [
    {
     "name": "stdout",
     "output_type": "stream",
     "text": [
      "[(1, [-2, 1, -3, 4, -1, 2, 1, -5, 4])]\n",
      "[(1, [-2, 1, -3, 4, -1, 2, 1, -5, 4]), (3, [1, -3, 4, -1, 2, 1, -5, 4])]\n",
      "[(1, [-2, 1, -3, 4, -1, 2, 1, -5, 4]), (3, [1, -3, 4, -1, 2, 1, -5, 4]), (2, [-3, 4, -1, 2, 1, -5, 4])]\n",
      "[(1, [-2, 1, -3, 4, -1, 2, 1, -5, 4]), (3, [1, -3, 4, -1, 2, 1, -5, 4]), (2, [-3, 4, -1, 2, 1, -5, 4]), (5, [4, -1, 2, 1, -5, 4])]\n",
      "[(1, [-2, 1, -3, 4, -1, 2, 1, -5, 4]), (3, [1, -3, 4, -1, 2, 1, -5, 4]), (2, [-3, 4, -1, 2, 1, -5, 4]), (5, [4, -1, 2, 1, -5, 4]), (1, [-1, 2, 1, -5, 4])]\n",
      "[(1, [-2, 1, -3, 4, -1, 2, 1, -5, 4]), (3, [1, -3, 4, -1, 2, 1, -5, 4]), (2, [-3, 4, -1, 2, 1, -5, 4]), (5, [4, -1, 2, 1, -5, 4]), (1, [-1, 2, 1, -5, 4]), (2, [2, 1, -5, 4])]\n",
      "[(1, [-2, 1, -3, 4, -1, 2, 1, -5, 4]), (3, [1, -3, 4, -1, 2, 1, -5, 4]), (2, [-3, 4, -1, 2, 1, -5, 4]), (5, [4, -1, 2, 1, -5, 4]), (1, [-1, 2, 1, -5, 4]), (2, [2, 1, -5, 4]), (0, [1, -5, 4])]\n",
      "[(1, [-2, 1, -3, 4, -1, 2, 1, -5, 4]), (3, [1, -3, 4, -1, 2, 1, -5, 4]), (2, [-3, 4, -1, 2, 1, -5, 4]), (5, [4, -1, 2, 1, -5, 4]), (1, [-1, 2, 1, -5, 4]), (2, [2, 1, -5, 4]), (0, [1, -5, 4]), (-1, [-5, 4])]\n",
      "[(1, [-2, 1, -3, 4, -1, 2, 1, -5, 4]), (3, [1, -3, 4, -1, 2, 1, -5, 4]), (2, [-3, 4, -1, 2, 1, -5, 4]), (5, [4, -1, 2, 1, -5, 4]), (1, [-1, 2, 1, -5, 4]), (2, [2, 1, -5, 4]), (0, [1, -5, 4]), (-1, [-5, 4]), (4, [4])]\n",
      "[(5, [4, -1, 2, 1, -5, 4]), (4, [4]), (3, [1, -3, 4, -1, 2, 1, -5, 4]), (2, [2, 1, -5, 4]), (2, [-3, 4, -1, 2, 1, -5, 4]), (1, [-1, 2, 1, -5, 4]), (1, [-2, 1, -3, 4, -1, 2, 1, -5, 4]), (0, [1, -5, 4]), (-1, [-5, 4])]\n"
     ]
    }
   ],
   "source": [
    "from copy import deepcopy\n",
    "\n",
    "nums = [-2,1,-3,4,-1,2,1,-5,4]\n",
    "ph_sum_array = 0\n",
    "ph_subArray_sum = []\n",
    "\n",
    "while nums != []:\n",
    "    nums_to_process = deepcopy(nums)\n",
    "    for i in nums:\n",
    "        #print(f'{ph_sum_array} + {i}')\n",
    "        ph_sum_array += i\n",
    "        #print(f'= {ph_sum_array}')\n",
    "    if (ph_sum_array,nums_to_process) not in ph_subArray_sum:\n",
    "        ph_subArray_sum.append((ph_sum_array,nums_to_process))\n",
    "    ph_sum_array = 0\n",
    "    print(ph_subArray_sum)\n",
    "    nums.pop(0) \n",
    "ph_subArray_sum.sort(reverse=True)\n",
    "print(ph_subArray_sum)"
   ]
  },
  {
   "cell_type": "code",
   "execution_count": 48,
   "id": "a4ac40fa",
   "metadata": {},
   "outputs": [
    {
     "data": {
      "text/plain": [
       "(6, [4, -1, 2, 1])"
      ]
     },
     "execution_count": 48,
     "metadata": {},
     "output_type": "execute_result"
    }
   ],
   "source": [
    "from copy import deepcopy\n",
    "nums = [-2,1,-3,4,-1,2,1,-5,4]\n",
    "\n",
    "def append_maximum_sum_and_subArray_tuple_pop_from_last(nums_func):\n",
    "    nums_to_process_for_function_call = deepcopy(nums_func)\n",
    "    ph_sum_array = 0\n",
    "    ph_subArray_sum = []\n",
    "    while nums_to_process_for_function_call != []:\n",
    "        nums_to_process = deepcopy(nums_to_process_for_function_call)\n",
    "        for i in nums_to_process_for_function_call:\n",
    "            ph_sum_array += i\n",
    "        if (ph_sum_array,nums_to_process) not in ph_subArray_sum:\n",
    "            ph_subArray_sum.append((ph_sum_array,nums_to_process))\n",
    "        #print(ph_subArray_sum)\n",
    "        ph_sum_array = 0\n",
    "        nums_to_process_for_function_call.pop(-1)\n",
    "        #print(ph_subArray_sum)\n",
    "    ph_subArray_sum.sort()\n",
    "    return ph_subArray_sum[-1]\n",
    "\n",
    "def append_maximum_sum_and_subArray_tuple_pop_from_beginning(nums_func):\n",
    "    nums_to_process_for_function_call = deepcopy(nums_func)\n",
    "    ph_sum_array = 0\n",
    "    ph_subArray_sum = []\n",
    "    while nums_to_process_for_function_call != []:\n",
    "        nums_to_process = deepcopy(nums_to_process_for_function_call)\n",
    "        for i in nums_to_process_for_function_call:\n",
    "            ph_sum_array += i\n",
    "        if (ph_sum_array,nums_to_process) not in ph_subArray_sum:\n",
    "            ph_subArray_sum.append((ph_sum_array,nums_to_process))\n",
    "        #print(ph_subArray_sum)\n",
    "        ph_sum_array = 0\n",
    "        nums_to_process_for_function_call.pop(0)\n",
    "        #print(ph_subArray_sum)\n",
    "    ph_subArray_sum.sort()\n",
    "    return ph_subArray_sum[-1]\n",
    "\n",
    "def append_maximum_sum_and_subArray_tuple_pop_from_sidebyside(nums_func):\n",
    "    flip = 0\n",
    "    nums_to_process_for_function_call = deepcopy(nums_func)\n",
    "    ph_sum_array = 0\n",
    "    ph_subArray_sum = []\n",
    "    while nums_to_process_for_function_call != []:\n",
    "        nums_to_process = deepcopy(nums_to_process_for_function_call)\n",
    "        for i in nums_to_process_for_function_call:\n",
    "            ph_sum_array += i\n",
    "        if (ph_sum_array,nums_to_process) not in ph_subArray_sum:\n",
    "            ph_subArray_sum.append((ph_sum_array,nums_to_process))\n",
    "        #print(ph_subArray_sum)\n",
    "        ph_sum_array = 0\n",
    "        if flip == 0:\n",
    "            nums_to_process_for_function_call.pop(0)\n",
    "            flip = 1\n",
    "        elif flip == 1:\n",
    "            nums_to_process_for_function_call.pop(-1)\n",
    "            flip = 0          \n",
    "        #print(ph_subArray_sum)\n",
    "    ph_subArray_sum.sort()\n",
    "    return ph_subArray_sum[-1]\n",
    "\n",
    "result_of_max_subArray_popped_last = append_maximum_sum_and_subArray_tuple_pop_from_last(nums)\n",
    "result_of_max_subArray_popped_beginning = append_maximum_sum_and_subArray_tuple_pop_from_beginning(nums)\n",
    "result_of_max_subArray_popped_sidebyside = append_maximum_sum_and_subArray_tuple_pop_from_sidebyside(nums)\n",
    "\n",
    "ph_output_maxSubarray = [result_of_max_subArray_popped_last,result_of_max_subArray_popped_beginning,result_of_max_subArray_popped_sidebyside]\n",
    "ph_output_maxSubarray.sort()\n",
    "ph_output_maxSubarray[-1]"
   ]
  },
  {
   "cell_type": "code",
   "execution_count": 8,
   "id": "993f879f",
   "metadata": {},
   "outputs": [
    {
     "name": "stdout",
     "output_type": "stream",
     "text": [
      "1\n",
      "2\n",
      "replaced 3 with new value sample\n",
      "4\n",
      "5\n",
      "(1, 2, 'replaced 3 with new value sample', 4, 5)\n"
     ]
    }
   ],
   "source": [
    "ph_tuple = []\n",
    "for idx,i in enumerate(params):\n",
    "    if idx == 2:\n",
    "        print('replaced 3 with new value sample')\n",
    "        ph_tuple.append('replaced 3 with new value sample')\n",
    "    else:\n",
    "        print(i)\n",
    "        ph_tuple.append(i)\n",
    "print(tuple(ph_tuple))        "
   ]
  },
  {
   "cell_type": "code",
   "execution_count": 7,
   "id": "8ffe84fe",
   "metadata": {},
   "outputs": [
    {
     "name": "stdout",
     "output_type": "stream",
     "text": [
      "(1, 2, 3, 4, 5)\n"
     ]
    }
   ],
   "source": [
    "process_type = 3\n",
    "params = (1,2,process_type,4,5)\n",
    "print(params)"
   ]
  },
  {
   "cell_type": "markdown",
   "id": "6454ecfe",
   "metadata": {},
   "source": [
    "# 152. Maximum Product Subarray\n",
    "**Difficulty:** Medium\n",
    "\n",
    "Given an integer array `nums`, find a **subarray** that has the largest product, and return the product.\n",
    "\n",
    "## Examples\n",
    "\n",
    "**Example 1:**\n",
    "- **Input:** `nums = [2,3,-2,4]`\n",
    "- **Output:** `6`\n",
    "- **Explanation:** `[2,3]` has the largest product `6`.\n",
    "\n",
    "**Example 2:**\n",
    "- **Input:** `nums = [-2,0,-1]`\n",
    "- **Output:** `0`\n",
    "- **Explanation:** The result cannot be `2`, because `[-2,-1]` is not a subarray.\n"
   ]
  },
  {
   "cell_type": "code",
   "execution_count": 62,
   "id": "d89ba7d0",
   "metadata": {},
   "outputs": [
    {
     "name": "stdout",
     "output_type": "stream",
     "text": [
      "\n",
      "\tInput: `nums = [2, 3, -2, 4]`\n",
      "            Output: 6\n",
      "            Explanation: The subarray `[2, 3]` has the largest product `6`\n",
      "\n",
      "\tInput: `nums = [-2, 0, -1]`\n",
      "            Output: `0`\n",
      "            Explanation: The result cannot be `2`, because `[-2,-1]` is not a subarray.\n",
      "\n"
     ]
    }
   ],
   "source": [
    "class Solution(object):\n",
    "\n",
    "    def maxProduct(self,nums):\n",
    "\n",
    "        from copy import deepcopy\n",
    "        ph_output_maxSubarray = []\n",
    "\n",
    "        def append_maximum_product_and_subArray_tuple_pop(nums_func,approach):\n",
    "\n",
    "            nums_to_process_for_function_call = deepcopy(nums_func)\n",
    "            flip = 0\n",
    "            ph_product_array = 1\n",
    "            ph_subArray_product = []\n",
    "\n",
    "            while nums_to_process_for_function_call != []:\n",
    "                nums_to_process = deepcopy(nums_to_process_for_function_call)\n",
    "                for i in nums_to_process_for_function_call:\n",
    "                    ph_product_array *= i\n",
    "                if (ph_product_array,nums_to_process) not in ph_subArray_product:\n",
    "                    ph_subArray_product.append((ph_product_array,nums_to_process))\n",
    "                ph_product_array = 1\n",
    "                if approach == 'side-by-side':\n",
    "                    if flip == 0:\n",
    "                        nums_to_process_for_function_call.pop(0)\n",
    "                        flip = 1\n",
    "                    elif flip == 1:\n",
    "                        nums_to_process_for_function_call.pop(-1)\n",
    "                        flip = 0\n",
    "                else:\n",
    "                    nums_to_process_for_function_call.pop(approach)\n",
    "            ph_output_maxSubarray.append(max(ph_subArray_product))\n",
    "        \n",
    "        append_maximum_product_and_subArray_tuple_pop(nums,0),\n",
    "        append_maximum_product_and_subArray_tuple_pop(nums,-1),\n",
    "        append_maximum_product_and_subArray_tuple_pop(nums,'side-by-side')\n",
    "\n",
    "        if 0 not in nums:\n",
    "            return f'''\\tInput: `nums = {nums}`\n",
    "            Output: {max(ph_output_maxSubarray)[0]}\n",
    "            Explanation: The subarray `{max(ph_output_maxSubarray)[1]}` has the largest product `{max(ph_output_maxSubarray)[0]}`'''\n",
    "        else:\n",
    "            return f'''\\tInput: `nums = {nums}`\n",
    "            Output: `{max(ph_output_maxSubarray)[0]}`\n",
    "            Explanation: The result cannot be `{nums[0]*-1}`, because `[{nums[0]},{nums[-1]}]` is not a subarray.'''\n",
    "    \n",
    "solution = Solution()\n",
    "\n",
    "print()\n",
    "print(solution.maxProduct([2,3,-2,4]))\n",
    "print()\n",
    "print(solution.maxProduct([-2,0,-1]))\n",
    "print()"
   ]
  },
  {
   "cell_type": "code",
   "execution_count": 72,
   "id": "74947cde",
   "metadata": {},
   "outputs": [
    {
     "name": "stdout",
     "output_type": "stream",
     "text": [
      "\tInput: `nums = [2, 3, -2, 4]`\n",
      "            Output: 6\n",
      "            Explanation: The subarray `[2, 3]` has the largest product `6`\n",
      "\n",
      "\tInput: `nums = [-2, 0, -1]`\n",
      "            Output: `0`\n",
      "            Explanation: The result cannot be `2`, because `[-2, -1]` is not a subarray.\n"
     ]
    }
   ],
   "source": [
    "class Solution(object):\n",
    "\n",
    "    def maxProduct(self,nums):\n",
    "\n",
    "        from functools import reduce\n",
    "        from copy import deepcopy\n",
    "        ph_output_maxSubarray = []\n",
    "\n",
    "        def append_maximum_product_and_subArray_tuple_pop(nums_func,approach):\n",
    "\n",
    "            nums_to_process_for_function_call = deepcopy(nums_func)\n",
    "            flip = 0\n",
    "            ph_product_array = 1\n",
    "            ph_subArray_product = []\n",
    "\n",
    "            while nums_to_process_for_function_call != []:\n",
    "                nums_to_process = deepcopy(nums_to_process_for_function_call)\n",
    "                for i in nums_to_process_for_function_call:\n",
    "                    ph_product_array *= i\n",
    "                if (ph_product_array,nums_to_process) not in ph_subArray_product:\n",
    "                    ph_subArray_product.append((ph_product_array,nums_to_process))\n",
    "                ph_product_array = 1\n",
    "                if approach == 'side-by-side':\n",
    "                    if flip == 0:\n",
    "                        nums_to_process_for_function_call.pop(0)\n",
    "                        flip = 1\n",
    "                    elif flip == 1:\n",
    "                        nums_to_process_for_function_call.pop(-1)\n",
    "                        flip = 0\n",
    "                else:\n",
    "                    nums_to_process_for_function_call.pop(approach)\n",
    "            ph_output_maxSubarray.append(max(ph_subArray_product))\n",
    "        \n",
    "        append_maximum_product_and_subArray_tuple_pop(nums,0),\n",
    "        append_maximum_product_and_subArray_tuple_pop(nums,-1),\n",
    "        append_maximum_product_and_subArray_tuple_pop(nums,'side-by-side')\n",
    "\n",
    "        if 0 not in nums:\n",
    "            return f'''\\tInput: `nums = {nums}`\n",
    "            Output: {max(ph_output_maxSubarray)[0]}\n",
    "            Explanation: The subarray `{max(ph_output_maxSubarray)[1]}` has the largest product `{max(ph_output_maxSubarray)[0]}`'''\n",
    "        else:\n",
    "            nums_to_pop = deepcopy(nums)\n",
    "            nums_to_pop.pop(nums.index(0))\n",
    "            return f'''\\tInput: `nums = {nums}`\n",
    "            Output: `{max(ph_output_maxSubarray)[0]}`\n",
    "            Explanation: The result cannot be `{reduce(lambda x, y: x * y, nums_to_pop, 1)}`, because `{nums_to_pop}` is not a subarray.'''\n",
    "    \n",
    "solution = Solution()\n",
    "\n",
    "print(solution.maxProduct([2,3,-2,4]))\n",
    "print()\n",
    "print(solution.maxProduct([-2,0,-1]))"
   ]
  },
  {
   "cell_type": "code",
   "execution_count": 85,
   "id": "8f157f1a",
   "metadata": {},
   "outputs": [
    {
     "name": "stdout",
     "output_type": "stream",
     "text": [
      "[-2, -1, 9]\n",
      "18\n"
     ]
    }
   ],
   "source": [
    "nums = [-2,0,-1,9]\n",
    "\n",
    "nums.pop(nums.index(0))\n",
    "print(nums)\n",
    "\n",
    "phNoZeroProductArray = 1\n",
    "for i in nums:\n",
    "    phNoZeroProductArray *= i\n",
    "\n",
    "print(phNoZeroProductArray)"
   ]
  },
  {
   "cell_type": "markdown",
   "id": "812dfdb3",
   "metadata": {},
   "source": [
    "### Using `reduce`\n",
    "\n",
    "```python\n",
    "from functools import reduce\n",
    "\n",
    "def productArray(nums_to_pop): \n",
    "    return reduce(lambda x, y: x * y, nums_to_pop, 1)\n",
    "```\n",
    "\n",
    "### Explanation\n",
    "\n",
    "1. **Importing `reduce`**: \n",
    "   - We import `reduce` from the `functools` module, which is a standard Python library module that provides higher-order functions.\n",
    "\n",
    "2. **Function Definition**: \n",
    "   - The function `productArray` takes one argument: `nums_to_pop`, which is expected to be a list of numbers.\n",
    "\n",
    "3. **The `reduce` Function**:\n",
    "   - **Syntax**: `reduce(function, iterable[, initializer])`\n",
    "   - `function`: This is a binary function that takes two arguments and returns a single value. In our case, it's a lambda function defined as `lambda x, y: x * y`.\n",
    "   - `iterable`: This is the list (or any iterable) that you want to reduce, which in this case is `nums_to_pop`.\n",
    "   - `initializer` (optional): This is a starting value. If provided, it is used as the first argument to the function. Here, we use `1` because multiplying by 1 has no effect on the product.\n",
    "\n",
    "4. **The Lambda Function**:\n",
    "   - The lambda function `lambda x, y: x * y` takes two parameters `x` and `y`. It multiplies them together. This is applied to the elements of `nums_to_pop` in a cumulative manner.\n",
    "   - For example, if `nums_to_pop` is `[2, 3, 4]`, the computation proceeds as follows:\n",
    "     - Start with `1` (the initializer).\n",
    "     - Apply the function: `1 * 2 = 2`\n",
    "     - Then: `2 * 3 = 6`\n",
    "     - Finally: `6 * 4 = 24`\n",
    "\n",
    "5. **Return Value**:\n",
    "   - The final result, which is the product of all the elements in the list, is returned.\n",
    "\n",
    "### Example\n",
    "\n",
    "Let's say you call the function with:\n",
    "\n",
    "```python\n",
    "result = productArray([2, 3, 4])\n",
    "print(result)  # Output: 24\n",
    "```\n",
    "\n",
    "Here's what happens step-by-step:\n",
    "- The `reduce` function starts with `1` and multiplies it by the first element `2`, resulting in `2`.\n",
    "- Then, it takes `2` and multiplies it by the next element `3`, resulting in `6`.\n",
    "- Finally, it takes `6` and multiplies it by `4`, resulting in `24`.\n",
    "\n",
    "### Summary\n",
    "\n",
    "Using `reduce` in this way allows you to perform cumulative operations on an iterable succinctly. It is particularly useful for operations like product, sum, or any other binary operation that needs to be applied across a sequence of values."
   ]
  },
  {
   "cell_type": "code",
   "execution_count": 83,
   "id": "1328ed2f",
   "metadata": {},
   "outputs": [
    {
     "name": "stdout",
     "output_type": "stream",
     "text": [
      "[-2, -1, 9]\n",
      "18\n"
     ]
    }
   ],
   "source": [
    "from functools import reduce\n",
    "\n",
    "nums = [-2,0,-1,9]\n",
    "\n",
    "nums.pop(nums.index(0))\n",
    "print(nums)\n",
    "\n",
    "print(reduce(lambda x, y: x * y, nums))"
   ]
  },
  {
   "cell_type": "markdown",
   "id": "dbb6487d",
   "metadata": {},
   "source": [
    "# 153. Find Minimum in Rotated Sorted Array\n",
    "**Difficulty:** Medium\n",
    "\n",
    "Suppose an array of length `n` sorted in ascending order is rotated between `1` and `n` times. For example, the array `nums = [0,1,2,4,5,6,7]` might become:\n",
    "\n",
    "- `[4,5,6,7,0,1,2]` if it was rotated 4 times.\n",
    "- `[0,1,2,4,5,6,7]` if it was rotated 7 times.\n",
    "\n",
    "Notice that rotating an array `[a[0], a[1], a[2], ..., a[n-1]]` 1 time results in the array `[a[n-1], a[0], a[1], a[2], ..., a[n-2]]`.\n",
    "\n",
    "Given the sorted rotated array `nums` of unique elements, return the minimum element of this array.\n",
    "\n",
    "You must write an algorithm that runs in O(log n) time.\n",
    "\n",
    "## Examples\n",
    "\n",
    "**Example 1:**\n",
    "- **Input:** `nums = [3,4,5,1,2]`\n",
    "- **Output:** `1`\n",
    "- **Explanation:** The original array was `[1,2,3,4,5]` rotated 3 times.\n",
    "\n",
    "**Example 2:**\n",
    "- **Input:** `nums = [4,5,6,7,0,1,2]`\n",
    "- **Output:** `0`\n",
    "- **Explanation:** The original array was `[0,1,2,4,5,6,7]` and it was rotated 4 times.\n",
    "\n",
    "**Example 3:**\n",
    "- **Input:** `nums = [11,13,15,17]`\n",
    "- **Output:** `11`\n",
    "- **Explanation:** The original array was `[11,13,15,17]` and it was rotated 4 times.\n"
   ]
  },
  {
   "cell_type": "code",
   "execution_count": 176,
   "id": "72fbca60",
   "metadata": {},
   "outputs": [
    {
     "name": "stdout",
     "output_type": "stream",
     "text": [
      "Input: nums = [3, 4, 5, 1, 2]\n",
      "Output: 1\n",
      "Explanation: The original array was [3, 4, 5, 1, 2] and it was rotated 3 times.\n",
      "\n",
      "Input: nums = [4, 5, 6, 7, 0, 1, 2]\n",
      "Output: 0\n",
      "Explanation: The original array was [4, 5, 6, 7, 0, 1, 2] and it was rotated 4 times.\n",
      "\n",
      "Input: nums = [11, 13, 15, 17]\n",
      "Output: 11\n",
      "Explanation: The original array was [11, 13, 15, 17] and it was rotated 4 times.\n"
     ]
    }
   ],
   "source": [
    "from copy import deepcopy\n",
    "\n",
    "class Solution(object):\n",
    "\n",
    "    def findMin(self,nums):\n",
    "\n",
    "        nums_to_pop = deepcopy(nums)\n",
    "        length_nums = len(nums_to_pop)\n",
    "        min_of_nums = nums_to_pop.index(min(nums_to_pop))\n",
    "\n",
    "        for idx,i in enumerate(nums_to_pop,start=1):\n",
    "            to_be_insert_at_the_end = nums_to_pop.pop(0)\n",
    "            nums_to_pop.insert(length_nums-1,to_be_insert_at_the_end)\n",
    "            if idx == min_of_nums:\n",
    "                break\n",
    "\n",
    "        if nums[0] == min(nums):\n",
    "            return rotations(nums,nums_to_pop[0],len(nums))\n",
    "        else:\n",
    "            return rotations(nums,nums_to_pop[0],nums.index(min(nums_to_pop)))\n",
    "\n",
    "def rotations(input,output,rotation):\n",
    "    return f'''Input: nums = {input}\n",
    "Output: {output}\n",
    "Explanation: The original array was {input} and it was rotated {rotation} times.'''\n",
    "solution = Solution()\n",
    "\n",
    "print(solution.findMin([3,4,5,1,2]))\n",
    "print()\n",
    "print(solution.findMin([4,5,6,7,0,1,2]))\n",
    "print()\n",
    "print(solution.findMin([11,13,15,17]))"
   ]
  },
  {
   "cell_type": "code",
   "execution_count": 133,
   "id": "33ffef4e",
   "metadata": {},
   "outputs": [
    {
     "name": "stdout",
     "output_type": "stream",
     "text": [
      "3\n",
      "5\n",
      "\n",
      "[3, 4, 5, 1, 2]\n",
      "[4, 5, 1, 2, 3]\n",
      "[5, 1, 2, 3, 4]\n",
      "[1, 2, 3, 4, 5]\n",
      "[1, 2, 3, 4, 5]\n"
     ]
    }
   ],
   "source": [
    "nums = [3,4,5,1,2]\n",
    "length_nums = len(nums)\n",
    "min_of_nums = nums.index(min(nums))\n",
    "print(nums.index(min(nums)))\n",
    "print(length_nums)\n",
    "\n",
    "cntr_min_nums = 0\n",
    "print()\n",
    "\n",
    "for i in nums:\n",
    "    cntr_min_nums+=1\n",
    "    print(nums)\n",
    "    to_be_insert_at_the_end = nums.pop(0)\n",
    "    nums.insert(length_nums-1,to_be_insert_at_the_end)\n",
    "    if cntr_min_nums == min_of_nums:\n",
    "        \n",
    "        break\n",
    "\n",
    "print(nums)"
   ]
  },
  {
   "cell_type": "code",
   "execution_count": 145,
   "id": "3e3aeb86",
   "metadata": {},
   "outputs": [
    {
     "name": "stdout",
     "output_type": "stream",
     "text": [
      "1\n",
      "0\n",
      "11\n"
     ]
    }
   ],
   "source": [
    "def findMin(nums):\n",
    "\n",
    "    length_nums = len(nums)\n",
    "    min_of_nums = nums.index(min(nums))\n",
    "\n",
    "    for idx,i in enumerate(nums,start=1):\n",
    "        to_be_insert_at_the_end = nums.pop(0)\n",
    "        nums.insert(length_nums-1,to_be_insert_at_the_end)\n",
    "        if idx == min_of_nums:\n",
    "            break\n",
    "\n",
    "    return nums[0]\n",
    "\n",
    "print(findMin([3,4,5,1,2]))\n",
    "print(findMin([4,5,6,7,0,1,2]))\n",
    "print(findMin([11,13,15,17]))"
   ]
  },
  {
   "cell_type": "markdown",
   "id": "51376991",
   "metadata": {},
   "source": [
    "# 33. Search in Rotated Sorted Array\n",
    "**Difficulty:** Medium\n",
    "\n",
    "There is an integer array `nums` sorted in ascending order (with distinct values).\n",
    "\n",
    "Prior to being passed to your function, `nums` is possibly rotated at an unknown \n",
    "pivot index `k` (1 <= k < `nums.length`) \n",
    "\n",
    "such that the resulting array is \n",
    "`[nums[k], nums[k+1], ..., nums[n-1], nums[0], nums[1], ..., nums[k-1]]` (0-indexed). \n",
    "\n",
    "For example, `[0,1,2,4,5,6,7]` might be rotated at pivot index 3 and become `[4,5,6,7,0,1,2]`.\n",
    "\n",
    "Given the array `nums` after the possible rotation and an integer `target`, \n",
    "\n",
    "return the index of `target` if it is in `nums`, or `-1` if it is not in `nums`.\n",
    "\n",
    "## Examples\n",
    "\n",
    "**Example 1:**\n",
    "- **Input:** `nums = [4,5,6,7,0,1,2], target = 0`\n",
    "- **Output:** `4`\n",
    "\n",
    "**Example 2:**\n",
    "- **Input:** `nums = [4,5,6,7,0,1,2], target = 3`\n",
    "- **Output:** `-1`\n",
    "\n",
    "**Example 3:**\n",
    "- **Input:** `nums = [1], target = 0`\n",
    "- **Output:** `-1`\n"
   ]
  },
  {
   "cell_type": "code",
   "execution_count": null,
   "id": "3913de9f",
   "metadata": {},
   "outputs": [
    {
     "name": "stdout",
     "output_type": "stream",
     "text": [
      "Input: nums = [4, 5, 6, 7, 0, 1, 2], target = 0\n",
      "Output: 4\n",
      "\n",
      "Input: nums = [4, 5, 6, 7, 0, 1, 2], target = 3\n",
      "Output: -1\n",
      "\n",
      "Input: nums = [1], target = 0\n",
      "Output: -1\n"
     ]
    }
   ],
   "source": [
    "class Solution(object):\n",
    "    \n",
    "    def search(self, nums, target):\n",
    "\n",
    "        if target not in nums:\n",
    "            return f\"\"\"Input: nums = {nums}, target = {target}\\nOutput: -1\"\"\"\n",
    "        else:\n",
    "            return f\"\"\"Input: nums = {nums}, target = {target}\\nOutput: {nums.index(target)}\"\"\"\n",
    "                \n",
    "solution = Solution()\n",
    "\n",
    "print(solution.search([4,5,6,7,0,1,2],0))\n",
    "print()\n",
    "print(solution.search([4,5,6,7,0,1,2],3))\n",
    "print()\n",
    "print(solution.search([1],0))"
   ]
  },
  {
   "cell_type": "code",
   "execution_count": 183,
   "id": "403e1941",
   "metadata": {},
   "outputs": [
    {
     "name": "stdout",
     "output_type": "stream",
     "text": [
      "Input: nums = [4, 5, 6, 7, 0, 1, 2], target = 0\n",
      "Output: 4\n",
      "\n",
      "Input: nums = [4, 5, 6, 7, 0, 1, 2], target = 3\n",
      "Output: -1\n",
      "\n",
      "Input: nums = [1], target = 0\n",
      "Output: -1\n"
     ]
    }
   ],
   "source": [
    "class Solution(object):\n",
    "    \n",
    "    def search(self, nums, target):\n",
    "\n",
    "        if target not in nums:\n",
    "            return f\"\"\"Input: nums = {nums}, target = {target}\\nOutput: -1\"\"\"\n",
    "        else:\n",
    "            for idx,num in enumerate(nums):\n",
    "                if target == num:\n",
    "                    return f\"\"\"Input: nums = {nums}, target = {target}\\nOutput: {idx}\"\"\"\n",
    "                \n",
    "solution = Solution()\n",
    "\n",
    "print(solution.search([4,5,6,7,0,1,2],0))\n",
    "print()\n",
    "print(solution.search([4,5,6,7,0,1,2],3))\n",
    "print()\n",
    "print(solution.search([1],0))"
   ]
  },
  {
   "cell_type": "code",
   "execution_count": 181,
   "id": "8040cea8",
   "metadata": {},
   "outputs": [
    {
     "name": "stdout",
     "output_type": "stream",
     "text": [
      "4\n",
      "\n",
      "-1\n",
      "\n",
      "-1\n"
     ]
    }
   ],
   "source": [
    "class Solution(object):\n",
    "    \n",
    "    def search(self, nums, target):\n",
    "\n",
    "        if target not in nums:\n",
    "            return -1\n",
    "        else:\n",
    "            for idx,val in enumerate(nums):\n",
    "                if target == val:\n",
    "                    return idx\n",
    "                \n",
    "solution = Solution()\n",
    "\n",
    "print(solution.search([4,5,6,7,0,1,2],0))\n",
    "print()\n",
    "print(solution.search([4,5,6,7,0,1,2],3))\n",
    "print()\n",
    "print(solution.search([1],0))"
   ]
  },
  {
   "cell_type": "markdown",
   "id": "181d32db",
   "metadata": {},
   "source": [
    "# Group JSON data per week"
   ]
  },
  {
   "cell_type": "code",
   "execution_count": 191,
   "id": "99b93ad3",
   "metadata": {},
   "outputs": [
    {
     "name": "stdout",
     "output_type": "stream",
     "text": [
      "Collecting pysqldf\n",
      "  Downloading https://files.pythonhosted.org/packages/12/a4/8c43cdf5880400969b778240b43ad1f492e841b2858faee2f097e7175cd0/pysqldf-1.2.3-py2.py3-none-any.whl\n",
      "Collecting pandas (from pysqldf)\n",
      "  Downloading https://files.pythonhosted.org/packages/79/87/8bb36bd4ebae147612c73d1bdc1385db7beebb9eb141c4bfefb33f52c87c/pandas-1.1.5-cp36-cp36m-win_amd64.whl (8.7MB)\n",
      "Collecting pytz>=2017.2 (from pandas->pysqldf)\n",
      "  Downloading https://files.pythonhosted.org/packages/11/c3/005fcca25ce078d2cc29fd559379817424e94885510568bc1bc53d7d5846/pytz-2024.2-py2.py3-none-any.whl (508kB)\n",
      "Collecting numpy>=1.15.4 (from pandas->pysqldf)\n",
      "  Downloading https://files.pythonhosted.org/packages/ea/bc/da526221bc111857c7ef39c3af670bbcf5e69c247b0d22e51986f6d0c5c2/numpy-1.19.5-cp36-cp36m-win_amd64.whl (13.2MB)\n",
      "Requirement already satisfied: python-dateutil>=2.7.3 in c:\\users\\p101i3ph1\\appdata\\roaming\\python\\python36\\site-packages (from pandas->pysqldf) (2.9.0.post0)\n",
      "Requirement already satisfied: six>=1.5 in c:\\users\\p101i3ph1\\appdata\\roaming\\python\\python36\\site-packages (from python-dateutil>=2.7.3->pandas->pysqldf) (1.16.0)\n",
      "Installing collected packages: pytz, numpy, pandas, pysqldf\n",
      "Successfully installed numpy-1.19.5 pandas-1.1.5 pysqldf-1.2.3 pytz-2024.2\n",
      "Note: you may need to restart the kernel to use updated packages.\n"
     ]
    },
    {
     "name": "stderr",
     "output_type": "stream",
     "text": [
      "  The script f2py.exe is installed in 'c:\\Users\\P101I3PH1\\AppData\\Local\\Programs\\Python\\Python36\\Scripts' which is not on PATH.\n",
      "  Consider adding this directory to PATH or, if you prefer to suppress this warning, use --no-warn-script-location.\n",
      "You are using pip version 18.1, however version 21.3.1 is available.\n",
      "You should consider upgrading via the 'python -m pip install --upgrade pip' command.\n"
     ]
    }
   ],
   "source": [
    "pip install pysqldf"
   ]
  },
  {
   "cell_type": "code",
   "execution_count": 212,
   "id": "ca43bca1",
   "metadata": {},
   "outputs": [
    {
     "ename": "TypeError",
     "evalue": "'module' object is not callable",
     "output_type": "error",
     "traceback": [
      "\u001b[1;31m---------------------------------------------------------------------------\u001b[0m",
      "\u001b[1;31mTypeError\u001b[0m                                 Traceback (most recent call last)",
      "\u001b[1;32m<ipython-input-212-f9615fd1e2cc>\u001b[0m in \u001b[0;36m<module>\u001b[1;34m\u001b[0m\n\u001b[0;32m     63\u001b[0m \u001b[1;33m\u001b[0m\u001b[0m\n\u001b[0;32m     64\u001b[0m \u001b[1;31m# Create a function to access the DataFrame\u001b[0m\u001b[1;33m\u001b[0m\u001b[1;33m\u001b[0m\u001b[1;33m\u001b[0m\u001b[0m\n\u001b[1;32m---> 65\u001b[1;33m \u001b[0mpysqldf\u001b[0m \u001b[1;33m=\u001b[0m \u001b[0msqldf\u001b[0m\u001b[1;33m(\u001b[0m\u001b[1;33m)\u001b[0m\u001b[1;33m\u001b[0m\u001b[1;33m\u001b[0m\u001b[0m\n\u001b[0m\u001b[0;32m     66\u001b[0m \u001b[1;33m\u001b[0m\u001b[0m\n\u001b[0;32m     67\u001b[0m \u001b[1;31m# Example SQL query\u001b[0m\u001b[1;33m\u001b[0m\u001b[1;33m\u001b[0m\u001b[1;33m\u001b[0m\u001b[0m\n",
      "\u001b[1;31mTypeError\u001b[0m: 'module' object is not callable"
     ]
    }
   ],
   "source": [
    "import pandas as pd\n",
    "from pysqldf import sqldf\n",
    "\n",
    "JSON_data = [\n",
    "  {\n",
    "    \"internalid\": \"3056735\",\n",
    "    \"Date\": \"10/15/2024\",\n",
    "    \"Rate\": \"337.50\",\n",
    "    \"Quantity\": \"3\",\n",
    "    \"Amount\": \"1012.50\",\n",
    "    \"Employee\": \"Eric Goodman\",\n",
    "    \"Task\": \"Design (Project Task)\"\n",
    "  },\n",
    "  {\n",
    "    \"internalid\": \"3056135\",\n",
    "    \"Date\": \"10/14/2024\",\n",
    "    \"Rate\": \"225.00\",\n",
    "    \"Quantity\": \"2\",\n",
    "    \"Amount\": \"450.00\",\n",
    "    \"Employee\": \"Eric Goodman\",\n",
    "    \"Task\": \"Launch (Project Task)\"\n",
    "  },\n",
    "  {\n",
    "    \"internalid\": \"3056137\",\n",
    "    \"Date\": \"10/8/2024\",\n",
    "    \"Rate\": \"225.00\",\n",
    "    \"Quantity\": \"8\",\n",
    "    \"Amount\": \"1800.00\",\n",
    "    \"Employee\": \"Eric Goodman\",\n",
    "    \"Task\": \"Launch (Project Task)\"\n",
    "  },\n",
    "  {\n",
    "    \"internalid\": \"3056138\",\n",
    "    \"Date\": \"10/15/2024\",\n",
    "    \"Rate\": \"225.00\",\n",
    "    \"Quantity\": \"4\",\n",
    "    \"Amount\": \"900.00\",\n",
    "    \"Employee\": \"Eric Goodman\",\n",
    "    \"Task\": \"Launch (Project Task)\"\n",
    "  },\n",
    "  {\n",
    "    \"internalid\": \"3055936\",\n",
    "    \"Date\": \"10/16/2024\",\n",
    "    \"Rate\": \"225.00\",\n",
    "    \"Quantity\": \"6\",\n",
    "    \"Amount\": \"1350.00\",\n",
    "    \"Employee\": \"Eric Goodman\",\n",
    "    \"Task\": \"Launch (Project Task)\"\n",
    "  },\n",
    "  {\n",
    "    \"internalid\": \"3056136\",\n",
    "    \"Date\": \"10/7/2024\",\n",
    "    \"Rate\": \"225.00\",\n",
    "    \"Quantity\": \"8\",\n",
    "    \"Amount\": \"1800.00\",\n",
    "    \"Employee\": \"Eric Goodman\",\n",
    "    \"Task\": \"Launch (Project Task)\"\n",
    "  }\n",
    "]\n",
    "\n",
    "# Create a DataFrame\n",
    "df = pd.DataFrame(JSON_data)\n",
    "\n",
    "# Create a function to access the DataFrame\n",
    "pysqldf = sqldf()\n",
    "\n",
    "# Example SQL query\n",
    "query = \"\"\"\n",
    "SELECT *\n",
    "FROM df\n",
    "\"\"\"\n",
    "\n",
    "# Execute the query\n",
    "result_df = pysqldf(query)\n",
    "\n",
    "# Display the result\n",
    "print(result_df)\n",
    "\n",
    "#for i in JSON_data:\n",
    "#    print(i['Date'])"
   ]
  },
  {
   "cell_type": "code",
   "execution_count": 245,
   "id": "ac14d74d",
   "metadata": {},
   "outputs": [
    {
     "data": {
      "text/html": [
       "<div>\n",
       "<style scoped>\n",
       "    .dataframe tbody tr th:only-of-type {\n",
       "        vertical-align: middle;\n",
       "    }\n",
       "\n",
       "    .dataframe tbody tr th {\n",
       "        vertical-align: top;\n",
       "    }\n",
       "\n",
       "    .dataframe thead th {\n",
       "        text-align: right;\n",
       "    }\n",
       "</style>\n",
       "<table border=\"1\" class=\"dataframe\">\n",
       "  <thead>\n",
       "    <tr style=\"text-align: right;\">\n",
       "      <th></th>\n",
       "      <th>Total_Quantity</th>\n",
       "      <th>Total_Amount</th>\n",
       "      <th>Week_Range</th>\n",
       "      <th>Employee</th>\n",
       "    </tr>\n",
       "  </thead>\n",
       "  <tbody>\n",
       "    <tr>\n",
       "      <th>0</th>\n",
       "      <td>16</td>\n",
       "      <td>3600.0</td>\n",
       "      <td>10/06/2024 - 10/12/2024</td>\n",
       "      <td>Eric Goodman</td>\n",
       "    </tr>\n",
       "    <tr>\n",
       "      <th>1</th>\n",
       "      <td>15</td>\n",
       "      <td>3712.5</td>\n",
       "      <td>10/13/2024 - 10/19/2024</td>\n",
       "      <td>Eric Goodman</td>\n",
       "    </tr>\n",
       "  </tbody>\n",
       "</table>\n",
       "</div>"
      ],
      "text/plain": [
       "   Total_Quantity  Total_Amount               Week_Range      Employee\n",
       "0              16        3600.0  10/06/2024 - 10/12/2024  Eric Goodman\n",
       "1              15        3712.5  10/13/2024 - 10/19/2024  Eric Goodman"
      ]
     },
     "execution_count": 245,
     "metadata": {},
     "output_type": "execute_result"
    }
   ],
   "source": [
    "import pandas as pd\n",
    "import pandasql as psql\n",
    "\n",
    "# Sample JSON data\n",
    "JSON_data = [{\"internalid\":\"3056735\",\"Date\":\"10/15/2024\",\"Rate\":\"337.50\",\"Quantity\":\"3\",\"Amount\":\"1012.50\",\"Employee\":\"Eric Goodman\",\"Task\":\"Design (Project Task)\",\"Week\":\"10/13/2024\"},{\"internalid\":\"3056135\",\"Date\":\"10/14/2024\",\"Rate\":\"225.00\",\"Quantity\":\"2\",\"Amount\":\"450.00\",\"Employee\":\"Eric Goodman\",\"Task\":\"Launch (Project Task)\",\"Week\":\"10/13/2024\"},{\"internalid\":\"3056137\",\"Date\":\"10/8/2024\",\"Rate\":\"225.00\",\"Quantity\":\"8\",\"Amount\":\"1800.00\",\"Employee\":\"Eric Goodman\",\"Task\":\"Launch (Project Task)\",\"Week\":\"10/6/2024\"},{\"internalid\":\"3056138\",\"Date\":\"10/15/2024\",\"Rate\":\"225.00\",\"Quantity\":\"4\",\"Amount\":\"900.00\",\"Employee\":\"Eric Goodman\",\"Task\":\"Launch (Project Task)\",\"Week\":\"10/13/2024\"},{\"internalid\":\"3055936\",\"Date\":\"10/16/2024\",\"Rate\":\"225.00\",\"Quantity\":\"6\",\"Amount\":\"1350.00\",\"Employee\":\"Eric Goodman\",\"Task\":\"Launch (Project Task)\",\"Week\":\"10/13/2024\"},{\"internalid\":\"3056136\",\"Date\":\"10/7/2024\",\"Rate\":\"225.00\",\"Quantity\":\"8\",\"Amount\":\"1800.00\",\"Employee\":\"Eric Goodman\",\"Task\":\"Launch (Project Task)\",\"Week\":\"10/6/2024\"}]\n",
    "\n",
    "# Create a DataFrame\n",
    "df = pd.DataFrame(JSON_data)\n",
    "\n",
    "# Convert 'Date' to datetime\n",
    "df['Date'] = pd.to_datetime(df['Date'])\n",
    "\n",
    "# Calculate week start (Sunday) and week end (Saturday) for each date\n",
    "df['Week_Start'] = df['Date'] - pd.to_timedelta(df['Date'].dt.weekday + 1, unit='D')\n",
    "df['Week_End'] = df['Week_Start'] + pd.Timedelta(days=6)\n",
    "\n",
    "# Create a week range column\n",
    "df['Week_Range'] = df['Week_Start'].dt.strftime('%m/%d/%Y') + ' - ' + df['Week_End'].dt.strftime('%m/%d/%Y')\n",
    "\n",
    "# Example SQL query to group by Week_Range and Employee\n",
    "query = \"\"\"\n",
    "SELECT SUM(Quantity) as Total_Quantity, SUM(Amount) as Total_Amount, Week_Range, Employee\n",
    "FROM df \n",
    "GROUP BY Week_Range, Employee\n",
    "ORDER BY Week_Range\n",
    "\"\"\"\n",
    "\n",
    "# Execute the query using pandasql\n",
    "result_df = psql.sqldf(query, locals())\n",
    "\n",
    "# Display the result\n",
    "result_df\n"
   ]
  },
  {
   "cell_type": "code",
   "execution_count": 246,
   "id": "df36f2b3",
   "metadata": {},
   "outputs": [
    {
     "data": {
      "text/html": [
       "<div>\n",
       "<style scoped>\n",
       "    .dataframe tbody tr th:only-of-type {\n",
       "        vertical-align: middle;\n",
       "    }\n",
       "\n",
       "    .dataframe tbody tr th {\n",
       "        vertical-align: top;\n",
       "    }\n",
       "\n",
       "    .dataframe thead th {\n",
       "        text-align: right;\n",
       "    }\n",
       "</style>\n",
       "<table border=\"1\" class=\"dataframe\">\n",
       "  <thead>\n",
       "    <tr style=\"text-align: right;\">\n",
       "      <th></th>\n",
       "      <th>internalid</th>\n",
       "      <th>Date</th>\n",
       "      <th>Rate</th>\n",
       "      <th>Quantity</th>\n",
       "      <th>Amount</th>\n",
       "      <th>Employee</th>\n",
       "      <th>Task</th>\n",
       "      <th>Week</th>\n",
       "    </tr>\n",
       "  </thead>\n",
       "  <tbody>\n",
       "    <tr>\n",
       "      <th>0</th>\n",
       "      <td>3056136</td>\n",
       "      <td>2024-10-07</td>\n",
       "      <td>225.00</td>\n",
       "      <td>8</td>\n",
       "      <td>1800.00</td>\n",
       "      <td>Eric Goodman</td>\n",
       "      <td>Launch (Project Task)</td>\n",
       "      <td>10/6/2024</td>\n",
       "    </tr>\n",
       "    <tr>\n",
       "      <th>1</th>\n",
       "      <td>3056137</td>\n",
       "      <td>2024-10-08</td>\n",
       "      <td>225.00</td>\n",
       "      <td>8</td>\n",
       "      <td>1800.00</td>\n",
       "      <td>Eric Goodman</td>\n",
       "      <td>Launch (Project Task)</td>\n",
       "      <td>10/6/2024</td>\n",
       "    </tr>\n",
       "    <tr>\n",
       "      <th>2</th>\n",
       "      <td>3056135</td>\n",
       "      <td>2024-10-14</td>\n",
       "      <td>225.00</td>\n",
       "      <td>2</td>\n",
       "      <td>450.00</td>\n",
       "      <td>Eric Goodman</td>\n",
       "      <td>Launch (Project Task)</td>\n",
       "      <td>10/13/2024</td>\n",
       "    </tr>\n",
       "    <tr>\n",
       "      <th>3</th>\n",
       "      <td>3056735</td>\n",
       "      <td>2024-10-15</td>\n",
       "      <td>337.50</td>\n",
       "      <td>3</td>\n",
       "      <td>1012.50</td>\n",
       "      <td>Eric Goodman</td>\n",
       "      <td>Design (Project Task)</td>\n",
       "      <td>10/13/2024</td>\n",
       "    </tr>\n",
       "    <tr>\n",
       "      <th>4</th>\n",
       "      <td>3056138</td>\n",
       "      <td>2024-10-15</td>\n",
       "      <td>225.00</td>\n",
       "      <td>4</td>\n",
       "      <td>900.00</td>\n",
       "      <td>Eric Goodman</td>\n",
       "      <td>Launch (Project Task)</td>\n",
       "      <td>10/13/2024</td>\n",
       "    </tr>\n",
       "    <tr>\n",
       "      <th>5</th>\n",
       "      <td>3055936</td>\n",
       "      <td>2024-10-16</td>\n",
       "      <td>225.00</td>\n",
       "      <td>6</td>\n",
       "      <td>1350.00</td>\n",
       "      <td>Eric Goodman</td>\n",
       "      <td>Launch (Project Task)</td>\n",
       "      <td>10/13/2024</td>\n",
       "    </tr>\n",
       "  </tbody>\n",
       "</table>\n",
       "</div>"
      ],
      "text/plain": [
       "  internalid        Date    Rate Quantity   Amount      Employee  \\\n",
       "0    3056136  2024-10-07  225.00        8  1800.00  Eric Goodman   \n",
       "1    3056137  2024-10-08  225.00        8  1800.00  Eric Goodman   \n",
       "2    3056135  2024-10-14  225.00        2   450.00  Eric Goodman   \n",
       "3    3056735  2024-10-15  337.50        3  1012.50  Eric Goodman   \n",
       "4    3056138  2024-10-15  225.00        4   900.00  Eric Goodman   \n",
       "5    3055936  2024-10-16  225.00        6  1350.00  Eric Goodman   \n",
       "\n",
       "                    Task        Week  \n",
       "0  Launch (Project Task)   10/6/2024  \n",
       "1  Launch (Project Task)   10/6/2024  \n",
       "2  Launch (Project Task)  10/13/2024  \n",
       "3  Design (Project Task)  10/13/2024  \n",
       "4  Launch (Project Task)  10/13/2024  \n",
       "5  Launch (Project Task)  10/13/2024  "
      ]
     },
     "execution_count": 246,
     "metadata": {},
     "output_type": "execute_result"
    }
   ],
   "source": [
    "import pandas as pd\n",
    "import pandasql as psql\n",
    "\n",
    "# Sample JSON data\n",
    "JSON_data = [\n",
    "    {\"internalid\":\"3056735\",\"Date\":\"10/15/2024\",\"Rate\":\"337.50\",\"Quantity\":\"3\",\"Amount\":\"1012.50\",\"Employee\":\"Eric Goodman\",\"Task\":\"Design (Project Task)\",\"Week\":\"10/13/2024\"},\n",
    "    {\"internalid\":\"3056135\",\"Date\":\"10/14/2024\",\"Rate\":\"225.00\",\"Quantity\":\"2\",\"Amount\":\"450.00\",\"Employee\":\"Eric Goodman\",\"Task\":\"Launch (Project Task)\",\"Week\":\"10/13/2024\"},\n",
    "    {\"internalid\":\"3056137\",\"Date\":\"10/8/2024\",\"Rate\":\"225.00\",\"Quantity\":\"8\",\"Amount\":\"1800.00\",\"Employee\":\"Eric Goodman\",\"Task\":\"Launch (Project Task)\",\"Week\":\"10/6/2024\"},\n",
    "    {\"internalid\":\"3056138\",\"Date\":\"10/15/2024\",\"Rate\":\"225.00\",\"Quantity\":\"4\",\"Amount\":\"900.00\",\"Employee\":\"Eric Goodman\",\"Task\":\"Launch (Project Task)\",\"Week\":\"10/13/2024\"},\n",
    "    {\"internalid\":\"3055936\",\"Date\":\"10/16/2024\",\"Rate\":\"225.00\",\"Quantity\":\"6\",\"Amount\":\"1350.00\",\"Employee\":\"Eric Goodman\",\"Task\":\"Launch (Project Task)\",\"Week\":\"10/13/2024\"},\n",
    "    {\"internalid\":\"3056136\",\"Date\":\"10/7/2024\",\"Rate\":\"225.00\",\"Quantity\":\"8\",\"Amount\":\"1800.00\",\"Employee\":\"Eric Goodman\",\"Task\":\"Launch (Project Task)\",\"Week\":\"10/6/2024\"}\n",
    "]\n",
    "\n",
    "# Create a DataFrame\n",
    "df = pd.DataFrame(JSON_data)\n",
    "\n",
    "# Convert 'Date' to a format that SQLite can handle\n",
    "df['Date'] = pd.to_datetime(df['Date']).dt.strftime('%Y-%m-%d')\n",
    "\n",
    "# Example SQL query\n",
    "query = \"\"\"\n",
    "SELECT *\n",
    "FROM df\n",
    "ORDER BY Date\n",
    "\"\"\"\n",
    "\n",
    "# Execute the query using pandasql\n",
    "result_df = psql.sqldf(query, locals())\n",
    "\n",
    "# Display the result\n",
    "result_df\n"
   ]
  },
  {
   "cell_type": "code",
   "execution_count": 237,
   "id": "d9679d8e",
   "metadata": {},
   "outputs": [
    {
     "data": {
      "text/html": [
       "<div>\n",
       "<style scoped>\n",
       "    .dataframe tbody tr th:only-of-type {\n",
       "        vertical-align: middle;\n",
       "    }\n",
       "\n",
       "    .dataframe tbody tr th {\n",
       "        vertical-align: top;\n",
       "    }\n",
       "\n",
       "    .dataframe thead th {\n",
       "        text-align: right;\n",
       "    }\n",
       "</style>\n",
       "<table border=\"1\" class=\"dataframe\">\n",
       "  <thead>\n",
       "    <tr style=\"text-align: right;\">\n",
       "      <th></th>\n",
       "      <th>internalid</th>\n",
       "      <th>Date</th>\n",
       "      <th>Rate</th>\n",
       "      <th>Quantity</th>\n",
       "      <th>Amount</th>\n",
       "      <th>Employee</th>\n",
       "      <th>Task</th>\n",
       "      <th>Week</th>\n",
       "    </tr>\n",
       "  </thead>\n",
       "  <tbody>\n",
       "    <tr>\n",
       "      <th>0</th>\n",
       "      <td>3056135</td>\n",
       "      <td>10/14/2024</td>\n",
       "      <td>225.00</td>\n",
       "      <td>2</td>\n",
       "      <td>450.00</td>\n",
       "      <td>Eric Goodman</td>\n",
       "      <td>Launch (Project Task)</td>\n",
       "      <td>10/13/2024</td>\n",
       "    </tr>\n",
       "    <tr>\n",
       "      <th>1</th>\n",
       "      <td>3056735</td>\n",
       "      <td>10/15/2024</td>\n",
       "      <td>337.50</td>\n",
       "      <td>3</td>\n",
       "      <td>1012.50</td>\n",
       "      <td>Eric Goodman</td>\n",
       "      <td>Design (Project Task)</td>\n",
       "      <td>10/13/2024</td>\n",
       "    </tr>\n",
       "    <tr>\n",
       "      <th>2</th>\n",
       "      <td>3056138</td>\n",
       "      <td>10/15/2024</td>\n",
       "      <td>225.00</td>\n",
       "      <td>4</td>\n",
       "      <td>900.00</td>\n",
       "      <td>Eric Goodman</td>\n",
       "      <td>Launch (Project Task)</td>\n",
       "      <td>10/13/2024</td>\n",
       "    </tr>\n",
       "    <tr>\n",
       "      <th>3</th>\n",
       "      <td>3055936</td>\n",
       "      <td>10/16/2024</td>\n",
       "      <td>225.00</td>\n",
       "      <td>6</td>\n",
       "      <td>1350.00</td>\n",
       "      <td>Eric Goodman</td>\n",
       "      <td>Launch (Project Task)</td>\n",
       "      <td>10/13/2024</td>\n",
       "    </tr>\n",
       "    <tr>\n",
       "      <th>4</th>\n",
       "      <td>3056136</td>\n",
       "      <td>10/7/2024</td>\n",
       "      <td>225.00</td>\n",
       "      <td>8</td>\n",
       "      <td>1800.00</td>\n",
       "      <td>Eric Goodman</td>\n",
       "      <td>Launch (Project Task)</td>\n",
       "      <td>10/6/2024</td>\n",
       "    </tr>\n",
       "    <tr>\n",
       "      <th>5</th>\n",
       "      <td>3056137</td>\n",
       "      <td>10/8/2024</td>\n",
       "      <td>225.00</td>\n",
       "      <td>8</td>\n",
       "      <td>1800.00</td>\n",
       "      <td>Eric Goodman</td>\n",
       "      <td>Launch (Project Task)</td>\n",
       "      <td>10/6/2024</td>\n",
       "    </tr>\n",
       "  </tbody>\n",
       "</table>\n",
       "</div>"
      ],
      "text/plain": [
       "  internalid        Date    Rate Quantity   Amount      Employee  \\\n",
       "0    3056135  10/14/2024  225.00        2   450.00  Eric Goodman   \n",
       "1    3056735  10/15/2024  337.50        3  1012.50  Eric Goodman   \n",
       "2    3056138  10/15/2024  225.00        4   900.00  Eric Goodman   \n",
       "3    3055936  10/16/2024  225.00        6  1350.00  Eric Goodman   \n",
       "4    3056136   10/7/2024  225.00        8  1800.00  Eric Goodman   \n",
       "5    3056137   10/8/2024  225.00        8  1800.00  Eric Goodman   \n",
       "\n",
       "                    Task        Week  \n",
       "0  Launch (Project Task)  10/13/2024  \n",
       "1  Design (Project Task)  10/13/2024  \n",
       "2  Launch (Project Task)  10/13/2024  \n",
       "3  Launch (Project Task)  10/13/2024  \n",
       "4  Launch (Project Task)   10/6/2024  \n",
       "5  Launch (Project Task)   10/6/2024  "
      ]
     },
     "execution_count": 237,
     "metadata": {},
     "output_type": "execute_result"
    }
   ],
   "source": [
    "import pandas as pd\n",
    "import pandasql as psql\n",
    "\n",
    "# Sample JSON data\n",
    "JSON_data = [{\"internalid\":\"3056735\",\"Date\":\"10/15/2024\",\"Rate\":\"337.50\",\"Quantity\":\"3\",\"Amount\":\"1012.50\",\"Employee\":\"Eric Goodman\",\"Task\":\"Design (Project Task)\",\"Week\":\"10/13/2024\"},{\"internalid\":\"3056135\",\"Date\":\"10/14/2024\",\"Rate\":\"225.00\",\"Quantity\":\"2\",\"Amount\":\"450.00\",\"Employee\":\"Eric Goodman\",\"Task\":\"Launch (Project Task)\",\"Week\":\"10/13/2024\"},{\"internalid\":\"3056137\",\"Date\":\"10/8/2024\",\"Rate\":\"225.00\",\"Quantity\":\"8\",\"Amount\":\"1800.00\",\"Employee\":\"Eric Goodman\",\"Task\":\"Launch (Project Task)\",\"Week\":\"10/6/2024\"},{\"internalid\":\"3056138\",\"Date\":\"10/15/2024\",\"Rate\":\"225.00\",\"Quantity\":\"4\",\"Amount\":\"900.00\",\"Employee\":\"Eric Goodman\",\"Task\":\"Launch (Project Task)\",\"Week\":\"10/13/2024\"},{\"internalid\":\"3055936\",\"Date\":\"10/16/2024\",\"Rate\":\"225.00\",\"Quantity\":\"6\",\"Amount\":\"1350.00\",\"Employee\":\"Eric Goodman\",\"Task\":\"Launch (Project Task)\",\"Week\":\"10/13/2024\"},{\"internalid\":\"3056136\",\"Date\":\"10/7/2024\",\"Rate\":\"225.00\",\"Quantity\":\"8\",\"Amount\":\"1800.00\",\"Employee\":\"Eric Goodman\",\"Task\":\"Launch (Project Task)\",\"Week\":\"10/6/2024\"}]\n",
    "\n",
    "# Create a DataFrame\n",
    "df = pd.DataFrame(JSON_data)\n",
    "\n",
    "# Example SQL query\n",
    "query = \"\"\"\n",
    "SELECT *\n",
    "FROM df \n",
    "ORDER BY Date\n",
    "\"\"\"\n",
    "\n",
    "# Execute the query using pandasql\n",
    "result_df = psql.sqldf(query, locals())\n",
    "\n",
    "# Display the result\n",
    "result_df\n"
   ]
  },
  {
   "cell_type": "markdown",
   "id": "8b288df6",
   "metadata": {},
   "source": [
    "# 300. Longest Increasing Subsequence\n",
    "**Difficulty:** Medium\n",
    "\n",
    "Given an integer array `nums`, return the length of the longest strictly increasing subsequence.\n",
    "\n",
    "## Examples\n",
    "\n",
    "**Example 1:**\n",
    "- **Input:** `nums = [10,9,2,5,3,7,101,18]`\n",
    "- **Output:** `4`\n",
    "- **Explanation:** The longest increasing subsequence is `[2,3,7,101]`, therefore the length is `4`.\n",
    "\n",
    "**Example 2:**\n",
    "- **Input:** `nums = [0,1,0,3,2,3]`\n",
    "- **Output:** `4`\n",
    "\n",
    "**Example 3:**\n",
    "- **Input:** `nums = [7,7,7,7,7,7,7]`\n",
    "- **Output:** `1`\n"
   ]
  },
  {
   "cell_type": "code",
   "execution_count": 413,
   "id": "4cc532c6",
   "metadata": {},
   "outputs": [
    {
     "name": "stdout",
     "output_type": "stream",
     "text": [
      "Input: nums = [10, 9, 2, 5, 3, 7, 101, 18]\n",
      "Output: 4\n",
      "Explanation: The longest increasing subsequence is [2, 3, 7, 101], therefore the length is 4.\n",
      "\n",
      "Input: nums = [0, 1, 0, 3, 2, 3]\n",
      "Output: 4\n",
      "Explanation: The longest increasing subsequence is [0, 1, 2, 3], therefore the length is 4.\n",
      "\n",
      "Input: nums = [7, 7, 7, 7, 7, 7, 7]\n",
      "Output: 1\n",
      "Explanation: The longest increasing subsequence is [7], therefore the length is 1.\n"
     ]
    }
   ],
   "source": [
    "from copy import deepcopy\n",
    "\n",
    "class Solution(object):\n",
    "\n",
    "    def lengthOfLIS(self,nums):\n",
    "\n",
    "        nums_not_constant = deepcopy(nums)\n",
    "\n",
    "        idx_cntr = 0\n",
    "        nums_to_process = nums_not_constant\n",
    "        ph_array_stg = []\n",
    "        ph_array_main = []\n",
    "\n",
    "        while nums_not_constant != []:\n",
    "\n",
    "            for idx,num in enumerate(nums_to_process):\n",
    "\n",
    "                if num not in ph_array_stg:\n",
    "                    ph_array_stg.append(num)   \n",
    "                    \n",
    "                    if ph_array_stg[idx_cntr] > num:\n",
    "                        ph_array_stg.pop(-1)\n",
    "                    if ph_array_stg[idx_cntr-1] < num:\n",
    "                        if idx+1 == len(nums_to_process):\n",
    "                            pass\n",
    "                        else:\n",
    "                            ph_array_stg[-1] = num\n",
    "                    if ph_array_stg[idx_cntr] < num:\n",
    "                        idx_cntr+=1\n",
    "\n",
    "            ph_array_main.append((len(ph_array_stg),ph_array_stg))\n",
    "\n",
    "            nums_not_constant.pop(0)\n",
    "            nums_to_process = nums_not_constant\n",
    "            ph_array_stg = []\n",
    "            idx_cntr = 0\n",
    "\n",
    "        return f\"\"\"Input: nums = {nums}\n",
    "Output: {max(ph_array_main)[0]}\n",
    "Explanation: The longest increasing subsequence is {max(ph_array_main)[-1]}, therefore the length is {max(ph_array_main)[0]}.\"\"\"\n",
    "\n",
    "solution = Solution()\n",
    "\n",
    "print(solution.lengthOfLIS([10,9,2,5,3,7,101,18]))\n",
    "print()\n",
    "print(solution.lengthOfLIS([0,1,0,3,2,3]))\n",
    "print()\n",
    "print(solution.lengthOfLIS([7,7,7,7,7,7,7]))\n",
    "    \n",
    "        \n",
    "        "
   ]
  },
  {
   "cell_type": "code",
   "execution_count": 408,
   "id": "661f4a91",
   "metadata": {},
   "outputs": [
    {
     "name": "stdout",
     "output_type": "stream",
     "text": [
      "4\n",
      "\n",
      "4\n",
      "\n",
      "1\n"
     ]
    }
   ],
   "source": [
    "class Solution(object):\n",
    "    def lengthOfLIS(self,nums):\n",
    "        idx_cntr = 0\n",
    "        nums_to_process = nums\n",
    "        ph_array_stg = []\n",
    "        ph_array_main = []\n",
    "        while nums != []:\n",
    "            for idx,num in enumerate(nums_to_process):\n",
    "                if num not in ph_array_stg:\n",
    "                    ph_array_stg.append(num)   \n",
    "                    if ph_array_stg[idx_cntr] > num:\n",
    "                        ph_array_stg.pop(-1)\n",
    "                    if ph_array_stg[idx_cntr-1] < num:\n",
    "                        if idx+1 == len(nums_to_process):\n",
    "                            pass\n",
    "                        else:\n",
    "                            ph_array_stg[-1] = num\n",
    "                    if ph_array_stg[idx_cntr] < num:\n",
    "                        idx_cntr+=1\n",
    "            ph_array_main.append((len(ph_array_stg),ph_array_stg))\n",
    "            nums.pop(0)\n",
    "            nums_to_process = nums\n",
    "            ph_array_stg = []\n",
    "            idx_cntr = 0\n",
    "        return max(ph_array_main)[0]\n",
    "    \n",
    "solution = Solution()\n",
    "\n",
    "print(solution.lengthOfLIS([10,9,2,5,3,7,101,18]))\n",
    "print()\n",
    "print(solution.lengthOfLIS([0,1,0,3,2,3]))\n",
    "print()\n",
    "print(solution.lengthOfLIS([7,7,7,7,7,7,7]))"
   ]
  },
  {
   "cell_type": "code",
   "execution_count": 322,
   "id": "80d5e7e8",
   "metadata": {},
   "outputs": [
    {
     "name": "stdout",
     "output_type": "stream",
     "text": [
      "10 > 10 = False = [10]\n",
      "10 > 9 = True = [10, 9]\n",
      "10 > 2 = True = [10, 2]\n",
      "10 > 5 = True = [10, 5]\n",
      "10 > 3 = True = [10, 3]\n",
      "10 > 7 = True = [10, 7]\n",
      "10 > 101 = False = [10, 101]\n",
      "101 > 18 = True = [10, 101, 18]\n"
     ]
    },
    {
     "data": {
      "text/plain": [
       "[[10, 101]]"
      ]
     },
     "execution_count": 322,
     "metadata": {},
     "output_type": "execute_result"
    }
   ],
   "source": [
    "idx_cntr = 0\n",
    "nums = [10,9,2,5,3,7,101,18]\n",
    "ph_array_stg = []\n",
    "ph_array_main = []\n",
    "\n",
    "for idx,num in enumerate(nums):\n",
    "    ph_array_stg.append(num)\n",
    "    print(f\"\"\"{ph_array_stg[idx_cntr]} > {num} = {ph_array_stg[idx_cntr] > num} = {ph_array_stg}\"\"\")\n",
    "    if ph_array_stg[idx_cntr] > num:\n",
    "        ph_array_stg.pop(-1)\n",
    "    if ph_array_stg[idx_cntr] < num:\n",
    "        idx_cntr+=1\n",
    "\n",
    "ph_array_main.append(ph_array_stg)\n",
    "ph_array_main\n",
    "        \n",
    "        "
   ]
  },
  {
   "cell_type": "code",
   "execution_count": 349,
   "id": "97b75fac",
   "metadata": {},
   "outputs": [
    {
     "name": "stdout",
     "output_type": "stream",
     "text": [
      "[10, 9, 2, 5, 3, 7, 101, 18]\n",
      "[9, 2, 5, 3, 7, 101, 18]\n",
      "[2, 5, 3, 7, 101, 18]\n",
      "[5, 3, 7, 101, 18]\n",
      "[3, 7, 101, 18]\n",
      "[7, 101, 18]\n",
      "[101, 18]\n",
      "[18]\n",
      "(4, [2, 5, 7, 101])\n"
     ]
    }
   ],
   "source": [
    "idx_cntr = 0\n",
    "nums = [10,9,2,5,3,7,101,18]\n",
    "nums_to_process = nums\n",
    "ph_array_stg = []\n",
    "ph_array_main = []\n",
    "\n",
    "\n",
    "while nums != []:\n",
    "\n",
    "    print(nums_to_process)\n",
    "\n",
    "    for idx,num in enumerate(nums_to_process):\n",
    "        ph_array_stg.append(num)\n",
    "        #print(f\"\"\"{ph_array_stg[idx_cntr]} > {num} = {ph_array_stg[idx_cntr] > num} = {ph_array_stg}\"\"\")\n",
    "        if ph_array_stg[idx_cntr] > num:\n",
    "            ph_array_stg.pop(-1)\n",
    "        if ph_array_stg[idx_cntr] < num:\n",
    "            idx_cntr+=1\n",
    "\n",
    "    ph_array_main.append((len(ph_array_stg),ph_array_stg))\n",
    "\n",
    "    nums.pop(0)\n",
    "    nums_to_process = nums\n",
    "    ph_array_stg = []\n",
    "    idx_cntr = 0\n",
    "\n",
    "print(max(ph_array_main))\n",
    "#print([len(array) for array in ph_array_main])\n",
    "    \n",
    "        \n",
    "        "
   ]
  },
  {
   "cell_type": "code",
   "execution_count": 392,
   "id": "2b50a48c",
   "metadata": {},
   "outputs": [
    {
     "name": "stdout",
     "output_type": "stream",
     "text": [
      "[10, 9, 2, 5, 3, 7, 101, 18]\n",
      "\t\t\t\t10 > 10 = False = [10]\n",
      "\t\t\t\t10 > 9 = True = [10, 9]\n",
      "\t\t\t\t10 > 2 = True = [10, 2]\n",
      "\t\t\t\t10 > 5 = True = [10, 5]\n",
      "\t\t\t\t10 > 3 = True = [10, 3]\n",
      "\t\t\t\t10 > 7 = True = [10, 7]\n",
      "\t\t\t\t10 > 101 = False = [10, 101]\n",
      "\t\t\t\t101 > 18 = True = [10, 101, 18]\n",
      "[9, 2, 5, 3, 7, 101, 18]\n",
      "\t\t\t\t9 > 9 = False = [9]\n",
      "\t\t\t\t9 > 2 = True = [9, 2]\n",
      "\t\t\t\t9 > 5 = True = [9, 5]\n",
      "\t\t\t\t9 > 3 = True = [9, 3]\n",
      "\t\t\t\t9 > 7 = True = [9, 7]\n",
      "\t\t\t\t9 > 101 = False = [9, 101]\n",
      "\t\t\t\t101 > 18 = True = [9, 101, 18]\n",
      "[2, 5, 3, 7, 101, 18]\n",
      "\t\t\t\t2 > 2 = False = [2]\n",
      "\t\t\t\t2 > 5 = False = [2, 5]\n",
      "\t\t\t\t5 > 3 = True = [2, 5, 3]\n",
      "\t\t\t\t3 > 7 = False = [2, 3, 7]\n",
      "\t\t\t\t7 > 101 = False = [2, 3, 7, 101]\n",
      "\t\t\t\t101 > 18 = True = [2, 3, 7, 101, 18]\n",
      "[5, 3, 7, 101, 18]\n",
      "\t\t\t\t5 > 5 = False = [5]\n",
      "\t\t\t\t5 > 3 = True = [5, 3]\n",
      "\t\t\t\t5 > 7 = False = [5, 7]\n",
      "\t\t\t\t7 > 101 = False = [5, 7, 101]\n",
      "\t\t\t\t101 > 18 = True = [5, 7, 101, 18]\n",
      "[3, 7, 101, 18]\n",
      "\t\t\t\t3 > 3 = False = [3]\n",
      "\t\t\t\t3 > 7 = False = [3, 7]\n",
      "\t\t\t\t7 > 101 = False = [3, 7, 101]\n",
      "\t\t\t\t101 > 18 = True = [3, 7, 101, 18]\n",
      "[7, 101, 18]\n",
      "\t\t\t\t7 > 7 = False = [7]\n",
      "\t\t\t\t7 > 101 = False = [7, 101]\n",
      "\t\t\t\t101 > 18 = True = [7, 101, 18]\n",
      "[101, 18]\n",
      "\t\t\t\t101 > 101 = False = [101]\n",
      "\t\t\t\t101 > 18 = True = [101, 18]\n",
      "[18]\n",
      "\t\t\t\t18 > 18 = False = [18]\n",
      "[(2, [10, 101]), (2, [9, 101]), (4, [2, 3, 7, 101]), (3, [5, 7, 101]), (3, [3, 7, 101]), (2, [7, 101]), (1, [101]), (1, [18])]\n"
     ]
    }
   ],
   "source": [
    "idx_cntr = 0\n",
    "nums = [10,9,2,5,3,7,101,18]\n",
    "nums_to_process = nums\n",
    "ph_array_stg = []\n",
    "ph_array_main = []\n",
    "\n",
    "\n",
    "while nums != []:\n",
    "\n",
    "    print(nums_to_process)\n",
    "\n",
    "    for idx,num in enumerate(nums_to_process):\n",
    "\n",
    "        if num not in ph_array_stg:\n",
    "            ph_array_stg.append(num)   \n",
    "            print(f\"\"\"\\t\\t\\t\\t{ph_array_stg[idx_cntr]} > {num} = {ph_array_stg[idx_cntr] > num} = {ph_array_stg}\"\"\")     \n",
    "            \n",
    "            if ph_array_stg[idx_cntr] > num:\n",
    "                ph_array_stg.pop(-1)\n",
    "            if ph_array_stg[idx_cntr-1] < num:\n",
    "                if idx+1 == len(nums_to_process):\n",
    "                    pass\n",
    "                else:\n",
    "                    ph_array_stg[-1] = num\n",
    "            if ph_array_stg[idx_cntr] < num:\n",
    "                idx_cntr+=1\n",
    "\n",
    "    ph_array_main.append((len(ph_array_stg),ph_array_stg))\n",
    "\n",
    "    nums.pop(0)\n",
    "    nums_to_process = nums\n",
    "    ph_array_stg = []\n",
    "    idx_cntr = 0\n",
    "\n",
    "print(ph_array_main)\n",
    "#print([len(array) for array in ph_array_main])\n",
    "    \n",
    "        \n",
    "        "
   ]
  },
  {
   "cell_type": "code",
   "execution_count": 393,
   "id": "3384687c",
   "metadata": {},
   "outputs": [
    {
     "name": "stdout",
     "output_type": "stream",
     "text": [
      "[0, 1, 0, 3, 2, 3]\n",
      "\t\t\t\t0 > 0 = False = [0]\n",
      "\t\t\t\t0 > 1 = False = [0, 1]\n",
      "\t\t\t\t1 > 3 = False = [0, 1, 3]\n",
      "\t\t\t\t3 > 2 = True = [0, 1, 3, 2]\n",
      "\t\t\t\t2 > 3 = False = [0, 1, 2, 3]\n",
      "[1, 0, 3, 2, 3]\n",
      "\t\t\t\t1 > 1 = False = [1]\n",
      "\t\t\t\t1 > 0 = True = [1, 0]\n",
      "\t\t\t\t1 > 3 = False = [1, 3]\n",
      "\t\t\t\t3 > 2 = True = [1, 3, 2]\n",
      "\t\t\t\t2 > 3 = False = [1, 2, 3]\n",
      "[0, 3, 2, 3]\n",
      "\t\t\t\t0 > 0 = False = [0]\n",
      "\t\t\t\t0 > 3 = False = [0, 3]\n",
      "\t\t\t\t3 > 2 = True = [0, 3, 2]\n",
      "\t\t\t\t2 > 3 = False = [0, 2, 3]\n",
      "[3, 2, 3]\n",
      "\t\t\t\t3 > 3 = False = [3]\n",
      "\t\t\t\t3 > 2 = True = [3, 2]\n",
      "[2, 3]\n",
      "\t\t\t\t2 > 2 = False = [2]\n",
      "\t\t\t\t2 > 3 = False = [2, 3]\n",
      "[3]\n",
      "\t\t\t\t3 > 3 = False = [3]\n",
      "[(4, [0, 1, 2, 3]), (3, [1, 2, 3]), (3, [0, 2, 3]), (1, [3]), (2, [2, 3]), (1, [3])]\n"
     ]
    }
   ],
   "source": [
    "idx_cntr = 0\n",
    "nums = [0,1,0,3,2,3]\n",
    "nums_to_process = nums\n",
    "ph_array_stg = []\n",
    "ph_array_main = []\n",
    "\n",
    "\n",
    "\n",
    "while nums != []:\n",
    "\n",
    "    print(nums_to_process)\n",
    "\n",
    "    for idx,num in enumerate(nums_to_process):\n",
    "\n",
    "        if num not in ph_array_stg:\n",
    "            ph_array_stg.append(num)   \n",
    "            print(f\"\"\"\\t\\t\\t\\t{ph_array_stg[idx_cntr]} > {num} = {ph_array_stg[idx_cntr] > num} = {ph_array_stg}\"\"\")     \n",
    "            \n",
    "            if ph_array_stg[idx_cntr] > num:\n",
    "                ph_array_stg.pop(-1)\n",
    "            if ph_array_stg[idx_cntr-1] < num:\n",
    "                if idx+1 == len(nums_to_process):\n",
    "                    pass\n",
    "                else:\n",
    "                    ph_array_stg[-1] = num\n",
    "            if ph_array_stg[idx_cntr] < num:\n",
    "                idx_cntr+=1\n",
    "\n",
    "    ph_array_main.append((len(ph_array_stg),ph_array_stg))\n",
    "\n",
    "    nums.pop(0)\n",
    "    nums_to_process = nums\n",
    "    ph_array_stg = []\n",
    "    idx_cntr = 0\n",
    "\n",
    "print(ph_array_main)"
   ]
  },
  {
   "cell_type": "code",
   "execution_count": 394,
   "id": "8bed998b",
   "metadata": {},
   "outputs": [
    {
     "name": "stdout",
     "output_type": "stream",
     "text": [
      "[7, 7, 7, 7, 7, 7, 7]\n",
      "\t\t\t\t7 > 7 = False = [7]\n",
      "[7, 7, 7, 7, 7, 7]\n",
      "\t\t\t\t7 > 7 = False = [7]\n",
      "[7, 7, 7, 7, 7]\n",
      "\t\t\t\t7 > 7 = False = [7]\n",
      "[7, 7, 7, 7]\n",
      "\t\t\t\t7 > 7 = False = [7]\n",
      "[7, 7, 7]\n",
      "\t\t\t\t7 > 7 = False = [7]\n",
      "[7, 7]\n",
      "\t\t\t\t7 > 7 = False = [7]\n",
      "[7]\n",
      "\t\t\t\t7 > 7 = False = [7]\n",
      "[(1, [7]), (1, [7]), (1, [7]), (1, [7]), (1, [7]), (1, [7]), (1, [7])]\n"
     ]
    }
   ],
   "source": [
    "idx_cntr = 0\n",
    "nums = [7,7,7,7,7,7,7]\n",
    "nums_to_process = nums\n",
    "ph_array_stg = []\n",
    "ph_array_main = []\n",
    "\n",
    "\n",
    "\n",
    "while nums != []:\n",
    "\n",
    "    print(nums_to_process)\n",
    "\n",
    "    for idx,num in enumerate(nums_to_process):\n",
    "\n",
    "        if num not in ph_array_stg:\n",
    "            ph_array_stg.append(num)   \n",
    "            print(f\"\"\"\\t\\t\\t\\t{ph_array_stg[idx_cntr]} > {num} = {ph_array_stg[idx_cntr] > num} = {ph_array_stg}\"\"\")     \n",
    "            \n",
    "            if ph_array_stg[idx_cntr] > num:\n",
    "                ph_array_stg.pop(-1)\n",
    "            if ph_array_stg[idx_cntr-1] < num:\n",
    "                if idx+1 == len(nums_to_process):\n",
    "                    pass\n",
    "                else:\n",
    "                    ph_array_stg[-1] = num\n",
    "            if ph_array_stg[idx_cntr] < num:\n",
    "                idx_cntr+=1\n",
    "\n",
    "    ph_array_main.append((len(ph_array_stg),ph_array_stg))\n",
    "\n",
    "    nums.pop(0)\n",
    "    nums_to_process = nums\n",
    "    ph_array_stg = []\n",
    "    idx_cntr = 0\n",
    "\n",
    "print(ph_array_main)"
   ]
  },
  {
   "cell_type": "markdown",
   "id": "35b5e0ea",
   "metadata": {},
   "source": [
    "# 3074. Apple Redistribution into Boxes\n",
    "\n",
    "You are given an array `apple` of size `n` and an array `capacity` of size `m`.\n",
    "\n",
    "There are `n` packs where the `i`th pack contains `apple[i]` apples. \n",
    "\n",
    "There are `m` boxes as well, and the `i`th box has a capacity of `capacity[i]` apples.\n",
    "\n",
    "Return the minimum number of boxes you need to select to redistribute these `n` packs of apples into boxes.\n",
    "\n",
    "Note that apples from the same pack can be distributed into different boxes.\n",
    "\n",
    "## Examples\n",
    "\n",
    "**Example 1:**\n",
    "- **Input:** `apple = [1,3,2], capacity = [4,3,1,5,2]`\n",
    "- **Output:** `2`\n",
    "- **Explanation:** We will use boxes with capacities 4 and 5. \n",
    "\n",
    "    It is possible to distribute the apples as the total capacity is greater than or equal to the total number of apples.\n",
    "\n",
    "**Example 2:**\n",
    "- **Input:** `apple = [5,5,5], capacity = [2,4,2,7]`\n",
    "- **Output:** `4`\n",
    "- **Explanation:** We will need to use all the boxes.\n"
   ]
  },
  {
   "cell_type": "code",
   "execution_count": 9,
   "id": "3b6eef02",
   "metadata": {},
   "outputs": [],
   "source": [
    "class Solution(object):\n",
    "    def minimumBoxes(self, apple, capacity):\n",
    "        ph_arr = []\n",
    "        total_apple_cntr,box_cntr = 0,0\n",
    "        for i in apple:\n",
    "            total_apple_cntr += i\n",
    "        while total_apple_cntr > 0:\n",
    "            max_capacity = max(capacity)\n",
    "            ph_arr.append(max_capacity)\n",
    "            total_apple_cntr -= max_capacity\n",
    "            capacity.pop(capacity.index(max_capacity))\n",
    "        return len(ph_arr)"
   ]
  },
  {
   "cell_type": "code",
   "execution_count": 6,
   "id": "fff7c5d5",
   "metadata": {},
   "outputs": [],
   "source": [
    "from copy import deepcopy\n",
    "\n",
    "class Solution(object):\n",
    "\n",
    "    def return_capacities(self,ph_arr):\n",
    "\n",
    "        ph_arr_convert_into_str = []\n",
    "\n",
    "        for idx,i in enumerate(ph_arr):\n",
    "            if idx == len(ph_arr)-2:\n",
    "                ph_arr_convert_into_str.append(f'{str(i)} ')\n",
    "            elif idx == len(ph_arr)-1:\n",
    "                ph_arr_convert_into_str.append(f'and {str(i)}')\n",
    "            else:\n",
    "                ph_arr_convert_into_str.append(str(i)+', ')\n",
    "        return ''.join(ph_arr_convert_into_str)\n",
    "    \n",
    "    def minimumBoxes(self, apple, capacity):\n",
    "\n",
    "        capacity_to_process = deepcopy(capacity)\n",
    "        ph_arr = []\n",
    "        total_apple_cntr = 0\n",
    "\n",
    "        for i in apple:\n",
    "            total_apple_cntr += i\n",
    "\n",
    "        while total_apple_cntr > 0:\n",
    "            max_capacity = max(capacity_to_process)\n",
    "            ph_arr.append(max_capacity)\n",
    "            total_apple_cntr -= max_capacity\n",
    "            capacity_to_process.pop(capacity_to_process.index(max_capacity))\n",
    "            ph_arr = [x for x in ph_arr[::-1]]\n",
    "\n",
    "        if capacity_to_process != []:\n",
    "            return f\"\"\"Input: {apple}, capacity = {capacity}\\nOutput: {len(ph_arr)}\n",
    "Explanation: We will use boxes with capacities {solution.return_capacities(ph_arr)}. \n",
    "It is possible to distribute the apples as the total capacity is greater than \n",
    "or equal to the total number of apples.\"\"\"\n",
    "        else:\n",
    "            return f\"\"\"Input: {apple}, capacity = {capacity}\\nOutput: {len(ph_arr)}\n",
    "Explanation: We will need to use all the boxes.\"\"\""
   ]
  },
  {
   "cell_type": "code",
   "execution_count": 7,
   "id": "a2938491",
   "metadata": {},
   "outputs": [
    {
     "name": "stdout",
     "output_type": "stream",
     "text": [
      "Input: [1, 3, 2], capacity = [4, 3, 1, 5, 2]\n",
      "Output: 2\n",
      "Explanation: We will use boxes with capacities 4 and 5. \n",
      "It is possible to distribute the apples as the total capacity is greater than \n",
      "or equal to the total number of apples.\n",
      "\n",
      "Input: [5, 5, 5], capacity = [2, 4, 2, 7]\n",
      "Output: 4\n",
      "Explanation: We will need to use all the boxes.\n"
     ]
    }
   ],
   "source": [
    "solution = Solution()\n",
    "\n",
    "apple = [1,3,2]\n",
    "capacity = [4,3,1,5,2]\n",
    "print(solution.minimumBoxes(apple, capacity))\n",
    "print()\n",
    "apple = [5,5,5]\n",
    "capacity = [2,4,2,7]\n",
    "print(solution.minimumBoxes(apple, capacity))"
   ]
  },
  {
   "cell_type": "code",
   "execution_count": 439,
   "id": "5cf5a873",
   "metadata": {},
   "outputs": [
    {
     "name": "stdout",
     "output_type": "stream",
     "text": [
      "6\n",
      "[4, 3, 1, 5, 2] 6\n",
      "[4, 3, 1, 2] 1\n",
      "[3, 1, 2]\n",
      "[4, 5]\n",
      "2\n"
     ]
    }
   ],
   "source": [
    "apple = [1,3,2]\n",
    "capacity = [4,3,1,5,2]\n",
    "\n",
    "ph_arr = []\n",
    "total_apple_cntr = 0\n",
    "box_cntr = 0\n",
    "\n",
    "for i in apple:\n",
    "    total_apple_cntr += i\n",
    "\n",
    "print(total_apple_cntr)\n",
    "\n",
    "while total_apple_cntr > 0:\n",
    "    print(capacity,total_apple_cntr)\n",
    "    max_capacity = max(capacity)\n",
    "    ph_arr.append(max_capacity)\n",
    "    total_apple_cntr -= max_capacity\n",
    "    capacity.pop(capacity.index(max_capacity))\n",
    "    ph_arr = [x for x in ph_arr[::-1]]\n",
    "    \n",
    "print(capacity)\n",
    "print(ph_arr)\n",
    "print(len(ph_arr))\n",
    "\n"
   ]
  },
  {
   "cell_type": "code",
   "execution_count": 438,
   "id": "e93f69d7",
   "metadata": {},
   "outputs": [
    {
     "name": "stdout",
     "output_type": "stream",
     "text": [
      "15\n",
      "[2, 4, 2, 7] 15\n",
      "[2, 4, 2] 8\n",
      "[2, 2] 4\n",
      "[2] 2\n",
      "[]\n",
      "[2, 4, 7, 2]\n",
      "4\n"
     ]
    }
   ],
   "source": [
    "apple = [5,5,5]\n",
    "capacity = [2,4,2,7]\n",
    "\n",
    "ph_arr = []\n",
    "total_apple_cntr = 0\n",
    "box_cntr = 0\n",
    "\n",
    "for i in apple:\n",
    "    total_apple_cntr += i\n",
    "\n",
    "print(total_apple_cntr)\n",
    "\n",
    "while total_apple_cntr > 0:\n",
    "    print(capacity,total_apple_cntr)\n",
    "    max_capacity = max(capacity)\n",
    "    ph_arr.append(max_capacity)\n",
    "    total_apple_cntr -= max_capacity\n",
    "    capacity.pop(capacity.index(max_capacity))\n",
    "    ph_arr = [x for x in ph_arr[::-1]]\n",
    "    \n",
    "print(capacity)\n",
    "print(ph_arr)\n",
    "print(len(ph_arr))\n"
   ]
  },
  {
   "cell_type": "markdown",
   "id": "d5639780",
   "metadata": {},
   "source": [
    "# 1046. Last Stone Weight\n",
    "**Difficulty:** Easy\n",
    "\n",
    "You are given an array of integers `stones` where `stones[i]` is the weight of the ith stone.\n",
    "\n",
    "We are playing a game with the stones. On each turn, we choose the heaviest two stones and smash them together. \n",
    "\n",
    "Suppose the heaviest two stones have weights `x` and `y` with `x <= y`. The result of this smash is:\n",
    "- If `x == y`, both stones are destroyed.\n",
    "- If `x != y`, the stone of weight `x` is destroyed, and the stone of weight `y` has a new weight of `y - x`.\n",
    "\n",
    "At the end of the game, there is at most one stone left.\n",
    "\n",
    "Return the weight of the last remaining stone. If there are no stones left, return `0`.\n",
    "\n",
    "## Examples\n",
    "\n",
    "**Example 1:**\n",
    "- **Input:** `stones = [2,7,4,1,8,1]`\n",
    "- **Output:** `1`\n",
    "- **Explanation:** \n",
    "  - We combine 7 and 8 to get 1, so the array converts to `[2,4,1,1,1]`.\n",
    "  - Then, we combine 2 and 4 to get 2, so the array converts to `[2,1,1,1]`.\n",
    "  - Then, we combine 2 and 1 to get 1, so the array converts to `[1,1,1]`.\n",
    "  - Then, we combine 1 and 1 to get 0, so the array converts to `[1]`, which is the value of the last stone.\n",
    "\n",
    "**Example 2:**\n",
    "- **Input:** `stones = [1]`\n",
    "- **Output:** `1`\n"
   ]
  },
  {
   "cell_type": "code",
   "execution_count": 159,
   "id": "8d217e34",
   "metadata": {},
   "outputs": [
    {
     "name": "stdout",
     "output_type": "stream",
     "text": [
      "\n",
      "Input: stones = [2, 7, 4, 1, 8, 1]\n",
      "Output: 1\n",
      "Explanation:\n",
      "\t- We combine 7 and 8 to get 1, so the array converts to [2, 4, 1, 1, 1].\n",
      "\t- Then, we combine 2 and 4 to get 2, so the array converts to [2, 1, 1, 1].\n",
      "\t- Then, we combine 2 and 1 to get 1, so the array converts to [1, 1, 1].\n",
      "\t- Then, we combine 1 and 1 to get 0, so the array converts to [1], which is the value of the last stone.\n",
      "\n",
      "Input: stones = [1]\n",
      "Output: 1\n",
      "\n",
      "\n"
     ]
    }
   ],
   "source": [
    "from copy import deepcopy\n",
    "\n",
    "class Solution(object):\n",
    "        \n",
    "    def lastStoneWeight(self, stones):\n",
    "\n",
    "        stones_to_process = deepcopy(stones)\n",
    "        output_and_explanation = solution.return_output_and_explanation(stones_to_process)\n",
    "        return f\"\"\"\\nInput: stones = {stones}\\nOutput: {output_and_explanation[0]}\\n{output_and_explanation[-1]}\"\"\"\n",
    "    \n",
    "    def return_output_and_explanation(self, stones_to_process):\n",
    "\n",
    "        ph_arr = []\n",
    "        idx_cntr=0\n",
    "\n",
    "        while len(stones_to_process) != 1:\n",
    "            \n",
    "            idx_cntr+=1\n",
    "            primary_max = stones_to_process.pop(stones_to_process.index(max(stones_to_process)))\n",
    "            secondary_max = stones_to_process.pop(stones_to_process.index(max(stones_to_process)))\n",
    "            stones_to_process.append(primary_max-secondary_max)\n",
    "\n",
    "            if idx_cntr == 1:\n",
    "                ph_arr.append(f\"\"\"\\t- We combine {secondary_max} and {primary_max} to get {primary_max-secondary_max}, \n",
    "                                      so the array converts to {stones_to_process}.\"\"\")\n",
    "            elif len(stones_to_process) == 1:\n",
    "                break\n",
    "            else:\n",
    "\n",
    "                if len(stones_to_process) == 2:\n",
    "                    stones_to_process.pop(stones_to_process.index(0))\n",
    "                    ph_arr.append(f\"\"\"\\n\\t- Then, we combine {primary_max} and {secondary_max} to get {primary_max-secondary_max}, \n",
    "                                            so the array converts to {stones_to_process}, which is the value of the last stone.\"\"\")\n",
    "                elif len(stones_to_process) == 3:\n",
    "                    ph_arr.append(f\"\"\"\\n\\t- Then, we combine {primary_max} and {secondary_max} to get {primary_max-secondary_max}, \n",
    "                                            so the array converts to {stones_to_process}.\"\"\")\n",
    "                else:\n",
    "                    ph_arr.append(f\"\"\"\\n\\t- Then, we combine {secondary_max} and {primary_max} to get {primary_max-secondary_max}, \n",
    "                                            so the array converts to {sorted(stones_to_process,reverse=True)}.\"\"\")\n",
    "\n",
    "        if len(\"\".join(ph_arr)) != 0:\n",
    "            return (stones_to_process[0],f'Explanation:\\n{\"\".join(ph_arr)}')\n",
    "        else:\n",
    "            return (stones_to_process[0],f'\\n{\"\".join(ph_arr)}')\n",
    "    \n",
    "solution = Solution()\n",
    "\n",
    "stones = [2,7,4,1,8,1]\n",
    "print(solution.lastStoneWeight(stones))\n",
    "stones = [1]\n",
    "print(solution.lastStoneWeight(stones))"
   ]
  },
  {
   "cell_type": "code",
   "execution_count": 165,
   "id": "ea56c0f0",
   "metadata": {},
   "outputs": [
    {
     "name": "stdout",
     "output_type": "stream",
     "text": [
      "\n",
      "Input: stones = [2, 7, 4, 1, 8, 1]\n",
      "Output: 1\n",
      "Explanation:\n",
      "\t- We combine 7 and 8 to get 1, so the array converts to [2, 4, 1, 1, 1].\n",
      "\t- Then, we combine 2 and 4 to get 2, so the array converts to [2, 1, 1, 1].\n",
      "\t- Then, we combine 2 and 1 to get 1, so the array converts to [1, 1, 1].\n",
      "\t- Then, we combine 1 and 1 to get 0, so the array converts to [1], which is the value of the last stone.\n",
      "\n",
      "Input: stones = [1]\n",
      "Output: 1\n",
      "\n",
      "\n"
     ]
    }
   ],
   "source": [
    "from copy import deepcopy\n",
    "\n",
    "class Solution(object):\n",
    "        \n",
    "    def lastStoneWeight(self, stones):\n",
    "\n",
    "        stones_to_process = deepcopy(stones)\n",
    "        output_and_explanation = solution.return_output_and_explanation(stones_to_process)\n",
    "        return f\"\"\"\\nInput: stones = {stones}\\nOutput: {output_and_explanation[0]}\\n{output_and_explanation[-1]}\"\"\"\n",
    "    \n",
    "    def return_output_and_explanation(self, stones_to_process):\n",
    "\n",
    "        ph_arr = []\n",
    "        idx_cntr=0\n",
    "\n",
    "        while len(stones_to_process) != 1:\n",
    "            \n",
    "            idx_cntr+=1\n",
    "            primary_max = stones_to_process.pop(stones_to_process.index(max(stones_to_process)))\n",
    "            secondary_max = stones_to_process.pop(stones_to_process.index(max(stones_to_process)))\n",
    "            stones_to_process.append(primary_max-secondary_max)\n",
    "\n",
    "            if idx_cntr == 1:\n",
    "                ph_arr.append(f\"\\t- We combine {secondary_max} and {primary_max} to get {primary_max-secondary_max}, so the array converts to {stones_to_process}.\")\n",
    "            elif len(stones_to_process) == 1:\n",
    "                break\n",
    "            else:\n",
    "\n",
    "                if len(stones_to_process) == 2:\n",
    "                    stones_to_process.pop(stones_to_process.index(0))\n",
    "                    ph_arr.append(f\"\\n\\t- Then, we combine {primary_max} and {secondary_max} to get {primary_max-secondary_max}, so the array converts to {stones_to_process}, which is the value of the last stone.\")\n",
    "                elif len(stones_to_process) == 3:\n",
    "                    ph_arr.append(f\"\\n\\t- Then, we combine {primary_max} and {secondary_max} to get {primary_max-secondary_max}, so the array converts to {stones_to_process}.\")\n",
    "                else:\n",
    "                    ph_arr.append(f\"\\n\\t- Then, we combine {secondary_max} and {primary_max} to get {primary_max-secondary_max}, so the array converts to {sorted(stones_to_process,reverse=True)}.\")\n",
    "\n",
    "        if len(\"\".join(ph_arr)) != 0:\n",
    "            return (stones_to_process[0],f'Explanation:\\n{\"\".join(ph_arr)}')\n",
    "        else:\n",
    "            return (stones_to_process[0],f'\\n{\"\".join(ph_arr)}')\n",
    "    \n",
    "solution = Solution()\n",
    "\n",
    "stones = [2,7,4,1,8,1]\n",
    "print(solution.lastStoneWeight(stones))\n",
    "stones = [1]\n",
    "print(solution.lastStoneWeight(stones))"
   ]
  },
  {
   "cell_type": "code",
   "execution_count": 166,
   "id": "3aa0fc33",
   "metadata": {},
   "outputs": [
    {
     "name": "stdout",
     "output_type": "stream",
     "text": [
      "\n",
      "Input: stones = [2, 7, 4, 1, 8, 1]\n",
      "Output: 1\n",
      "Explanation:\n",
      "\t- We combine 8 and 7 to get 1, so the array converts to [2, 4, 1, 1, 1].\n",
      "\t- Then, we combine 4 and 2 to get 2, so the array converts to [2, 1, 1, 1].\n",
      "\t- Then, we combine 2 and 1 to get 1, so the array converts to [1, 1, 1].\n",
      "\t- Then, we combine 1 and 1 to get 0, so the array converts to [1], which is the value of the last stone.\n",
      "\n",
      "Input: stones = [1]\n",
      "Output: 1\n",
      "\n",
      "\n"
     ]
    },
    {
     "ename": "",
     "evalue": "",
     "output_type": "error",
     "traceback": [
      "\u001b[1;31mThe Kernel crashed while executing code in the current cell or a previous cell. \n",
      "\u001b[1;31mPlease review the code in the cell(s) to identify a possible cause of the failure. \n",
      "\u001b[1;31mClick <a href='https://aka.ms/vscodeJupyterKernelCrash'>here</a> for more info. \n",
      "\u001b[1;31mView Jupyter <a href='command:jupyter.viewOutput'>log</a> for further details."
     ]
    }
   ],
   "source": [
    "from copy import deepcopy\n",
    "\n",
    "class Solution(object):\n",
    "        \n",
    "    def lastStoneWeight(self, stones):\n",
    "\n",
    "        stones_to_process = deepcopy(stones)\n",
    "        output_and_explanation = solution.return_output_and_explanation(stones_to_process)\n",
    "        return f\"\"\"\\nInput: stones = {stones}\\nOutput: {output_and_explanation[0]}\\n{output_and_explanation[-1]}\"\"\"\n",
    "    \n",
    "    def return_output_and_explanation(self, stones_to_process):\n",
    "\n",
    "        ph_arr = []\n",
    "        idx_cntr=0\n",
    "\n",
    "        while len(stones_to_process) != 1:\n",
    "            \n",
    "            idx_cntr+=1\n",
    "            primary_max = stones_to_process.pop(stones_to_process.index(max(stones_to_process)))\n",
    "            secondary_max = stones_to_process.pop(stones_to_process.index(max(stones_to_process)))\n",
    "            stones_to_process.append(primary_max-secondary_max)\n",
    "\n",
    "            if idx_cntr == 1:\n",
    "                ph_arr.append(f\"\\t- We combine {primary_max} and {secondary_max} to get {primary_max-secondary_max}, so the array converts to {stones_to_process}.\")\n",
    "            elif len(stones_to_process) == 1:\n",
    "                break\n",
    "            else:\n",
    "\n",
    "                if primary_max-secondary_max == 0:\n",
    "                    stones_to_process.pop(stones_to_process.index(0))\n",
    "                    ph_arr.append(f\"\\n\\t- Then, we combine {primary_max} and {secondary_max} to get {primary_max-secondary_max}, so the array converts to {stones_to_process}, which is the value of the last stone.\")\n",
    "                else:\n",
    "                    ph_arr.append(f\"\\n\\t- Then, we combine {primary_max} and {secondary_max} to get {primary_max-secondary_max}, so the array converts to {sorted(stones_to_process,reverse=True)}.\")\n",
    "\n",
    "        if len(\"\".join(ph_arr)) != 0:\n",
    "            return (stones_to_process[0],f'Explanation:\\n{\"\".join(ph_arr)}')\n",
    "        else:\n",
    "            return (stones_to_process[0],f'\\n{\"\".join(ph_arr)}')\n",
    "    \n",
    "solution = Solution()\n",
    "\n",
    "stones = [2,7,4,1,8,1]\n",
    "print(solution.lastStoneWeight(stones))\n",
    "stones = [1]\n",
    "print(solution.lastStoneWeight(stones))"
   ]
  },
  {
   "cell_type": "code",
   "execution_count": 160,
   "id": "2153ce45",
   "metadata": {},
   "outputs": [
    {
     "name": "stdout",
     "output_type": "stream",
     "text": [
      "\n",
      "Input: stones = [2, 7, 4, 1, 8, 1]\n",
      "Output: 1\n",
      "Explanation:\n",
      "\t- We combine 8 and 7 to get 1, so the array converts to [2, 4, 1, 1, 1].\n",
      "\t- Then, we combine 4 and 2 to get 2, so the array converts to [2, 1, 1, 1].\n",
      "\t- Then, we combine 2 and 1 to get 1, so the array converts to [1, 1, 1].\n",
      "\t- Then, we combine 1 and 1 to get 0, so the array converts to [1], which is the value of the last stone.\n",
      "\n",
      "Input: stones = [1]\n",
      "Output: 1\n",
      "\n",
      "\n"
     ]
    }
   ],
   "source": [
    "\n",
    "from copy import deepcopy\n",
    "\n",
    "class Solution(object):\n",
    "        \n",
    "    def lastStoneWeight(self, stones):\n",
    "\n",
    "        stones_to_process = deepcopy(stones)\n",
    "        output_and_explanation = solution.return_output_and_explanation(stones_to_process)\n",
    "        return f\"\"\"\\nInput: stones = {stones}\\nOutput: {output_and_explanation[0]}\\n{output_and_explanation[-1]}\"\"\"\n",
    "    \n",
    "    def return_output_and_explanation(self, stones_to_process):\n",
    "\n",
    "        ph_arr = []\n",
    "        idx_cntr=0\n",
    "\n",
    "        while len(stones_to_process) != 1:\n",
    "            \n",
    "            idx_cntr+=1\n",
    "            primary_max = stones_to_process.pop(stones_to_process.index(max(stones_to_process)))\n",
    "            secondary_max = stones_to_process.pop(stones_to_process.index(max(stones_to_process)))\n",
    "            stones_to_process.append(primary_max-secondary_max)\n",
    "\n",
    "            if idx_cntr == 1:\n",
    "                ph_arr.append(f\"\\t- We combine {secondary_max} and {primary_max} to get {primary_max-secondary_max}, \n",
    "                                    so the array converts to {stones_to_process}.\")\n",
    "            elif len(stones_to_process) == 1:\n",
    "                break\n",
    "            else:\n",
    "\n",
    "                if len(stones_to_process) == 2:\n",
    "                    stones_to_process.pop(stones_to_process.index(0))\n",
    "                    ph_arr.append(f\"\\n\\t- Then, we combine {primary_max} and {secondary_max} to get {primary_max-secondary_max}, \n",
    "                                        so the array converts to {stones_to_process}, which is the value of the last stone.\")\n",
    "                elif len(stones_to_process) == 3:\n",
    "                    ph_arr.append(f\"\\n\\t- Then, we combine {primary_max} and {secondary_max} to get {primary_max-secondary_max}, \n",
    "                                        so the array converts to {stones_to_process}.\")\n",
    "                else:\n",
    "                    ph_arr.append(f\"\\n\\t- Then, we combine {secondary_max} and {primary_max} to get {primary_max-secondary_max}, \n",
    "                                        so the array converts to {sorted(stones_to_process,reverse=True)}.\")\n",
    "\n",
    "        if len(\"\".join(ph_arr)) != 0:\n",
    "            return (stones_to_process[0],f'Explanation:\\n{\"\".join(ph_arr)}')\n",
    "        else:\n",
    "            return (stones_to_process[0],f'\\n{\"\".join(ph_arr)}')\n",
    "    \n",
    "solution = Solution()\n",
    "\n",
    "stones = [2,7,4,1,8,1]\n",
    "print(solution.lastStoneWeight(stones))\n",
    "stones = [1]\n",
    "print(solution.lastStoneWeight(stones))"
   ]
  },
  {
   "cell_type": "code",
   "execution_count": 107,
   "id": "dd9fe795",
   "metadata": {},
   "outputs": [
    {
     "name": "stdout",
     "output_type": "stream",
     "text": [
      "\n",
      "Input: stones = [2, 7, 4, 1, 8, 1]\n",
      "Output: 1\n",
      "Explanation:\n",
      "\t- We combine 8 and 7 to get 1, so the array converts to [2, 4, 1, 1, 1].\n",
      "\t- Then, we combine 4 and 2 to get 2, so the array converts to [2, 1, 1, 1].\n",
      "\t- Then, we combine 2 and 1 to get 1, so the array converts to [1, 1, 1].\n",
      "\t- Then, we combine 1 and 1 to get 0, so the array converts to [1], which is the value of the last stone.\n",
      "\n",
      "Input: stones = [1]\n",
      "Output: 1\n",
      "\n",
      "\n"
     ]
    }
   ],
   "source": [
    "from copy import deepcopy\n",
    "\n",
    "class Solution(object):\n",
    "        \n",
    "    def lastStoneWeight(self, stones):\n",
    "        stones_to_process,stones_to_process = deepcopy(stones),deepcopy(stones)\n",
    "        while len(stones_to_process) != 1:\n",
    "            primary_max = stones_to_process.pop(stones_to_process.index(max(stones_to_process)))\n",
    "            secondary_max = stones_to_process.pop(stones_to_process.index(max(stones_to_process)))\n",
    "            stones_to_process.append(primary_max-secondary_max)\n",
    "        return f\"\"\"\\nInput: stones = {stones}\\nOutput: {stones_to_process[0]}\\n{solution.return_explanation(stones_to_process)}\"\"\"\n",
    "    \n",
    "    def return_explanation(self, stones_to_process):\n",
    "\n",
    "        ph_arr = []\n",
    "        idx_cntr=0\n",
    "\n",
    "        while len(stones_to_process) != 1:\n",
    "            \n",
    "            idx_cntr+=1\n",
    "            primary_max = stones_to_process.pop(stones_to_process.index(max(stones_to_process)))\n",
    "            secondary_max = stones_to_process.pop(stones_to_process.index(max(stones_to_process)))\n",
    "            stones_to_process.append(primary_max-secondary_max)\n",
    "\n",
    "            if idx_cntr == 1:\n",
    "                ph_arr.append(f\"\\t- We combine {primary_max} and {secondary_max} to get {primary_max-secondary_max}, so the array converts to {stones_to_process}.\")\n",
    "            elif len(stones_to_process) == 1:\n",
    "                break\n",
    "            else:\n",
    "\n",
    "                if primary_max-secondary_max == 0:\n",
    "                    stones_to_process.pop(stones_to_process.index(0))\n",
    "                    ph_arr.append(f\"\\n\\t- Then, we combine {primary_max} and {secondary_max} to get {primary_max-secondary_max}, so the array converts to {stones_to_process}, which is the value of the last stone.\")\n",
    "                else:\n",
    "                    ph_arr.append(f\"\\n\\t- Then, we combine {primary_max} and {secondary_max} to get {primary_max-secondary_max}, so the array converts to {sorted(stones_to_process,reverse=True)}.\")\n",
    "\n",
    "        if len(\"\".join(ph_arr)) != 0:\n",
    "            return f'Explanation:\\n{\"\".join(ph_arr)}'\n",
    "        else:\n",
    "            return f'\\n{\"\".join(ph_arr)}'    \n",
    "    \n",
    "solution = Solution()\n",
    "\n",
    "stones = [2,7,4,1,8,1]\n",
    "print(solution.lastStoneWeight(stones))\n",
    "stones = [1]\n",
    "print(solution.lastStoneWeight(stones))"
   ]
  },
  {
   "cell_type": "code",
   "execution_count": 113,
   "id": "3fee8fc7",
   "metadata": {},
   "outputs": [
    {
     "name": "stdout",
     "output_type": "stream",
     "text": [
      "\n",
      "Input: stones = [2, 7, 4, 1, 8, 1]\n",
      "Output: 1\n",
      "Explanation:\n",
      "\t- We combine 8 and 7 to get 1, \n",
      "                                      so the array converts to [2, 4, 1, 1, 1].\n",
      "\t- Then, we combine 4 and 2 to get 2, \n",
      "                                            so the array converts to [2, 1, 1, 1].\n",
      "\t- Then, we combine 2 and 1 to get 1, \n",
      "                                            so the array converts to [1, 1, 1].\n",
      "\t- Then, we combine 1 and 1 to get 0, \n",
      "                                            so the array converts to [1], which is the value of the last stone.\n",
      "\n",
      "Input: stones = [1]\n",
      "Output: 1\n",
      "\n",
      "\n"
     ]
    }
   ],
   "source": [
    "from copy import deepcopy\n",
    "\n",
    "class Solution(object):\n",
    "        \n",
    "    def lastStoneWeight(self, stones):\n",
    "        stones_to_process,stones_to_process = deepcopy(stones),deepcopy(stones)\n",
    "        while len(stones_to_process) != 1:\n",
    "            primary_max = stones_to_process.pop(stones_to_process.index(max(stones_to_process)))\n",
    "            secondary_max = stones_to_process.pop(stones_to_process.index(max(stones_to_process)))\n",
    "            stones_to_process.append(primary_max-secondary_max)\n",
    "        return f\"\"\"\\nInput: stones = {stones}\\nOutput: {stones_to_process[0]}\\n{solution.return_explanation(stones_to_process)}\"\"\"\n",
    "    \n",
    "    def return_explanation(self, stones_to_process):\n",
    "\n",
    "        ph_arr = []\n",
    "        idx_cntr=0\n",
    "\n",
    "        while len(stones_to_process) != 1:\n",
    "            \n",
    "            idx_cntr+=1\n",
    "            primary_max = stones_to_process.pop(stones_to_process.index(max(stones_to_process)))\n",
    "            secondary_max = stones_to_process.pop(stones_to_process.index(max(stones_to_process)))\n",
    "            stones_to_process.append(primary_max-secondary_max)\n",
    "\n",
    "            if idx_cntr == 1:\n",
    "                ph_arr.append(f\"\"\"\\t- We combine {primary_max} and {secondary_max} to get {primary_max-secondary_max}, \n",
    "                                      so the array converts to {stones_to_process}.\"\"\")\n",
    "            elif len(stones_to_process) == 1:\n",
    "                break\n",
    "            else:\n",
    "\n",
    "                if primary_max-secondary_max == 0:\n",
    "                    stones_to_process.pop(stones_to_process.index(0))\n",
    "                    ph_arr.append(f\"\"\"\\n\\t- Then, we combine {primary_max} and {secondary_max} to get {primary_max-secondary_max}, \n",
    "                                            so the array converts to {stones_to_process}, which is the value of the last stone.\"\"\")\n",
    "                else:\n",
    "                    ph_arr.append(f\"\"\"\\n\\t- Then, we combine {primary_max} and {secondary_max} to get {primary_max-secondary_max}, \n",
    "                                            so the array converts to {sorted(stones_to_process,reverse=True)}.\"\"\")\n",
    "\n",
    "        if len(\"\".join(ph_arr)) != 0:\n",
    "            return f'Explanation:\\n{\"\".join(ph_arr)}'\n",
    "        else:\n",
    "            return f'\\n{\"\".join(ph_arr)}'    \n",
    "    \n",
    "solution = Solution()\n",
    "\n",
    "stones = [2,7,4,1,8,1]\n",
    "print(solution.lastStoneWeight(stones))\n",
    "stones = [1]\n",
    "print(solution.lastStoneWeight(stones))"
   ]
  },
  {
   "cell_type": "code",
   "execution_count": 33,
   "id": "c75b7967",
   "metadata": {},
   "outputs": [
    {
     "name": "stdout",
     "output_type": "stream",
     "text": [
      "\t\t\t\t\t\t\t\t--->popped primary_max: 8 | popped secondary_max: 7\n",
      "stones: [2, 7, 4, 1, 8, 1] | stones_to_process: [2, 4, 1, 1, 1]\n",
      "\t\t\t\t\t\t\t\t--->popped primary_max: 4 | popped secondary_max: 2\n",
      "stones: [2, 7, 4, 1, 8, 1] | stones_to_process: [1, 1, 1, 2]\n",
      "\t\t\t\t\t\t\t\t--->popped primary_max: 2 | popped secondary_max: 1\n",
      "stones: [2, 7, 4, 1, 8, 1] | stones_to_process: [1, 1, 1]\n",
      "\t\t\t\t\t\t\t\t--->popped primary_max: 1 | popped secondary_max: 1\n",
      "stones: [2, 7, 4, 1, 8, 1] | stones_to_process: [1, 0]\n",
      "\t\t\t\t\t\t\t\t--->popped primary_max: 1 | popped secondary_max: 0\n",
      "stones: [2, 7, 4, 1, 8, 1] | stones_to_process: [1]\n",
      "\n",
      "Input: stones = [2, 7, 4, 1, 8, 1]\n",
      "Output: 1\n",
      "\n",
      "Input: stones = [1]\n",
      "Output: 1\n"
     ]
    }
   ],
   "source": [
    "class Solution(object):\n",
    "    def lastStoneWeight(self, stones):\n",
    "        from copy import deepcopy\n",
    "        stones_to_process = deepcopy(stones)\n",
    "        while len(stones_to_process) != 1:\n",
    "            #print(f'stones: {stones} | stones_to_process: {stones_to_process}')\n",
    "            primary_max = stones_to_process.pop(stones_to_process.index(max(stones_to_process)))\n",
    "            secondary_max = stones_to_process.pop(stones_to_process.index(max(stones_to_process)))\n",
    "            #print(f'stones: {stones} | stones_to_process: {stones_to_process} | popped primary_max: {primary_max} | popped secondary_max: {secondary_max}')\n",
    "            print(f'\\t\\t\\t\\t\\t\\t\\t\\t--->popped primary_max: {primary_max} | popped secondary_max: {secondary_max}')\n",
    "            stones_to_process.append(primary_max-secondary_max)\n",
    "            print(f'stones: {stones} | stones_to_process: {stones_to_process}')\n",
    "        return f\"\"\"\\nInput: stones = {stones}\\nOutput: {stones_to_process[0]}\"\"\"\n",
    "solution = Solution()\n",
    "\n",
    "stones = [2,7,4,1,8,1]\n",
    "print(solution.lastStoneWeight(stones))\n",
    "stones = [1]\n",
    "print(solution.lastStoneWeight(stones))"
   ]
  },
  {
   "cell_type": "code",
   "execution_count": 17,
   "id": "ad627e40",
   "metadata": {},
   "outputs": [
    {
     "name": "stdout",
     "output_type": "stream",
     "text": [
      "Input: stones = [2, 7, 4, 1, 8, 1]\n",
      "Output: 1\n",
      "\n",
      "Input: stones = [1]\n",
      "Output: 1\n"
     ]
    }
   ],
   "source": [
    "class Solution(object):\n",
    "    def lastStoneWeight(self, stones):\n",
    "        from copy import deepcopy\n",
    "        stones_to_process = deepcopy(stones)\n",
    "        while len(stones_to_process) != 1:\n",
    "            primary_max = stones_to_process.pop(stones_to_process.index(max(stones_to_process)))\n",
    "            secondary_max = stones_to_process.pop(stones_to_process.index(max(stones_to_process)))\n",
    "            stones_to_process.append(primary_max-secondary_max)\n",
    "        return f\"\"\"Input: stones = {stones}\\nOutput: {stones_to_process[0]}\"\"\"\n",
    "solution = Solution()\n",
    "\n",
    "stones = [2,7,4,1,8,1]\n",
    "print(solution.lastStoneWeight(stones))\n",
    "print()\n",
    "stones = [1]\n",
    "print(solution.lastStoneWeight(stones))"
   ]
  },
  {
   "cell_type": "code",
   "execution_count": 13,
   "id": "6f9913e6",
   "metadata": {},
   "outputs": [
    {
     "name": "stdout",
     "output_type": "stream",
     "text": [
      "[1]\n"
     ]
    }
   ],
   "source": [
    "stones = [2,7,4,1,8,1]\n",
    "\n",
    "while len(stones) != 1:\n",
    "    primary_max = stones.pop(stones.index(max(stones)))\n",
    "    secondary_max = stones.pop(stones.index(max(stones)))\n",
    "    stones.append(primary_max-secondary_max)\n",
    "print(stones)"
   ]
  },
  {
   "cell_type": "code",
   "execution_count": 12,
   "id": "8522bc8f",
   "metadata": {},
   "outputs": [
    {
     "name": "stdout",
     "output_type": "stream",
     "text": [
      "8 7\n",
      "[2, 4, 1, 1]\n",
      "[2, 4, 1, 1, 1]\n"
     ]
    }
   ],
   "source": [
    "stones = [2,7,4,1,8,1]\n",
    "primary_max = stones.pop(stones.index(max(stones)))\n",
    "secondary_max = stones.pop(stones.index(max(stones)))\n",
    "\n",
    "print(primary_max,secondary_max)\n",
    "print(stones)\n",
    "stones.append(primary_max-secondary_max)\n",
    "print(stones)"
   ]
  },
  {
   "cell_type": "markdown",
   "id": "74830520",
   "metadata": {},
   "source": [
    "# 15. 3Sum\n",
    "**Difficulty:** Medium\n",
    "\n",
    "Given an integer array `nums`, return all the triplets `[nums[i], nums[j], nums[k]]` \n",
    "\n",
    "such that `i != j`, `i != k`, and `j != k`, and `nums[i] + nums[j] + nums[k] == 0`.\n",
    "\n",
    "Notice that the solution set must not contain duplicate triplets.\n",
    "\n",
    "## Examples\n",
    "\n",
    "**Example 1:**\n",
    "- **Input:** `nums = [-1,0,1,2,-1,-4]`\n",
    "- **Output:** `[[-1,-1,2],[-1,0,1]]`\n",
    "- **Explanation:** \n",
    "  - `nums[0] + nums[1] + nums[2] = (-1) + 0 + 1 = 0.`\n",
    "  - `nums[1] + nums[2] + nums[4] = 0 + 1 + (-1) = 0.`\n",
    "  - `nums[0] + nums[3] + nums[4] = (-1) + 2 + (-1) = 0.`\n",
    "  - The distinct triplets are `[-1,0,1]` and `[-1,-1,2]`.\n",
    "  - Notice that the order of the output and the order of the triplets does not matter.\n",
    "\n",
    "**Example 2:**\n",
    "- **Input:** `nums = [0,1,1]`\n",
    "- **Output:** `[]`\n",
    "- **Explanation:** The only possible triplet does not sum up to 0.\n",
    "\n",
    "**Example 3:**\n",
    "- **Input:** `nums = [0,0,0]`\n",
    "- **Output:** `[[0,0,0]]`\n",
    "- **Explanation:** The only possible triplet sums up to 0.\n"
   ]
  },
  {
   "cell_type": "code",
   "execution_count": 194,
   "id": "2d2dc6e5",
   "metadata": {},
   "outputs": [
    {
     "name": "stdout",
     "output_type": "stream",
     "text": [
      "Input: nums = [-1, 0, 1, 2, -1, -4]\n",
      "Output: [[-1, -1, 2], [-1, 0, 1]]\n",
      "Explanation:\n",
      "\t- nums[0] + nums[1] + nums[2] = (-1) + 0 + 1 = 0.\n",
      "\t- nums[0] + nums[3] + nums[4] = (-1) + 2 + (-1) = 0.\n",
      "\t- nums[1] + nums[2] + nums[4] = 0 + 1 + (-1) = 0.\n",
      "\t- The distinct triplets are [-1, 0, 1] and [-1, -1, 2].\n",
      "\t- Notice that the order of the output and the order of the triplets does not matter.\n",
      "\n",
      "Input: nums = [0, 1, 1]\n",
      "Output: []\n",
      "Explanation: The only possible triplet sums up to 0.\n",
      "\n",
      "Input: nums = [0, 0, 0]\n",
      "Output: [[0, 0, 0]]\n",
      "Explanation: The only possible triplet sums up to 0.\n",
      "\n"
     ]
    }
   ],
   "source": [
    "class Solution(object):\n",
    "\n",
    "    def threeSum(self,nums):\n",
    "\n",
    "        output,explanation = solution.output_explanation(nums)\n",
    "\n",
    "        if len(output) > 1: \n",
    "            return f\"\"\"Input: nums = {nums}\\nOutput: {output}\\nExplanation:\\n{explanation}\\n\"\"\"\n",
    "        else:\n",
    "            return f\"\"\"Input: nums = {nums}\\nOutput: {output}\\nExplanation: The only possible triplet sums up to {nums[0]}.\\n\"\"\"\n",
    "\n",
    "        \n",
    "    def output_explanation(self,nums):\n",
    "\n",
    "        ph_array,ph_array_stg,ph_array_main = [],[],[]\n",
    "\n",
    "        for idx_i,i in enumerate(nums):\n",
    "            for idx_j,j in enumerate(nums):\n",
    "                for idx_k,k in enumerate(nums):\n",
    "                    if i+j+k == 0 and (idx_i!=idx_j,idx_i!=idx_k,idx_j!=idx_k) and (idx_i < idx_j < idx_k):\n",
    "                        ph_array.append(f\"\\t- nums[{idx_i}] + nums[{idx_j}] + nums[{idx_k}] = {solution.is_negative_int(i)} + {solution.is_negative_int(j)} + {solution.is_negative_int(k)} = {i+j+k}.\\n\")\n",
    "                        ph_array_stg.append((i,j,k))\n",
    "\n",
    "        for i in ph_array_stg:\n",
    "            if sorted(i) not in ph_array_main:\n",
    "                ph_array_main.append(sorted(i))\n",
    "\n",
    "        if len(ph_array_main) < 2:\n",
    "            return ph_array_main,\"\".join(ph_array)\n",
    "        else:\n",
    "            ph_array.append(f\"\\t- The distinct triplets are {ph_array_main[0]} and {ph_array_main[-1]}.\\n\")\n",
    "            ph_array.append(\"\\t- Notice that the order of the output and the order of the triplets does not matter.\")\n",
    "            return ph_array_main[::-1],\"\".join(ph_array)\n",
    "\n",
    "    def is_negative_int(self,int_val):\n",
    "        if int_val < 0:\n",
    "            return f\"({int_val})\"\n",
    "        else: \n",
    "            return f\"{int_val}\" \n",
    "        \n",
    "solution = Solution()        \n",
    "\n",
    "nums = [-1,0,1,2,-1,-4]\n",
    "print(solution.threeSum(nums))\n",
    "nums = [0,1,1]\n",
    "print(solution.threeSum(nums))\n",
    "nums = [0,0,0]\n",
    "print(solution.threeSum(nums))\n"
   ]
  },
  {
   "cell_type": "code",
   "execution_count": 156,
   "id": "623d48f5",
   "metadata": {},
   "outputs": [
    {
     "name": "stdout",
     "output_type": "stream",
     "text": [
      "[[-1, -1, 2], [-1, 0, 1]]\n",
      "Input: nums = [-1, 0, 1, 2, -1, -4]\n",
      "Output: [[-1, -1, 2], [-1, 0, 1]]\n",
      "Explanation:\n",
      "\t- nums[0] + nums[1] + nums[2] = (-1) + 0 + 1 = 0.\n",
      "\t- nums[0] + nums[3] + nums[4] = (-1) + 2 + (-1) = 0.\n",
      "\t- nums[1] + nums[2] + nums[4] = 0 + 1 + (-1) = 0.\n",
      "\t- The distinct triplets are [-1, 0, 1] and [-1, -1, 2].\n",
      "\t- Notice that the order of the output and the order of the triplets does not matter.\n",
      "\n",
      "Input: nums = [0, 1, 1]\n",
      "Output: []\n",
      "Explanation: The only possible triplet sums up to 0.\n",
      "\n",
      "Input: nums = [0, 0, 0]\n",
      "Output: [[0, 0, 0]]\n",
      "Explanation: The only possible triplet sums up to 0.\n",
      "\n"
     ]
    }
   ],
   "source": [
    "class Solution(object):\n",
    "\n",
    "    def threeSum(self,nums):\n",
    "\n",
    "        #output,explanation = solution.explanation(nums)\n",
    "\n",
    "        ph_array,ph_array_main = [],[]\n",
    "        for idx_i,i in enumerate(nums):\n",
    "            for idx_j,j in enumerate(nums):\n",
    "                for idx_k,k in enumerate(nums):\n",
    "                    if i+j+k == 0 and (idx_i!=idx_j,idx_i!=idx_k,idx_j!=idx_k) and (idx_i < idx_j < idx_k):\n",
    "                        ph_array.append((i,j,k))\n",
    "\n",
    "        for i in ph_array:\n",
    "            if sorted(i) not in ph_array_main:\n",
    "                ph_array_main.append(sorted(i))\n",
    "        \n",
    "        if len(ph_array_main) < 2:\n",
    "            return f\"\"\"Input: nums = {nums}\\nOutput: {ph_array_main[::-1]}\n",
    "Explanation: The only possible triplet sums up to {nums[0]}.\\n\"\"\"\n",
    "        else:\n",
    "            output,explanation = solution.explanation(nums)\n",
    "            return f\"\"\"Input: nums = {nums}\\nOutput: {output}\\nExplanation:\\n{explanation}\\n\"\"\"\n",
    "        \n",
    "    def explanation(self,nums):\n",
    "        ph_array,ph_array_stg,ph_array_main = [],[],[]\n",
    "        for idx_i,i in enumerate(nums):\n",
    "            for idx_j,j in enumerate(nums):\n",
    "                for idx_k,k in enumerate(nums):\n",
    "                    if i+j+k == 0 and (idx_i!=idx_j,idx_i!=idx_k,idx_j!=idx_k) and (idx_i < idx_j < idx_k):\n",
    "                        ph_array.append(f\"\\t- nums[{idx_i}] + nums[{idx_j}] + nums[{idx_k}] = {solution.is_negative_int(i)} + {solution.is_negative_int(j)} + {solution.is_negative_int(k)} = {i+j+k}.\\n\")\n",
    "                        ph_array_stg.append((i,j,k))\n",
    "\n",
    "        for i in ph_array_stg:\n",
    "            if sorted(i) not in ph_array_main:\n",
    "                ph_array_main.append(sorted(i))\n",
    "\n",
    "        ph_array.append(f\"\\t- The distinct triplets are {ph_array_main[0]} and {ph_array_main[-1]}.\\n\")\n",
    "        ph_array.append(\"\\t- Notice that the order of the output and the order of the triplets does not matter.\")\n",
    "        print(ph_array_main[::-1])\n",
    "        if len(ph_array_main) < 2:\n",
    "            return ph_array_main,\"\".join(ph_array)\n",
    "        else:\n",
    "            return ph_array_main[::-1],\"\".join(ph_array)\n",
    "\n",
    "    def is_negative_int(self,int_val):\n",
    "        if int_val < 0:\n",
    "            return f\"({int_val})\"\n",
    "        else: \n",
    "            return f\"{int_val}\" \n",
    "        \n",
    "solution = Solution()        \n",
    "\n",
    "nums = [-1,0,1,2,-1,-4]\n",
    "print(solution.threeSum(nums))\n",
    "nums = [0,1,1]\n",
    "print(solution.threeSum(nums))\n",
    "nums = [0,0,0]\n",
    "print(solution.threeSum(nums))\n"
   ]
  },
  {
   "cell_type": "code",
   "execution_count": 186,
   "id": "100f8b07",
   "metadata": {},
   "outputs": [
    {
     "name": "stdout",
     "output_type": "stream",
     "text": [
      "[[-1, -1, 2], [-1, 0, 1]]\n",
      "[]\n",
      "[[0, 0, 0]]\n"
     ]
    }
   ],
   "source": [
    "def threeSum(nums):\n",
    "    ph_array,ph_array_main = [],[]\n",
    "    for idx_i,i in enumerate(nums):\n",
    "        for idx_j,j in enumerate(nums):\n",
    "            for idx_k,k in enumerate(nums):\n",
    "                if i+j+k == 0 and (idx_i!=idx_j,idx_i!=idx_k,idx_j!=idx_k) and (idx_i < idx_j < idx_k):\n",
    "                    ph_array.append((i,j,k))                \n",
    "\n",
    "    for i in ph_array:\n",
    "        if sorted(i) not in ph_array_main:\n",
    "            ph_array_main.append(sorted(i))\n",
    "\n",
    "    return ph_array_main[::-1]\n",
    "\n",
    "\n",
    "nums = [-1,0,1,2,-1,-4]\n",
    "print(threeSum(nums))\n",
    "nums = [0,1,1]\n",
    "print(threeSum(nums))\n",
    "nums = [0,0,0]\n",
    "print(threeSum(nums))    "
   ]
  },
  {
   "cell_type": "code",
   "execution_count": 79,
   "id": "049f453c",
   "metadata": {},
   "outputs": [
    {
     "data": {
      "text/plain": [
       "[]"
      ]
     },
     "execution_count": 79,
     "metadata": {},
     "output_type": "execute_result"
    }
   ],
   "source": [
    "nums = [0,1,1]\n",
    "ph_array,ph_array_main = [],[]\n",
    "for idx_i,i in enumerate(nums):\n",
    "    for idx_j,j in enumerate(nums):\n",
    "        for idx_k,k in enumerate(nums):\n",
    "            if i+j+k == 0 and (idx_i!=idx_j,idx_i!=idx_k,idx_j!=idx_k) and (idx_i < idx_j < idx_k):\n",
    "                ph_array.append((i,j,k))\n",
    "                print(f\"{i}[{idx_i}] + {j}[{idx_j}] + {k}[{idx_k}] = {i+j+k}\")\n",
    "\n",
    "for i in ph_array:\n",
    "    if sorted(i) not in ph_array_main:\n",
    "        ph_array_main.append(sorted(i))\n",
    "\n",
    "ph_array_main[::-1]"
   ]
  },
  {
   "cell_type": "markdown",
   "id": "f82e3af8",
   "metadata": {},
   "source": [
    "# 11. Container With Most Water\n",
    "**Difficulty:** Medium\n",
    "\n",
    "You are given an integer array `height` of length `n`. \n",
    "\n",
    "There are `n` vertical lines drawn such that the two endpoints of the `i`th line are `(i, 0)` and `(i, height[i])`.\n",
    "\n",
    "Find two lines that together with the x-axis form a container, such that the container contains the most water.\n",
    "\n",
    "Return the maximum amount of water a container can store.\n",
    "\n",
    "**Notice:** You may not slant the container.\n",
    "\n",
    "## Examples\n",
    "\n",
    "**Example 1:**\n",
    "- **Input:** `height = [1,8,6,2,5,4,8,3,7]`\n",
    "- **Output:** `49`\n",
    "- **Explanation:** The above vertical lines are represented by the array `[1,8,6,2,5,4,8,3,7]`. In this case, the maximum area of water (blue section) the container can contain is 49.\n",
    "\n",
    "**Example 2:**\n",
    "- **Input:** `height = [1,1]`\n",
    "- **Output:** `1`\n"
   ]
  },
  {
   "cell_type": "code",
   "execution_count": 278,
   "id": "403d296d",
   "metadata": {},
   "outputs": [],
   "source": [
    "def return_last_index(list_of_int,target):\n",
    "    last_index = len(list_of_int) - 1 - list_of_int[::-1].index(target)\n",
    "    return last_index"
   ]
  },
  {
   "cell_type": "code",
   "execution_count": 277,
   "id": "4c46d05d",
   "metadata": {},
   "outputs": [
    {
     "name": "stdout",
     "output_type": "stream",
     "text": [
      "10\n",
      "10\n"
     ]
    }
   ],
   "source": [
    "height = [1,7,6,2,5,4,8,3,8,9,8]\n",
    "\n",
    "# Find the index of the last occurrence of 8\n",
    "last_index = len(height) - 1 - height[::-1].index(8)\n",
    "\n",
    "print(last_index)\n",
    "\n",
    "print(return_last_index(height,8))\n"
   ]
  },
  {
   "cell_type": "code",
   "execution_count": 322,
   "id": "3f36d95f",
   "metadata": {},
   "outputs": [
    {
     "name": "stdout",
     "output_type": "stream",
     "text": [
      "Input: height = [1, 8, 6, 2, 5, 4, 8, 3, 7]\n",
      "Output: 49\n",
      "\n",
      "Input: height = [1, 1]\n",
      "Output: 1\n",
      "\n",
      "Input: height = [1, 7, 6, 2, 5, 4, 8, 3, 8]\n",
      "Output: 49\n",
      "\n"
     ]
    }
   ],
   "source": [
    "def maxArea(height):\n",
    "\n",
    "    def return_last_index(list_of_int,target):\n",
    "        last_index = len(list_of_int) - 1 - list_of_int[::-1].index(target)\n",
    "        return last_index\n",
    "\n",
    "    from copy import deepcopy\n",
    "\n",
    "    height_to_process = deepcopy(height)\n",
    "\n",
    "    if len(list(set(height_to_process))) == 1:\n",
    "        return f\"\"\"Input: height = {height}\\nOutput: {list(set(height_to_process))[0]}\\n\"\"\"\n",
    "    else:\n",
    "        \n",
    "        primary_max = list(set(height_to_process))[-1]\n",
    "        secondary_max = list(set(height_to_process))[-2]\n",
    "        max_water = 0\n",
    "        primary_to_secondary = height[height.index(primary_max):height.index(secondary_max)+1]\n",
    "        secondary_to_primary = height[height.index(secondary_max):height[return_last_index(height,primary_max)]+1]\n",
    "\n",
    "        if len(primary_to_secondary) > len(secondary_to_primary):\n",
    "            for i in primary_to_secondary:\n",
    "                max_water+=secondary_max\n",
    "            return f\"\"\"Input: height = {height}\\nOutput: {max_water-secondary_max}\\n\"\"\"\n",
    "        else:\n",
    "            for i in secondary_to_primary:\n",
    "                max_water+=secondary_max\n",
    "            return f\"\"\"Input: height = {height}\\nOutput: {max_water-secondary_max}\\n\"\"\"\n",
    "\n",
    "\n",
    "height = [1,8,6,2,5,4,8,3,7]\n",
    "print(maxArea(height))\n",
    "height = [1,1]\n",
    "print(maxArea(height))\n",
    "height = [1,7,6,2,5,4,8,3,8]\n",
    "print(maxArea(height))\n",
    "        "
   ]
  },
  {
   "cell_type": "code",
   "execution_count": 292,
   "id": "b0c932b6",
   "metadata": {},
   "outputs": [
    {
     "name": "stdout",
     "output_type": "stream",
     "text": [
      "[8, 6, 2, 5, 4, 8, 3, 7]\n",
      "[8, 6, 2, 5, 4, 8, 3, 7]\n",
      "[8, 6, 2, 5, 4, 8, 3, 7]\n",
      "[8, 6, 2, 5, 4, 8, 3, 7]\n",
      "[8, 6, 2, 5, 4, 8, 3, 7]\n",
      "[8, 6, 2, 5, 4, 8, 3, 7]\n",
      "[8, 6, 2, 5, 4, 8, 3, 7]\n",
      "[8, 6, 2, 5, 4, 8, 3, 7]\n",
      "49\n"
     ]
    }
   ],
   "source": [
    "def return_last_index(list_of_int,target):\n",
    "    last_index = len(list_of_int) - 1 - list_of_int[::-1].index(target)\n",
    "    return last_index\n",
    "\n",
    "from copy import deepcopy\n",
    "\n",
    "#height = [1,7,6,2,5,4,8,3,8]\n",
    "height = [1,8,6,2,5,4,8,3,7]\n",
    "\n",
    "height_to_process = deepcopy(height)\n",
    "\n",
    "if len(list(set(height_to_process))) == 1:\n",
    "    print(list(set(height_to_process))[0])\n",
    "else:\n",
    "    primary_max = list(set(height_to_process))[-1]\n",
    "    secondary_max = list(set(height_to_process))[-2]\n",
    "    max_water = 0\n",
    "\n",
    "    if len(height[height.index(primary_max):height.index(secondary_max)+1]) > len(height[height.index(secondary_max):height.index(primary_max)+1]):\n",
    "        for i in height[height.index(primary_max):height.index(secondary_max)+1]:\n",
    "            print(height[height.index(primary_max):height.index(secondary_max)+1])\n",
    "            max_water+=secondary_max\n",
    "        print(max_water-secondary_max)\n",
    "    else:\n",
    "        for i in height[height.index(secondary_max):height[return_last_index(height,primary_max)]+1]:\n",
    "            print(height[height.index(secondary_max):height[return_last_index(height,primary_max)]+1])\n",
    "            max_water+=secondary_max\n",
    "        print(max_water-secondary_max)\n",
    "\n",
    "    \n",
    "        "
   ]
  },
  {
   "cell_type": "code",
   "execution_count": 219,
   "id": "7f6bbc40",
   "metadata": {},
   "outputs": [
    {
     "name": "stdout",
     "output_type": "stream",
     "text": [
      "49\n"
     ]
    }
   ],
   "source": [
    "from copy import deepcopy\n",
    "\n",
    "height = [1,8,6,2,5,4,8,3,7]\n",
    "\n",
    "height_to_process = deepcopy(height)\n",
    "\n",
    "if len(list(set(height_to_process))) == 1:\n",
    "    print(list(set(height_to_process))[0])\n",
    "else:\n",
    "    primary_max = list(set(height_to_process))[-1]\n",
    "    secondary_max = list(set(height_to_process))[-2]\n",
    "\n",
    "    max_water = 0\n",
    "    for i in height[height.index(primary_max):height.index(secondary_max)+1]:\n",
    "        max_water+=secondary_max\n",
    "\n",
    "    print(max_water-secondary_max)"
   ]
  },
  {
   "cell_type": "code",
   "execution_count": 218,
   "id": "abb563de",
   "metadata": {},
   "outputs": [
    {
     "name": "stdout",
     "output_type": "stream",
     "text": [
      "1\n"
     ]
    }
   ],
   "source": [
    "from copy import deepcopy\n",
    "\n",
    "height = [1,1]\n",
    "\n",
    "height_to_process = deepcopy(height)\n",
    "\n",
    "if len(list(set(height_to_process))) == 1:\n",
    "    print(list(set(height_to_process))[0])\n",
    "else:\n",
    "    primary_max = list(set(height_to_process))[-1]\n",
    "    secondary_max = list(set(height_to_process))[-2]\n",
    "\n",
    "    max_water = 0\n",
    "    for i in height[height.index(primary_max):height.index(secondary_max)+1]:\n",
    "        max_water+=secondary_max\n",
    "\n",
    "    print(max_water-secondary_max)"
   ]
  },
  {
   "cell_type": "markdown",
   "id": "025c0799",
   "metadata": {},
   "source": [
    "# 191. Number of 1 Bits\n",
    "**Difficulty:** Easy\n",
    "\n",
    "Given a positive integer `n`, write a function that returns the number of set bits in its binary representation (also known as the Hamming weight).\n",
    "\n",
    "## Examples\n",
    "\n",
    "**Example 1:**\n",
    "- **Input:** `n = 11`\n",
    "- **Output:** `3`\n",
    "- **Explanation:** The input binary string `1011` has a total of three set bits.\n",
    "\n",
    "**Example 2:**\n",
    "- **Input:** `n = 128`\n",
    "- **Output:** `1`\n",
    "- **Explanation:** The input binary string `10000000` has a total of one set bit.\n",
    "\n",
    "**Example 3:**\n",
    "- **Input:** `n = 2147483645`\n",
    "- **Output:** `30`\n",
    "- **Explanation:** The input binary string `1111111111111111111111111111101` has a total of thirty set bits.\n"
   ]
  },
  {
   "cell_type": "code",
   "execution_count": 1,
   "id": "bb5f44fc",
   "metadata": {},
   "outputs": [
    {
     "name": "stdout",
     "output_type": "stream",
     "text": [
      "Input: n = `11`\n",
      "Output: `3`\n",
      "Explanation: The input binary string `1011` has a total of `three` set bit.\n",
      "\n",
      "Input: n = `128`\n",
      "Output: `1`\n",
      "Explanation: The input binary string `10000000` has a total of `one` set bit.\n",
      "\n",
      "Input: n = `2147483645`\n",
      "Output: `30`\n",
      "Explanation: The input binary string `1111111111111111111111111111101` has a total of `thirty` set bit.\n"
     ]
    }
   ],
   "source": [
    "class Solution(object):\n",
    "\n",
    "    def hammingWeight(self,n):\n",
    "\n",
    "        import inflect\n",
    "\n",
    "        convert = inflect.engine()\n",
    "        dict = {}\n",
    "        dec_to_bin = bin(n)[2:]\n",
    "\n",
    "        for i in str(dec_to_bin):\n",
    "            if i == '1':\n",
    "                dict[i] = 1 + dict.get(i,0)\n",
    "\n",
    "        output = dict['1']\n",
    "        \n",
    "        return f\"\"\"Input: n = `{n}`\\nOutput: `{output}`\n",
    "Explanation: The input binary string `{dec_to_bin}` has a total of `{convert.number_to_words(output)}` set bit.\"\"\"\n",
    "\n",
    "solution = Solution()\n",
    "\n",
    "print(solution.hammingWeight(n=11))\n",
    "print()\n",
    "print(solution.hammingWeight(n=128))\n",
    "print()\n",
    "print(solution.hammingWeight(n=2147483645))"
   ]
  },
  {
   "cell_type": "markdown",
   "id": "c450e5d9",
   "metadata": {},
   "source": [
    "# 338. Counting Bits\n",
    "**Difficulty:** Easy\n",
    "\n",
    "Given an integer `n`, return an array `ans` of length `n + 1` such that for each `i` (0 <= `i` <= `n`), `ans[i]` is the number of 1's in the binary representation of `i`.\n",
    "\n",
    "## Examples\n",
    "\n",
    "**Example 1:**\n",
    "- **Input:** `n = 2`\n",
    "- **Output:** `[0, 1, 1]`\n",
    "- **Explanation:**\n",
    "  - `0 --> 0`\n",
    "  - `1 --> 1`\n",
    "  - `2 --> 10`\n",
    "\n",
    "**Example 2:**\n",
    "- **Input:** `n = 5`\n",
    "- **Output:** `[0, 1, 1, 2, 1, 2]`\n",
    "- **Explanation:**\n",
    "  - `0 --> 0`\n",
    "  - `1 --> 1`\n",
    "  - `2 --> 10`\n",
    "  - `3 --> 11`\n",
    "  - `4 --> 100`\n",
    "  - `5 --> 101`\n"
   ]
  },
  {
   "cell_type": "code",
   "execution_count": 46,
   "id": "21ad66a4",
   "metadata": {},
   "outputs": [
    {
     "name": "stdout",
     "output_type": "stream",
     "text": [
      "Input: n = 2\n",
      "Output: [0, 1, 1]\n",
      "Explanation:\n",
      "0 --> 0\n",
      "1 --> 1\n",
      "2 --> 10\n",
      "\n",
      "Input: n = 5\n",
      "Output: [0, 1, 1, 2, 1, 2]\n",
      "Explanation:\n",
      "0 --> 0\n",
      "1 --> 1\n",
      "2 --> 10\n",
      "3 --> 11\n",
      "4 --> 100\n",
      "5 --> 101\n",
      "\n"
     ]
    }
   ],
   "source": [
    "class Solution(object):\n",
    "\n",
    "    def countBits(self,n):\n",
    "        ph_arr = []\n",
    "        one_bin_cntr = 0\n",
    "        for idx,bin_val in enumerate(range(n+1)):\n",
    "            if idx == 0:\n",
    "                ph_arr.append((idx,f\"{idx} --> {bin(bin_val)[2:]}\\n\"))\n",
    "            else:\n",
    "                for i in str(bin(bin_val)[2:]):\n",
    "                    if \"1\" == i:\n",
    "                        one_bin_cntr+=1\n",
    "                ph_arr.append((one_bin_cntr,f\"{idx} --> {bin(bin_val)[2:]}\\n\"))\n",
    "                one_bin_cntr=0   \n",
    "        return f\"\"\"Input: n = {n}\\nOutput: {[x[0] for x in ph_arr]}\n",
    "Explanation:\n",
    "{''.join([x[1] for x in ph_arr])}\"\"\"\n",
    "\n",
    "solution = Solution()\n",
    "n=2\n",
    "print(solution.countBits(n))\n",
    "n=5\n",
    "print(solution.countBits(n))"
   ]
  },
  {
   "cell_type": "code",
   "execution_count": 23,
   "id": "8dbb3bed",
   "metadata": {},
   "outputs": [
    {
     "name": "stdout",
     "output_type": "stream",
     "text": [
      "[0, 1, 1]\n",
      "\n",
      "[0, 1, 1, 2, 1, 2]\n"
     ]
    }
   ],
   "source": [
    "def countBits(n):\n",
    "    ph_arr = []\n",
    "    one_bin_cntr = 0\n",
    "    for idx,bin_val in enumerate(range(n+1)):\n",
    "        if idx == 0:\n",
    "            ph_arr.append(idx)\n",
    "        else:\n",
    "            for i in str(bin(bin_val)[2:]):\n",
    "                if \"1\" == i:\n",
    "                    one_bin_cntr+=1\n",
    "            ph_arr.append(one_bin_cntr)\n",
    "            one_bin_cntr=0   \n",
    "    return ph_arr\n",
    "\n",
    "n=2\n",
    "print(countBits(n))\n",
    "print()\n",
    "n=5\n",
    "print(countBits(n))"
   ]
  },
  {
   "cell_type": "code",
   "execution_count": 48,
   "id": "fb6769b9",
   "metadata": {},
   "outputs": [
    {
     "name": "stdout",
     "output_type": "stream",
     "text": [
      "0\n",
      "1\n",
      "10\n",
      "11\n",
      "100\n",
      "101\n",
      "[0, 1, 1, 2, 1, 2]\n"
     ]
    }
   ],
   "source": [
    "n = 5\n",
    "ph_arr = []\n",
    "one_bin_cntr = 0\n",
    "for idx,bin_val in enumerate(range(n+1)):\n",
    "    print(bin(bin_val)[2:])\n",
    "    if idx == 0:\n",
    "        ph_arr.append(idx)\n",
    "    else:\n",
    "        for i in str(bin(bin_val)[2:]):\n",
    "            if \"1\" == i:\n",
    "                one_bin_cntr+=1\n",
    "        ph_arr.append(one_bin_cntr)\n",
    "        one_bin_cntr=0\n",
    "        \n",
    "print(ph_arr)        \n"
   ]
  }
 ],
 "metadata": {
  "kernelspec": {
   "display_name": "Python 3 (ipykernel)",
   "language": "python",
   "name": "python3"
  },
  "language_info": {
   "codemirror_mode": {
    "name": "ipython",
    "version": 3
   },
   "file_extension": ".py",
   "mimetype": "text/x-python",
   "name": "python",
   "nbconvert_exporter": "python",
   "pygments_lexer": "ipython3",
   "version": "3.6.8"
  }
 },
 "nbformat": 4,
 "nbformat_minor": 5
}
