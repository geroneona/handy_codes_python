{
 "cells": [
  {
   "cell_type": "code",
   "execution_count": null,
   "id": "6c20a913-e8ec-4b6e-b78d-b544e57b1b3d",
   "metadata": {
    "scrolled": true
   },
   "outputs": [],
   "source": [
    "# to check every element in array how many occurrence\n",
    "word_list2 = [\"pp\",\"hard\",\"hi\",\"subscribe\",\"pp\",\"hard\",\"subscribe\",\"pp\"]\n",
    "\n",
    "#keep track of it with my_dic\n",
    "my_dic2 = {}\n",
    "\n",
    "#looking through the list\n",
    "for word2 in word_list2:\n",
    "    #count frequency\n",
    "    my_dic2[word2] = 1 + my_dic2.get(word2,0)\n",
    "    #print (f'{my_dic2.get(word2)}:{my_dic2.get(word2,0)}')\n",
    "print(my_dic2)    "
   ]
  },
  {
   "cell_type": "code",
   "execution_count": null,
   "id": "91d6983d-6a01-438d-8a42-e15169fa8927",
   "metadata": {},
   "outputs": [],
   "source": [
    "my_dic2\n",
    "for i,j in my_dic2.items():\n",
    "    print (f'{i}:{j}')"
   ]
  },
  {
   "cell_type": "code",
   "execution_count": null,
   "id": "38d644e9-0ada-4538-b8ef-4361ed6819ec",
   "metadata": {},
   "outputs": [],
   "source": [
    "my_dic2\n",
    "for i in my_dic2:\n",
    "    print (f'{i}:{my_dic2[i]}')"
   ]
  },
  {
   "cell_type": "code",
   "execution_count": null,
   "id": "1689e19a-0c85-4b95-9f2d-668fc39193f2",
   "metadata": {},
   "outputs": [],
   "source": [
    "# input [\"pp\",\"hard\",\"hi\",\"subscribe\",\"pp\",\"hard\",\"subscribe\",\"pp\"]\n",
    "# output [\"pp\",\"hard\",\"subscribe\"]\n",
    "word_list = [\"pp\",\"hard\",\"hi\",\"subscribe\",\"pp\",\"hard\",\"subscribe\",\"pp\"]\n",
    "\n",
    "#keep track of it with my_dic\n",
    "my_dic = {}\n",
    "\n",
    "#looking through the list\n",
    "for word in word_list:\n",
    "    #count frequency\n",
    "    my_dic[word] = my_dic.get(word,0) + 1\n",
    "    \n",
    "#where output result needs to go\n",
    "output_list = []\n",
    "\n",
    "for i in my_dic:\n",
    "    if my_dic[i] > 1:\n",
    "        #print (f'{i}:{my_dic2[i]}')\n",
    "        output_list += [i]\n",
    "print(output_list) # result only those that encounter more than 1 instance inside initial list(word_list2)\n",
    "print()\n",
    "\n",
    "for i,j in my_dic.items():\n",
    "    print (f'{i}:{j}')"
   ]
  },
  {
   "cell_type": "code",
   "execution_count": null,
   "id": "00d97c1a-6983-4c32-8e28-877dd4c2bbe9",
   "metadata": {},
   "outputs": [],
   "source": [
    "# input [\"pp\",\"hard\",\"hi\",\"subscribe\",\"pp\",\"hard\",\"subscribe\",\"pp\"]\n",
    "# output [\"pp\",\"hard\",\"subscribe\"]\n",
    "word_list = [\"pp\",\"hard\",\"hi\",\"hard\",\"subscribe\",\"pp\",\"hard\",\"subscribe\",\"pp\"]\n",
    "\n",
    "#keep track of it with my_dic\n",
    "my_dic = {}\n",
    "\n",
    "#looking through the list\n",
    "for word in word_list:\n",
    "    #count frequency\n",
    "    my_dic[word] = my_dic.get(word,0) + 1\n",
    "    # break loop once 1st value that occur twice\n",
    "    if my_dic[word] > 1:\n",
    "        print (f\"First value that occur twice: '{word}'\")\n",
    "        break\n",
    "print(my_dic)"
   ]
  },
  {
   "cell_type": "code",
   "execution_count": null,
   "id": "0213ddca-be20-4ffa-83b5-90f4abf8f0ac",
   "metadata": {},
   "outputs": [],
   "source": [
    "string = 'christiangeroner.ona'\n",
    "\n",
    "#keep track of it with my_dic\n",
    "my_dic = {}\n",
    "\n",
    "#looking through the list\n",
    "for char in string:\n",
    "    #count frequency\n",
    "    my_dic[char] = my_dic.get(char,0) + 1 # need to use 2 parameter here in 'my_dic.get(char,0)' because python doesn't know value is an integer so need to leverage this because it can pull non existing record for us\n",
    "    # break loop once 1st char occur twice\n",
    "for i,j in my_dic.items():\n",
    "    print (f\"{i}:{j}\")"
   ]
  },
  {
   "cell_type": "code",
   "execution_count": null,
   "id": "0f65fff4-5e9e-4cfe-81b9-b81c49d799e9",
   "metadata": {},
   "outputs": [],
   "source": [
    "string = 'christiangeroner.ona'\n",
    "\n",
    "#keep track of it with my_dic\n",
    "my_dic = {}\n",
    "\n",
    "#looking through the string\n",
    "for char in string:\n",
    "    #count frequency\n",
    "    my_dic[char] = my_dic.get(char,0) + 1 # need to use 2 parameter here in 'my_dic.get(char,0)' because python doesn't know value is an integer so need to leverage this because it can pull non existing record for us\n",
    "    # break loop once 1st char occur twice\n",
    "    if my_dic[char] > 1:\n",
    "        print (f\"First character that occur twice: '{char}'\")\n",
    "        break\n",
    "print(my_dic)"
   ]
  },
  {
   "cell_type": "code",
   "execution_count": null,
   "id": "edad7fe4-4f35-4769-8f2d-318c0c3710d1",
   "metadata": {},
   "outputs": [],
   "source": [
    "sentence = \"\"\"hello there, My name is Christian Gerone R. Ona. \n",
    "Hello there again! I'm 28 years old. I wanna be a professional fulltime IT developer.\n",
    "My hobbies are learning Python, Playing Guitar and studying Music theory.\n",
    "\"\"\"\n",
    "L = sentence.split()\n",
    "\n",
    "#keep track of it with my_dic\n",
    "my_dic = {}\n",
    "\n",
    "#looking through the list\n",
    "for word in L:\n",
    "    #count frequency\n",
    "    my_dic[word.lower()] = my_dic.get(word.lower(),0) + 1 # need to use 2 parameter here in 'my_dic.get(word,0)' because python doesn't know value is an integer so need to leverage this because it can pull non existing record for us\n",
    "    # break loop once 1st char occur twice\n",
    "    if my_dic[word.lower()] > 1:\n",
    "        print (f\"First word that occur twice in the sentence: '{word}'\")\n",
    "        break\n",
    "\n",
    "print()\n",
    "\n",
    "for i,j in my_dic.items():\n",
    "    print (f\"{i}:\\t\\t{j}\")\n"
   ]
  },
  {
   "cell_type": "code",
   "execution_count": null,
   "id": "e7fc2235-7142-48ad-8b68-662181b4da2a",
   "metadata": {
    "scrolled": true
   },
   "outputs": [],
   "source": [
    "sentence = \"\"\"hello there, My name is Christian Gerone R. Ona. \n",
    "I'm 28 years old. I wanna be a professional fulltime IT developer.\n",
    "My hobbies are learning Python, Playing Guitar and studying Music theory.\n",
    "I'm glad to meet you! my my\n",
    "\"\"\"\n",
    "L = sentence.split()\n",
    "\n",
    "#keep track of it with my_dic\n",
    "my_dic = {}\n",
    "\n",
    "#looking through the list\n",
    "for word in L:\n",
    "    #count frequency\n",
    "    my_dic[word.lower()] = my_dic.get(word.lower(),0) + 1 # need to use 2 parameter here in 'my_dic.get(word,0)' because python doesn't know value is an integer so need to leverage this because it can pull non existing record for us\n",
    "    # break loop once 1st char occur twice\n",
    "\n",
    "for i,j in my_dic.items():\n",
    "    print (f\"{i}:\\t\\t{j}\")\n"
   ]
  },
  {
   "cell_type": "code",
   "execution_count": null,
   "id": "bed22b27-392d-414d-a619-ac8ef6e53d7e",
   "metadata": {},
   "outputs": [],
   "source": [
    "word[-1] in vowels"
   ]
  },
  {
   "cell_type": "code",
   "execution_count": null,
   "id": "29eaf1b2-ff74-48e7-855f-20e247c9c955",
   "metadata": {},
   "outputs": [],
   "source": [
    "from strings import consonants, vowels, space, numbers, special_chars\n",
    "sentence = \"\"\"hello there, I'm is Christian Gerone R. Ona. there\n",
    "Hello there again! I'm 28 years old. I wanna be a professional fulltime IT developer.\n",
    "My hobbies are learning Python, Playing Guitar and studying Music theory.\n",
    "\"\"\"\n",
    "L = sentence.split()\n",
    "\n",
    "#keep track of it with my_dic\n",
    "my_dic = {}\n",
    "\n",
    "#looking through the list\n",
    "for word in L:\n",
    "    #count frequency and store it in dictionary\n",
    "    if word[-1] in vowels or word[-1] in consonants:\n",
    "        my_dic[word.lower()] = my_dic.get(word.lower(),0) + 1 # need to use 2 parameter here in 'my_dic.get(word,0)' because python doesn't know value is an integer so need to leverage this because it can pull non existing record for us\n",
    "        # break loop once 1st char occur twice\n",
    "        \n",
    "        if my_dic[word.lower()] > 1:\n",
    "            print (f\"First word that occur twice in the sentence: '{word}'\")\n",
    "            break\n",
    "        \n",
    "    # condition to look for word that has special character on its end then count frequency and store it in dictionary\n",
    "    if word[-1] in special_chars:\n",
    "        my_dic[word[:-1].lower()] = my_dic.get(word.lower(),0) + 1\n",
    "        # break loop once 1st char occur twice\n",
    "        \n",
    "        if my_dic[word[:-1].lower()] > 1:\n",
    "            print (f\"First word that occur twice in the sentence: '{word}'\")\n",
    "            break\n",
    "        \n",
    "print()\n",
    "\n",
    "for i,j in my_dic.items():\n",
    "    print (f\"{i}:\\t\\t{j}\")\n"
   ]
  },
  {
   "cell_type": "code",
   "execution_count": null,
   "id": "5d93ccf5-bf3c-4454-96ec-4b5554ed4a10",
   "metadata": {},
   "outputs": [],
   "source": [
    "my_dic"
   ]
  },
  {
   "cell_type": "code",
   "execution_count": null,
   "id": "09767480-3497-41d9-bf5c-07fc295fe724",
   "metadata": {},
   "outputs": [],
   "source": [
    "from strings import consonants, vowels, space, numbers, special_chars\n",
    "sentence = \"\"\"Hello there, my name is Christian Gerone R. Ona.\n",
    "I'm 28 years old. I wanna be a professional fulltime IT developer.\n",
    "My hobbies are learning Python, Playing Guitar and studying Music theory.\n",
    "\"\"\"\n",
    "L = sentence.split()\n",
    "\n",
    "#keep track of it with my_dic\n",
    "my_dic = {}\n",
    "\n",
    "#looking through the list\n",
    "for word in L:\n",
    "    #count frequency and store it in dictionary\n",
    "    if word[-1] in vowels or word[-1] in consonants:\n",
    "        my_dic[word.lower()] = my_dic.get(word.lower(),0) + 1 # need to use 2 parameter here in 'my_dic.get(word.lower(),0)' because python doesn't know value is an integer so need to leverage this because it can pull non existing record for us\n",
    "        # break loop once 1st char occur twice\n",
    "        if my_dic[word.lower()] > 1:\n",
    "            print (f\"First word that occur twice in the sentence: '{word}'\")\n",
    "            break\n",
    "        \n",
    "    # condition to look for word that has special character on its end then count frequency and store it in dictionary\n",
    "    if word[-1] in special_chars:\n",
    "        my_dic[word[:-1].lower()] = my_dic.get(word.lower(),0) + 1\n",
    "        # break loop once 1st char occur twice\n",
    "        if my_dic[word[:-1].lower()] > 1:\n",
    "            print (f\"First word that occur twice in the sentence: '{word}'\")\n",
    "            break\n",
    "        \n",
    "print()\n",
    "\n",
    "for i,j in my_dic.items():\n",
    "    print (f\"{i}:\\t\\t{j}\")\n"
   ]
  },
  {
   "cell_type": "code",
   "execution_count": null,
   "id": "8e5f688b-08a2-43cf-a1a8-866c1acff357",
   "metadata": {},
   "outputs": [],
   "source": [
    "car = {\n",
    "  \"brand\": \"Ford\",\n",
    "  \"model\": \"Mustang\",\n",
    "  \"year\": 1964\n",
    "}\n",
    "\n",
    "x = car.get(\"price\", 15000) # can output this even it's not existing\n",
    "\n",
    "print(x)\n",
    "print(car)"
   ]
  },
  {
   "cell_type": "code",
   "execution_count": null,
   "id": "3a7bfb27-1b62-4d5d-8ef1-38cc215d68ec",
   "metadata": {},
   "outputs": [],
   "source": [
    "car = {\n",
    "  \"brand\": \"Ford\",\n",
    "  \"model\": \"Mustang\",\n",
    "  \"year\": 1964\n",
    "}\n",
    "\n",
    "car[\"color\"] = \"black\"\n",
    "x = car.get(\"color\",\"grey\") # this will not show up as grey because it's already declared as black this is only if it's not existing it will not error out\n",
    "\n",
    "print(x)\n",
    "print(car)\n",
    "print()\n",
    "for key in car:\n",
    "\tprint(f\"{key}:\\t{car[key]}\")\n",
    "print()\n",
    "for key,value in car.items():\n",
    "\tprint(f\"{key}:\\t{value}\")\n",
    "print()\n",
    "for key in car:\n",
    "    value = car[key]\n",
    "    print(f\"{key}:\\t{value}\")"
   ]
  },
  {
   "cell_type": "code",
   "execution_count": null,
   "id": "549cd7a9-500c-45d4-a316-39e8d57f1779",
   "metadata": {},
   "outputs": [],
   "source": [
    "del car['brand']"
   ]
  },
  {
   "cell_type": "code",
   "execution_count": null,
   "id": "496c8877-f40d-4916-8e86-c539fb3ab893",
   "metadata": {},
   "outputs": [],
   "source": [
    "car"
   ]
  },
  {
   "cell_type": "markdown",
   "id": "d494f038-b106-4b24-8708-a976eaf0d83f",
   "metadata": {},
   "source": [
    "Use a set to find the unique values of the list below:"
   ]
  },
  {
   "cell_type": "code",
   "execution_count": null,
   "id": "16c83d72-36f5-472c-8402-9b53c948f125",
   "metadata": {},
   "outputs": [],
   "source": [
    "list5 = [1,2,2,33,4,4,11,22,3,3,2]\n",
    "\n",
    "dic = {}\n",
    "for key in list5:\n",
    "    dic[key] = dic.get(key,0)+1\n",
    "print(dic)    \n",
    "#dic = {}\n",
    "\n",
    "print('\\nMethod 1: Unique Values in the list are below:')\n",
    "for key in dic:\n",
    "    value = dic[key]\n",
    "    if value == 1:\n",
    "        print(f\"{key} : {value} instance only\")\n",
    "\n",
    "print('\\nMethod 2: Unique Values in the list are below:')\n",
    "for key,value in dic.items():\n",
    "    if value == 1:\n",
    "        print(f\"{key} : {value} instance only\")"
   ]
  },
  {
   "cell_type": "code",
   "execution_count": null,
   "id": "36736da7-65fb-4447-af79-8323277d5f9f",
   "metadata": {},
   "outputs": [],
   "source": [
    "print(sorted(dic.items(),reverse=False))\n",
    "print(sorted(dic.keys(),reverse=False))\n",
    "print(sorted(dic.values(),reverse=False))"
   ]
  },
  {
   "cell_type": "code",
   "execution_count": null,
   "id": "b3520701-f821-4ab7-89c1-e389ffff9275",
   "metadata": {},
   "outputs": [],
   "source": [
    "a = input('input something:')\n",
    "print (a)"
   ]
  },
  {
   "cell_type": "code",
   "execution_count": null,
   "id": "792cb1b1-2a51-47a3-9935-0b96d0264dd7",
   "metadata": {},
   "outputs": [],
   "source": [
    "a"
   ]
  },
  {
   "cell_type": "code",
   "execution_count": null,
   "id": "4e7e5287-0ea2-4ba8-8c2b-881f1413529b",
   "metadata": {},
   "outputs": [],
   "source": [
    "L = [x for x in range(1,11)]\n",
    "L"
   ]
  },
  {
   "cell_type": "markdown",
   "id": "bb9a58a0-e6ab-4a96-b9e8-4576158ff138",
   "metadata": {},
   "source": [
    "# For loop lesson"
   ]
  },
  {
   "cell_type": "code",
   "execution_count": null,
   "id": "e2143ea8-f7d1-488f-8fbc-fbb4c50bff76",
   "metadata": {},
   "outputs": [],
   "source": [
    "for i in car:\n",
    "    print(f'{i}: {car[i]}')"
   ]
  },
  {
   "cell_type": "code",
   "execution_count": null,
   "id": "81b58e4b-e3a2-474e-8116-a622178ce351",
   "metadata": {},
   "outputs": [],
   "source": [
    "string = 'gerone'\n",
    "\n",
    "for i in string:\n",
    "    if i == 'o':\n",
    "        break #breaks out of the closest enclosing loop\n",
    "    print(i)"
   ]
  },
  {
   "cell_type": "code",
   "execution_count": null,
   "id": "14e3d807-759f-4cb2-ad04-0aef2a1cd8b4",
   "metadata": {},
   "outputs": [],
   "source": [
    "string = 'gerone'\n",
    "\n",
    "for i in string:\n",
    "    if i == 'o':\n",
    "        continue #goes to the top of the closest enclosing loop\n",
    "    print(i)"
   ]
  },
  {
   "cell_type": "code",
   "execution_count": null,
   "id": "1012bc4e-37c7-4179-9f57-067c84e9d03e",
   "metadata": {},
   "outputs": [],
   "source": [
    "string = 'gerone'\n",
    "\n",
    "for i in string:\n",
    "    if i == 'o':\n",
    "        pass # does nothing at all\n",
    "    print(i)"
   ]
  },
  {
   "cell_type": "code",
   "execution_count": null,
   "id": "d7dccd34-5d61-415d-b29c-564d6cb4bbd6",
   "metadata": {},
   "outputs": [],
   "source": [
    "string = 'gerone'\n",
    "\n",
    "for i in string:\n",
    "    if i == 'o':\n",
    "        pass\n",
    "    else:\n",
    "        print(i)"
   ]
  },
  {
   "cell_type": "markdown",
   "id": "f56ee3c8-1fbc-43f4-8035-2054282c6d8e",
   "metadata": {},
   "source": [
    "# Useful operators"
   ]
  },
  {
   "cell_type": "markdown",
   "id": "70d2f575-5242-4515-afa1-609d5402c99f",
   "metadata": {},
   "source": [
    "#### convert range function into array"
   ]
  },
  {
   "cell_type": "code",
   "execution_count": null,
   "id": "969e53bc-953d-4221-9474-e7fa86811e15",
   "metadata": {},
   "outputs": [],
   "source": [
    "list(range(1,11))"
   ]
  },
  {
   "cell_type": "code",
   "execution_count": null,
   "id": "ae30837b-6a77-43b8-9b77-33e21744a71e",
   "metadata": {},
   "outputs": [],
   "source": [
    "list(range(1,12,2))"
   ]
  },
  {
   "cell_type": "code",
   "execution_count": null,
   "id": "2f9d5c6c-d051-4090-a743-a0bfce97ec05",
   "metadata": {},
   "outputs": [],
   "source": [
    "tuple(range(1,11))"
   ]
  },
  {
   "cell_type": "markdown",
   "id": "ea149aeb-8227-44ad-9d51-3f8e76dfb4c7",
   "metadata": {},
   "source": [
    "### Enumeration"
   ]
  },
  {
   "cell_type": "code",
   "execution_count": null,
   "id": "74dfd3bc-f5bc-49b0-8ee9-54bdb9e0d580",
   "metadata": {},
   "outputs": [],
   "source": [
    "index_count = 0\n",
    "\n",
    "for i in 'abcde':\n",
    "    print (\"Letter '{1}' is positioned at index: {0}\".format(index_count,i))\n",
    "    index_count += 1"
   ]
  },
  {
   "cell_type": "code",
   "execution_count": null,
   "id": "e4f7a768-cd23-4c54-8a67-f4e93296ffed",
   "metadata": {},
   "outputs": [],
   "source": [
    "index_count = 0\n",
    "word = 'abcde'\n",
    "\n",
    "for i in word:\n",
    "    print (word[index_count])\n",
    "    index_count += 1"
   ]
  },
  {
   "cell_type": "code",
   "execution_count": null,
   "id": "ae9691cd-df7a-4e07-8f3b-8c3626892181",
   "metadata": {},
   "outputs": [],
   "source": [
    "# to efficiently replicate above using enumeration\n",
    "\n",
    "word = 'abcde'\n",
    "\n",
    "for i in enumerate(word):\n",
    "    print (i)"
   ]
  },
  {
   "cell_type": "code",
   "execution_count": null,
   "id": "0bc750c4-70da-4b0a-91b9-4a35e5c1f7dc",
   "metadata": {},
   "outputs": [],
   "source": [
    "for i,j in enumerate(word):\n",
    "    print(i)\n",
    "    print(j+'\\n')"
   ]
  },
  {
   "cell_type": "code",
   "execution_count": null,
   "id": "e89fb22d-5961-4996-8d3c-af1fe1ae80b3",
   "metadata": {},
   "outputs": [],
   "source": [
    "list(enumerate(word))"
   ]
  },
  {
   "cell_type": "code",
   "execution_count": null,
   "id": "f5902d0c-3f22-498d-9b95-f3aa1ba531d8",
   "metadata": {},
   "outputs": [],
   "source": [
    "t_enum = list(enumerate(word))\n",
    "\n",
    "for i,j in t_enum:\n",
    "    print(f\"Index#:{i} | Char:'{j}'\")"
   ]
  },
  {
   "cell_type": "markdown",
   "id": "e592de58-51f1-42c7-a530-044d92157233",
   "metadata": {},
   "source": [
    "## Zip"
   ]
  },
  {
   "cell_type": "code",
   "execution_count": null,
   "id": "d4172dd3-a1df-4455-acae-063a6f9c3a63",
   "metadata": {},
   "outputs": [],
   "source": [
    "mylist1 = ['Hi,',\"I'm\",'Gerone','Ona.']"
   ]
  },
  {
   "cell_type": "code",
   "execution_count": null,
   "id": "80c7270e-6b68-4cc9-8e6c-617dbe7725cd",
   "metadata": {},
   "outputs": [],
   "source": [
    "print(*mylist1)"
   ]
  },
  {
   "cell_type": "code",
   "execution_count": null,
   "id": "faaf2c43-1cb0-487a-82e2-274ebb7edee9",
   "metadata": {},
   "outputs": [],
   "source": [
    "' '.join(mylist1)"
   ]
  },
  {
   "cell_type": "markdown",
   "id": "c1c8daa4-a539-432e-8358-e63787cf4997",
   "metadata": {},
   "source": [
    "#### Zip proper"
   ]
  },
  {
   "cell_type": "code",
   "execution_count": null,
   "id": "fffad52d-2b28-4732-88d7-05af863de584",
   "metadata": {},
   "outputs": [],
   "source": [
    "mylist1 = [1,2,3,4]\n",
    "mylist2 = ['a','b','c','d']\n",
    "mylist3 = ['i','ii','iii','iv']\n",
    "mylist4 = ['uno','dos','tres','kwatro']"
   ]
  },
  {
   "cell_type": "code",
   "execution_count": null,
   "id": "282988dd-9447-4b37-b9d8-fbcf899bc2be",
   "metadata": {},
   "outputs": [],
   "source": [
    "zip(mylist1,mylist2)"
   ]
  },
  {
   "cell_type": "code",
   "execution_count": null,
   "id": "6f4a7d5c-ff06-488a-a879-138f0444ba37",
   "metadata": {},
   "outputs": [],
   "source": [
    "list(zip(mylist1,mylist2))"
   ]
  },
  {
   "cell_type": "code",
   "execution_count": null,
   "id": "9a703e59-ff40-417d-bc18-5179713b100d",
   "metadata": {},
   "outputs": [],
   "source": [
    "list(zip(mylist1,mylist2,mylist3))"
   ]
  },
  {
   "cell_type": "code",
   "execution_count": null,
   "id": "c96adea7-5245-4013-8a0f-f472d7c2e3c0",
   "metadata": {},
   "outputs": [],
   "source": [
    "for i,j,k in list(zip(mylist1,mylist2,mylist3)):\n",
    "    print(f'|\\tmylist1:{i}\\t|\\tmylist2:{j}\\t|\\tmylist3:{k}\\t|')"
   ]
  },
  {
   "cell_type": "code",
   "execution_count": null,
   "id": "322ec65f-157e-4b5b-810b-7149fe0018a6",
   "metadata": {},
   "outputs": [],
   "source": [
    "for i,j,k,l in list(zip(mylist1,mylist2,mylist3,mylist4)):\n",
    "    print(f'|\\tmylist1:{i}\\t|\\tmylist2:{j}\\t|\\tmylist3:{k}\\t|\\tmylist4:{l}\\t|')"
   ]
  },
  {
   "cell_type": "markdown",
   "id": "0dc1bd0c-f691-418f-8439-cd49b306dfc8",
   "metadata": {},
   "source": [
    "## 'In' keyword"
   ]
  },
  {
   "cell_type": "code",
   "execution_count": null,
   "id": "f7d795ba-370b-4bbd-8f19-6de8ac9e2487",
   "metadata": {},
   "outputs": [],
   "source": [
    "'a' in 'hello worlda'"
   ]
  },
  {
   "cell_type": "code",
   "execution_count": null,
   "id": "78928448-b39f-4074-80a3-16e4981c0967",
   "metadata": {},
   "outputs": [],
   "source": [
    "# using dictionary\n",
    "'key1' in {'key1':1234,'key2':5678}"
   ]
  },
  {
   "cell_type": "code",
   "execution_count": null,
   "id": "12214991-e01e-4ff3-b923-e98eedf6919d",
   "metadata": {},
   "outputs": [],
   "source": [
    "d = {'key1':1234,'key2':5678}\n",
    "\n",
    "5678 in d.values()"
   ]
  },
  {
   "cell_type": "markdown",
   "id": "c83c590d-df13-4f25-b307-8dff51d8f6f7",
   "metadata": {},
   "source": [
    "## Min Max function"
   ]
  },
  {
   "cell_type": "code",
   "execution_count": null,
   "id": "13851310-ae12-45c1-a05f-857fed94de34",
   "metadata": {},
   "outputs": [],
   "source": [
    "L = [10,20,30,40,100]"
   ]
  },
  {
   "cell_type": "code",
   "execution_count": null,
   "id": "ea2aefb4-6eda-4b8a-889d-ce920001b091",
   "metadata": {},
   "outputs": [],
   "source": [
    "min(L)"
   ]
  },
  {
   "cell_type": "code",
   "execution_count": null,
   "id": "67546f69-9af8-4602-a8f3-d30264c6f9c7",
   "metadata": {},
   "outputs": [],
   "source": [
    "max(L)"
   ]
  },
  {
   "cell_type": "code",
   "execution_count": null,
   "id": "588ea058-83ff-4e4b-9bf8-0c2342360fc2",
   "metadata": {},
   "outputs": [],
   "source": [
    "d = {'key1':1234,'key2':5678}\n",
    "print(f'MAX Value inside the Dictionary: {max(d.values())}')\n",
    "print(f'MIN Key inside the Dictionary: {min(d.keys())}')"
   ]
  },
  {
   "cell_type": "markdown",
   "id": "acd19188-87bd-45a7-af7d-51c355e9fea7",
   "metadata": {},
   "source": [
    "## Random"
   ]
  },
  {
   "cell_type": "code",
   "execution_count": null,
   "id": "9172ffba-17dc-46e0-a970-1d96bf5c6c01",
   "metadata": {},
   "outputs": [],
   "source": [
    "from random import shuffle"
   ]
  },
  {
   "cell_type": "code",
   "execution_count": null,
   "id": "701e780a-6c5e-414f-a577-0c26e8db3c16",
   "metadata": {},
   "outputs": [],
   "source": [
    "shuffle(L) # no need to pass in a variable to take effect\n",
    "L"
   ]
  },
  {
   "cell_type": "code",
   "execution_count": null,
   "id": "bbb6fe89-2236-4676-9be0-3becffe4bfb9",
   "metadata": {},
   "outputs": [],
   "source": [
    "L = sorted(L,reverse=False) # need to pass in a variable to take effect\n",
    "print(L)\n",
    "L.sort(reverse=True) # no need to pass in a variable to take effect\n",
    "print(L)"
   ]
  },
  {
   "cell_type": "code",
   "execution_count": null,
   "id": "63e69e5e-6cce-4981-abb6-0d18a087a395",
   "metadata": {},
   "outputs": [],
   "source": [
    "from random import randint, random, randrange\n",
    "randint(1,11)"
   ]
  },
  {
   "cell_type": "markdown",
   "id": "766805b8-cb5d-4e63-ae20-3282c66417c1",
   "metadata": {},
   "source": [
    "# Leetcode Challenge Practice"
   ]
  },
  {
   "cell_type": "code",
   "execution_count": null,
   "id": "e68b8300-566f-4bf7-9282-f6b87778e179",
   "metadata": {},
   "outputs": [],
   "source": [
    "def return_2nd_largest_value(L,K):\n",
    "#L = [1,3,4,2,6,5]\n",
    "    L.sort()\n",
    "#K = 2\n",
    "    return L[K*-1]\n",
    "return_2nd_largest_value(L=[4,6,5,7,8,3,4,9,11,99,121],K=2)    "
   ]
  },
  {
   "cell_type": "code",
   "execution_count": null,
   "id": "c5367fc6-08b6-4cfc-9b69-bc63507f3982",
   "metadata": {},
   "outputs": [],
   "source": [
    "def majority_array(L):\n",
    "    new_L = []\n",
    "    dic = {}\n",
    "    for i in L:\n",
    "        #for tracking in dictionary\n",
    "        dic[i] = dic.get(i,0)+1\n",
    "    for i,j in dic.items():\n",
    "        #reverse dictionary and convert into tupple\n",
    "        new_L.append(tuple(f'{j}{i}'))\n",
    "    #reverse sort the tupple\n",
    "    new_L.sort(reverse=True)\n",
    "    #return the correct majority array\n",
    "    return int(new_L[0][1])\n",
    "\n",
    "def majority_array_v2(L):\n",
    "    new_L = []\n",
    "    dic = {}\n",
    "    for i in L:\n",
    "        #for tracking in dictionary\n",
    "        dic[i] = dic.get(i,0)+1\n",
    "    for i in sorted(dic.items()):\n",
    "        new_L.append(tuple(i[::-1]))\n",
    "    new_L.sort(reverse=True)\n",
    "    print(dic)\n",
    "    return int(new_L[0][1])\n",
    "\n",
    "def majority_array_v3(L):\n",
    "    new_L = []\n",
    "    dic = {}\n",
    "    for i in L:\n",
    "        #for tracking in dictionary\n",
    "        dic[i] = dic.get(i,0)+1\n",
    "    for i in dic.items():\n",
    "        new_L.append(tuple(i[::-1]))\n",
    "    new_L.sort(reverse=True)\n",
    "    print(dic)\n",
    "    return int(new_L[0][1])"
   ]
  },
  {
   "cell_type": "code",
   "execution_count": null,
   "id": "e815f12e-3ab9-45d0-a43e-ab7df7b70bb2",
   "metadata": {},
   "outputs": [],
   "source": [
    "majority_array_v3([69,2,4,5,6,69,69,69,7,8,6,5,7,8,8,8,5,3,3,4,6,8,9,6,12,7,7,7,7,7,7,7,7,7,7,7,7,7,7,11,11,11,11,69,69,69,69,69,69,69,69,69,69])"
   ]
  },
  {
   "cell_type": "code",
   "execution_count": null,
   "id": "5385dc98-78e6-4475-8ccc-a65e8dd0a0c9",
   "metadata": {},
   "outputs": [],
   "source": [
    "dic = {}\n",
    "L = [2,4,5,6,69,69,69,7,8,6,5,7,8,8,8,5,3,3,4,6,8,9,6,12,7,7,7,7,7,7,7,7,7,7,7,7,7,7,11,11,11,11,69,69,69,69,69,69,69,69,69,69]\n",
    "for i in L:\n",
    "    #for tracking in dictionary\n",
    "    dic[i] = dic.get(i,0)+1\n",
    "dic"
   ]
  },
  {
   "cell_type": "code",
   "execution_count": null,
   "id": "81d8a0b7-0b2a-487a-8bc5-fd733bbfd09a",
   "metadata": {},
   "outputs": [],
   "source": [
    "max(dic.items())"
   ]
  },
  {
   "cell_type": "code",
   "execution_count": null,
   "id": "c08b7762-7089-426c-a85a-f1744755c02b",
   "metadata": {},
   "outputs": [],
   "source": [
    "#v1 working baby\n",
    "#output [\"ad\",\"ae\",\"af\",\"bd\",\"be\",\"bf\",\"cd\",\"ce\",\"cf\"] if 2digits are '23'\n",
    "def meta_lcom():\n",
    "    n,o,L=0,0,[]\n",
    "\n",
    "    digit = input('Input 2 digits: ')\n",
    "\n",
    "    if digit[0] == '2':\n",
    "        d1='abc'\n",
    "    if digit[0] == '3':\n",
    "        d1='def'\n",
    "    if digit[0] == '4':\n",
    "        d1='ghi'\n",
    "    if digit[0] == '5':\n",
    "        d1='jkl'\n",
    "    if digit[0] == '6':\n",
    "        d1='mno'\n",
    "    if digit[0] == '7':\n",
    "        d1='pqrs'\n",
    "    if digit[0] == '8':\n",
    "        d1='tuv'\n",
    "    if digit[0] == '9':\n",
    "        d1='wxyz'\n",
    "    if digit[1] == '2':\n",
    "        d2='abc'\n",
    "    if digit[1] == '3':\n",
    "        d2='def'\n",
    "    if digit[1] == '4':\n",
    "        d2='ghi'\n",
    "    if digit[1] == '5':\n",
    "        d2='jkl'\n",
    "    if digit[1] == '6':\n",
    "        d2='mno'\n",
    "    if digit[1] == '7':\n",
    "        d2='pqrs'\n",
    "    if digit[1] == '8':\n",
    "        d2='tuv'\n",
    "    if digit[1] == '9':\n",
    "        d2='wxyz'\n",
    "    if digit[0] == '0' or digit[1] == '0' or digit[0] == '1' or digit[1] == '1':\n",
    "        print('Not a valid number, call the function to try again.\\n')\n",
    "\n",
    "    while True:\n",
    "        pack = zip(d1[o],d2[n])\n",
    "        for i in pack:\n",
    "            L.append(''.join(i))\n",
    "        n+=1\n",
    "        if n==len(d2):\n",
    "            n=0\n",
    "            o+=1\n",
    "            if o==len(d1):\n",
    "                break\n",
    "    return L"
   ]
  },
  {
   "cell_type": "code",
   "execution_count": null,
   "id": "03d633bd-d9d4-4a93-ad98-def746fddc07",
   "metadata": {
    "scrolled": true
   },
   "outputs": [],
   "source": [
    "meta_lcom()"
   ]
  },
  {
   "cell_type": "code",
   "execution_count": null,
   "id": "8a25fb5c-07d8-4241-a394-b45ad121d4d8",
   "metadata": {},
   "outputs": [],
   "source": [
    "# v2, courtesy of Jaira\n",
    "L = []\n",
    "\n",
    "keypad_dic = {\n",
    "    '2':'abc',\n",
    "    '3':'def',\n",
    "    '4':'ghi',\n",
    "    '5':'jkl',\n",
    "    '6':'mno',\n",
    "    '7':'pqrs',\n",
    "    '8':'tuv',\n",
    "    '9':'wxyz'\n",
    "}\n",
    "\n",
    "digit = input('Input 2 digits: ')\n",
    "\n",
    "d1 = digit[0]\n",
    "d2 = digit[1]\n",
    "\n",
    "for i in keypad_dic[d1]:\n",
    "    #print(i)\n",
    "    for j in keypad_dic[d2]:\n",
    "        L = L + [i+j]\n",
    "L"
   ]
  },
  {
   "cell_type": "markdown",
   "id": "c169beda-07f0-429b-8029-78ca51548937",
   "metadata": {},
   "source": [
    "## Contains Duplicate Challenge"
   ]
  },
  {
   "cell_type": "code",
   "execution_count": null,
   "id": "72ca332c-6ee2-4e60-94db-9a932b0f84c7",
   "metadata": {},
   "outputs": [],
   "source": [
    "# v1\n",
    "Lnums = [1,2,3,4,5,6]\n",
    "dic = {}\n",
    "\n",
    "for i in Lnums:\n",
    "    dic[i] = dic.get(i,0) + 1\n",
    "    \n",
    "sort_D_values = sorted(dic.values())\n",
    "if sort_D_values[-1] != 1:\n",
    "    print(True)\n",
    "else:\n",
    "    print(False)    \n",
    "        "
   ]
  },
  {
   "cell_type": "code",
   "execution_count": null,
   "id": "82b0a259-23db-4cad-a906-bb25beb45ff9",
   "metadata": {},
   "outputs": [],
   "source": [
    "# v2\n",
    "def contains_dup(Lnums):\n",
    "    dic = {}\n",
    "\n",
    "    for i in Lnums:\n",
    "        dic[i] = dic.get(i,0) + 1\n",
    "\n",
    "    sort_D_values = sorted(dic.values())\n",
    "    if sort_D_values[-1] != 1:\n",
    "        return True\n",
    "    else:\n",
    "        return False        "
   ]
  },
  {
   "cell_type": "code",
   "execution_count": null,
   "id": "b1dfed30-2556-4a6b-8f2e-2e72f605da09",
   "metadata": {},
   "outputs": [],
   "source": [
    "contains_dup([1,2,3,4,5,6,7,8,9,10,11])"
   ]
  },
  {
   "cell_type": "code",
   "execution_count": null,
   "id": "33852d9a-ef97-4943-9259-9b7fedb314ef",
   "metadata": {},
   "outputs": [],
   "source": [
    "# v3\n",
    "def contains_dup(Lnums):\n",
    "    dic = {}\n",
    "\n",
    "    for i in Lnums:\n",
    "        dic[i] = dic.get(i,0) + 1\n",
    "    if sorted(dic.values())[-1] != 1:\n",
    "        return True\n",
    "    else:\n",
    "        return False        "
   ]
  },
  {
   "cell_type": "code",
   "execution_count": null,
   "id": "807e88ec-d1d7-47a4-b999-060aee2eb08f",
   "metadata": {},
   "outputs": [],
   "source": [
    "contains_dup([1,2,3,4,5,6,7,8,9,10,2])"
   ]
  },
  {
   "cell_type": "markdown",
   "id": "599be094-5098-464b-81aa-35c1142725e2",
   "metadata": {},
   "source": [
    "## Replicating heapq method that will indentify 2 largest number in the index"
   ]
  },
  {
   "cell_type": "code",
   "execution_count": null,
   "id": "c106fa4f-9f25-4323-a37d-be470e2ef0f8",
   "metadata": {},
   "outputs": [],
   "source": [
    "#using heapq\n",
    "import heapq\n",
    "L_numbers = [4,9,3,10,6,2,7,1,8]\n",
    "second_largest = heapq.nlargest(2, L_numbers)\n",
    "print(second_largest)\n",
    "print(second_largest[-1])"
   ]
  },
  {
   "cell_type": "code",
   "execution_count": null,
   "id": "68273a4f-f90f-4642-b143-7de7678e263a",
   "metadata": {},
   "outputs": [],
   "source": [
    "#replicating heapq\n",
    "L_numbers = [4,9,3,10,6,2,7,1,8]\n",
    "L_numbers.sort(reverse=True)\n",
    "second_largest = L_numbers[:2]\n",
    "print(second_largest)\n",
    "print(second_largest[-1])"
   ]
  },
  {
   "cell_type": "code",
   "execution_count": null,
   "id": "794b99fc-25c9-4a4e-876e-6e283067c21c",
   "metadata": {},
   "outputs": [],
   "source": [
    "# input [4,9,3,10,6,2,7,1,8]\n",
    "# output [1,2,3,4,6,7,8,10,9]\n",
    "L_numbers = [4,9,3,10,6,2,7,1,8]\n",
    "L_numbers.sort()\n",
    "popped_L_number = L_numbers.pop(-2)\n",
    "L_numbers.append(popped_L_number)\n",
    "L_numbers"
   ]
  },
  {
   "cell_type": "code",
   "execution_count": null,
   "id": "1f75e59e-43cf-4a39-9b39-98c845c64a33",
   "metadata": {},
   "outputs": [],
   "source": [
    "# input [4,9,3,10,6,2,7,1,8]\n",
    "# output [4,3,10,6,2,7,1,8,9]\n",
    "L_numbers = [4,9,3,10,6,2,7,1,8]\n",
    "sorted_Lnums = sorted(L_numbers)\n",
    "popped_sorted_L_number = sorted_Lnums.pop(-2)\n",
    "del L_numbers[L_numbers.index(popped_sorted_L_number)]\n",
    "L_numbers.append(popped_sorted_L_number)\n",
    "L_numbers"
   ]
  },
  {
   "cell_type": "markdown",
   "id": "f286af73-c58c-46a3-b74b-9a9c112287bd",
   "metadata": {},
   "source": [
    "## List Comprehension"
   ]
  },
  {
   "cell_type": "code",
   "execution_count": null,
   "id": "208bbdbf-c47b-424d-b72a-e94646d55573",
   "metadata": {},
   "outputs": [],
   "source": [
    "mystring = 'hello'\n",
    "L = []\n",
    "\n",
    "print(mystring)\n",
    "for i in mystring:\n",
    "    L.append(i)\n",
    "print (L)\n",
    "\n",
    "D = {}\n",
    "\n",
    "for i in L:\n",
    "    D[i] = D.get(i,0)+1\n",
    "print(D)\n",
    "\n",
    "new_L=[]\n",
    "for i in D.keys():\n",
    "    new_L.append(i)\n",
    "print(new_L)\n",
    "\n",
    "new_mystring = ''.join(new_L)\n",
    "print(new_mystring)\n",
    "print(new_mystring[::-1])\n",
    "\n",
    "mirror_L = []\n",
    "\n",
    "for i in new_mystring[::-1]:\n",
    "    mirror_L.append(i)\n",
    "mirror_L    "
   ]
  },
  {
   "cell_type": "code",
   "execution_count": null,
   "id": "1e573022-08e4-4d94-ac6b-eb1fc25173e3",
   "metadata": {},
   "outputs": [],
   "source": [
    "# single line approach | List Comprehension proper\n",
    "mystring = 'hello'\n",
    "L = [i for i in mystring]\n",
    "print(L)\n",
    "L = [x for x in 'word']\n",
    "print(L)\n",
    "L = [x for x in range(1,11)]\n",
    "print(L)\n",
    "L = [x for x in range(10,0,-1)]\n",
    "print(L)\n",
    "str_L = str(L)\n",
    "print(str_L[0:3]+']')\n",
    "new_str_L = []\n",
    "new_str_L += [int(str_L[1:3])]\n",
    "new_str_L"
   ]
  },
  {
   "cell_type": "code",
   "execution_count": null,
   "id": "0fb9617c-3cd5-48a1-b3df-1a12622c9240",
   "metadata": {},
   "outputs": [],
   "source": [
    "L = [x**2 for x in range(1,11)] # to get squared version, just adjust the 1st element 'x'\n",
    "print(L)\n",
    "L = [x**2 for x in range(1,11) if x%2 == 0] # to get even number of squared version, just add logic in the end\n",
    "print(L)\n",
    "L = [x**2 for x in range(1,11) if x%2 != 0] # to get odd number of squared version, just add logic in the end\n",
    "print(L)"
   ]
  },
  {
   "cell_type": "code",
   "execution_count": null,
   "id": "88e6acdd-1f3e-4aec-af9c-9d765e0ac63a",
   "metadata": {},
   "outputs": [],
   "source": [
    "celcius = [0,10,20,34.5] \n",
    "\n",
    "fahrenheit = [(9/5)*temp+32 for temp in celcius]\n",
    "print(fahrenheit)"
   ]
  },
  {
   "cell_type": "code",
   "execution_count": null,
   "id": "4e31e3c4-1252-4f63-92a3-4dbcedb1d07e",
   "metadata": {},
   "outputs": [],
   "source": [
    "#break temperature down into normal for loop\n",
    "fahrenheit = []\n",
    "for temp in celcius:\n",
    "    fahrenheit.append((9/5)*temp+32)\n",
    "fahrenheit    "
   ]
  },
  {
   "cell_type": "markdown",
   "id": "8cfe4897-1ba7-4f7b-8fda-9dff2264fe91",
   "metadata": {},
   "source": [
    "### using if else statement in List Comprehension | not recommended due to its hard readability | use at your own risk!"
   ]
  },
  {
   "cell_type": "code",
   "execution_count": null,
   "id": "ac032044-4183-45c1-a4d1-f22cad1feb40",
   "metadata": {},
   "outputs": [],
   "source": [
    "result = [x if x%2==0 else 'ODD' for x in range(0,11)]\n",
    "result"
   ]
  },
  {
   "cell_type": "code",
   "execution_count": null,
   "id": "8659df08-4312-4de3-9344-65a64c22d3ab",
   "metadata": {},
   "outputs": [],
   "source": [
    "# sample below for nested loop list compehension(before)\n",
    "mylist = []\n",
    "\n",
    "for x in [2,4,6]:\n",
    "    for y in [1,10,1000]:\n",
    "        print(x,y)\n",
    "        mylist.append(x*y)\n",
    "mylist        "
   ]
  },
  {
   "cell_type": "code",
   "execution_count": null,
   "id": "0d17b711-03d5-4c6f-85a3-5445aa82e939",
   "metadata": {},
   "outputs": [],
   "source": [
    "# sample below for nested loop list compehension(after) | sacrifice readability but it's doable\n",
    "mylist = [x*y for x in [2,4,6] for y in [1,10,1000]]   \n",
    "mylist"
   ]
  },
  {
   "cell_type": "code",
   "execution_count": null,
   "id": "c8479835",
   "metadata": {},
   "outputs": [],
   "source": [
    "def box(N):\n",
    "    for i in range(1,N+1):\n",
    "        print('*'*N)"
   ]
  },
  {
   "cell_type": "code",
   "execution_count": null,
   "id": "10b9623a",
   "metadata": {},
   "outputs": [],
   "source": [
    "box(8)"
   ]
  },
  {
   "cell_type": "markdown",
   "id": "151938bd",
   "metadata": {},
   "source": [
    "## Valid Word\n",
    "\n",
    "A word is considered valid if:\n",
    "\n",
    "- it contains a minimum of 3 characters.\n",
    "- it contains only digits (0-9), and English letters (uppercase and lowercase).\n",
    "- it includes at least one vowel.\n",
    "- it includes at least one consonant.\n",
    "\n",
    "You are given a string word.\n",
    "\n",
    "Return true if word is valid otherwise, return false."
   ]
  },
  {
   "cell_type": "code",
   "execution_count": null,
   "id": "8ffaa702",
   "metadata": {},
   "outputs": [],
   "source": [
    "from strings import consonants, vowels, space, numbers, special_chars, english_letters\n",
    "\n",
    "def valid_word(string):\n",
    "    condition = ['has_1_consonant',\n",
    "    'has_1_lowercase_letter',\n",
    "    'has_1_number',\n",
    "    'has_1_uppercase_letter',\n",
    "    'has_1_vowel',\n",
    "    'is_3_chars']\n",
    "    L = []\n",
    "\n",
    "    if len(string) >= 3:\n",
    "        L.append('is_3_chars')\n",
    "        for i in string:\n",
    "            if i in numbers:\n",
    "                L.append('has_1_number')\n",
    "            elif i in english_letters:\n",
    "                L.append('has_1_lowercase_letter')\n",
    "                valid_lower_ind = True\n",
    "                if i in vowels:\n",
    "                    L.append(\"has_1_vowel\")\n",
    "                if i in consonants:\n",
    "                    L.append(\"has_1_consonant\")\n",
    "            elif i in english_letters.upper():\n",
    "                L.append('has_1_uppercase_letter')\n",
    "                valid_upper_ind = True\n",
    "                if i in vowels:\n",
    "                    L.append(\"has_1_vowel\")\n",
    "                if i in consonants:\n",
    "                    L.append(\"has_1_consonant\")\n",
    "            else:\n",
    "                L.append(\"False\")\n",
    "\n",
    "    if condition == sorted(list(set(L))):\n",
    "        return True\n",
    "    else:\n",
    "        return False\n",
    "            \n"
   ]
  },
  {
   "cell_type": "code",
   "execution_count": null,
   "id": "03d68d6a",
   "metadata": {},
   "outputs": [],
   "source": [
    "valid_word('Gerone9')"
   ]
  },
  {
   "cell_type": "code",
   "execution_count": null,
   "id": "4864d9ff",
   "metadata": {},
   "outputs": [],
   "source": [
    "from strings import consonants, vowels, space, numbers, special_chars, english_letters\n",
    "instruction = \"\"\"\n",
    "Valid Word\\n\\n\n",
    "\n",
    "A word is considered valid if:\\n\\n\n",
    "\n",
    "- it contains a minimum of 3 characters.\\n\n",
    "- it contains only digits (0-9), and English letters (uppercase and lowercase).\\n\n",
    "- it includes at least one vowel.\\n\n",
    "- it includes at least one consonant.\\n\\n\n",
    "\n",
    "You are given a string word.\\n\\n\n",
    "\n",
    "Return true if word is valid otherwise, return false.\\n\\n\n",
    "\n",
    "function name: \"valid_word\"\\n\n",
    "\"\"\"\n",
    "print(instruction)\n",
    "\n",
    "def valid_word(string):\n",
    "    condition = ['has_1_consonant',\n",
    "    'has_1_lowercase_letter',\n",
    "    'has_1_number',\n",
    "    'has_1_uppercase_letter',\n",
    "    'has_1_vowel',\n",
    "    'is_3_chars']\n",
    "    L = []\n",
    "\n",
    "    if len(string) >= 3:\n",
    "        print('is_3_chars')\n",
    "        L.append('is_3_chars')\n",
    "        for i in string:\n",
    "            if i in numbers:\n",
    "                print('has_1_number')\n",
    "                L.append('has_1_number')\n",
    "            elif i in english_letters:\n",
    "                print('has_1_lowercase_letter')\n",
    "                L.append('has_1_lowercase_letter')\n",
    "                valid_lower_ind = True\n",
    "                if i in vowels:\n",
    "                    print(\"has_1_vowel\")\n",
    "                    L.append(\"has_1_vowel\")\n",
    "                if i in consonants:\n",
    "                    print(\"has_1_consonant\")\n",
    "                    L.append(\"has_1_consonant\")\n",
    "            elif i in english_letters.upper():\n",
    "                print('has_1_uppercase_letter')\n",
    "                L.append('has_1_uppercase_letter')\n",
    "                valid_upper_ind = True\n",
    "                if i in vowels:\n",
    "                    print(\"has_1_vowel\")\n",
    "                    L.append(\"has_1_vowel\")\n",
    "                if i in consonants:\n",
    "                    print(\"has_1_consonant\")\n",
    "                    L.append(\"has_1_consonant\")\n",
    "            else:\n",
    "                print(False)\n",
    "                L.append(\"False\")\n",
    "\n",
    "    if condition == sorted(list(set(L))):\n",
    "        return True\n",
    "    else:\n",
    "        return False\n",
    "            \n"
   ]
  },
  {
   "cell_type": "markdown",
   "id": "4f66310b",
   "metadata": {},
   "source": [
    "## Unique Occurences in Array\n",
    "\n",
    "### Example 1\n",
    "Input: arr = [1,2,2,1,1,3]\n",
    "\n",
    "Output: True\n",
    "\n",
    "### Example 2\n",
    "Input: arr = [1,2]\n",
    "\n",
    "Output: False\n",
    "\n",
    "### Example 3\n",
    "Input: arr = [-3,0,1,-3,1,1,1,-3,10,0]\n",
    "\n",
    "Output: True"
   ]
  },
  {
   "cell_type": "code",
   "execution_count": null,
   "id": "63b306d4",
   "metadata": {},
   "outputs": [],
   "source": [
    "arr = [1,2,2,1,1,3]\n",
    "\n",
    "D = {}\n",
    "\n",
    "for i in arr:\n",
    "    D[i] = D.get(i,0) + 1\n",
    "\n",
    "for i,j in sorted(D.items(), reverse=True):\n",
    "    print(F\"Key: {i} | Value: {j}\")\n",
    "\n",
    "print()\n",
    "\n",
    "if sorted(D.values()) == list(set(sorted(D.values()))):\n",
    "    print(True)\n",
    "else:\n",
    "    print(False)\n",
    "    "
   ]
  },
  {
   "cell_type": "code",
   "execution_count": null,
   "id": "df9b18f6",
   "metadata": {},
   "outputs": [],
   "source": [
    "arr = [1,2]\n",
    "\n",
    "D = {}\n",
    "\n",
    "for i in arr:\n",
    "    D[i] = D.get(i,0) + 1\n",
    "\n",
    "for i,j in sorted(D.items(), reverse=True):\n",
    "    print(F\"Key: {i} | Value: {j}\")\n",
    "\n",
    "print()\n",
    "\n",
    "if sorted(D.values()) == list(set(sorted(D.values()))):\n",
    "    print(True)\n",
    "else:\n",
    "    print(False)\n",
    "    "
   ]
  },
  {
   "cell_type": "code",
   "execution_count": null,
   "id": "a331d2f3",
   "metadata": {},
   "outputs": [],
   "source": [
    "arr = [-3,0,1,-3,1,1,1,-3,10,0]\n",
    "\n",
    "D = {}\n",
    "\n",
    "for i in arr:\n",
    "    D[i] = D.get(i,0) + 1\n",
    "\n",
    "for i,j in sorted(D.items(), reverse=True):\n",
    "    print(F\"Key: {i} | Value: {j}\")\n",
    "\n",
    "print()\n",
    "\n",
    "if sorted(D.values()) == list(set(sorted(D.values()))):\n",
    "    print(True)\n",
    "else:\n",
    "    print(False)\n",
    "    "
   ]
  },
  {
   "cell_type": "code",
   "execution_count": null,
   "id": "3bf3e1f6",
   "metadata": {},
   "outputs": [],
   "source": [
    "#Just flipping Keys/Values into Values/Keys\n",
    "\n",
    "arr = [-3,0,1,-3,1,1,1,-3,10,0]\n",
    "\n",
    "D = {}\n",
    "L = []\n",
    "\n",
    "for i in arr:\n",
    "    D[i] = D.get(i,0) + 1\n",
    "print('\\nKey/Value:')\n",
    "for i,j in sorted(D.items(), reverse=True):\n",
    "    print(F\"Key: {i} | Value: {j}\")\n",
    "    L = L + [(j,i)]\n",
    "\n",
    "print()\n",
    "\n",
    "if sorted(D.values()) == list(set(sorted(D.values()))):\n",
    "    print(True)\n",
    "else:\n",
    "    print(False)\n",
    "\n",
    "print('\\nFlipped Key/Value:')\n",
    "\n",
    "for i,j in sorted(L,reverse=False):\n",
    "     print(F\"Value: {i} | Key: {j}\")  "
   ]
  },
  {
   "cell_type": "markdown",
   "id": "e095725a-a164-4721-87d5-79ce9beb9da1",
   "metadata": {},
   "source": [
    "# Delete and Return Middle Index position inside Array"
   ]
  },
  {
   "cell_type": "code",
   "execution_count": null,
   "id": "06cc6a9e-ede5-4f9e-a73f-4bca5efd80bf",
   "metadata": {},
   "outputs": [],
   "source": [
    "def deleteMid(L):\n",
    "    if len(L)%2 != 0:\n",
    "        popped_val = L.pop(round(len(L)/2)-1)\n",
    "        print(f\"Currently, array is now {L}.\")   \n",
    "        return \"Deleted Middle Array: \"+str(popped_val)\n",
    "    else:    \n",
    "        print(\"Array length is even number, there's no middle value to delete to begin with\")     "
   ]
  },
  {
   "cell_type": "code",
   "execution_count": null,
   "id": "cbef86b6-9353-40b6-8566-ee2202aaa9cd",
   "metadata": {},
   "outputs": [],
   "source": [
    "print(deleteMid([1,3,4,7,1,2,6]))"
   ]
  },
  {
   "cell_type": "code",
   "execution_count": null,
   "id": "14391132-27d3-4f06-a6ce-101571cba59b",
   "metadata": {},
   "outputs": [],
   "source": [
    "print(deleteMid([1,3,4,7,1,2,6,10,22,33,4]))"
   ]
  },
  {
   "cell_type": "code",
   "execution_count": null,
   "id": "7e00d979-a502-482d-bb02-c52c4e6ce1bc",
   "metadata": {},
   "outputs": [],
   "source": [
    "#print(deleteMid([1,3,4,7,1,2,6,10,22,33,4,0]))\n",
    "deleteMid([1,3,4,7,1,2,6,10,22,33,4,0])"
   ]
  },
  {
   "cell_type": "code",
   "execution_count": null,
   "id": "a9b0f0fb-f00c-43c4-82a3-846c41f469d8",
   "metadata": {},
   "outputs": [],
   "source": [
    "print(deleteMid([1]))"
   ]
  },
  {
   "cell_type": "markdown",
   "id": "4314d3c9",
   "metadata": {},
   "source": [
    "# Fibonacci Sequence Position Finder\n",
    "#### Recursion Approach"
   ]
  },
  {
   "cell_type": "code",
   "execution_count": null,
   "id": "5a7761f4",
   "metadata": {},
   "outputs": [],
   "source": [
    "def fib_lim(limit):\n",
    "    print(\"\\nFibonacci Sequence Position Finder!\\n\")\n",
    "    counter = 0\n",
    "    def fib(n):\n",
    "        if n == 1 or n == 2:\n",
    "            result = 1\n",
    "        else:\n",
    "            result = fib(n-1) + fib(n-2)\n",
    "        return result\n",
    "    range_2nd_param = limit\n",
    "    print(f\"       ZERO\\tposition:\\t0\")\n",
    "    for n in range(1,limit+1):\n",
    "        counter+=1\n",
    "        if counter in [11,12,13]:\n",
    "            print(f\"        {counter}th\\tposition:\\t{fib(n)}\")\n",
    "        elif counter in list(range(1,range_2nd_param+1,10)):\n",
    "            print(f\"        {counter}st\\tposition:\\t{fib(n)}\")\n",
    "        elif counter in list(range(2,range_2nd_param+1,10)):\n",
    "            print(f\"        {counter}nd\\tposition:\\t{fib(n)}\")\n",
    "        elif counter in list(range(3,range_2nd_param+1,10)):\n",
    "            print(f\"        {counter}rd\\tposition:\\t{fib(n)}\")\n",
    "        else:\n",
    "            print(f\"        {counter}th\\tposition:\\t{fib(n)}\")\n",
    "    print()\n"
   ]
  },
  {
   "cell_type": "code",
   "execution_count": null,
   "id": "172d63be",
   "metadata": {},
   "outputs": [],
   "source": [
    "fib_lim(44)"
   ]
  },
  {
   "cell_type": "markdown",
   "id": "c0542501",
   "metadata": {},
   "source": [
    "#### Linear Approach"
   ]
  },
  {
   "cell_type": "code",
   "execution_count": null,
   "id": "038d2d04",
   "metadata": {},
   "outputs": [],
   "source": [
    "def fib(n):\n",
    "    \n",
    "    ans = [0,1]\n",
    "\n",
    "    for i in range(2,n+1):\n",
    "        ans.append(ans[i-1]+ans[i-2])\n",
    "    return ans[n]"
   ]
  },
  {
   "cell_type": "code",
   "execution_count": null,
   "id": "e1a0f2f9",
   "metadata": {},
   "outputs": [],
   "source": [
    "def fib_lim(limit):\n",
    "    print(\"\\nFibonacci Sequence Position Finder!\\n\")\n",
    "    counter = 0\n",
    "    def fib(n):\n",
    "        ans = [0,1]\n",
    "        for i in range(2,n+1):\n",
    "            ans.append(ans[i-1]+ans[i-2])\n",
    "        return ans[n]\n",
    "    range_2nd_param = limit\n",
    "    print(f\"       ZERO\\tposition:\\t0\")\n",
    "    for n in range(1,limit+1):\n",
    "        counter+=1\n",
    "        if counter in [11,12,13]:\n",
    "            print(f\"        {counter}th\\tposition:\\t{fib(n)}\")\n",
    "        elif counter in list(range(1,range_2nd_param+1,10)):\n",
    "            print(f\"        {counter}st\\tposition:\\t{fib(n)}\")\n",
    "        elif counter in list(range(2,range_2nd_param+1,10)):\n",
    "            print(f\"        {counter}nd\\tposition:\\t{fib(n)}\")\n",
    "        elif counter in list(range(3,range_2nd_param+1,10)):\n",
    "            print(f\"        {counter}rd\\tposition:\\t{fib(n)}\")\n",
    "        else:\n",
    "            print(f\"        {counter}th\\tposition:\\t{fib(n)}\")\n",
    "    print()"
   ]
  },
  {
   "cell_type": "code",
   "execution_count": null,
   "id": "1a0c483b",
   "metadata": {},
   "outputs": [],
   "source": [
    "fib_lim(100)"
   ]
  },
  {
   "cell_type": "code",
   "execution_count": null,
   "id": "3167bcc1",
   "metadata": {},
   "outputs": [],
   "source": [
    "n=100\n",
    "ans = [0,1]\n",
    "\n",
    "for i in range(2,n+1):\n",
    "    ans.append(ans[i-1]+ans[i-2])\n",
    "ans[n]"
   ]
  },
  {
   "cell_type": "code",
   "execution_count": null,
   "id": "3b71844f",
   "metadata": {},
   "outputs": [],
   "source": [
    "n=100\n",
    "ans = [0,1]\n",
    "\n",
    "for i in range(2,n+1):\n",
    "    print(f\"{i-1}+{i-2}\")"
   ]
  },
  {
   "cell_type": "markdown",
   "id": "24e7eee1",
   "metadata": {},
   "source": [
    "### Pascal's Triangle\n",
    "\n",
    "if n=5, output:\n",
    "######     1\n",
    "######    1 1\n",
    "######   1 2 1\n",
    "######  1 3 3 1\n",
    "###### 1 4 6 4 1"
   ]
  },
  {
   "cell_type": "code",
   "execution_count": null,
   "id": "bc60c21b",
   "metadata": {},
   "outputs": [],
   "source": [
    "def pascal(n):\n",
    "    ind_cntr = 0\n",
    "    L = [[1],[1,1],[1,2,1]]\n",
    "\n",
    "    for i in range(3,n):\n",
    "        L.append([1])\n",
    "        for j in L[i-1]:\n",
    "            L[-1] = L[-1] + [L[i-1][ind_cntr]+L[i-1][ind_cntr+1]]\n",
    "            if ind_cntr < len(L[i-1])-2:\n",
    "                ind_cntr+=1\n",
    "            else:\n",
    "                ind_cntr=0\n",
    "                break\n",
    "        L[-1] = L[-1] + [1]\n",
    "\n",
    "    if n == 1:\n",
    "        print(L[0][0])\n",
    "    elif n == 2:\n",
    "        for i in L[0:2]:\n",
    "            print(f\"{' '*n}{str(' '.join(map(str, i)))}\")\n",
    "            n-=1\n",
    "    else:\n",
    "        for i in L:\n",
    "            print(f\"{' '*n}{str(' '.join(map(str, i)))}\")\n",
    "            n-=1"
   ]
  },
  {
   "cell_type": "code",
   "execution_count": null,
   "id": "de101f78",
   "metadata": {},
   "outputs": [],
   "source": [
    "pascal(5)"
   ]
  },
  {
   "cell_type": "markdown",
   "id": "5c8f07f2",
   "metadata": {},
   "source": [
    "### Scratch Solution below"
   ]
  },
  {
   "cell_type": "code",
   "execution_count": null,
   "id": "16df6e23",
   "metadata": {},
   "outputs": [],
   "source": [
    "#output\n",
    "\"\"\"\n",
    "1\n",
    "1 1\n",
    "1 2 1\n",
    "1 3 3 1\n",
    "1 4 6 4 1\n",
    "1 5 10 10 5 1\n",
    "\"\"\"\n",
    "\n",
    "n = 4\n",
    "ind_cntr = 0\n",
    "# List of arrays having integers\n",
    "L = [[1],[1,1],[1,2,1]]\n",
    "\n",
    "for i in range(3,n):\n",
    "    print(i)\n",
    "    print(L[i-1])\n",
    "    L.append([1])\n",
    "    for j in L[i-1]:\n",
    "        L[-1] = L[-1] + [L[i-1][ind_cntr]+L[i-1][ind_cntr+1]]\n",
    "        ind_cntr+=1\n",
    "        print(j)\n",
    "    L[-1] = L[-1] + [1]\n",
    "L        "
   ]
  },
  {
   "cell_type": "code",
   "execution_count": null,
   "id": "d45fe6a2",
   "metadata": {},
   "outputs": [],
   "source": [
    "#output\n",
    "\"\"\"\n",
    "1\n",
    "1 1\n",
    "1 2 1\n",
    "1 3 3 1\n",
    "1 4 6 4 1\n",
    "1 5 10 10 5 1\n",
    "\"\"\"\n",
    "\n",
    "n = 5\n",
    "ind_cntr = 0\n",
    "# List of arrays having integers\n",
    "L = [[1],[1,1],[1,2,1]]\n",
    "\n",
    "for i in range(3,n):\n",
    "    print(i)\n",
    "    print(L[i-1])\n",
    "    L.append([1])\n",
    "    for j in L[i-1]:\n",
    "        print(j)\n",
    "        L[-1] = L[-1] + [L[i-1][ind_cntr]+L[i-1][ind_cntr+1]]\n",
    "        if ind_cntr < len(L[i-1])-2:\n",
    "            ind_cntr+=1\n",
    "        else:\n",
    "            ind_cntr=0\n",
    "            break\n",
    "    L[-1] = L[-1] + [1]\n",
    "L        "
   ]
  },
  {
   "cell_type": "code",
   "execution_count": null,
   "id": "e1bdd89d",
   "metadata": {},
   "outputs": [],
   "source": [
    "# Join the integers into a single integer \n",
    "\n",
    "for i in L:\n",
    "    print(str(' '.join(map(str, i))) )"
   ]
  },
  {
   "cell_type": "code",
   "execution_count": null,
   "id": "b6946bc3",
   "metadata": {},
   "outputs": [],
   "source": [
    "#output if n=6\n",
    "\"\"\"\n",
    "1\n",
    "1 1\n",
    "1 2 1\n",
    "1 3 3 1\n",
    "1 4 6 4 1\n",
    "1 5 10 10 5 1\n",
    "\"\"\"\n",
    "\n",
    "n = 6\n",
    "ind_cntr = 0\n",
    "# List of arrays having integers\n",
    "L = [[1],[1,1],[1,2,1]]\n",
    "\n",
    "for i in range(3,n):\n",
    "    L.append([1])\n",
    "    for j in L[i-1]:\n",
    "        L[-1] = L[-1] + [L[i-1][ind_cntr]+L[i-1][ind_cntr+1]]\n",
    "        if ind_cntr < len(L[i-1])-2:\n",
    "            ind_cntr+=1\n",
    "        else:\n",
    "            ind_cntr=0\n",
    "            break\n",
    "    L[-1] = L[-1] + [1]\n",
    "\n",
    "# Join the integers into a single integer \n",
    "result = str(' '.join(map(str, L))) \n",
    "\n",
    "for i in L:\n",
    "    print(str(' '.join(map(str, i))) )"
   ]
  },
  {
   "cell_type": "code",
   "execution_count": null,
   "id": "92ca9d93",
   "metadata": {},
   "outputs": [],
   "source": [
    "def pascal(n):\n",
    "    ind_cntr = 0\n",
    "    # List of arrays having integers\n",
    "    L = [[1],[1,1],[1,2,1]]\n",
    "\n",
    "    for i in range(3,n):\n",
    "        L.append([1])\n",
    "        for j in L[i-1]:\n",
    "            L[-1] = L[-1] + [L[i-1][ind_cntr]+L[i-1][ind_cntr+1]]\n",
    "            if ind_cntr < len(L[i-1])-2:\n",
    "                ind_cntr+=1\n",
    "            else:\n",
    "                ind_cntr=0\n",
    "                break\n",
    "        L[-1] = L[-1] + [1]\n",
    "\n",
    "    if n == 1:\n",
    "        print(L[0][0])\n",
    "    elif n == 2:\n",
    "        for i in L[0:2]:\n",
    "            print(f\"{' '*n}{str(' '.join(map(str, i)))}\")\n",
    "            n-=1\n",
    "    else:\n",
    "        # Join the integers into a single integer \n",
    "        result = str(' '.join(map(str, L))) \n",
    "\n",
    "        for i in L:\n",
    "            print(f\"{' '*n}{str(' '.join(map(str, i)))}\")\n",
    "            n-=1"
   ]
  },
  {
   "cell_type": "code",
   "execution_count": null,
   "id": "46464195",
   "metadata": {},
   "outputs": [],
   "source": [
    "pascal(5)"
   ]
  },
  {
   "cell_type": "markdown",
   "id": "a50f2a0b-ac55-4d23-b2f0-7717e7dc9c32",
   "metadata": {},
   "source": [
    "# Return 2 Indices of two numbers (next to each other) such that they add up to the target integer inside given arrays of int"
   ]
  },
  {
   "cell_type": "code",
   "execution_count": null,
   "id": "825c291d-c0bf-4d86-8bbc-0800e0e4ddc6",
   "metadata": {},
   "outputs": [],
   "source": [
    "# input: L = [2,4,5,6]\n",
    "# target integer inside array is 6\n",
    "# output: Index: 0 & Index: 1 | because index[0]=2,index[1]=4 | sum of index[0]=2,index[1]=4 is 6"
   ]
  },
  {
   "cell_type": "code",
   "execution_count": null,
   "id": "03bd520b-2345-49ba-813d-257d1a175e1f",
   "metadata": {},
   "outputs": [],
   "source": [
    "L = [2,4,5,6]\n",
    "new_L = []\n",
    "\n",
    "for i in range(1,len(L)+1):\n",
    "    if i == len(L):\n",
    "        break\n",
    "    else:\n",
    "        print(f\"{L[i-1]}+{L[i]}\")\n",
    "        new_L.append(L[i-1]+L[i])\n",
    "        "
   ]
  },
  {
   "cell_type": "code",
   "execution_count": null,
   "id": "45e3b9cc-5432-4e0c-865f-d1390754e969",
   "metadata": {},
   "outputs": [],
   "source": [
    "# v1\n",
    "L = [5,6,2,4]\n",
    "target_int = 6\n",
    "new_L = []\n",
    "\n",
    "for i in range(1,len(L)+1):\n",
    "    if i == len(L):\n",
    "        break\n",
    "    else:\n",
    "        #print(f\"{L[i-1]}+{L[i]}\")\n",
    "        new_L.append(L[i-1]+L[i])\n",
    "        if L[i-1]+L[i] in L and L[i-1]+L[i] == target_int:\n",
    "            print(f\"1st Index: {i-1} which has value of {L[i-1]} inside L array.\\n2nd Index: {i} which has value of {L[i]} inside L array.\")\n",
    "            print(f\"{L[i-1]}+{L[i]} = {L[i-1]+L[i]}\")\n",
    "new_L"
   ]
  },
  {
   "cell_type": "code",
   "execution_count": null,
   "id": "bf1ec6f2-790a-46d3-aba6-a74f790313b0",
   "metadata": {},
   "outputs": [],
   "source": [
    "# v2.3\n",
    "L = [5,2,4,6,10,7]\n",
    "target_int = 10\n",
    "new_L = []\n",
    "\n",
    "print(\"Intruction:\\n\\n\\tReturn 2 Indices of two numbers (next to each other) such that they add up to the target integer inside given arrays of int.\")\n",
    "print(f\"\\nArray: L = {L}\\nTarget Int: {target_int}\\n\")\n",
    "print(\"Solution:\\n\")\n",
    "for i in range(1,len(L)+1):\n",
    "    #print(i)\n",
    "    if i == len(L):\n",
    "        break\n",
    "    else:\n",
    "        #new_L.append(L[i-1]+L[i])\n",
    "        if L[i-1]+L[i] in L and L[i-1]+L[i] == target_int:\n",
    "            print(f\"\\t{L[i-1]} + {L[i]} = {L[i-1]+L[i]} is the target int and existing inside the L array.\")\n",
    "            print(f\"\\t        - 1st Index: [{i-1}] | Value: {L[i-1]} inside L array.\\n\\t        - 2nd Index: [{i}] | Value: {L[i]} inside L array.\")\n",
    "            new_L.append(i-1)\n",
    "            new_L.append(i)\n",
    "        elif L[i-1]+L[i] not in L and target_int == L[i-1]+L[i]:\n",
    "            print(f\"\\t{L[i-1]} + {L[i]} = {L[i-1]+L[i]} is the target int but not existing inside the L array.\")\n",
    "        elif L[i-1]+L[i] not in L:\n",
    "            print(f\"\\t{L[i-1]} + {L[i]} = {L[i-1]+L[i]} is not the target int and not existing inside the L array.\")\n",
    "        elif L[i-1]+L[i] != target_int:\n",
    "            print(f\"\\t{L[i-1]} + {L[i]} = {L[i-1]+L[i]} is existing inside the L array but not the target int.\")\n",
    "print(\"\\nResult:\")            \n",
    "print(f\"\\tIndices: {new_L[0]} & {new_L[1]}\")"
   ]
  },
  {
   "cell_type": "markdown",
   "id": "ebbcab9c",
   "metadata": {},
   "source": [
    "# Given a array of intergers nums and an integer target, return indices of the two numbers such that they add up to target"
   ]
  },
  {
   "cell_type": "code",
   "execution_count": null,
   "id": "6e2aba40",
   "metadata": {},
   "outputs": [],
   "source": [
    "# output = \"Indices: 0,2\"\n",
    "L = [5, 2, 4, 6, 7]\n",
    "target_int = 9\n",
    "n=0\n",
    "\n",
    "for i in L:\n",
    "    #print(L[n:])\n",
    "    n+=1\n",
    "    for j in L[n:]:\n",
    "        #print(i,j)\n",
    "        if i+j == target_int:\n",
    "            print(f\"{i} + {j} = {target_int}-> target_int | index 1: {L.index(i)} | index 2: {L.index(j)}\")            "
   ]
  },
  {
   "cell_type": "code",
   "execution_count": null,
   "id": "84e1dc37",
   "metadata": {},
   "outputs": [],
   "source": [
    "def return_2_indices_of_target_int(L,target_int):\n",
    "    n=0\n",
    "    print(f\"Array = {L}\\nTarget integer: {target_int}\\n\")\n",
    "\n",
    "    for i in L:\n",
    "        n+=1\n",
    "        for j in L[n:]:\n",
    "            if i+j == target_int:\n",
    "                print(f\"{i} + {j} = {target_int} -> Target integer \\n\\t- index position of {i} is [{L.index(i)}]. \\n\\t- index position of {j} is [{L.index(j)}].\\nResult:\")  \n",
    "                return f\"\\tIndices: {L.index(i)},{L.index(j)}\"\n",
    "        return f\"No two values from the Array can be added up to the target integer.\""
   ]
  },
  {
   "cell_type": "code",
   "execution_count": null,
   "id": "a29392db",
   "metadata": {},
   "outputs": [],
   "source": [
    "returned_val = return_2_indices_of_target_int([5, 2, 4, 6, 7],target_int=9)\n",
    "print(returned_val)"
   ]
  },
  {
   "cell_type": "code",
   "execution_count": null,
   "id": "cf72b907",
   "metadata": {},
   "outputs": [],
   "source": [
    "# Returning final instance instead of first\n",
    "L = [5, 2, 4, 6, 7, 3]\n",
    "targ_int = 9\n",
    "newArray = []\n",
    "\n",
    "for i in range(0,len(L)):\n",
    "    for j in range(i+1,len(L)):\n",
    "        if L[i]+L[j] == targ_int:\n",
    "            newArray.append([i,j])\n",
    "print(f\"Indices: {newArray[-1][0]},{newArray[-1][1]}\")\n",
    "#newArray            "
   ]
  },
  {
   "cell_type": "markdown",
   "id": "3f1486ea",
   "metadata": {},
   "source": [
    "# Determine whether an integer is a perfect square. If it is not a perfect square, identify which perfect square value is closest to the integer."
   ]
  },
  {
   "cell_type": "code",
   "execution_count": null,
   "id": "53d3a95c",
   "metadata": {},
   "outputs": [],
   "source": [
    "def sqrt(x):\n",
    "    perfect_sqrt = [list_comp**2 for list_comp in range(1,x+1)]\n",
    "    perfect_sqrt.append(x)\n",
    "    perfect_sqrt.sort()\n",
    "    \n",
    "    ind_no = perfect_sqrt.index(x)\n",
    "    print(perfect_sqrt)\n",
    "    if perfect_sqrt[ind_no] == perfect_sqrt[ind_no+1]:\n",
    "        return f\"{x} is perfect square!\"\n",
    "    else:\n",
    "        return f\"{x} is not perfect square!\"\n",
    "\n",
    "def mysqrt(x):\n",
    "    perfect_sqrt = [list_comp**2 for list_comp in range(1,x+1)]\n",
    "    perfect_sqrt.append(x)\n",
    "    perfect_sqrt.sort()\n",
    "    perfect_sqrt = perfect_sqrt[:perfect_sqrt.index(x)+2]\n",
    "    \n",
    "    ind_no = perfect_sqrt.index(x)\n",
    "    print(perfect_sqrt)\n",
    "    if perfect_sqrt[ind_no] == perfect_sqrt[ind_no+1]:\n",
    "        return f\"{x} is perfect square!\"\n",
    "    elif perfect_sqrt[ind_no] != perfect_sqrt[ind_no+1]:\n",
    "        if perfect_sqrt[ind_no]-perfect_sqrt[ind_no-1] < perfect_sqrt[ind_no+1]-perfect_sqrt[ind_no]:\n",
    "            return f\"{x} is not a perfect square and is closer to {perfect_sqrt[ind_no-1]}\"\n",
    "        else:\n",
    "            return f\"{x} is not a perfect square and is closer to {perfect_sqrt[ind_no+1]}\""
   ]
  },
  {
   "cell_type": "code",
   "execution_count": null,
   "id": "3d45f40d",
   "metadata": {},
   "outputs": [],
   "source": [
    "mysqrt(25)"
   ]
  },
  {
   "cell_type": "code",
   "execution_count": null,
   "id": "6347b21d",
   "metadata": {},
   "outputs": [],
   "source": [
    "mysqrt(90)"
   ]
  },
  {
   "cell_type": "code",
   "execution_count": null,
   "id": "827c2bcb",
   "metadata": {},
   "outputs": [],
   "source": [
    "mysqrt(69)"
   ]
  },
  {
   "cell_type": "markdown",
   "id": "65218827-c474-47b9-9034-5dc6de8ebed7",
   "metadata": {},
   "source": [
    "# Merge Intervals\n",
    "\n",
    "- Input: intervals = [[1,3],[2,6],[8,10],[15,18]]\n",
    "- Output: [[1,6],[8,10],[15,18]]\n",
    "- Explanation: Since intervals [1,3] and [2,6] overlap, merge them into [1,6]"
   ]
  },
  {
   "cell_type": "code",
   "execution_count": null,
   "id": "4f9e60c9-45f7-4b2d-90af-4044cde897e4",
   "metadata": {},
   "outputs": [],
   "source": [
    "def ult_merge_int(int_of_int):\n",
    "    \n",
    "    def merge_intervals(intervals):\n",
    "        new_intervals = []\n",
    "        new_intervals+=intervals\n",
    "        new_intervals.sort()\n",
    "        elem_L = []\n",
    "        cntr=0\n",
    "        for i in new_intervals: \n",
    "            if cntr == len(new_intervals)-1:\n",
    "                break\n",
    "            elif new_intervals[cntr][1] in range(new_intervals[cntr+1][0],new_intervals[cntr+1][1]):\n",
    "                elem_L.append([new_intervals[cntr][0],new_intervals[cntr+1][1]])\n",
    "                new_intervals.append(elem_L[0])\n",
    "                del new_intervals[new_intervals.index(new_intervals[cntr]):new_intervals.index(new_intervals[cntr+1])+1]\n",
    "                del elem_L[0]\n",
    "                new_intervals.sort()\n",
    "            cntr+=1        \n",
    "        if intervals == new_intervals:\n",
    "            return False\n",
    "        else:\n",
    "            return new_intervals\n",
    "            \n",
    "    final_merge = []\n",
    "    stg_int = merge_intervals(int_of_int)\n",
    "    if stg_int == False:\n",
    "        return 'No overlapping intervals'\n",
    "    else:        \n",
    "        while stg_int != False:\n",
    "            final_merge = []\n",
    "            for i in stg_int:\n",
    "                final_merge.append(i)\n",
    "            stg_int = merge_intervals(final_merge)\n",
    "        return final_merge"
   ]
  },
  {
   "cell_type": "code",
   "execution_count": null,
   "id": "14a67cf3-307f-4b0c-9db1-f1ce9fbb621a",
   "metadata": {},
   "outputs": [],
   "source": [
    "ult_merge_int([[1,7],[6,70],[69,99],[100,999]])"
   ]
  },
  {
   "cell_type": "code",
   "execution_count": null,
   "id": "30cba0c8-65e3-41a0-bbaa-d44803b21595",
   "metadata": {},
   "outputs": [],
   "source": [
    "def merge_intervals(intervals):\n",
    "    new_intervals = []\n",
    "    new_intervals+=intervals\n",
    "    new_intervals.sort()\n",
    "    elem_L = []\n",
    "    cntr=0\n",
    "    for i in new_intervals: \n",
    "        if cntr == len(new_intervals)-1:\n",
    "            break\n",
    "        elif new_intervals[cntr][1] in range(new_intervals[cntr+1][0],new_intervals[cntr+1][1]):\n",
    "            elem_L.append([new_intervals[cntr][0],new_intervals[cntr+1][1]])\n",
    "            new_intervals.append(elem_L[0])\n",
    "            del new_intervals[new_intervals.index(new_intervals[cntr]):new_intervals.index(new_intervals[cntr+1])+1]\n",
    "            del elem_L[0]\n",
    "            new_intervals.sort()\n",
    "        cntr+=1        \n",
    "    if intervals == new_intervals:\n",
    "        return 'No overlapping intervals'\n",
    "    else:\n",
    "        return new_intervals"
   ]
  },
  {
   "cell_type": "code",
   "execution_count": null,
   "id": "f2376365-f43c-4763-9bde-2200b4d7e0b4",
   "metadata": {},
   "outputs": [],
   "source": [
    "merge_intervals([[1,3],[2,8],[8,16],[15,18]])"
   ]
  },
  {
   "cell_type": "code",
   "execution_count": null,
   "id": "5c51d667-2479-445c-a821-e8f0ee06b283",
   "metadata": {},
   "outputs": [],
   "source": [
    "merge_intervals(merge_intervals(merge_intervals([[1,4],[6,15],[15,16],[17, 24],[23,30],[30,33],[32,69]])))"
   ]
  },
  {
   "cell_type": "markdown",
   "id": "4e2b4877-b5b0-4255-a1e1-099b7d37d94c",
   "metadata": {},
   "source": [
    "# Solution Approach below"
   ]
  },
  {
   "cell_type": "code",
   "execution_count": null,
   "id": "1cd3faad-cafb-4848-8f7a-0a69ceaf1a49",
   "metadata": {},
   "outputs": [],
   "source": [
    "for i in intervals:\n",
    "    print(i[0],i[1])"
   ]
  },
  {
   "cell_type": "code",
   "execution_count": null,
   "id": "a91abc83-f2ca-4708-a654-0b6e5b162d6c",
   "metadata": {},
   "outputs": [],
   "source": [
    "cntr=0\n",
    "for i in intervals:\n",
    "    print(intervals[cntr][0],intervals[cntr][1])\n",
    "    cntr+=1"
   ]
  },
  {
   "cell_type": "code",
   "execution_count": null,
   "id": "80f8cf8d-e1d8-430f-b7d3-74be6a743790",
   "metadata": {},
   "outputs": [],
   "source": [
    "3 in range(4,6)"
   ]
  },
  {
   "cell_type": "code",
   "execution_count": null,
   "id": "bd3dd930-308c-45a3-9c8a-047d067644e1",
   "metadata": {},
   "outputs": [],
   "source": [
    "L = [x for x in range(intervals[1][0],intervals[1][1])]\n",
    "L"
   ]
  },
  {
   "cell_type": "code",
   "execution_count": null,
   "id": "593c7bfe-f934-4168-a0cc-ebb917fbdc8e",
   "metadata": {},
   "outputs": [],
   "source": [
    "intervals = [[1,3],[2,6],[8,10],[15,18]]\n",
    "elem_L = []\n",
    "if intervals[0][1] in range(intervals[1][0],intervals[1][1]):\n",
    "    print(True)\n",
    "    elem_L.append([intervals[0][0],intervals[1][1]])\n",
    "    intervals.append(elem_L[0])\n",
    "    del intervals[0:2]\n",
    "    intervals.sort()\n",
    "else:\n",
    "    print(False)\n",
    "print(elem_L)\n",
    "print(intervals)"
   ]
  },
  {
   "cell_type": "code",
   "execution_count": null,
   "id": "2184d2c8-31f9-44af-881e-69ef64db2a01",
   "metadata": {},
   "outputs": [],
   "source": [
    "intervals = [[1,3],[4,6],[8,10],[15,18]]\n",
    "new_intervals = []\n",
    "new_intervals+=intervals\n",
    "elem_L = []\n",
    "cntr=0\n",
    "for i in new_intervals:\n",
    "    if new_intervals[cntr][1] in range(new_intervals[cntr+1][0],new_intervals[cntr+1][1]):\n",
    "        elem_L.append([new_intervals[cntr][0],new_intervals[cntr+1][1]])\n",
    "        new_intervals.append(elem_L[0])\n",
    "        del new_intervals[intervals.index(new_intervals[cntr]):new_intervals.index(new_intervals[cntr+1])+1]\n",
    "        new_intervals.sort()\n",
    "    cntr+=1 \n",
    "    if cntr == len(new_intervals)-1:\n",
    "        break\n",
    "\n",
    "if intervals == new_intervals:\n",
    "    print('No overlapping intervals')\n",
    "else:\n",
    "    print(new_intervals)"
   ]
  },
  {
   "cell_type": "code",
   "execution_count": null,
   "id": "9fa5eac1-115c-4db3-ab3d-f0670233ff5e",
   "metadata": {},
   "outputs": [],
   "source": [
    "elem_L"
   ]
  },
  {
   "cell_type": "code",
   "execution_count": null,
   "id": "0e12ca85-6a0b-4d55-b343-9028b02a6541",
   "metadata": {},
   "outputs": [],
   "source": [
    "intervals"
   ]
  },
  {
   "cell_type": "code",
   "execution_count": null,
   "id": "53ffac18-add3-4de5-87ed-12ca9f756915",
   "metadata": {},
   "outputs": [],
   "source": [
    "new_intervals"
   ]
  },
  {
   "cell_type": "code",
   "execution_count": null,
   "id": "4c56a173-1332-4045-8c4f-dd52588cc7e8",
   "metadata": {},
   "outputs": [],
   "source": [
    "intervals.index(intervals[cntr-1])"
   ]
  },
  {
   "cell_type": "code",
   "execution_count": null,
   "id": "bd40b965-d470-4c40-b6f5-0139654f8b13",
   "metadata": {},
   "outputs": [],
   "source": [
    "intervals[cntr-1]"
   ]
  },
  {
   "cell_type": "code",
   "execution_count": null,
   "id": "8f7f4d0e-5059-4cd5-83bc-756b028511af",
   "metadata": {},
   "outputs": [],
   "source": [
    "cntr"
   ]
  },
  {
   "cell_type": "code",
   "execution_count": null,
   "id": "7d1f6864-ac8b-41e7-b0be-d3dcd3943435",
   "metadata": {},
   "outputs": [],
   "source": [
    "def merge_intervals(intervals):\n",
    "    new_intervals = []\n",
    "    new_intervals+=intervals\n",
    "    new_intervals.sort()\n",
    "    elem_L = []\n",
    "    cntr=0\n",
    "    for i in new_intervals: \n",
    "        if cntr == len(new_intervals)-1:\n",
    "            break\n",
    "        elif new_intervals[cntr][1] in range(new_intervals[cntr+1][0],new_intervals[cntr+1][1]):\n",
    "            elem_L.append([new_intervals[cntr][0],new_intervals[cntr+1][1]])\n",
    "            new_intervals.append(elem_L[0])\n",
    "            del new_intervals[new_intervals.index(new_intervals[cntr]):new_intervals.index(new_intervals[cntr+1])+1]\n",
    "            del elem_L[0]\n",
    "            new_intervals.sort()\n",
    "        cntr+=1 \n",
    "    cntr=0\n",
    "    ult_intervals = []\n",
    "    ult_intervals+=new_intervals\n",
    "    elem_L = []\n",
    "    if intervals == new_intervals:\n",
    "        return 'No overlapping intervals'\n",
    "    else:\n",
    "        for i in ult_intervals:\n",
    "            if cntr == len(ult_intervals)-1:\n",
    "                break\n",
    "            elif ult_intervals[cntr][1] in range(ult_intervals[cntr+1][0],ult_intervals[cntr+1][1]):\n",
    "                elem_L.append([ult_intervals[cntr][0],ult_intervals[cntr+1][1]])\n",
    "                ult_intervals.append(elem_L[0])\n",
    "                del ult_intervals[ult_intervals.index(ult_intervals[cntr]):ult_intervals.index(ult_intervals[cntr+1])+1]\n",
    "                del elem_L[0]\n",
    "                ult_intervals.sort()\n",
    "            cntr+=1\n",
    "        if new_intervals == ult_intervals:\n",
    "            return new_intervals\n",
    "        else:\n",
    "            return ult_intervals"
   ]
  },
  {
   "cell_type": "code",
   "execution_count": null,
   "id": "00d0e534-864d-43cc-9f0e-e982acf7effa",
   "metadata": {},
   "outputs": [],
   "source": [
    "merge_intervals([[1,5],[4,8],[8,15],[15,18],[18,23]])"
   ]
  },
  {
   "cell_type": "code",
   "execution_count": null,
   "id": "e3c4798e-8e9b-4023-8def-a980061ae7e4",
   "metadata": {},
   "outputs": [],
   "source": [
    "def merge_intervals(intervals):\n",
    "    new_intervals = []\n",
    "    new_intervals+=intervals\n",
    "    new_intervals.sort()\n",
    "    elem_L = []\n",
    "    cntr=0\n",
    "    for i in new_intervals: \n",
    "        if cntr == len(new_intervals)-1:\n",
    "            break\n",
    "        elif new_intervals[cntr][1] in range(new_intervals[cntr+1][0],new_intervals[cntr+1][1]):\n",
    "            elem_L.append([new_intervals[cntr][0],new_intervals[cntr+1][1]])\n",
    "            new_intervals.append(elem_L[0])\n",
    "            del new_intervals[new_intervals.index(new_intervals[cntr]):new_intervals.index(new_intervals[cntr+1])+1]\n",
    "            del elem_L[0]\n",
    "            new_intervals.sort()\n",
    "        cntr+=1        \n",
    "    if intervals == new_intervals:\n",
    "        return 'No overlapping intervals'\n",
    "    else:\n",
    "        return new_intervals"
   ]
  },
  {
   "cell_type": "code",
   "execution_count": null,
   "id": "e8cbc622-1437-4484-b67a-92984a0e3c95",
   "metadata": {},
   "outputs": [],
   "source": [
    "merge_intervals([[1,5],[4,8],[8,15],[15,18],[18,23]])"
   ]
  },
  {
   "cell_type": "code",
   "execution_count": null,
   "id": "919e1021-f3f3-4913-8f1e-46c995d42b7f",
   "metadata": {},
   "outputs": [],
   "source": [
    "new_int = merge_intervals([[1,5],[4,8],[8,15],[15,18],[18,23]])\n",
    "new_int"
   ]
  },
  {
   "cell_type": "code",
   "execution_count": null,
   "id": "c1b6166c-192e-44c8-b98f-22677f0ed8bd",
   "metadata": {},
   "outputs": [],
   "source": [
    "merge_intervals(merge_intervals(merge_intervals([[1,5],[4,8],[8,15],[15,18],[18,23]])))"
   ]
  },
  {
   "cell_type": "code",
   "execution_count": null,
   "id": "22160bdb-5c6b-4c72-8276-5d36e479d99c",
   "metadata": {},
   "outputs": [],
   "source": [
    "merge_intervals(merge_intervals(merge_intervals(merge_intervals([[1,5],[4,8],[8,15],[15,18],[18,23]]))))"
   ]
  },
  {
   "cell_type": "code",
   "execution_count": null,
   "id": "d957f99d-a733-40ea-8c62-5f5c71e431d0",
   "metadata": {},
   "outputs": [],
   "source": [
    "new_int = merge_intervals([[1,5],[4,8],[8,15],[15,18],[18,23]])\n",
    "print(new_int)\n",
    "interval = []\n",
    "print()\n",
    "while new_int != 'No overlapping intervals':\n",
    "    interval = []\n",
    "    for i in new_int:\n",
    "        #print(interval)\n",
    "        interval.append(i)\n",
    "        if len(interval) == len(new_int):\n",
    "            break\n",
    "    #print(interval)\n",
    "    new_int = merge_intervals(interval)\n",
    "print(interval)    "
   ]
  },
  {
   "cell_type": "code",
   "execution_count": null,
   "id": "03fa099c-43b4-402d-a315-c0737fab3001",
   "metadata": {},
   "outputs": [],
   "source": [
    "new_int"
   ]
  },
  {
   "cell_type": "code",
   "execution_count": null,
   "id": "7c8125c6-4f75-4c43-960f-fafdc81c444f",
   "metadata": {},
   "outputs": [],
   "source": [
    "interval"
   ]
  },
  {
   "cell_type": "code",
   "execution_count": null,
   "id": "f4b5e00b-3579-43c2-b2bc-d1f945256393",
   "metadata": {},
   "outputs": [],
   "source": [
    "len(interval) == len(merge_intervals([[1,5],[4,8],[8,15],[15,18],[18,23]]))"
   ]
  },
  {
   "cell_type": "code",
   "execution_count": null,
   "id": "01068c71-71b1-4f93-bf53-ded4dfe6f360",
   "metadata": {},
   "outputs": [],
   "source": [
    "interval = []\n",
    "for i in merge_intervals([[1,5],[4,8],[8,15],[15,18],[18,23]]):\n",
    "    interval.append(i)\n",
    "interval"
   ]
  },
  {
   "cell_type": "markdown",
   "id": "4167112b-2a77-4f4a-a1e9-577a82fa8c82",
   "metadata": {},
   "source": [
    "## Luckily, made the loop working in the below cell"
   ]
  },
  {
   "cell_type": "code",
   "execution_count": null,
   "id": "36775e57-3463-47d6-93e6-8f145a95aee4",
   "metadata": {},
   "outputs": [],
   "source": [
    "#working loop\n",
    "stg_int = merge_intervals([[1,5],[4,8],[8,15],[15,18],[18,23],[23,30],[25,69]])\n",
    "print(stg_int)\n",
    "final_merge = []\n",
    "print()\n",
    "while stg_int != 'No overlapping intervals':\n",
    "    final_merge = []\n",
    "    for i in stg_int:\n",
    "        print(final_merge)\n",
    "        final_merge.append(i)\n",
    "        if len(final_merge) == len(stg_int):\n",
    "            break\n",
    "    stg_int = merge_intervals(final_merge)\n",
    "    print(final_merge)\n",
    "#print(final_merge)    "
   ]
  },
  {
   "cell_type": "code",
   "execution_count": null,
   "id": "5ebdd1e7-11b6-42f0-a6fb-23ad16802103",
   "metadata": {},
   "outputs": [],
   "source": [
    "final_merge"
   ]
  },
  {
   "cell_type": "code",
   "execution_count": null,
   "id": "a07ffd0f-9788-4c0c-8316-0e4fc32afefa",
   "metadata": {},
   "outputs": [],
   "source": [
    "stg_int = merge_intervals([[1,5],[4,8],[8,15],[15,18],[18,23],[23,30],[25,69]])\n",
    "final_merge = []\n",
    "while stg_int != 'No overlapping intervals':\n",
    "    final_merge = []\n",
    "    for i in stg_int:\n",
    "        final_merge.append(i)\n",
    "        if len(final_merge) == len(stg_int):\n",
    "            break\n",
    "    stg_int = merge_intervals(final_merge)\n",
    "print(final_merge)  "
   ]
  },
  {
   "cell_type": "code",
   "execution_count": null,
   "id": "ad92bf3b-72ef-4914-aa3f-2a79f6c51db6",
   "metadata": {},
   "outputs": [],
   "source": [
    "def ult_merge_int(L_of_L):\n",
    "    \n",
    "    def merge_intervals(intervals):\n",
    "        new_intervals = []\n",
    "        new_intervals+=intervals\n",
    "        new_intervals.sort()\n",
    "        elem_L = []\n",
    "        cntr=0\n",
    "        for i in new_intervals: \n",
    "            if cntr == len(new_intervals)-1:\n",
    "                break\n",
    "            elif new_intervals[cntr][1] in range(new_intervals[cntr+1][0],new_intervals[cntr+1][1]):\n",
    "                elem_L.append([new_intervals[cntr][0],new_intervals[cntr+1][1]])\n",
    "                new_intervals.append(elem_L[0])\n",
    "                del new_intervals[new_intervals.index(new_intervals[cntr]):new_intervals.index(new_intervals[cntr+1])+1]\n",
    "                del elem_L[0]\n",
    "                new_intervals.sort()\n",
    "            cntr+=1        \n",
    "        if intervals == new_intervals:\n",
    "            return 'No overlapping intervals'\n",
    "        else:\n",
    "            return new_intervals\n",
    "    \n",
    "    stg_int = merge_intervals(L_of_L)\n",
    "    final_merge = []\n",
    "    while stg_int != 'No overlapping intervals':\n",
    "        final_merge = []\n",
    "        for i in stg_int:\n",
    "            final_merge.append(i)\n",
    "            if len(final_merge) == len(stg_int):\n",
    "                break\n",
    "        stg_int = merge_intervals(final_merge)\n",
    "    return final_merge\n"
   ]
  },
  {
   "cell_type": "code",
   "execution_count": null,
   "id": "e0a1df22-4d96-4a86-b28c-9b9ddc48b942",
   "metadata": {},
   "outputs": [],
   "source": [
    "ult_merge_int([[1,5],[4,8],[8,15],[15,18],[18,23],[23,30],[25,69],[88,99]])"
   ]
  },
  {
   "cell_type": "markdown",
   "id": "fae41104-f2f3-42dc-bc89-a8b74697440c",
   "metadata": {},
   "source": [
    "# Merge Tables"
   ]
  },
  {
   "cell_type": "markdown",
   "id": "bcaabe0e-bc27-4185-ab3d-29e7ada5da8f",
   "metadata": {},
   "source": [
    "### input \n",
    "#### person = [\n",
    "\t{\n",
    "\t\t\"id\": 1,\n",
    "\t\t\"firstname\": \"Jaira\",\n",
    "\t\t\"lastname\" : \"Cicat\",\n",
    "\t\t\"age\": 29,\n",
    "\t\t\"dob\": \"08/10/1994\"\n",
    "\t},\n",
    "\t{\n",
    "\t\t\"id\": 2,\n",
    "\t\t\"firstname\": \"Gerone\",\n",
    "\t\t\"lastname\": \"Ona\",\n",
    "\t\t\"age\": 27,\n",
    "\t\t\"dob\": \"04/25/1996\"\n",
    "\t}\n",
    "]\n",
    "\n",
    "#### governmentDetails = [\n",
    "\t{\n",
    "\t\t\"pid\": 1,\n",
    "\t\t\"tin\": 11111111,\n",
    "\t\t\"sss\" : 12121212\n",
    "\t},\n",
    "\t{\n",
    "\t\t\"pid\": 1,\n",
    "\t\t\"philhealthid\" : \"PH-123\",\n",
    "\t\t\"driverslicense\": \"DL-123\"\n",
    "\t},\n",
    "\t{\n",
    "\t\t\"pid\": 1,\n",
    "\t\t\"passportid\" : \"PP12345\"\n",
    "\t},\n",
    "\t{\n",
    "\t\t\"pid\": 2,\n",
    "\t\t\"tin\": 222222222,\n",
    "\t\t\"sss\" : 2323232323\n",
    "\t},\n",
    "\t{\n",
    "\t\t\"pid\": 2,\n",
    "\t\t\"philhealthid\" : \"PH-456\",\n",
    "\t\t\"driverslicense\": \"DL-456\"\n",
    "\t},\n",
    "\t{\n",
    "\t\t\"pid\": 2,\n",
    "\t\t\"passportid\" : \"PP5678\"\n",
    "\t}\n",
    "\n",
    "]\n",
    "\n",
    "#### education = [\n",
    "\t{\n",
    "\t\t\"firstname\": \"Jaira\",\n",
    "\t\t\"lastname\": \"Cicat\",\n",
    "\t\t\"type\": \"College\",\n",
    "\t\t\"school\": \"University of the Philippines Manila\",\n",
    "\t},\n",
    "\t{\n",
    "\t\t\"firstname\": \"Jaira\",\n",
    "\t\t\"lastname\": \"Cicat\",\n",
    "\t\t\"type\": \"High School\",\n",
    "\t\t\"school\": \"Tarlac Montessori School\",\n",
    "\t},\n",
    "\t{\n",
    "\t\t\"firstname\": \"Gerone\",\n",
    "\t\t\"lastname\": \"Ona\",\n",
    "\t\t\"type\": \"College\",\n",
    "\t\t\"school\": \"San Beda University\",\n",
    "\t},\n",
    "\t{\n",
    "\t\t\"firstname\": \"Gerone\",\n",
    "\t\t\"lastname\": \"Ona\",\n",
    "\t\t\"type\": \"High School\",\n",
    "\t\t\"school\": \"Enverga University\",\n",
    "\t}\n",
    "]\n",
    "\n",
    "\n",
    "### output = [\n",
    "\t{\n",
    "\t\t\"pid\": 1,\n",
    "\t\t\"firstname\": \"Jaira\",\n",
    "\t\t\"lastname\": \"Cicat\",\n",
    "\t\t\"age\": 29,\n",
    "\t\t\"dob\": \"08/10/1994\"\n",
    "\t\t\"government\":{\n",
    "\t\t\t\"tin\": 11111111,\n",
    "\t\t\t\"sss\" : 12121212,\n",
    "\t\t\t\"philhealthid\" : \"PH-123\",\n",
    "\t\t\t\"driverslicense\": \"DL-123\",\n",
    "\t\t\t\"passportid\" : \"PP12345\"\n",
    "\t\t},\n",
    "\t\t\"education\":[\n",
    "\t\t\t{\n",
    "\t\t\t\t\"type\" : \"High School\",\n",
    "\t\t\t\t\"school\": \"Tarlac Montessori School\",\n",
    "\t\t\t},\n",
    "\t\t\t{\n",
    "\t\t\t\t\"type\" : \"College\",\n",
    "\t\t\t\t\"school\": \"University of the Philippines Manila\",\n",
    "\t\t\t},\n",
    "\t\t]\n",
    "\t},\n",
    "\t{\n",
    "\t\t\"pid\": 2,\n",
    "\t\t\"firstname\": \"Ona\",\n",
    "\t\t\"lastname\": \"Cicat\",\n",
    "\t\t\"age\": 27,\n",
    "\t\t\"dob\": \"04/25/1996\"\n",
    "\t\t\"government\":{\n",
    "\t\t\t\"tin\": 222222222,\n",
    "\t\t\t\"sss\" : 2323232323\n",
    "\t\t\t\"philhealthid\" : \"PH-456\",\n",
    "\t\t\t\"driverslicense\": \"DL-456\"\n",
    "\t\t\t\"passportid\" : \"PP5678\"\n",
    "\t\t},\n",
    "\t\t\"education\":[\n",
    "\t\t\t{\n",
    "\t\t\t\t\"type\": \"High School\",\n",
    "\t\t\t\t\"school\": \"Enverga University\"\n",
    "\t\t\t},\n",
    "\t\t\t{\n",
    "\t\t\t\t\"type\": \"College\",\n",
    "\t\t\t\t\"school\": \"San Beda University\"\n",
    "\t\t\t}\n",
    "\t\t]\n",
    "\t}\n",
    "]"
   ]
  },
  {
   "cell_type": "code",
   "execution_count": null,
   "id": "8c0b5b06-7979-46e9-924c-d72a34fbdace",
   "metadata": {},
   "outputs": [],
   "source": [
    "person"
   ]
  },
  {
   "cell_type": "code",
   "execution_count": null,
   "id": "c55261fb-fa8a-4ca9-bf76-8fc886b1c72a",
   "metadata": {},
   "outputs": [],
   "source": [
    "governmentDetails"
   ]
  },
  {
   "cell_type": "code",
   "execution_count": null,
   "id": "6b9fe9f7-6ede-4a42-9b5e-92ddaa5fa0ae",
   "metadata": {},
   "outputs": [],
   "source": [
    "education"
   ]
  },
  {
   "cell_type": "code",
   "execution_count": null,
   "id": "e3fcf2b3-15c3-4f02-92bb-5331aedad21f",
   "metadata": {},
   "outputs": [],
   "source": [
    "person = [\n",
    "\t{\n",
    "\t\t\"id\": 1,\n",
    "\t\t\"firstname\": \"Jaira\",\n",
    "\t\t\"lastname\" : \"Cicat\",\n",
    "\t\t\"age\": 29,\n",
    "\t\t\"dob\": \"08/10/1994\"\n",
    "\t},\n",
    "\t{\n",
    "\t\t\"id\": 2,\n",
    "\t\t\"firstname\": \"Gerone\",\n",
    "\t\t\"lastname\": \"Ona\",\n",
    "\t\t\"age\": 27,\n",
    "\t\t\"dob\": \"04/25/1996\"\n",
    "\t}\n",
    "]\n",
    "\n",
    "governmentDetails = [\n",
    "\t{\n",
    "\t\t\"pid\": 1,\n",
    "\t\t\"tin\": 11111111,\n",
    "\t\t\"sss\" : 12121212\n",
    "\t},\n",
    "\t{\n",
    "\t\t\"pid\": 1,\n",
    "\t\t\"philhealthid\" : \"PH-123\",\n",
    "\t\t\"driverslicense\": \"DL-123\"\n",
    "\t},\n",
    "\t{\n",
    "\t\t\"pid\": 1,\n",
    "\t\t\"passportid\" : \"PP12345\"\n",
    "\t},\n",
    "\t{\n",
    "\t\t\"pid\": 2,\n",
    "\t\t\"tin\": 222222222,\n",
    "\t\t\"sss\" : 2323232323\n",
    "\t},\n",
    "\t{\n",
    "\t\t\"pid\": 2,\n",
    "\t\t\"philhealthid\" : \"PH-456\",\n",
    "\t\t\"driverslicense\": \"DL-456\"\n",
    "\t},\n",
    "\t{\n",
    "\t\t\"pid\": 2,\n",
    "\t\t\"passportid\" : \"PP5678\"\n",
    "\t}\n",
    "\n",
    "]\n",
    "\n",
    "education = [\n",
    "\t{\n",
    "\t\t\"firstname\": \"Jaira\",\n",
    "\t\t\"lastname\": \"Cicat\",\n",
    "\t\t\"type\": \"College\",\n",
    "\t\t\"school\": \"University of the Philippines Manila\",\n",
    "\t},\n",
    "\t{\n",
    "\t\t\"firstname\": \"Jaira\",\n",
    "\t\t\"lastname\": \"Cicat\",\n",
    "\t\t\"type\": \"High School\",\n",
    "\t\t\"school\": \"Tarlac Montessori School\",\n",
    "\t},\n",
    "\t{\n",
    "\t\t\"firstname\": \"Gerone\",\n",
    "\t\t\"lastname\": \"Ona\",\n",
    "\t\t\"type\": \"College\",\n",
    "\t\t\"school\": \"San Beda University\",\n",
    "\t},\n",
    "\t{\n",
    "\t\t\"firstname\": \"Gerone\",\n",
    "\t\t\"lastname\": \"Ona\",\n",
    "\t\t\"type\": \"High School\",\n",
    "\t\t\"school\": \"Enverga University\",\n",
    "\t}\n",
    "]"
   ]
  },
  {
   "cell_type": "code",
   "execution_count": null,
   "id": "18548909-85db-4e28-b4dd-8a45f2b4c8f3",
   "metadata": {},
   "outputs": [],
   "source": [
    "#before\n",
    "governmentDetails"
   ]
  },
  {
   "cell_type": "code",
   "execution_count": null,
   "id": "750a6385-874a-4c2c-9d42-b80fcc5acdb2",
   "metadata": {},
   "outputs": [],
   "source": [
    "new_Array_for_Gov = []\n",
    "new_Obj_for_Gov = {}\n",
    "counter = 0\n",
    "for i in governmentDetails:\n",
    "    print(i)\n",
    "    for k,j in i.items():\n",
    "        print(k,j)\n",
    "        if k == 'pid' and j == 2:\n",
    "            new_Array_for_Gov.append(new_Obj_for_Gov)\n",
    "            new_Obj_for_Gov = {}\n",
    "            break\n",
    "        new_Obj_for_Gov[k] = j        \n",
    "    #counter+=1\n",
    "#governmentDetails\n",
    "new_Array_for_Gov"
   ]
  },
  {
   "cell_type": "code",
   "execution_count": null,
   "id": "2382bd88-b460-4832-954d-c5fac42cd7a9",
   "metadata": {},
   "outputs": [],
   "source": [
    "new_Array_for_Gov = []\n",
    "new_Obj_for_Gov = {}\n",
    "counter = 1\n",
    "for i in governmentDetails:\n",
    "    print(f\"\\n\\n1st level for loop iteration per object\\t-\\t{i}\\n\")\n",
    "    for k,j in i.items():\n",
    "        \n",
    "        if j == 2:\n",
    "            break\n",
    "        \n",
    "        print(f\"\\t 2nd level for loop for key/value:\\t{k,j}\\n\")\n",
    "        new_Obj_for_Gov[k] = j\n",
    "        print(f\"\\t\\tnew_Obj_for_Gov\\t\\t-\\t{new_Obj_for_Gov} = to be appended in [new_Array_for_Gov]\\n\")\n",
    "        new_Array_for_Gov.append(new_Obj_for_Gov)\n",
    "        print(f\"\\t\\tnew_Array_for_Gov\\t-\\t{new_Array_for_Gov} = APPENDED OBJECT in [new_Array_for_Gov]\\n\")\n",
    "        #new_Array_for_Gov = new_Array_for_Gov + [new_Obj_for_Gov]\n",
    "        #print(f\"new_Array_for_Gov - {new_Array_for_Gov}\")\n",
    "        \"\"\"\n",
    "        if k == 'pid' and j == counter:\n",
    "            new_Array_for_Gov.append(new_Obj_for_Gov)  \n",
    "            #new_Obj_for_Gov = {}\n",
    "            counter+=1\n",
    "        \"\"\""
   ]
  },
  {
   "cell_type": "code",
   "execution_count": null,
   "id": "2927025a-8ae4-463d-9675-85d5f44aff47",
   "metadata": {},
   "outputs": [],
   "source": [
    "new_Array_for_Gov = []\n",
    "new_Obj_for_Gov = {}\n",
    "counter = 1\n",
    "for i in governmentDetails:\n",
    "    print(f\"\\n\\n1st level for loop iteration per object\\t-\\t{i}\\n\")\n",
    "    for k,j in i.items():\n",
    "        \"\"\"\n",
    "        if j == 2:\n",
    "            break\n",
    "        \"\"\"\n",
    "        print(f\"\\t 2nd level for loop for key/value:\\t{k,j}\\n\")\n",
    "        new_Obj_for_Gov[k] = j\n",
    "        print(f\"\\t\\tnew_Obj_for_Gov\\t\\t-\\t{new_Obj_for_Gov} = to be appended in [new_Array_for_Gov]\\n\")\n",
    "        new_Array_for_Gov.append(new_Obj_for_Gov)\n",
    "        #new_Array_for_Gov = new_Array_for_Gov + [new_Obj_for_Gov]\n",
    "        #print(f\"new_Array_for_Gov - {new_Array_for_Gov}\")\n",
    "        \"\"\"\n",
    "        if k == 'pid' and j == counter:\n",
    "            new_Array_for_Gov.append(new_Obj_for_Gov)  \n",
    "            #new_Obj_for_Gov = {}\n",
    "            counter+=1\n",
    "        \"\"\""
   ]
  },
  {
   "cell_type": "code",
   "execution_count": null,
   "id": "dfc41511-a50c-4f02-a2fb-55278c8d3632",
   "metadata": {},
   "outputs": [],
   "source": [
    "new_Array_for_Gov[0]"
   ]
  },
  {
   "cell_type": "code",
   "execution_count": null,
   "id": "c9bfa26e-11d1-4b2c-9304-c558c2f8dc2d",
   "metadata": {},
   "outputs": [],
   "source": [
    "for i in new_Array_for_Gov:\n",
    "    print(i)"
   ]
  },
  {
   "cell_type": "code",
   "execution_count": null,
   "id": "8822a63b-98db-43ad-a737-01c3c4f46288",
   "metadata": {},
   "outputs": [],
   "source": [
    "new_Obj_for_Gov"
   ]
  },
  {
   "cell_type": "code",
   "execution_count": null,
   "id": "2ed0cd86-f1d5-4d89-9ba4-99101597674a",
   "metadata": {},
   "outputs": [],
   "source": [
    "governmentDetails[0]['philhealthid'] = 'PH-123'"
   ]
  },
  {
   "cell_type": "code",
   "execution_count": null,
   "id": "5d5b1621-01c2-44a1-b968-4dfa555269c5",
   "metadata": {},
   "outputs": [],
   "source": [
    "governmentDetails[0]['pid'] = 1"
   ]
  },
  {
   "cell_type": "code",
   "execution_count": null,
   "id": "4be001c1-6e49-4a52-8f16-a7c25533d77f",
   "metadata": {},
   "outputs": [],
   "source": [
    "governmentDetails[0]['pid']"
   ]
  },
  {
   "cell_type": "code",
   "execution_count": null,
   "id": "01b709b5-4a5a-4083-b27b-166a685d4d3d",
   "metadata": {},
   "outputs": [],
   "source": [
    "governmentDetails[0] == governmentDetails[1]"
   ]
  },
  {
   "cell_type": "markdown",
   "id": "ec0b0504-a79e-4a5e-aac5-e845bc6b1d47",
   "metadata": {},
   "source": [
    "### Input: governmentDetails = [\n",
    "\t{\n",
    "\t\t\"pid\": 1,\n",
    "\t\t\"tin\": 11111111,\n",
    "\t\t\"sss\" : 12121212\n",
    "\t},\n",
    "\t{\n",
    "\t\t\"pid\": 1,\n",
    "\t\t\"philhealthid\" : \"PH-123\",\n",
    "\t\t\"driverslicense\": \"DL-123\"\n",
    "\t},\n",
    "\t{\n",
    "\t\t\"pid\": 1,\n",
    "\t\t\"passportid\" : \"PP12345\"\n",
    "\t},\n",
    "\t{\n",
    "\t\t\"pid\": 2,\n",
    "\t\t\"tin\": 222222222,\n",
    "\t\t\"sss\" : 2323232323\n",
    "\t},\n",
    "\t{\n",
    "\t\t\"pid\": 2,\n",
    "\t\t\"philhealthid\" : \"PH-456\",\n",
    "\t\t\"driverslicense\": \"DL-456\"\n",
    "\t},\n",
    "\t{\n",
    "\t\t\"pid\": 2,\n",
    "\t\t\"passportid\" : \"PP5678\"\n",
    "\t}\n",
    "\n",
    "]"
   ]
  },
  {
   "cell_type": "markdown",
   "id": "1ddb6fc5-3866-464a-a4f2-db5844c574d3",
   "metadata": {},
   "source": [
    "## Output = {\n",
    "    1: {'pid': 1,\n",
    "      'tin': 11111111,\n",
    "      'sss': 12121212,\n",
    "      'philhealthid': 'PH-123',\n",
    "      'driverslicense': 'DL-123',\n",
    "      'passportid': 'PP12345'},\n",
    "    2: {'pid': 2,\n",
    "      'tin': 222222222,\n",
    "      'sss': 2323232323,\n",
    "      'philhealthid': 'PH-456',\n",
    "      'driverslicense': 'DL-456',\n",
    "      'passportid': 'PP5678'} \n",
    "###      }"
   ]
  },
  {
   "cell_type": "markdown",
   "id": "ba9e6172-03ac-478e-a257-85ddc6f4742f",
   "metadata": {},
   "source": [
    "## Working"
   ]
  },
  {
   "cell_type": "code",
   "execution_count": null,
   "id": "34bbf827-cf6f-4783-9cc6-ad668c57a38e",
   "metadata": {},
   "outputs": [],
   "source": [
    "new_Obj_for_Gov = {}\n",
    "unique_PID = []\n",
    "\n",
    "for i in governmentDetails:\n",
    "    value = i['pid']\n",
    "    unique_PID.append(value)\n",
    "    unique_PID = list(set(unique_PID))\n",
    "\n",
    "for i in unique_PID:\n",
    "    new_Obj_for_Gov[i] = {}\n",
    "    \n",
    "for i in governmentDetails:\n",
    "    value = i['pid']\n",
    "    print(f\"\\nfirst loop level\\t-\\t{value} : {i}\")\n",
    "    print()\n",
    "    for j,k in i.items():\n",
    "        new_Obj_for_Gov[value][j] = k\n",
    "        print(f'\\t\\tnew2_Obj_for_Gov value\\t-\\t\"{new_Obj_for_Gov}\"')\n",
    "print()\n",
    "print()\n",
    "new_Obj_for_Gov        "
   ]
  },
  {
   "cell_type": "code",
   "execution_count": null,
   "id": "ae825eb6-6a9f-4cbe-bcec-89d68bee38a6",
   "metadata": {},
   "outputs": [],
   "source": [
    "unique_PID"
   ]
  },
  {
   "cell_type": "code",
   "execution_count": null,
   "id": "b3c1acc0-e747-44a6-a339-1235e80bba89",
   "metadata": {},
   "outputs": [],
   "source": [
    "new_Obj_for_Gov"
   ]
  },
  {
   "cell_type": "code",
   "execution_count": null,
   "id": "7f429e28-b135-4653-bfbf-4ba469157e54",
   "metadata": {},
   "outputs": [],
   "source": [
    "governmentDetails"
   ]
  },
  {
   "cell_type": "code",
   "execution_count": null,
   "id": "a3930092-0d07-4b41-a53e-e2f1b6d06ce2",
   "metadata": {},
   "outputs": [],
   "source": [
    "double_obj = {\n",
    "    \"1\": {\n",
    "      'tin': 11111111,\n",
    "      'sss': 12121212,\n",
    "      'philhealthid': 'PH-123',\n",
    "      'driverslicense': 'DL-123',\n",
    "      'passportid': 'PP12345'\n",
    "    }\n",
    "}"
   ]
  },
  {
   "cell_type": "code",
   "execution_count": null,
   "id": "0628185d-6aa5-4a13-8149-59a3a53b1567",
   "metadata": {},
   "outputs": [],
   "source": [
    "double_obj['1']['tin']"
   ]
  },
  {
   "cell_type": "markdown",
   "id": "ae0a04b3",
   "metadata": {},
   "source": [
    "# Dealing with XML"
   ]
  },
  {
   "cell_type": "code",
   "execution_count": null,
   "id": "6029554f",
   "metadata": {},
   "outputs": [],
   "source": [
    "# SAX Method\n",
    "\n",
    "import xml.sax\n",
    "\n",
    "class PeopleHandler(xml.sax.ContentHandler):\n",
    "    \n",
    "    def startElement(self, name, attrs):\n",
    "        self.current = name\n",
    "        if name == \"person\":\n",
    "            print(f\"-- Person {attrs['id']} --\")\n",
    "    \n",
    "    def characters(self, content):\n",
    "        if self.current == \"name\":\n",
    "            self.name = content\n",
    "        elif self.current == \"age\":\n",
    "            self.age = content\n",
    "        elif self.current == \"weight\":\n",
    "            self.weight = content\n",
    "        elif self.current == \"height\":\n",
    "            self.height = content\n",
    "\n",
    "    def endElement(self, name):\n",
    "        if self.current == \"name\":\n",
    "            print(f\"Name: {self.name}\")\n",
    "        elif self.current == \"age\":\n",
    "            print(f\"Age: {self.age}\")\n",
    "        elif self.current == \"weight\":\n",
    "            print(f\"Weight: {self.weight}\")\n",
    "        elif self.current == \"height\":\n",
    "            print(f\"Height: {self.height}\")\n",
    "        self.current = \"\"\n",
    "\n",
    "handler = PeopleHandler()\n",
    "parser = xml.sax.make_parser()\n",
    "parser.setContentHandler(handler)\n",
    "parser.parse(\"people.xml\")\n",
    "\n"
   ]
  },
  {
   "cell_type": "code",
   "execution_count": null,
   "id": "7a7c8e54",
   "metadata": {},
   "outputs": [],
   "source": [
    "# DOM Method\n",
    "\n",
    "import xml.dom.minidom\n",
    "# creating a domtree out of xml file\n",
    "domtree = xml.dom.minidom.parse('people.xml')\n",
    "# the group is the top most element in the xml file\n",
    "group = domtree.documentElement\n",
    "# gives use the collection of people we can iterate through\n",
    "people = group.getElementsByTagName('person')\n",
    "\n",
    "for person in people:\n",
    "    print(f\"-- Person {person.getAttribute('id')} --\")\n",
    "    print(f\"Name: {person.getElementsByTagName('name')[0].childNodes[0].nodeValue}\")\n",
    "    print(f\"Age: {person.getElementsByTagName('age')[0].childNodes[0].nodeValue}\")\n",
    "    print(f\"Weight: {person.getElementsByTagName('weight')[0].childNodes[0].nodeValue}\")\n",
    "    print(f\"Height: {person.getElementsByTagName('height')[0].childNodes[0].nodeValue}\")\n",
    "\n",
    "\n"
   ]
  },
  {
   "cell_type": "markdown",
   "id": "c13cb263",
   "metadata": {},
   "source": [
    "# Websrape"
   ]
  },
  {
   "cell_type": "code",
   "execution_count": null,
   "id": "2d5e0654",
   "metadata": {},
   "outputs": [],
   "source": [
    "pip install lxml "
   ]
  },
  {
   "cell_type": "code",
   "execution_count": null,
   "id": "b25cc536",
   "metadata": {},
   "outputs": [],
   "source": [
    "import pandas as pd\n",
    "\n",
    "tables = pd.read_html('https://github.com/isaacs/github/issues/37')\n",
    "\n",
    "text_content = tables[0].to_string(index=False)\n",
    "len(tables)"
   ]
  },
  {
   "cell_type": "code",
   "execution_count": null,
   "id": "ca014d4c",
   "metadata": {},
   "outputs": [],
   "source": [
    "for i in range(0,len(tables)):\n",
    "    print(tables[i])"
   ]
  },
  {
   "cell_type": "code",
   "execution_count": null,
   "id": "c5035804",
   "metadata": {},
   "outputs": [],
   "source": [
    "tables[0].iloc[0].to_string()[5:]"
   ]
  },
  {
   "cell_type": "code",
   "execution_count": null,
   "id": "d5e63f9b",
   "metadata": {},
   "outputs": [],
   "source": [
    "for i in range(0,len(tables)):\n",
    "    print(f'Row#{i+1}:  \\t{tables[i].iloc[0].to_string()[5:]}')"
   ]
  },
  {
   "cell_type": "code",
   "execution_count": null,
   "id": "25c6b82e",
   "metadata": {},
   "outputs": [],
   "source": [
    "#print(text_content[:text_content.index('.')+1])\n",
    "print(text_content[2:])"
   ]
  },
  {
   "cell_type": "code",
   "execution_count": null,
   "id": "2eb717ae",
   "metadata": {},
   "outputs": [],
   "source": [
    "import pandas as pd\n",
    "\n",
    "# Read the HTML tables from the webpage\n",
    "tables = pd.read_html('https://github.com/isaacs/github/issues/37')\n",
    "\n",
    "# Set Pandas options to prevent text truncation\n",
    "pd.set_option('display.max_colwidth', None)\n",
    "\n",
    "# Extract the text from the first row of tables[0]\n",
    "first_row_text = tables[0].iloc[0].to_string(index=False)\n",
    "\n",
    "print(first_row_text)\n"
   ]
  },
  {
   "cell_type": "markdown",
   "id": "f58bb9b6",
   "metadata": {},
   "source": [
    "# Move 0 at the end of the array"
   ]
  },
  {
   "cell_type": "code",
   "execution_count": null,
   "id": "0f0863fb",
   "metadata": {},
   "outputs": [],
   "source": [
    "'''\n",
    "Input: [0,1,0,3,12]\n",
    "Output: [1,3,12,0,0]\n",
    "'''"
   ]
  },
  {
   "cell_type": "code",
   "execution_count": null,
   "id": "7931187f",
   "metadata": {},
   "outputs": [],
   "source": [
    "L = [0,1,0,3,12]\n",
    "L[::-1]"
   ]
  },
  {
   "cell_type": "code",
   "execution_count": null,
   "id": "4cd0adfa",
   "metadata": {},
   "outputs": [],
   "source": [
    "L = [0,1,0,3,12]\n",
    "\n",
    "for i in L[::1]:\n",
    "    popped_val = L.pop(L.index(0))\n",
    "    L.append(popped_val)\n",
    "\n",
    "print(L)        "
   ]
  },
  {
   "cell_type": "code",
   "execution_count": null,
   "id": "934b8203",
   "metadata": {},
   "outputs": [],
   "source": [
    "# remove int 2 without ruining the index\n",
    "# 1st solution\n",
    "'''\n",
    "Input: [1,2,3,4,5]\n",
    "Output:\n",
    "1\n",
    "3\n",
    "4\n",
    "5\n",
    "'''\n",
    "\n",
    "L =  [1,2,3,4,5]\n",
    "for i in L[::-1]:\n",
    "    if i == 2:\n",
    "        L.remove(2)\n",
    "for i in L:\n",
    "    print(i)"
   ]
  },
  {
   "cell_type": "code",
   "execution_count": null,
   "id": "6b902d99",
   "metadata": {},
   "outputs": [],
   "source": [
    "# remove int 2 without ruining the index\n",
    "# 2nd solution\n",
    "'''\n",
    "Input: [1,2,3,4,5]\n",
    "Output: \n",
    "1\n",
    "3\n",
    "4\n",
    "5\n",
    "'''\n",
    "L =  [1,2,3,4,5]\n",
    "for i in L:\n",
    "    if i == 2:\n",
    "        pass\n",
    "    else:\n",
    "        print(i)"
   ]
  },
  {
   "cell_type": "code",
   "execution_count": null,
   "id": "ca433878",
   "metadata": {},
   "outputs": [],
   "source": [
    "# remove int 2 without ruining the index\n",
    "# 3rd solution\n",
    "'''\n",
    "Input: [1,2,3,4,5]\n",
    "Output: \n",
    "1\n",
    "3\n",
    "4\n",
    "5\n",
    "'''\n",
    "L =  [1,2,3,4,5]\n",
    "L.remove(2)\n",
    "for i in L:\n",
    "    print(i)"
   ]
  },
  {
   "cell_type": "markdown",
   "id": "36910b76",
   "metadata": {},
   "source": [
    "# Given an array of integers, \n",
    "# find all triplets that sum up to the target of Zero"
   ]
  },
  {
   "cell_type": "code",
   "execution_count": null,
   "id": "54aaae82",
   "metadata": {},
   "outputs": [],
   "source": [
    "# input = [1,-1,-1,0,2]\n",
    "# output = [-1,-1,2],[-1,0,1]"
   ]
  },
  {
   "cell_type": "code",
   "execution_count": null,
   "id": "3699f51f",
   "metadata": {},
   "outputs": [],
   "source": [
    "input = [1,-1,-1,0,2,-2]\n",
    "\n",
    "new_L = []\n",
    "for i in input:\n",
    "    for j in input:\n",
    "        for k in input:\n",
    "            if i+j+k == 0 and (i!=0 or j!=0 or k!=0):\n",
    "                #print(f\"{i} + {j} + {k}\\t=\\t{i+j+k}\")\n",
    "                new_L.append([i,j,k])\n",
    "\n",
    "for i in new_L:\n",
    "    i.sort()\n",
    "new_L.sort()\n",
    "\n",
    "output = []\n",
    "for idx,val in enumerate(new_L): \n",
    "    if new_L[idx-1] != new_L[idx]:\n",
    "        output.append(val)\n",
    " \n",
    "print(*output)"
   ]
  },
  {
   "cell_type": "code",
   "execution_count": 249,
   "id": "e76d0e6e",
   "metadata": {},
   "outputs": [
    {
     "name": "stdout",
     "output_type": "stream",
     "text": [
      "[-2, 0, 2] [-2, 1, 1] [-1, -1, 2] [-1, 0, 1]\n"
     ]
    }
   ],
   "source": [
    "#v2 sol\n",
    "input = [1,-1,-1,0,2,-2]\n",
    "\n",
    "new_L = []\n",
    "for i in input:\n",
    "    for j in input:\n",
    "        for k in input:\n",
    "            if i+j+k == 0 and (i!=0 or j!=0 or k!=0):\n",
    "                new_L.append(sorted([i,j,k]))\n",
    "\n",
    "new_L.sort()\n",
    "output = []\n",
    "for idx,val in enumerate(new_L):\n",
    "    if new_L[idx-1] != new_L[idx]:\n",
    "        output.append(val)\n",
    " \n",
    "print(*output)"
   ]
  },
  {
   "cell_type": "markdown",
   "id": "f81e44e5",
   "metadata": {},
   "source": [
    "# Missing Number\n",
    "\n",
    "#### Given an array nums containing n distinct numbers in the range [0, n], \n",
    "#### return the only number in the range that is missing from the array.\n",
    "### Example:\n",
    "#### Input: nums = [3,0,1]\n",
    "#### Output: 2"
   ]
  },
  {
   "cell_type": "code",
   "execution_count": null,
   "id": "848b5a9a",
   "metadata": {},
   "outputs": [],
   "source": [
    "# Solution v1\n",
    "nums = [3,0,1]\n",
    "\n",
    "nums.sort()\n",
    "for idx,num in enumerate(range(nums[0],nums[-1]+1)):\n",
    "    if idx == 0:\n",
    "        pass\n",
    "    elif idx not in nums:\n",
    "        print(f'Output: {idx}')"
   ]
  },
  {
   "cell_type": "code",
   "execution_count": null,
   "id": "9ecf3645",
   "metadata": {},
   "outputs": [],
   "source": [
    "# Solution v2\n",
    "nums = [3,0,1]\n",
    "\n",
    "for idx,num in enumerate(range(0,max(nums)+1)):\n",
    "    if idx == 0:\n",
    "        pass\n",
    "    elif idx not in nums:\n",
    "        print(f'Output: {idx}')"
   ]
  },
  {
   "cell_type": "markdown",
   "id": "134feb13",
   "metadata": {},
   "source": [
    "# Combination SUM\n",
    "\n",
    "#### Input = [2,3,6,7], target = 7\n",
    "#### Output = [[2,2,3], [7]] "
   ]
  },
  {
   "cell_type": "code",
   "execution_count": 322,
   "id": "fae2b2fd",
   "metadata": {},
   "outputs": [
    {
     "name": "stdout",
     "output_type": "stream",
     "text": [
      "Output = [[2, 2, 3], [7]]\n"
     ]
    }
   ],
   "source": [
    "# v1 solution\n",
    "Input = [2,3,6,7]\n",
    "target = 7\n",
    "Output = []\n",
    "\n",
    "for idx,i in enumerate(Input):\n",
    "    if i == target and [i] not in Output:\n",
    "        Output+=[[i]]\n",
    "    for j in Input:\n",
    "        if i+j == target and sorted([i,j]) not in Output:\n",
    "            Output+=[[i,j]]\n",
    "        else:\n",
    "            for k in Input:\n",
    "                if i+j+k == target and sorted([i,j,k]) not in Output:\n",
    "                    Output+=[[i,j,k]]\n",
    "print(f'Output = {Output}')"
   ]
  },
  {
   "cell_type": "code",
   "execution_count": 323,
   "id": "dde5a688",
   "metadata": {},
   "outputs": [
    {
     "name": "stdout",
     "output_type": "stream",
     "text": [
      "Output = [[2, 2, 3], [7]]\n"
     ]
    }
   ],
   "source": [
    "# v2 solution\n",
    "Input = [2,3,6,7]\n",
    "target = 7\n",
    "Output = []\n",
    "\n",
    "for idx,i in enumerate(Input):\n",
    "    for j in Input:\n",
    "        if i+j == target and sorted([i,j]) not in Output:\n",
    "            Output+=[[i,j]]\n",
    "        else:\n",
    "            for k in Input:\n",
    "                if i+j+k == target and sorted([i,j,k]) not in Output:\n",
    "                    Output+=[[i,j,k]]\n",
    "Output+=[[target]]\n",
    "print(f'Output = {Output}')"
   ]
  },
  {
   "cell_type": "markdown",
   "id": "7db0c7e4",
   "metadata": {},
   "source": [
    "# Sort Array by Increasing Frequency\n",
    "#### Example:\n",
    "#### Input = [1, 1, 2, 2, 2, 3]\n",
    "#### Output = [3, 1, 1, 2, 2, 2]\n",
    "#### Explanation: \n",
    "##### &nbsp;&nbsp;&nbsp;&nbsp;&nbsp;&nbsp;&nbsp;&nbsp;&nbsp;&nbsp;&nbsp;&nbsp;&nbsp;&nbsp;&nbsp;&nbsp;&nbsp;&nbsp;&nbsp;&nbsp;&nbsp;&nbsp;&nbsp;&nbsp;'3' has a frequency of 1,\n",
    "##### &nbsp;&nbsp;&nbsp;&nbsp;&nbsp;&nbsp;&nbsp;&nbsp;&nbsp;&nbsp;&nbsp;&nbsp;&nbsp;&nbsp;&nbsp;&nbsp;&nbsp;&nbsp;&nbsp;&nbsp;&nbsp;&nbsp;&nbsp;&nbsp;'1' has a frequency of 2,\n",
    "##### &nbsp;&nbsp;&nbsp;&nbsp;&nbsp;&nbsp;&nbsp;&nbsp;&nbsp;&nbsp;&nbsp;&nbsp;&nbsp;&nbsp;&nbsp;&nbsp;&nbsp;&nbsp;&nbsp;&nbsp;&nbsp;&nbsp;&nbsp;&nbsp;'2' has a frequency of 3."
   ]
  },
  {
   "cell_type": "code",
   "execution_count": 342,
   "id": "83748b80",
   "metadata": {},
   "outputs": [
    {
     "name": "stdout",
     "output_type": "stream",
     "text": [
      "Output = [3, 1, 1, 2, 2, 2]\n"
     ]
    }
   ],
   "source": [
    "# v1 solution\n",
    "Input = [1,1,2,2,2,3]\n",
    "Output = []\n",
    "\n",
    "Empty_Object = {}\n",
    "for array_val in Input:\n",
    "    Empty_Object[array_val] = Empty_Object.get(array_val,0) + 1\n",
    "\n",
    "Invert_Object = {}\n",
    "for key,val in Empty_Object.items():\n",
    "    Invert_Object[val] = key\n",
    "\n",
    "for key,val in sorted(Invert_Object.items()):\n",
    "    Output+=[val]*key\n",
    "\n",
    "print(f'Output = {Output}')\n"
   ]
  },
  {
   "cell_type": "code",
   "execution_count": 353,
   "id": "a09689c1",
   "metadata": {},
   "outputs": [
    {
     "name": "stdout",
     "output_type": "stream",
     "text": [
      "Output = [3, 1, 1, 2, 2, 2]\n"
     ]
    }
   ],
   "source": [
    "# v2 solution\n",
    "Input = [1,1,2,2,2,3]\n",
    "Output = []\n",
    "\n",
    "Empty_Object = {}\n",
    "for array_val in Input:\n",
    "    Empty_Object[array_val] = Empty_Object.get(array_val,0) + 1\n",
    "\n",
    "Invert_Object = {}\n",
    "for values,frequency in zip(Empty_Object.values(),Empty_Object.keys()):\n",
    "    Invert_Object[values] = frequency\n",
    "\n",
    "for frequency,val in sorted(Invert_Object.items()):\n",
    "    Output+=[val]*frequency\n",
    "\n",
    "print(f'Output = {Output}')\n",
    "    \n"
   ]
  }
 ],
 "metadata": {
  "kernelspec": {
   "display_name": "Python 3 (ipykernel)",
   "language": "python",
   "name": "python3"
  },
  "language_info": {
   "codemirror_mode": {
    "name": "ipython",
    "version": 3
   },
   "file_extension": ".py",
   "mimetype": "text/x-python",
   "name": "python",
   "nbconvert_exporter": "python",
   "pygments_lexer": "ipython3",
   "version": "3.11.2"
  }
 },
 "nbformat": 4,
 "nbformat_minor": 5
}
