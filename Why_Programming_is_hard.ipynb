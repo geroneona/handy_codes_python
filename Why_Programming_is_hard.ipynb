{
 "cells": [
  {
   "cell_type": "code",
   "execution_count": 4,
   "id": "6c20a913-e8ec-4b6e-b78d-b544e57b1b3d",
   "metadata": {
    "scrolled": true
   },
   "outputs": [
    {
     "name": "stdout",
     "output_type": "stream",
     "text": [
      "{'pp': 3, 'hard': 2, 'hi': 1, 'subscribe': 2}\n"
     ]
    }
   ],
   "source": [
    "# to check every element in array how many occurrence\n",
    "word_list2 = [\"pp\",\"hard\",\"hi\",\"subscribe\",\"pp\",\"hard\",\"subscribe\",\"pp\"]\n",
    "\n",
    "#keep track of it with my_dic\n",
    "my_dic2 = {}\n",
    "\n",
    "#looking through the list\n",
    "for word2 in word_list2:\n",
    "    #count frequency\n",
    "    my_dic2[word2] = 1 + my_dic2.get(word2,0)\n",
    "    #print (f'{my_dic2.get(word2)}:{my_dic2.get(word2,0)}')\n",
    "print(my_dic2)    "
   ]
  },
  {
   "cell_type": "code",
   "execution_count": 57,
   "id": "91d6983d-6a01-438d-8a42-e15169fa8927",
   "metadata": {},
   "outputs": [
    {
     "name": "stdout",
     "output_type": "stream",
     "text": [
      "pp:3\n",
      "hard:2\n",
      "hi:1\n",
      "subscribe:2\n"
     ]
    }
   ],
   "source": [
    "my_dic2\n",
    "for i,j in my_dic2.items():\n",
    "    print (f'{i}:{j}')"
   ]
  },
  {
   "cell_type": "code",
   "execution_count": 60,
   "id": "38d644e9-0ada-4538-b8ef-4361ed6819ec",
   "metadata": {},
   "outputs": [
    {
     "name": "stdout",
     "output_type": "stream",
     "text": [
      "pp:3\n",
      "hard:2\n",
      "hi:1\n",
      "subscribe:2\n"
     ]
    }
   ],
   "source": [
    "my_dic2\n",
    "for i in my_dic2:\n",
    "    print (f'{i}:{my_dic2[i]}')"
   ]
  },
  {
   "cell_type": "code",
   "execution_count": 11,
   "id": "1689e19a-0c85-4b95-9f2d-668fc39193f2",
   "metadata": {},
   "outputs": [
    {
     "name": "stdout",
     "output_type": "stream",
     "text": [
      "['pp', 'hard', 'subscribe']\n",
      "\n",
      "pp:3\n",
      "hard:2\n",
      "hi:1\n",
      "subscribe:2\n"
     ]
    }
   ],
   "source": [
    "# input [\"pp\",\"hard\",\"hi\",\"subscribe\",\"pp\",\"hard\",\"subscribe\",\"pp\"]\n",
    "# output [\"pp\",\"hard\",\"subscribe\"]\n",
    "word_list = [\"pp\",\"hard\",\"hi\",\"subscribe\",\"pp\",\"hard\",\"subscribe\",\"pp\"]\n",
    "\n",
    "#keep track of it with my_dic\n",
    "my_dic = {}\n",
    "\n",
    "#looking through the list\n",
    "for word in word_list:\n",
    "    #count frequency\n",
    "    my_dic[word] = my_dic.get(word,0) + 1\n",
    "    \n",
    "#where output result needs to go\n",
    "output_list = []\n",
    "\n",
    "for i in my_dic:\n",
    "    if my_dic[i] > 1:\n",
    "        #print (f'{i}:{my_dic2[i]}')\n",
    "        output_list += [i]\n",
    "print(output_list) # result only those that encounter more than 1 instance inside initial list(word_list2)\n",
    "print()\n",
    "\n",
    "for i,j in my_dic.items():\n",
    "    print (f'{i}:{j}')"
   ]
  },
  {
   "cell_type": "code",
   "execution_count": 19,
   "id": "00d97c1a-6983-4c32-8e28-877dd4c2bbe9",
   "metadata": {},
   "outputs": [
    {
     "name": "stdout",
     "output_type": "stream",
     "text": [
      "First value that occur twice: 'hard'\n",
      "{'pp': 1, 'hard': 2, 'hi': 1}\n"
     ]
    }
   ],
   "source": [
    "# input [\"pp\",\"hard\",\"hi\",\"subscribe\",\"pp\",\"hard\",\"subscribe\",\"pp\"]\n",
    "# output [\"pp\",\"hard\",\"subscribe\"]\n",
    "word_list = [\"pp\",\"hard\",\"hi\",\"hard\",\"subscribe\",\"pp\",\"hard\",\"subscribe\",\"pp\"]\n",
    "\n",
    "#keep track of it with my_dic\n",
    "my_dic = {}\n",
    "\n",
    "#looking through the list\n",
    "for word in word_list:\n",
    "    #count frequency\n",
    "    my_dic[word] = my_dic.get(word,0) + 1\n",
    "    # break loop once 1st value that occur twice\n",
    "    if my_dic[word] > 1:\n",
    "        print (f\"First value that occur twice: '{word}'\")\n",
    "        break\n",
    "print(my_dic)"
   ]
  },
  {
   "cell_type": "code",
   "execution_count": 21,
   "id": "0213ddca-be20-4ffa-83b5-90f4abf8f0ac",
   "metadata": {},
   "outputs": [
    {
     "name": "stdout",
     "output_type": "stream",
     "text": [
      "c:1\n",
      "h:1\n",
      "r:3\n",
      "i:2\n",
      "s:1\n",
      "t:1\n",
      "a:2\n",
      "n:3\n",
      "g:1\n",
      "e:2\n",
      "o:2\n",
      ".:1\n"
     ]
    }
   ],
   "source": [
    "string = 'christiangeroner.ona'\n",
    "\n",
    "#keep track of it with my_dic\n",
    "my_dic = {}\n",
    "\n",
    "#looking through the list\n",
    "for char in string:\n",
    "    #count frequency\n",
    "    my_dic[char] = my_dic.get(char,0) + 1 # need to use 2 parameter here in 'my_dic.get(char,0)' because python doesn't know value is an integer so need to leverage this because it can pull non existing record for us\n",
    "    # break loop once 1st char occur twice\n",
    "for i,j in my_dic.items():\n",
    "    print (f\"{i}:{j}\")"
   ]
  },
  {
   "cell_type": "code",
   "execution_count": 20,
   "id": "0f65fff4-5e9e-4cfe-81b9-b81c49d799e9",
   "metadata": {},
   "outputs": [
    {
     "name": "stdout",
     "output_type": "stream",
     "text": [
      "First character that occur twice: 'i'\n",
      "{'c': 1, 'h': 1, 'r': 1, 'i': 2, 's': 1, 't': 1}\n"
     ]
    }
   ],
   "source": [
    "string = 'christiangeroner.ona'\n",
    "\n",
    "#keep track of it with my_dic\n",
    "my_dic = {}\n",
    "\n",
    "#looking through the string\n",
    "for char in string:\n",
    "    #count frequency\n",
    "    my_dic[char] = my_dic.get(char,0) + 1 # need to use 2 parameter here in 'my_dic.get(char,0)' because python doesn't know value is an integer so need to leverage this because it can pull non existing record for us\n",
    "    # break loop once 1st char occur twice\n",
    "    if my_dic[char] > 1:\n",
    "        print (f\"First character that occur twice: '{char}'\")\n",
    "        break\n",
    "print(my_dic)"
   ]
  },
  {
   "cell_type": "code",
   "execution_count": 59,
   "id": "edad7fe4-4f35-4769-8f2d-318c0c3710d1",
   "metadata": {},
   "outputs": [
    {
     "name": "stdout",
     "output_type": "stream",
     "text": [
      "First word that occur twice in the sentence: 'Hello'\n",
      "\n",
      "hello:\t\t2\n",
      "there,:\t\t1\n",
      "my:\t\t1\n",
      "name:\t\t1\n",
      "is:\t\t1\n",
      "christian:\t\t1\n",
      "gerone:\t\t1\n",
      "r.:\t\t1\n",
      "ona.:\t\t1\n"
     ]
    }
   ],
   "source": [
    "sentence = \"\"\"hello there, My name is Christian Gerone R. Ona. \n",
    "Hello there again! I'm 28 years old. I wanna be a professional fulltime IT developer.\n",
    "My hobbies are learning Python, Playing Guitar and studying Music theory.\n",
    "\"\"\"\n",
    "L = sentence.split()\n",
    "\n",
    "#keep track of it with my_dic\n",
    "my_dic = {}\n",
    "\n",
    "#looking through the list\n",
    "for word in L:\n",
    "    #count frequency\n",
    "    my_dic[word.lower()] = my_dic.get(word.lower(),0) + 1 # need to use 2 parameter here in 'my_dic.get(word,0)' because python doesn't know value is an integer so need to leverage this because it can pull non existing record for us\n",
    "    # break loop once 1st char occur twice\n",
    "    if my_dic[word.lower()] > 1:\n",
    "        print (f\"First word that occur twice in the sentence: '{word}'\")\n",
    "        break\n",
    "\n",
    "print()\n",
    "\n",
    "for i,j in my_dic.items():\n",
    "    print (f\"{i}:\\t\\t{j}\")\n"
   ]
  },
  {
   "cell_type": "code",
   "execution_count": 53,
   "id": "e7fc2235-7142-48ad-8b68-662181b4da2a",
   "metadata": {
    "scrolled": true
   },
   "outputs": [
    {
     "name": "stdout",
     "output_type": "stream",
     "text": [
      "hello:\t\t1\n",
      "there,:\t\t1\n",
      "my:\t\t4\n",
      "name:\t\t1\n",
      "is:\t\t1\n",
      "christian:\t\t1\n",
      "gerone:\t\t1\n",
      "r.:\t\t1\n",
      "ona.:\t\t1\n",
      "i'm:\t\t2\n",
      "28:\t\t1\n",
      "years:\t\t1\n",
      "old.:\t\t1\n",
      "i:\t\t1\n",
      "wanna:\t\t1\n",
      "be:\t\t1\n",
      "a:\t\t1\n",
      "professional:\t\t1\n",
      "fulltime:\t\t1\n",
      "it:\t\t1\n",
      "developer.:\t\t1\n",
      "hobbies:\t\t1\n",
      "are:\t\t1\n",
      "learning:\t\t1\n",
      "python,:\t\t1\n",
      "playing:\t\t1\n",
      "guitar:\t\t1\n",
      "and:\t\t1\n",
      "studying:\t\t1\n",
      "music:\t\t1\n",
      "theory.:\t\t1\n",
      "glad:\t\t1\n",
      "to:\t\t1\n",
      "meet:\t\t1\n",
      "you!:\t\t1\n"
     ]
    }
   ],
   "source": [
    "sentence = \"\"\"hello there, My name is Christian Gerone R. Ona. \n",
    "I'm 28 years old. I wanna be a professional fulltime IT developer.\n",
    "My hobbies are learning Python, Playing Guitar and studying Music theory.\n",
    "I'm glad to meet you! my my\n",
    "\"\"\"\n",
    "L = sentence.split()\n",
    "\n",
    "#keep track of it with my_dic\n",
    "my_dic = {}\n",
    "\n",
    "#looking through the list\n",
    "for word in L:\n",
    "    #count frequency\n",
    "    my_dic[word.lower()] = my_dic.get(word.lower(),0) + 1 # need to use 2 parameter here in 'my_dic.get(word,0)' because python doesn't know value is an integer so need to leverage this because it can pull non existing record for us\n",
    "    # break loop once 1st char occur twice\n",
    "\n",
    "for i,j in my_dic.items():\n",
    "    print (f\"{i}:\\t\\t{j}\")\n"
   ]
  },
  {
   "cell_type": "code",
   "execution_count": 64,
   "id": "bed22b27-392d-414d-a619-ac8ef6e53d7e",
   "metadata": {},
   "outputs": [
    {
     "data": {
      "text/plain": [
       "True"
      ]
     },
     "execution_count": 64,
     "metadata": {},
     "output_type": "execute_result"
    }
   ],
   "source": [
    "word[-1] in vowels"
   ]
  },
  {
   "cell_type": "code",
   "execution_count": 201,
   "id": "29eaf1b2-ff74-48e7-855f-20e247c9c955",
   "metadata": {},
   "outputs": [
    {
     "name": "stdout",
     "output_type": "stream",
     "text": [
      "First word that occur twice in the sentence: 'there'\n",
      "\n",
      "hello:\t\t1\n",
      "there:\t\t2\n",
      "i'm:\t\t1\n",
      "is:\t\t1\n",
      "christian:\t\t1\n",
      "gerone:\t\t1\n",
      "r:\t\t1\n",
      "ona:\t\t1\n"
     ]
    }
   ],
   "source": [
    "from strings import consonants, vowels, space, numbers, special_chars\n",
    "sentence = \"\"\"hello there, I'm is Christian Gerone R. Ona. there\n",
    "Hello there again! I'm 28 years old. I wanna be a professional fulltime IT developer.\n",
    "My hobbies are learning Python, Playing Guitar and studying Music theory.\n",
    "\"\"\"\n",
    "L = sentence.split()\n",
    "\n",
    "#keep track of it with my_dic\n",
    "my_dic = {}\n",
    "\n",
    "#looking through the list\n",
    "for word in L:\n",
    "    #count frequency and store it in dictionary\n",
    "    if word[-1] in vowels or word[-1] in consonants:\n",
    "        my_dic[word.lower()] = my_dic.get(word.lower(),0) + 1 # need to use 2 parameter here in 'my_dic.get(word,0)' because python doesn't know value is an integer so need to leverage this because it can pull non existing record for us\n",
    "        # break loop once 1st char occur twice\n",
    "        \n",
    "        if my_dic[word.lower()] > 1:\n",
    "            print (f\"First word that occur twice in the sentence: '{word}'\")\n",
    "            break\n",
    "        \n",
    "    # condition to look for word that has special character on its end then count frequency and store it in dictionary\n",
    "    if word[-1] in special_chars:\n",
    "        my_dic[word[:-1].lower()] = my_dic.get(word.lower(),0) + 1\n",
    "        # break loop once 1st char occur twice\n",
    "        \n",
    "        if my_dic[word[:-1].lower()] > 1:\n",
    "            print (f\"First word that occur twice in the sentence: '{word}'\")\n",
    "            break\n",
    "        \n",
    "print()\n",
    "\n",
    "for i,j in my_dic.items():\n",
    "    print (f\"{i}:\\t\\t{j}\")\n"
   ]
  },
  {
   "cell_type": "code",
   "execution_count": 229,
   "id": "5d93ccf5-bf3c-4454-96ec-4b5554ed4a10",
   "metadata": {},
   "outputs": [
    {
     "data": {
      "text/plain": [
       "{'hello': 2,\n",
       " 'there': 3,\n",
       " \"i'm\": 2,\n",
       " 'is': 1,\n",
       " 'christian': 1,\n",
       " 'gerone': 1,\n",
       " 'r': 1,\n",
       " 'ona': 1,\n",
       " 'again': 1,\n",
       " 'years': 1,\n",
       " 'old': 1,\n",
       " 'i': 1,\n",
       " 'wanna': 1,\n",
       " 'be': 1,\n",
       " 'a': 1,\n",
       " 'professional': 1,\n",
       " 'fulltime': 1,\n",
       " 'it': 1,\n",
       " 'developer': 1,\n",
       " 'my': 1,\n",
       " 'hobbies': 1,\n",
       " 'are': 1,\n",
       " 'learning': 1,\n",
       " 'python': 1,\n",
       " 'playing': 1,\n",
       " 'guitar': 1,\n",
       " 'and': 1,\n",
       " 'studying': 1,\n",
       " 'music': 1,\n",
       " 'theory': 1}"
      ]
     },
     "execution_count": 229,
     "metadata": {},
     "output_type": "execute_result"
    }
   ],
   "source": [
    "my_dic"
   ]
  },
  {
   "cell_type": "code",
   "execution_count": 239,
   "id": "09767480-3497-41d9-bf5c-07fc295fe724",
   "metadata": {},
   "outputs": [
    {
     "name": "stdout",
     "output_type": "stream",
     "text": [
      "First word that occur twice in the sentence: 'My'\n",
      "\n",
      "hello:\t\t1\n",
      "there:\t\t1\n",
      "my:\t\t2\n",
      "name:\t\t1\n",
      "is:\t\t1\n",
      "christian:\t\t1\n",
      "gerone:\t\t1\n",
      "r:\t\t1\n",
      "ona:\t\t1\n",
      "i'm:\t\t1\n",
      "years:\t\t1\n",
      "old:\t\t1\n",
      "i:\t\t1\n",
      "wanna:\t\t1\n",
      "be:\t\t1\n",
      "a:\t\t1\n",
      "professional:\t\t1\n",
      "fulltime:\t\t1\n",
      "it:\t\t1\n",
      "developer:\t\t1\n"
     ]
    }
   ],
   "source": [
    "from strings import consonants, vowels, space, numbers, special_chars\n",
    "sentence = \"\"\"Hello there, my name is Christian Gerone R. Ona.\n",
    "I'm 28 years old. I wanna be a professional fulltime IT developer.\n",
    "My hobbies are learning Python, Playing Guitar and studying Music theory.\n",
    "\"\"\"\n",
    "L = sentence.split()\n",
    "\n",
    "#keep track of it with my_dic\n",
    "my_dic = {}\n",
    "\n",
    "#looking through the list\n",
    "for word in L:\n",
    "    #count frequency and store it in dictionary\n",
    "    if word[-1] in vowels or word[-1] in consonants:\n",
    "        my_dic[word.lower()] = my_dic.get(word.lower(),0) + 1 # need to use 2 parameter here in 'my_dic.get(word.lower(),0)' because python doesn't know value is an integer so need to leverage this because it can pull non existing record for us\n",
    "        # break loop once 1st char occur twice\n",
    "        if my_dic[word.lower()] > 1:\n",
    "            print (f\"First word that occur twice in the sentence: '{word}'\")\n",
    "            break\n",
    "        \n",
    "    # condition to look for word that has special character on its end then count frequency and store it in dictionary\n",
    "    if word[-1] in special_chars:\n",
    "        my_dic[word[:-1].lower()] = my_dic.get(word.lower(),0) + 1\n",
    "        # break loop once 1st char occur twice\n",
    "        if my_dic[word[:-1].lower()] > 1:\n",
    "            print (f\"First word that occur twice in the sentence: '{word}'\")\n",
    "            break\n",
    "        \n",
    "print()\n",
    "\n",
    "for i,j in my_dic.items():\n",
    "    print (f\"{i}:\\t\\t{j}\")\n"
   ]
  },
  {
   "cell_type": "code",
   "execution_count": 56,
   "id": "8e5f688b-08a2-43cf-a1a8-866c1acff357",
   "metadata": {},
   "outputs": [
    {
     "name": "stdout",
     "output_type": "stream",
     "text": [
      "15000\n",
      "{'brand': 'Ford', 'model': 'Mustang', 'year': 1964}\n"
     ]
    }
   ],
   "source": [
    "car = {\n",
    "  \"brand\": \"Ford\",\n",
    "  \"model\": \"Mustang\",\n",
    "  \"year\": 1964\n",
    "}\n",
    "\n",
    "x = car.get(\"price\", 15000) # can output this even it's not existing\n",
    "\n",
    "print(x)\n",
    "print(car)"
   ]
  },
  {
   "cell_type": "code",
   "execution_count": 264,
   "id": "3a7bfb27-1b62-4d5d-8ef1-38cc215d68ec",
   "metadata": {},
   "outputs": [
    {
     "name": "stdout",
     "output_type": "stream",
     "text": [
      "None\n",
      "{'brand': 'Ford', 'model': 'Mustang', 'year': 1964, 'color': 'black'}\n",
      "\n",
      "brand:\tFord\n",
      "model:\tMustang\n",
      "year:\t1964\n",
      "color:\tblack\n",
      "\n",
      "brand:\tFord\n",
      "model:\tMustang\n",
      "year:\t1964\n",
      "color:\tblack\n",
      "\n",
      "brand:\tFord\n",
      "model:\tMustang\n",
      "year:\t1964\n",
      "color:\tblack\n"
     ]
    }
   ],
   "source": [
    "car = {\n",
    "  \"brand\": \"Ford\",\n",
    "  \"model\": \"Mustang\",\n",
    "  \"year\": 1964\n",
    "}\n",
    "\n",
    "car[\"color\"] = \"black\"\n",
    "x = car.get(\"color\",\"grey\") # this will not show up as grey because it's already declared as black this is only if it's not existing it will not error out\n",
    "\n",
    "print(x)\n",
    "print(car)\n",
    "print()\n",
    "for key in car:\n",
    "\tprint(f\"{key}:\\t{car[key]}\")\n",
    "print()\n",
    "for key,value in car.items():\n",
    "\tprint(f\"{key}:\\t{value}\")\n",
    "print()\n",
    "for key in car:\n",
    "    value = car[key]\n",
    "    print(f\"{key}:\\t{value}\")"
   ]
  },
  {
   "cell_type": "code",
   "execution_count": 265,
   "id": "549cd7a9-500c-45d4-a316-39e8d57f1779",
   "metadata": {},
   "outputs": [],
   "source": [
    "del car['brand']"
   ]
  },
  {
   "cell_type": "code",
   "execution_count": 287,
   "id": "496c8877-f40d-4916-8e86-c539fb3ab893",
   "metadata": {},
   "outputs": [
    {
     "data": {
      "text/plain": [
       "{'model': 'Mustang', 'year': 1964, 'color': 'black'}"
      ]
     },
     "execution_count": 287,
     "metadata": {},
     "output_type": "execute_result"
    }
   ],
   "source": [
    "car"
   ]
  },
  {
   "cell_type": "markdown",
   "id": "d494f038-b106-4b24-8708-a976eaf0d83f",
   "metadata": {},
   "source": [
    "Use a set to find the unique values of the list below:"
   ]
  },
  {
   "cell_type": "code",
   "execution_count": 268,
   "id": "16c83d72-36f5-472c-8402-9b53c948f125",
   "metadata": {},
   "outputs": [
    {
     "name": "stdout",
     "output_type": "stream",
     "text": [
      "{1: 1, 2: 3, 33: 1, 4: 2, 11: 1, 22: 1, 3: 2}\n",
      "\n",
      "Method 1: Unique Values in the list are below:\n",
      "1 : 1 instance only\n",
      "33 : 1 instance only\n",
      "11 : 1 instance only\n",
      "22 : 1 instance only\n",
      "\n",
      "Method 2: Unique Values in the list are below:\n",
      "1 : 1 instance only\n",
      "33 : 1 instance only\n",
      "11 : 1 instance only\n",
      "22 : 1 instance only\n"
     ]
    }
   ],
   "source": [
    "list5 = [1,2,2,33,4,4,11,22,3,3,2]\n",
    "\n",
    "dic = {}\n",
    "for key in list5:\n",
    "    dic[key] = dic.get(key,0)+1\n",
    "print(dic)    \n",
    "#dic = {}\n",
    "\n",
    "print('\\nMethod 1: Unique Values in the list are below:')\n",
    "for key in dic:\n",
    "    value = dic[key]\n",
    "    if value == 1:\n",
    "        print(f\"{key} : {value} instance only\")\n",
    "\n",
    "print('\\nMethod 2: Unique Values in the list are below:')\n",
    "for key,value in dic.items():\n",
    "    if value == 1:\n",
    "        print(f\"{key} : {value} instance only\")"
   ]
  },
  {
   "cell_type": "code",
   "execution_count": 272,
   "id": "36736da7-65fb-4447-af79-8323277d5f9f",
   "metadata": {},
   "outputs": [
    {
     "name": "stdout",
     "output_type": "stream",
     "text": [
      "[(1, 1), (2, 3), (3, 2), (4, 2), (11, 1), (22, 1), (33, 1)]\n",
      "[1, 2, 3, 4, 11, 22, 33]\n",
      "[1, 1, 1, 1, 2, 2, 3]\n"
     ]
    }
   ],
   "source": [
    "print(sorted(dic.items(),reverse=False))\n",
    "print(sorted(dic.keys(),reverse=False))\n",
    "print(sorted(dic.values(),reverse=False))"
   ]
  },
  {
   "cell_type": "code",
   "execution_count": 276,
   "id": "b3520701-f821-4ab7-89c1-e389ffff9275",
   "metadata": {},
   "outputs": [
    {
     "name": "stdout",
     "output_type": "stream",
     "text": [
      "input something: hello hello hello\n"
     ]
    },
    {
     "name": "stdout",
     "output_type": "stream",
     "text": [
      "hello hello hello\n"
     ]
    }
   ],
   "source": [
    "a = input('input something:')\n",
    "print (a)"
   ]
  },
  {
   "cell_type": "code",
   "execution_count": 278,
   "id": "792cb1b1-2a51-47a3-9935-0b96d0264dd7",
   "metadata": {},
   "outputs": [
    {
     "data": {
      "text/plain": [
       "'hello hello hello'"
      ]
     },
     "execution_count": 278,
     "metadata": {},
     "output_type": "execute_result"
    }
   ],
   "source": [
    "a"
   ]
  },
  {
   "cell_type": "code",
   "execution_count": 283,
   "id": "4e7e5287-0ea2-4ba8-8c2b-881f1413529b",
   "metadata": {},
   "outputs": [
    {
     "data": {
      "text/plain": [
       "[1, 2, 3, 4, 5, 6, 7, 8, 9, 10]"
      ]
     },
     "execution_count": 283,
     "metadata": {},
     "output_type": "execute_result"
    }
   ],
   "source": [
    "L = [x for x in range(1,11)]\n",
    "L"
   ]
  },
  {
   "cell_type": "markdown",
   "id": "bb9a58a0-e6ab-4a96-b9e8-4576158ff138",
   "metadata": {},
   "source": [
    "# For loop lesson"
   ]
  },
  {
   "cell_type": "code",
   "execution_count": 293,
   "id": "e2143ea8-f7d1-488f-8fbc-fbb4c50bff76",
   "metadata": {},
   "outputs": [
    {
     "name": "stdout",
     "output_type": "stream",
     "text": [
      "model: Mustang\n",
      "year: 1964\n",
      "color: black\n"
     ]
    }
   ],
   "source": [
    "for i in car:\n",
    "    print(f'{i}: {car[i]}')"
   ]
  },
  {
   "cell_type": "code",
   "execution_count": 306,
   "id": "81b58e4b-e3a2-474e-8116-a622178ce351",
   "metadata": {},
   "outputs": [
    {
     "name": "stdout",
     "output_type": "stream",
     "text": [
      "g\n",
      "e\n",
      "r\n"
     ]
    }
   ],
   "source": [
    "string = 'gerone'\n",
    "\n",
    "for i in string:\n",
    "    if i == 'o':\n",
    "        break #breaks out of the closest enclosing loop\n",
    "    print(i)"
   ]
  },
  {
   "cell_type": "code",
   "execution_count": 304,
   "id": "14e3d807-759f-4cb2-ad04-0aef2a1cd8b4",
   "metadata": {},
   "outputs": [
    {
     "name": "stdout",
     "output_type": "stream",
     "text": [
      "g\n",
      "e\n",
      "r\n",
      "n\n",
      "e\n"
     ]
    }
   ],
   "source": [
    "string = 'gerone'\n",
    "\n",
    "for i in string:\n",
    "    if i == 'o':\n",
    "        continue #goes to the top of the closest enclosing loop\n",
    "    print(i)"
   ]
  },
  {
   "cell_type": "code",
   "execution_count": 305,
   "id": "1012bc4e-37c7-4179-9f57-067c84e9d03e",
   "metadata": {},
   "outputs": [
    {
     "name": "stdout",
     "output_type": "stream",
     "text": [
      "g\n",
      "e\n",
      "r\n",
      "o\n",
      "n\n",
      "e\n"
     ]
    }
   ],
   "source": [
    "string = 'gerone'\n",
    "\n",
    "for i in string:\n",
    "    if i == 'o':\n",
    "        pass # does nothing at all\n",
    "    print(i)"
   ]
  },
  {
   "cell_type": "code",
   "execution_count": 309,
   "id": "d7dccd34-5d61-415d-b29c-564d6cb4bbd6",
   "metadata": {},
   "outputs": [
    {
     "name": "stdout",
     "output_type": "stream",
     "text": [
      "g\n",
      "e\n",
      "r\n",
      "n\n",
      "e\n"
     ]
    }
   ],
   "source": [
    "string = 'gerone'\n",
    "\n",
    "for i in string:\n",
    "    if i == 'o':\n",
    "        pass\n",
    "    else:\n",
    "        print(i)"
   ]
  },
  {
   "cell_type": "markdown",
   "id": "f56ee3c8-1fbc-43f4-8035-2054282c6d8e",
   "metadata": {},
   "source": [
    "# Useful operators"
   ]
  },
  {
   "cell_type": "markdown",
   "id": "70d2f575-5242-4515-afa1-609d5402c99f",
   "metadata": {},
   "source": [
    "#### convert range function into array"
   ]
  },
  {
   "cell_type": "code",
   "execution_count": 315,
   "id": "969e53bc-953d-4221-9474-e7fa86811e15",
   "metadata": {},
   "outputs": [
    {
     "data": {
      "text/plain": [
       "[1, 2, 3, 4, 5, 6, 7, 8, 9, 10]"
      ]
     },
     "execution_count": 315,
     "metadata": {},
     "output_type": "execute_result"
    }
   ],
   "source": [
    "list(range(1,11))"
   ]
  },
  {
   "cell_type": "code",
   "execution_count": 314,
   "id": "ae30837b-6a77-43b8-9b77-33e21744a71e",
   "metadata": {},
   "outputs": [
    {
     "data": {
      "text/plain": [
       "[1, 3, 5, 7, 9, 11]"
      ]
     },
     "execution_count": 314,
     "metadata": {},
     "output_type": "execute_result"
    }
   ],
   "source": [
    "list(range(1,12,2))"
   ]
  },
  {
   "cell_type": "code",
   "execution_count": 316,
   "id": "2f9d5c6c-d051-4090-a743-a0bfce97ec05",
   "metadata": {},
   "outputs": [
    {
     "data": {
      "text/plain": [
       "(1, 2, 3, 4, 5, 6, 7, 8, 9, 10)"
      ]
     },
     "execution_count": 316,
     "metadata": {},
     "output_type": "execute_result"
    }
   ],
   "source": [
    "tuple(range(1,11))"
   ]
  },
  {
   "cell_type": "markdown",
   "id": "ea149aeb-8227-44ad-9d51-3f8e76dfb4c7",
   "metadata": {},
   "source": [
    "### Enumeration"
   ]
  },
  {
   "cell_type": "code",
   "execution_count": 321,
   "id": "74dfd3bc-f5bc-49b0-8ee9-54bdb9e0d580",
   "metadata": {},
   "outputs": [
    {
     "name": "stdout",
     "output_type": "stream",
     "text": [
      "Letter 'a' is positioned at index: 0\n",
      "Letter 'b' is positioned at index: 1\n",
      "Letter 'c' is positioned at index: 2\n",
      "Letter 'd' is positioned at index: 3\n",
      "Letter 'e' is positioned at index: 4\n"
     ]
    }
   ],
   "source": [
    "index_count = 0\n",
    "\n",
    "for i in 'abcde':\n",
    "    print (\"Letter '{1}' is positioned at index: {0}\".format(index_count,i))\n",
    "    index_count += 1"
   ]
  },
  {
   "cell_type": "code",
   "execution_count": 323,
   "id": "e4f7a768-cd23-4c54-8a67-f4e93296ffed",
   "metadata": {},
   "outputs": [
    {
     "name": "stdout",
     "output_type": "stream",
     "text": [
      "a\n",
      "b\n",
      "c\n",
      "d\n",
      "e\n"
     ]
    }
   ],
   "source": [
    "index_count = 0\n",
    "word = 'abcde'\n",
    "\n",
    "for i in word:\n",
    "    print (word[index_count])\n",
    "    index_count += 1"
   ]
  },
  {
   "cell_type": "code",
   "execution_count": 334,
   "id": "ae9691cd-df7a-4e07-8f3b-8c3626892181",
   "metadata": {},
   "outputs": [
    {
     "name": "stdout",
     "output_type": "stream",
     "text": [
      "(0, 'a')\n",
      "(1, 'b')\n",
      "(2, 'c')\n",
      "(3, 'd')\n",
      "(4, 'e')\n"
     ]
    }
   ],
   "source": [
    "# to efficiently replicate above using enumeration\n",
    "\n",
    "word = 'abcde'\n",
    "\n",
    "for i in enumerate(word):\n",
    "    print (i)"
   ]
  },
  {
   "cell_type": "code",
   "execution_count": 335,
   "id": "0bc750c4-70da-4b0a-91b9-4a35e5c1f7dc",
   "metadata": {},
   "outputs": [
    {
     "name": "stdout",
     "output_type": "stream",
     "text": [
      "0\n",
      "a\n",
      "\n",
      "1\n",
      "b\n",
      "\n",
      "2\n",
      "c\n",
      "\n",
      "3\n",
      "d\n",
      "\n",
      "4\n",
      "e\n",
      "\n"
     ]
    }
   ],
   "source": [
    "for i,j in enumerate(word):\n",
    "    print(i)\n",
    "    print(j+'\\n')"
   ]
  },
  {
   "cell_type": "code",
   "execution_count": 326,
   "id": "e89fb22d-5961-4996-8d3c-af1fe1ae80b3",
   "metadata": {},
   "outputs": [
    {
     "data": {
      "text/plain": [
       "[(0, 'a'), (1, 'b'), (2, 'c'), (3, 'd'), (4, 'e')]"
      ]
     },
     "execution_count": 326,
     "metadata": {},
     "output_type": "execute_result"
    }
   ],
   "source": [
    "list(enumerate(word))"
   ]
  },
  {
   "cell_type": "code",
   "execution_count": 331,
   "id": "f5902d0c-3f22-498d-9b95-f3aa1ba531d8",
   "metadata": {},
   "outputs": [
    {
     "name": "stdout",
     "output_type": "stream",
     "text": [
      "Index#:0 | Char:'a'\n",
      "Index#:1 | Char:'b'\n",
      "Index#:2 | Char:'c'\n",
      "Index#:3 | Char:'d'\n",
      "Index#:4 | Char:'e'\n"
     ]
    }
   ],
   "source": [
    "t_enum = list(enumerate(word))\n",
    "\n",
    "for i,j in t_enum:\n",
    "    print(f\"Index#:{i} | Char:'{j}'\")"
   ]
  },
  {
   "cell_type": "markdown",
   "id": "e592de58-51f1-42c7-a530-044d92157233",
   "metadata": {},
   "source": [
    "## Zip"
   ]
  },
  {
   "cell_type": "code",
   "execution_count": 336,
   "id": "d4172dd3-a1df-4455-acae-063a6f9c3a63",
   "metadata": {},
   "outputs": [],
   "source": [
    "mylist1 = ['Hi,',\"I'm\",'Gerone','Ona.']"
   ]
  },
  {
   "cell_type": "code",
   "execution_count": 339,
   "id": "80c7270e-6b68-4cc9-8e6c-617dbe7725cd",
   "metadata": {},
   "outputs": [
    {
     "name": "stdout",
     "output_type": "stream",
     "text": [
      "Hi, I'm Gerone Ona.\n"
     ]
    }
   ],
   "source": [
    "print(*mylist1)"
   ]
  },
  {
   "cell_type": "code",
   "execution_count": 346,
   "id": "faaf2c43-1cb0-487a-82e2-274ebb7edee9",
   "metadata": {},
   "outputs": [
    {
     "data": {
      "text/plain": [
       "\"Hi, I'm Gerone Ona.\""
      ]
     },
     "execution_count": 346,
     "metadata": {},
     "output_type": "execute_result"
    }
   ],
   "source": [
    "' '.join(mylist1)"
   ]
  },
  {
   "cell_type": "markdown",
   "id": "c1c8daa4-a539-432e-8358-e63787cf4997",
   "metadata": {},
   "source": [
    "#### Zip proper"
   ]
  },
  {
   "cell_type": "code",
   "execution_count": 362,
   "id": "fffad52d-2b28-4732-88d7-05af863de584",
   "metadata": {},
   "outputs": [],
   "source": [
    "mylist1 = [1,2,3,4]\n",
    "mylist2 = ['a','b','c','d']\n",
    "mylist3 = ['i','ii','iii','iv']\n",
    "mylist4 = ['uno','dos','tres','kwatro']"
   ]
  },
  {
   "cell_type": "code",
   "execution_count": 358,
   "id": "282988dd-9447-4b37-b9d8-fbcf899bc2be",
   "metadata": {},
   "outputs": [
    {
     "data": {
      "text/plain": [
       "<zip at 0x2209814a780>"
      ]
     },
     "execution_count": 358,
     "metadata": {},
     "output_type": "execute_result"
    }
   ],
   "source": [
    "zip(mylist1,mylist2)"
   ]
  },
  {
   "cell_type": "code",
   "execution_count": 363,
   "id": "6f4a7d5c-ff06-488a-a879-138f0444ba37",
   "metadata": {},
   "outputs": [
    {
     "data": {
      "text/plain": [
       "[(1, 'a'), (2, 'b'), (3, 'c'), (4, 'd')]"
      ]
     },
     "execution_count": 363,
     "metadata": {},
     "output_type": "execute_result"
    }
   ],
   "source": [
    "list(zip(mylist1,mylist2))"
   ]
  },
  {
   "cell_type": "code",
   "execution_count": 364,
   "id": "9a703e59-ff40-417d-bc18-5179713b100d",
   "metadata": {},
   "outputs": [
    {
     "data": {
      "text/plain": [
       "[(1, 'a', 'i'), (2, 'b', 'ii'), (3, 'c', 'iii'), (4, 'd', 'iv')]"
      ]
     },
     "execution_count": 364,
     "metadata": {},
     "output_type": "execute_result"
    }
   ],
   "source": [
    "list(zip(mylist1,mylist2,mylist3))"
   ]
  },
  {
   "cell_type": "code",
   "execution_count": 377,
   "id": "c96adea7-5245-4013-8a0f-f472d7c2e3c0",
   "metadata": {},
   "outputs": [
    {
     "name": "stdout",
     "output_type": "stream",
     "text": [
      "|\tmylist1:1\t|\tmylist2:a\t|\tmylist3:i\t|\n",
      "|\tmylist1:2\t|\tmylist2:b\t|\tmylist3:ii\t|\n",
      "|\tmylist1:3\t|\tmylist2:c\t|\tmylist3:iii\t|\n",
      "|\tmylist1:4\t|\tmylist2:d\t|\tmylist3:iv\t|\n"
     ]
    }
   ],
   "source": [
    "for i,j,k in list(zip(mylist1,mylist2,mylist3)):\n",
    "    print(f'|\\tmylist1:{i}\\t|\\tmylist2:{j}\\t|\\tmylist3:{k}\\t|')"
   ]
  },
  {
   "cell_type": "code",
   "execution_count": 375,
   "id": "322ec65f-157e-4b5b-810b-7149fe0018a6",
   "metadata": {},
   "outputs": [
    {
     "name": "stdout",
     "output_type": "stream",
     "text": [
      "|\tmylist1:1\t|\tmylist2:a\t|\tmylist3:i\t|\tmylist4:uno\t|\n",
      "|\tmylist1:2\t|\tmylist2:b\t|\tmylist3:ii\t|\tmylist4:dos\t|\n",
      "|\tmylist1:3\t|\tmylist2:c\t|\tmylist3:iii\t|\tmylist4:tres\t|\n",
      "|\tmylist1:4\t|\tmylist2:d\t|\tmylist3:iv\t|\tmylist4:kwatro\t|\n"
     ]
    }
   ],
   "source": [
    "for i,j,k,l in list(zip(mylist1,mylist2,mylist3,mylist4)):\n",
    "    print(f'|\\tmylist1:{i}\\t|\\tmylist2:{j}\\t|\\tmylist3:{k}\\t|\\tmylist4:{l}\\t|')"
   ]
  },
  {
   "cell_type": "markdown",
   "id": "0dc1bd0c-f691-418f-8439-cd49b306dfc8",
   "metadata": {},
   "source": [
    "## 'In' keyword"
   ]
  },
  {
   "cell_type": "code",
   "execution_count": 378,
   "id": "f7d795ba-370b-4bbd-8f19-6de8ac9e2487",
   "metadata": {},
   "outputs": [
    {
     "data": {
      "text/plain": [
       "True"
      ]
     },
     "execution_count": 378,
     "metadata": {},
     "output_type": "execute_result"
    }
   ],
   "source": [
    "'a' in 'hello worlda'"
   ]
  },
  {
   "cell_type": "code",
   "execution_count": 379,
   "id": "78928448-b39f-4074-80a3-16e4981c0967",
   "metadata": {},
   "outputs": [
    {
     "data": {
      "text/plain": [
       "True"
      ]
     },
     "execution_count": 379,
     "metadata": {},
     "output_type": "execute_result"
    }
   ],
   "source": [
    "# using dictionary\n",
    "'key1' in {'key1':1234,'key2':5678}"
   ]
  },
  {
   "cell_type": "code",
   "execution_count": 381,
   "id": "12214991-e01e-4ff3-b923-e98eedf6919d",
   "metadata": {},
   "outputs": [
    {
     "data": {
      "text/plain": [
       "True"
      ]
     },
     "execution_count": 381,
     "metadata": {},
     "output_type": "execute_result"
    }
   ],
   "source": [
    "d = {'key1':1234,'key2':5678}\n",
    "\n",
    "5678 in d.values()"
   ]
  },
  {
   "cell_type": "markdown",
   "id": "c83c590d-df13-4f25-b307-8dff51d8f6f7",
   "metadata": {},
   "source": [
    "## Min Max function"
   ]
  },
  {
   "cell_type": "code",
   "execution_count": 398,
   "id": "13851310-ae12-45c1-a05f-857fed94de34",
   "metadata": {},
   "outputs": [],
   "source": [
    "L = [10,20,30,40,100]"
   ]
  },
  {
   "cell_type": "code",
   "execution_count": 384,
   "id": "ea2aefb4-6eda-4b8a-889d-ce920001b091",
   "metadata": {},
   "outputs": [
    {
     "data": {
      "text/plain": [
       "10"
      ]
     },
     "execution_count": 384,
     "metadata": {},
     "output_type": "execute_result"
    }
   ],
   "source": [
    "min(L)"
   ]
  },
  {
   "cell_type": "code",
   "execution_count": 385,
   "id": "67546f69-9af8-4602-a8f3-d30264c6f9c7",
   "metadata": {},
   "outputs": [
    {
     "data": {
      "text/plain": [
       "100"
      ]
     },
     "execution_count": 385,
     "metadata": {},
     "output_type": "execute_result"
    }
   ],
   "source": [
    "max(L)"
   ]
  },
  {
   "cell_type": "code",
   "execution_count": 393,
   "id": "588ea058-83ff-4e4b-9bf8-0c2342360fc2",
   "metadata": {},
   "outputs": [
    {
     "name": "stdout",
     "output_type": "stream",
     "text": [
      "MAX Value inside the Dictionary: 5678\n",
      "MIN Key inside the Dictionary: key1\n"
     ]
    }
   ],
   "source": [
    "d = {'key1':1234,'key2':5678}\n",
    "print(f'MAX Value inside the Dictionary: {max(d.values())}')\n",
    "print(f'MIN Key inside the Dictionary: {min(d.keys())}')"
   ]
  },
  {
   "cell_type": "markdown",
   "id": "acd19188-87bd-45a7-af7d-51c355e9fea7",
   "metadata": {},
   "source": [
    "## Random"
   ]
  },
  {
   "cell_type": "code",
   "execution_count": 422,
   "id": "9172ffba-17dc-46e0-a970-1d96bf5c6c01",
   "metadata": {},
   "outputs": [],
   "source": [
    "from random import shuffle"
   ]
  },
  {
   "cell_type": "code",
   "execution_count": 421,
   "id": "701e780a-6c5e-414f-a577-0c26e8db3c16",
   "metadata": {},
   "outputs": [
    {
     "data": {
      "text/plain": [
       "[20, 100, 30, 40, 10]"
      ]
     },
     "execution_count": 421,
     "metadata": {},
     "output_type": "execute_result"
    }
   ],
   "source": [
    "shuffle(L) # no need to pass in a variable to take effect\n",
    "L"
   ]
  },
  {
   "cell_type": "code",
   "execution_count": 420,
   "id": "bbb6fe89-2236-4676-9be0-3becffe4bfb9",
   "metadata": {},
   "outputs": [
    {
     "name": "stdout",
     "output_type": "stream",
     "text": [
      "[10, 20, 30, 40, 100]\n",
      "[100, 40, 30, 20, 10]\n"
     ]
    }
   ],
   "source": [
    "L = sorted(L,reverse=False) # need to pass in a variable to take effect\n",
    "print(L)\n",
    "L.sort(reverse=True) # no need to pass in a variable to take effect\n",
    "print(L)"
   ]
  },
  {
   "cell_type": "code",
   "execution_count": 438,
   "id": "63e69e5e-6cce-4981-abb6-0d18a087a395",
   "metadata": {},
   "outputs": [
    {
     "data": {
      "text/plain": [
       "1"
      ]
     },
     "execution_count": 438,
     "metadata": {},
     "output_type": "execute_result"
    }
   ],
   "source": [
    "from random import randint, random, randrange\n",
    "randint(1,11)"
   ]
  },
  {
   "cell_type": "markdown",
   "id": "766805b8-cb5d-4e63-ae20-3282c66417c1",
   "metadata": {},
   "source": [
    "# Leetcode Challenge Practice"
   ]
  },
  {
   "cell_type": "code",
   "execution_count": 455,
   "id": "e68b8300-566f-4bf7-9282-f6b87778e179",
   "metadata": {},
   "outputs": [
    {
     "data": {
      "text/plain": [
       "99"
      ]
     },
     "execution_count": 455,
     "metadata": {},
     "output_type": "execute_result"
    }
   ],
   "source": [
    "def return_2nd_largest_value(L,K):\n",
    "#L = [1,3,4,2,6,5]\n",
    "    L.sort()\n",
    "#K = 2\n",
    "    return L[K*-1]\n",
    "return_2nd_largest_value(L=[4,6,5,7,8,3,4,9,11,99,121],K=2)    "
   ]
  },
  {
   "cell_type": "code",
   "execution_count": 459,
   "id": "c5367fc6-08b6-4cfc-9b69-bc63507f3982",
   "metadata": {},
   "outputs": [],
   "source": [
    "def majority_array(L):\n",
    "    new_L = []\n",
    "    dic = {}\n",
    "    for i in L:\n",
    "        #for tracking in dictionary\n",
    "        dic[i] = dic.get(i,0)+1\n",
    "    for i,j in dic.items():\n",
    "        #reverse dictionary and convert into tupple\n",
    "        new_L.append(tuple(f'{j}{i}'))\n",
    "    #reverse sort the tupple\n",
    "    new_L.sort(reverse=True)\n",
    "    #return the correct majority array\n",
    "    return int(new_L[0][1])\n",
    "\n",
    "def majority_array_v2(L):\n",
    "    new_L = []\n",
    "    dic = {}\n",
    "    for i in L:\n",
    "        #for tracking in dictionary\n",
    "        dic[i] = dic.get(i,0)+1\n",
    "    for i in sorted(dic.items()):\n",
    "        new_L.append(tuple(i[::-1]))\n",
    "    new_L.sort(reverse=True)\n",
    "    print(dic)\n",
    "    return int(new_L[0][1])\n",
    "\n",
    "def majority_array_v3(L):\n",
    "    new_L = []\n",
    "    dic = {}\n",
    "    for i in L:\n",
    "        #for tracking in dictionary\n",
    "        dic[i] = dic.get(i,0)+1\n",
    "    for i in dic.items():\n",
    "        new_L.append(tuple(i[::-1]))\n",
    "    new_L.sort(reverse=True)\n",
    "    print(dic)\n",
    "    return int(new_L[0][1])"
   ]
  },
  {
   "cell_type": "code",
   "execution_count": 464,
   "id": "e815f12e-3ab9-45d0-a43e-ab7df7b70bb2",
   "metadata": {},
   "outputs": [
    {
     "name": "stdout",
     "output_type": "stream",
     "text": [
      "{69: 14, 2: 1, 4: 2, 5: 3, 6: 4, 7: 16, 8: 5, 3: 2, 9: 1, 12: 1, 11: 4}\n"
     ]
    },
    {
     "data": {
      "text/plain": [
       "7"
      ]
     },
     "execution_count": 464,
     "metadata": {},
     "output_type": "execute_result"
    }
   ],
   "source": [
    "majority_array_v3([69,2,4,5,6,69,69,69,7,8,6,5,7,8,8,8,5,3,3,4,6,8,9,6,12,7,7,7,7,7,7,7,7,7,7,7,7,7,7,11,11,11,11,69,69,69,69,69,69,69,69,69,69])"
   ]
  },
  {
   "cell_type": "code",
   "execution_count": 476,
   "id": "5385dc98-78e6-4475-8ccc-a65e8dd0a0c9",
   "metadata": {},
   "outputs": [
    {
     "data": {
      "text/plain": [
       "{2: 1, 4: 2, 5: 3, 6: 4, 69: 13, 7: 16, 8: 5, 3: 2, 9: 1, 12: 1, 11: 4}"
      ]
     },
     "execution_count": 476,
     "metadata": {},
     "output_type": "execute_result"
    }
   ],
   "source": [
    "dic = {}\n",
    "L = [2,4,5,6,69,69,69,7,8,6,5,7,8,8,8,5,3,3,4,6,8,9,6,12,7,7,7,7,7,7,7,7,7,7,7,7,7,7,11,11,11,11,69,69,69,69,69,69,69,69,69,69]\n",
    "for i in L:\n",
    "    #for tracking in dictionary\n",
    "    dic[i] = dic.get(i,0)+1\n",
    "dic"
   ]
  },
  {
   "cell_type": "code",
   "execution_count": 481,
   "id": "81d8a0b7-0b2a-487a-8bc5-fd733bbfd09a",
   "metadata": {},
   "outputs": [
    {
     "data": {
      "text/plain": [
       "(69, 13)"
      ]
     },
     "execution_count": 481,
     "metadata": {},
     "output_type": "execute_result"
    }
   ],
   "source": [
    "max(dic.items())"
   ]
  },
  {
   "cell_type": "code",
   "execution_count": 534,
   "id": "c08b7762-7089-426c-a85a-f1744755c02b",
   "metadata": {},
   "outputs": [],
   "source": [
    "#v1 working baby\n",
    "#output [\"ad\",\"ae\",\"af\",\"bd\",\"be\",\"bf\",\"cd\",\"ce\",\"cf\"] if 2digits are '23'\n",
    "def meta_lcom():\n",
    "    n,o,L=0,0,[]\n",
    "\n",
    "    digit = input('Input 2 digits: ')\n",
    "\n",
    "    if digit[0] == '2':\n",
    "        d1='abc'\n",
    "    if digit[0] == '3':\n",
    "        d1='def'\n",
    "    if digit[0] == '4':\n",
    "        d1='ghi'\n",
    "    if digit[0] == '5':\n",
    "        d1='jkl'\n",
    "    if digit[0] == '6':\n",
    "        d1='mno'\n",
    "    if digit[0] == '7':\n",
    "        d1='pqrs'\n",
    "    if digit[0] == '8':\n",
    "        d1='tuv'\n",
    "    if digit[0] == '9':\n",
    "        d1='wxyz'\n",
    "    if digit[1] == '2':\n",
    "        d2='abc'\n",
    "    if digit[1] == '3':\n",
    "        d2='def'\n",
    "    if digit[1] == '4':\n",
    "        d2='ghi'\n",
    "    if digit[1] == '5':\n",
    "        d2='jkl'\n",
    "    if digit[1] == '6':\n",
    "        d2='mno'\n",
    "    if digit[1] == '7':\n",
    "        d2='pqrs'\n",
    "    if digit[1] == '8':\n",
    "        d2='tuv'\n",
    "    if digit[1] == '9':\n",
    "        d2='wxyz'\n",
    "    if digit[0] == '0' or digit[1] == '0' or digit[0] == '1' or digit[1] == '1':\n",
    "        print('Not a valid number, call the function to try again.\\n')\n",
    "\n",
    "    while True:\n",
    "        pack = zip(d1[o],d2[n])\n",
    "        for i in pack:\n",
    "            L.append(''.join(i))\n",
    "        n+=1\n",
    "        if n==len(d2):\n",
    "            n=0\n",
    "            o+=1\n",
    "            if o==len(d1):\n",
    "                break\n",
    "    return L"
   ]
  },
  {
   "cell_type": "code",
   "execution_count": 535,
   "id": "03d633bd-d9d4-4a93-ad98-def746fddc07",
   "metadata": {
    "scrolled": true
   },
   "outputs": [
    {
     "name": "stdout",
     "output_type": "stream",
     "text": [
      "Input 2 digits:  99\n"
     ]
    },
    {
     "data": {
      "text/plain": [
       "['ww',\n",
       " 'wx',\n",
       " 'wy',\n",
       " 'wz',\n",
       " 'xw',\n",
       " 'xx',\n",
       " 'xy',\n",
       " 'xz',\n",
       " 'yw',\n",
       " 'yx',\n",
       " 'yy',\n",
       " 'yz',\n",
       " 'zw',\n",
       " 'zx',\n",
       " 'zy',\n",
       " 'zz']"
      ]
     },
     "execution_count": 535,
     "metadata": {},
     "output_type": "execute_result"
    }
   ],
   "source": [
    "meta_lcom()"
   ]
  },
  {
   "cell_type": "code",
   "execution_count": 555,
   "id": "8a25fb5c-07d8-4241-a394-b45ad121d4d8",
   "metadata": {},
   "outputs": [
    {
     "name": "stdout",
     "output_type": "stream",
     "text": [
      "Input 2 digits:  79\n"
     ]
    },
    {
     "data": {
      "text/plain": [
       "['pw',\n",
       " 'px',\n",
       " 'py',\n",
       " 'pz',\n",
       " 'qw',\n",
       " 'qx',\n",
       " 'qy',\n",
       " 'qz',\n",
       " 'rw',\n",
       " 'rx',\n",
       " 'ry',\n",
       " 'rz',\n",
       " 'sw',\n",
       " 'sx',\n",
       " 'sy',\n",
       " 'sz']"
      ]
     },
     "execution_count": 555,
     "metadata": {},
     "output_type": "execute_result"
    }
   ],
   "source": [
    "# v2, courtesy of Jaira\n",
    "L = []\n",
    "\n",
    "keypad_dic = {\n",
    "    '2':'abc',\n",
    "    '3':'def',\n",
    "    '4':'ghi',\n",
    "    '5':'jkl',\n",
    "    '6':'mno',\n",
    "    '7':'pqrs',\n",
    "    '8':'tuv',\n",
    "    '9':'wxyz'\n",
    "}\n",
    "\n",
    "digit = input('Input 2 digits: ')\n",
    "\n",
    "d1 = digit[0]\n",
    "d2 = digit[1]\n",
    "\n",
    "for i in keypad_dic[d1]:\n",
    "    #print(i)\n",
    "    for j in keypad_dic[d2]:\n",
    "        L = L + [i+j]\n",
    "L"
   ]
  },
  {
   "cell_type": "markdown",
   "id": "c169beda-07f0-429b-8029-78ca51548937",
   "metadata": {},
   "source": [
    "## Contains Duplicate Challenge"
   ]
  },
  {
   "cell_type": "code",
   "execution_count": 621,
   "id": "72ca332c-6ee2-4e60-94db-9a932b0f84c7",
   "metadata": {},
   "outputs": [
    {
     "name": "stdout",
     "output_type": "stream",
     "text": [
      "False\n"
     ]
    }
   ],
   "source": [
    "# v1\n",
    "Lnums = [1,2,3,4,5,6]\n",
    "dic = {}\n",
    "\n",
    "for i in Lnums:\n",
    "    dic[i] = dic.get(i,0) + 1\n",
    "    \n",
    "sort_D_values = sorted(dic.values())\n",
    "if sort_D_values[-1] != 1:\n",
    "    print(True)\n",
    "else:\n",
    "    print(False)    \n",
    "        "
   ]
  },
  {
   "cell_type": "code",
   "execution_count": 643,
   "id": "82b0a259-23db-4cad-a906-bb25beb45ff9",
   "metadata": {},
   "outputs": [],
   "source": [
    "# v2\n",
    "def contains_dup(Lnums):\n",
    "    dic = {}\n",
    "\n",
    "    for i in Lnums:\n",
    "        dic[i] = dic.get(i,0) + 1\n",
    "\n",
    "    sort_D_values = sorted(dic.values())\n",
    "    if sort_D_values[-1] != 1:\n",
    "        return True\n",
    "    else:\n",
    "        return False        "
   ]
  },
  {
   "cell_type": "code",
   "execution_count": 645,
   "id": "b1dfed30-2556-4a6b-8f2e-2e72f605da09",
   "metadata": {},
   "outputs": [
    {
     "data": {
      "text/plain": [
       "False"
      ]
     },
     "execution_count": 645,
     "metadata": {},
     "output_type": "execute_result"
    }
   ],
   "source": [
    "contains_dup([1,2,3,4,5,6,7,8,9,10,11])"
   ]
  },
  {
   "cell_type": "code",
   "execution_count": 646,
   "id": "33852d9a-ef97-4943-9259-9b7fedb314ef",
   "metadata": {},
   "outputs": [],
   "source": [
    "# v3\n",
    "def contains_dup(Lnums):\n",
    "    dic = {}\n",
    "\n",
    "    for i in Lnums:\n",
    "        dic[i] = dic.get(i,0) + 1\n",
    "    if sorted(dic.values())[-1] != 1:\n",
    "        return True\n",
    "    else:\n",
    "        return False        "
   ]
  },
  {
   "cell_type": "code",
   "execution_count": 652,
   "id": "807e88ec-d1d7-47a4-b999-060aee2eb08f",
   "metadata": {},
   "outputs": [
    {
     "data": {
      "text/plain": [
       "True"
      ]
     },
     "execution_count": 652,
     "metadata": {},
     "output_type": "execute_result"
    }
   ],
   "source": [
    "contains_dup([1,2,3,4,5,6,7,8,9,10,2])"
   ]
  },
  {
   "cell_type": "markdown",
   "id": "599be094-5098-464b-81aa-35c1142725e2",
   "metadata": {},
   "source": [
    "## Replicating heapq method that will indentify 2 largest number in the index"
   ]
  },
  {
   "cell_type": "code",
   "execution_count": 661,
   "id": "c106fa4f-9f25-4323-a37d-be470e2ef0f8",
   "metadata": {},
   "outputs": [
    {
     "name": "stdout",
     "output_type": "stream",
     "text": [
      "[10, 9]\n",
      "9\n"
     ]
    }
   ],
   "source": [
    "#using heapq\n",
    "import heapq\n",
    "L_numbers = [4,9,3,10,6,2,7,1,8]\n",
    "second_largest = heapq.nlargest(2, L_numbers)\n",
    "print(second_largest)\n",
    "print(second_largest[-1])"
   ]
  },
  {
   "cell_type": "code",
   "execution_count": 663,
   "id": "68273a4f-f90f-4642-b143-7de7678e263a",
   "metadata": {},
   "outputs": [
    {
     "name": "stdout",
     "output_type": "stream",
     "text": [
      "[10, 9]\n",
      "9\n"
     ]
    }
   ],
   "source": [
    "#replicating heapq\n",
    "L_numbers = [4,9,3,10,6,2,7,1,8]\n",
    "L_numbers.sort(reverse=True)\n",
    "second_largest = L_numbers[:2]\n",
    "print(second_largest)\n",
    "print(second_largest[-1])"
   ]
  },
  {
   "cell_type": "code",
   "execution_count": 666,
   "id": "794b99fc-25c9-4a4e-876e-6e283067c21c",
   "metadata": {},
   "outputs": [
    {
     "data": {
      "text/plain": [
       "[1, 2, 3, 4, 6, 7, 8, 10, 9]"
      ]
     },
     "execution_count": 666,
     "metadata": {},
     "output_type": "execute_result"
    }
   ],
   "source": [
    "# input [4,9,3,10,6,2,7,1,8]\n",
    "# output [1,2,3,4,6,7,8,10,9]\n",
    "L_numbers = [4,9,3,10,6,2,7,1,8]\n",
    "L_numbers.sort()\n",
    "popped_L_number = L_numbers.pop(-2)\n",
    "L_numbers.append(popped_L_number)\n",
    "L_numbers"
   ]
  },
  {
   "cell_type": "code",
   "execution_count": 671,
   "id": "1f75e59e-43cf-4a39-9b39-98c845c64a33",
   "metadata": {},
   "outputs": [
    {
     "data": {
      "text/plain": [
       "[4, 3, 10, 6, 2, 7, 1, 8, 9]"
      ]
     },
     "execution_count": 671,
     "metadata": {},
     "output_type": "execute_result"
    }
   ],
   "source": [
    "# input [4,9,3,10,6,2,7,1,8]\n",
    "# output [4,3,10,6,2,7,1,8,9]\n",
    "L_numbers = [4,9,3,10,6,2,7,1,8]\n",
    "sorted_Lnums = sorted(L_numbers)\n",
    "popped_sorted_L_number = sorted_Lnums.pop(-2)\n",
    "del L_numbers[L_numbers.index(popped_sorted_L_number)]\n",
    "L_numbers.append(popped_sorted_L_number)\n",
    "L_numbers"
   ]
  },
  {
   "cell_type": "markdown",
   "id": "f286af73-c58c-46a3-b74b-9a9c112287bd",
   "metadata": {},
   "source": [
    "## List Comprehension"
   ]
  },
  {
   "cell_type": "code",
   "execution_count": 690,
   "id": "208bbdbf-c47b-424d-b72a-e94646d55573",
   "metadata": {},
   "outputs": [
    {
     "name": "stdout",
     "output_type": "stream",
     "text": [
      "hello\n",
      "['h', 'e', 'l', 'l', 'o']\n",
      "{'h': 1, 'e': 1, 'l': 2, 'o': 1}\n",
      "['h', 'e', 'l', 'o']\n",
      "helo\n",
      "oleh\n"
     ]
    },
    {
     "data": {
      "text/plain": [
       "['o', 'l', 'e', 'h']"
      ]
     },
     "execution_count": 690,
     "metadata": {},
     "output_type": "execute_result"
    }
   ],
   "source": [
    "mystring = 'hello'\n",
    "L = []\n",
    "\n",
    "print(mystring)\n",
    "for i in mystring:\n",
    "    L.append(i)\n",
    "print (L)\n",
    "\n",
    "D = {}\n",
    "\n",
    "for i in L:\n",
    "    D[i] = D.get(i,0)+1\n",
    "print(D)\n",
    "\n",
    "new_L=[]\n",
    "for i in D.keys():\n",
    "    new_L.append(i)\n",
    "print(new_L)\n",
    "\n",
    "new_mystring = ''.join(new_L)\n",
    "print(new_mystring)\n",
    "print(new_mystring[::-1])\n",
    "\n",
    "mirror_L = []\n",
    "\n",
    "for i in new_mystring[::-1]:\n",
    "    mirror_L.append(i)\n",
    "mirror_L    "
   ]
  },
  {
   "cell_type": "code",
   "execution_count": 744,
   "id": "1e573022-08e4-4d94-ac6b-eb1fc25173e3",
   "metadata": {},
   "outputs": [
    {
     "name": "stdout",
     "output_type": "stream",
     "text": [
      "['h', 'e', 'l', 'l', 'o']\n",
      "['w', 'o', 'r', 'd']\n",
      "[1, 2, 3, 4, 5, 6, 7, 8, 9, 10]\n",
      "[10, 9, 8, 7, 6, 5, 4, 3, 2, 1]\n",
      "[10]\n"
     ]
    },
    {
     "data": {
      "text/plain": [
       "[10]"
      ]
     },
     "execution_count": 744,
     "metadata": {},
     "output_type": "execute_result"
    }
   ],
   "source": [
    "# single line approach | List Comprehension proper\n",
    "mystring = 'hello'\n",
    "L = [i for i in mystring]\n",
    "print(L)\n",
    "L = [x for x in 'word']\n",
    "print(L)\n",
    "L = [x for x in range(1,11)]\n",
    "print(L)\n",
    "L = [x for x in range(10,0,-1)]\n",
    "print(L)\n",
    "str_L = str(L)\n",
    "print(str_L[0:3]+']')\n",
    "new_str_L = []\n",
    "new_str_L += [int(str_L[1:3])]\n",
    "new_str_L"
   ]
  },
  {
   "cell_type": "code",
   "execution_count": 748,
   "id": "0fb9617c-3cd5-48a1-b3df-1a12622c9240",
   "metadata": {},
   "outputs": [
    {
     "name": "stdout",
     "output_type": "stream",
     "text": [
      "[1, 4, 9, 16, 25, 36, 49, 64, 81, 100]\n",
      "[4, 16, 36, 64, 100]\n",
      "[1, 9, 25, 49, 81]\n"
     ]
    }
   ],
   "source": [
    "L = [x**2 for x in range(1,11)] # to get squared version, just adjust the 1st element 'x'\n",
    "print(L)\n",
    "L = [x**2 for x in range(1,11) if x%2 == 0] # to get even number of squared version, just add logic in the end\n",
    "print(L)\n",
    "L = [x**2 for x in range(1,11) if x%2 != 0] # to get odd number of squared version, just add logic in the end\n",
    "print(L)"
   ]
  },
  {
   "cell_type": "code",
   "execution_count": 753,
   "id": "88e6acdd-1f3e-4aec-af9c-9d765e0ac63a",
   "metadata": {},
   "outputs": [
    {
     "name": "stdout",
     "output_type": "stream",
     "text": [
      "[32.0, 50.0, 68.0, 94.1]\n"
     ]
    }
   ],
   "source": [
    "celcius = [0,10,20,34.5] \n",
    "\n",
    "fahrenheit = [(9/5)*temp+32 for temp in celcius]\n",
    "print(fahrenheit)"
   ]
  },
  {
   "cell_type": "code",
   "execution_count": 755,
   "id": "4e31e3c4-1252-4f63-92a3-4dbcedb1d07e",
   "metadata": {},
   "outputs": [
    {
     "data": {
      "text/plain": [
       "[32.0, 50.0, 68.0, 94.1]"
      ]
     },
     "execution_count": 755,
     "metadata": {},
     "output_type": "execute_result"
    }
   ],
   "source": [
    "#break temperature down into normal for loop\n",
    "fahrenheit = []\n",
    "for temp in celcius:\n",
    "    fahrenheit.append((9/5)*temp+32)\n",
    "fahrenheit    "
   ]
  },
  {
   "cell_type": "markdown",
   "id": "8cfe4897-1ba7-4f7b-8fda-9dff2264fe91",
   "metadata": {},
   "source": [
    "### using if else statement in List Comprehension | not recommended due to its hard readability | use at your own risk!"
   ]
  },
  {
   "cell_type": "code",
   "execution_count": 757,
   "id": "ac032044-4183-45c1-a4d1-f22cad1feb40",
   "metadata": {},
   "outputs": [
    {
     "data": {
      "text/plain": [
       "[0, 'ODD', 2, 'ODD', 4, 'ODD', 6, 'ODD', 8, 'ODD', 10]"
      ]
     },
     "execution_count": 757,
     "metadata": {},
     "output_type": "execute_result"
    }
   ],
   "source": [
    "result = [x if x%2==0 else 'ODD' for x in range(0,11)]\n",
    "result"
   ]
  },
  {
   "cell_type": "code",
   "execution_count": 763,
   "id": "8659df08-4312-4de3-9344-65a64c22d3ab",
   "metadata": {},
   "outputs": [
    {
     "name": "stdout",
     "output_type": "stream",
     "text": [
      "2 1\n",
      "2 10\n",
      "2 1000\n",
      "4 1\n",
      "4 10\n",
      "4 1000\n",
      "6 1\n",
      "6 10\n",
      "6 1000\n"
     ]
    },
    {
     "data": {
      "text/plain": [
       "[2, 20, 2000, 4, 40, 4000, 6, 60, 6000]"
      ]
     },
     "execution_count": 763,
     "metadata": {},
     "output_type": "execute_result"
    }
   ],
   "source": [
    "# sample below for nested loop list compehension(before)\n",
    "mylist = []\n",
    "\n",
    "for x in [2,4,6]:\n",
    "    for y in [1,10,1000]:\n",
    "        print(x,y)\n",
    "        mylist.append(x*y)\n",
    "mylist        "
   ]
  },
  {
   "cell_type": "code",
   "execution_count": 764,
   "id": "0d17b711-03d5-4c6f-85a3-5445aa82e939",
   "metadata": {},
   "outputs": [
    {
     "data": {
      "text/plain": [
       "[2, 20, 2000, 4, 40, 4000, 6, 60, 6000]"
      ]
     },
     "execution_count": 764,
     "metadata": {},
     "output_type": "execute_result"
    }
   ],
   "source": [
    "# sample below for nested loop list compehension(after) | sacrifice readability but it's doable\n",
    "mylist = [x*y for x in [2,4,6] for y in [1,10,1000]]   \n",
    "mylist"
   ]
  },
  {
   "cell_type": "code",
   "execution_count": 13,
   "metadata": {},
   "outputs": [],
   "source": [
    "def box(N):\n",
    "    for i in range(1,N+1):\n",
    "        print('*'*N)"
   ]
  },
  {
   "cell_type": "code",
   "execution_count": 14,
   "metadata": {},
   "outputs": [
    {
     "name": "stdout",
     "output_type": "stream",
     "text": [
      "********\n",
      "********\n",
      "********\n",
      "********\n",
      "********\n",
      "********\n",
      "********\n",
      "********\n"
     ]
    }
   ],
   "source": [
    "box(8)"
   ]
  },
  {
   "cell_type": "markdown",
   "metadata": {},
   "source": [
    "## Valid Word\n",
    "\n",
    "A word is considered valid if:\n",
    "\n",
    "- it contains a minimum of 3 characters.\n",
    "- it contains only digits (0-9), and English letters (uppercase and lowercase).\n",
    "- it includes at least one vowel.\n",
    "- it includes at least one consonant.\n",
    "\n",
    "You are given a string word.\n",
    "\n",
    "Return true if word is valid otherwise, return false."
   ]
  },
  {
   "cell_type": "code",
   "execution_count": 170,
   "metadata": {},
   "outputs": [],
   "source": [
    "from strings import consonants, vowels, space, numbers, special_chars, english_letters\n",
    "\n",
    "def valid_word(string):\n",
    "    condition = ['has_1_consonant',\n",
    "    'has_1_lowercase_letter',\n",
    "    'has_1_number',\n",
    "    'has_1_uppercase_letter',\n",
    "    'has_1_vowel',\n",
    "    'is_3_chars']\n",
    "    L = []\n",
    "\n",
    "    if len(string) >= 3:\n",
    "        L.append('is_3_chars')\n",
    "        for i in string:\n",
    "            if i in numbers:\n",
    "                L.append('has_1_number')\n",
    "            elif i in english_letters:\n",
    "                L.append('has_1_lowercase_letter')\n",
    "                valid_lower_ind = True\n",
    "                if i in vowels:\n",
    "                    L.append(\"has_1_vowel\")\n",
    "                if i in consonants:\n",
    "                    L.append(\"has_1_consonant\")\n",
    "            elif i in english_letters.upper():\n",
    "                L.append('has_1_uppercase_letter')\n",
    "                valid_upper_ind = True\n",
    "                if i in vowels:\n",
    "                    L.append(\"has_1_vowel\")\n",
    "                if i in consonants:\n",
    "                    L.append(\"has_1_consonant\")\n",
    "            else:\n",
    "                L.append(\"False\")\n",
    "\n",
    "    if condition == sorted(list(set(L))):\n",
    "        return True\n",
    "    else:\n",
    "        return False\n",
    "            \n"
   ]
  },
  {
   "cell_type": "code",
   "execution_count": 174,
   "metadata": {},
   "outputs": [
    {
     "data": {
      "text/plain": [
       "True"
      ]
     },
     "execution_count": 174,
     "metadata": {},
     "output_type": "execute_result"
    }
   ],
   "source": [
    "valid_word('Gerone9')"
   ]
  },
  {
   "cell_type": "code",
   "execution_count": 169,
   "metadata": {},
   "outputs": [
    {
     "name": "stdout",
     "output_type": "stream",
     "text": [
      "\n",
      "Valid Word\n",
      "\n",
      "\n",
      "\n",
      "A word is considered valid if:\n",
      "\n",
      "\n",
      "\n",
      "- it contains a minimum of 3 characters.\n",
      "\n",
      "- it contains only digits (0-9), and English letters (uppercase and lowercase).\n",
      "\n",
      "- it includes at least one vowel.\n",
      "\n",
      "- it includes at least one consonant.\n",
      "\n",
      "\n",
      "\n",
      "You are given a string word.\n",
      "\n",
      "\n",
      "\n",
      "Return true if word is valid otherwise, return false.\n",
      "\n",
      "\n",
      "\n",
      "function name: \"valid_word\"\n",
      "\n",
      "\n"
     ]
    }
   ],
   "source": [
    "from strings import consonants, vowels, space, numbers, special_chars, english_letters\n",
    "instruction = \"\"\"\n",
    "Valid Word\\n\\n\n",
    "\n",
    "A word is considered valid if:\\n\\n\n",
    "\n",
    "- it contains a minimum of 3 characters.\\n\n",
    "- it contains only digits (0-9), and English letters (uppercase and lowercase).\\n\n",
    "- it includes at least one vowel.\\n\n",
    "- it includes at least one consonant.\\n\\n\n",
    "\n",
    "You are given a string word.\\n\\n\n",
    "\n",
    "Return true if word is valid otherwise, return false.\\n\\n\n",
    "\n",
    "function name: \"valid_word\"\\n\n",
    "\"\"\"\n",
    "print(instruction)\n",
    "\n",
    "def valid_word(string):\n",
    "    condition = ['has_1_consonant',\n",
    "    'has_1_lowercase_letter',\n",
    "    'has_1_number',\n",
    "    'has_1_uppercase_letter',\n",
    "    'has_1_vowel',\n",
    "    'is_3_chars']\n",
    "    L = []\n",
    "\n",
    "    if len(string) >= 3:\n",
    "        print('is_3_chars')\n",
    "        L.append('is_3_chars')\n",
    "        for i in string:\n",
    "            if i in numbers:\n",
    "                print('has_1_number')\n",
    "                L.append('has_1_number')\n",
    "            elif i in english_letters:\n",
    "                print('has_1_lowercase_letter')\n",
    "                L.append('has_1_lowercase_letter')\n",
    "                valid_lower_ind = True\n",
    "                if i in vowels:\n",
    "                    print(\"has_1_vowel\")\n",
    "                    L.append(\"has_1_vowel\")\n",
    "                if i in consonants:\n",
    "                    print(\"has_1_consonant\")\n",
    "                    L.append(\"has_1_consonant\")\n",
    "            elif i in english_letters.upper():\n",
    "                print('has_1_uppercase_letter')\n",
    "                L.append('has_1_uppercase_letter')\n",
    "                valid_upper_ind = True\n",
    "                if i in vowels:\n",
    "                    print(\"has_1_vowel\")\n",
    "                    L.append(\"has_1_vowel\")\n",
    "                if i in consonants:\n",
    "                    print(\"has_1_consonant\")\n",
    "                    L.append(\"has_1_consonant\")\n",
    "            else:\n",
    "                print(False)\n",
    "                L.append(\"False\")\n",
    "\n",
    "    if condition == sorted(list(set(L))):\n",
    "        return True\n",
    "    else:\n",
    "        return False\n",
    "            \n"
   ]
  },
  {
   "cell_type": "markdown",
   "metadata": {},
   "source": [
    "## Unique Occurences in Array\n",
    "\n",
    "### Example 1\n",
    "Input: arr = [1,2,2,1,1,3]\n",
    "\n",
    "Output: True\n",
    "\n",
    "### Example 2\n",
    "Input: arr = [1,2]\n",
    "\n",
    "Output: False\n",
    "\n",
    "### Example 3\n",
    "Input: arr = [-3,0,1,-3,1,1,1,-3,10,0]\n",
    "\n",
    "Output: True"
   ]
  },
  {
   "cell_type": "code",
   "execution_count": 194,
   "metadata": {},
   "outputs": [
    {
     "name": "stdout",
     "output_type": "stream",
     "text": [
      "Key: 3 | Value: 1\n",
      "Key: 2 | Value: 2\n",
      "Key: 1 | Value: 3\n",
      "\n",
      "True\n"
     ]
    }
   ],
   "source": [
    "arr = [1,2,2,1,1,3]\n",
    "\n",
    "D = {}\n",
    "\n",
    "for i in arr:\n",
    "    D[i] = D.get(i,0) + 1\n",
    "\n",
    "for i,j in sorted(D.items(), reverse=True):\n",
    "    print(F\"Key: {i} | Value: {j}\")\n",
    "\n",
    "print()\n",
    "\n",
    "if sorted(D.values()) == list(set(sorted(D.values()))):\n",
    "    print(True)\n",
    "else:\n",
    "    print(False)\n",
    "    "
   ]
  },
  {
   "cell_type": "code",
   "execution_count": 191,
   "metadata": {},
   "outputs": [
    {
     "name": "stdout",
     "output_type": "stream",
     "text": [
      "Key: 2 | Value: 1\n",
      "Key: 1 | Value: 1\n",
      "\n",
      "False\n"
     ]
    }
   ],
   "source": [
    "arr = [1,2]\n",
    "\n",
    "D = {}\n",
    "\n",
    "for i in arr:\n",
    "    D[i] = D.get(i,0) + 1\n",
    "\n",
    "for i,j in sorted(D.items(), reverse=True):\n",
    "    print(F\"Key: {i} | Value: {j}\")\n",
    "\n",
    "print()\n",
    "\n",
    "if sorted(D.values()) == list(set(sorted(D.values()))):\n",
    "    print(True)\n",
    "else:\n",
    "    print(False)\n",
    "    "
   ]
  },
  {
   "cell_type": "code",
   "execution_count": 189,
   "metadata": {},
   "outputs": [
    {
     "name": "stdout",
     "output_type": "stream",
     "text": [
      "Key: 10 | Value: 1\n",
      "Key: 1 | Value: 4\n",
      "Key: 0 | Value: 2\n",
      "Key: -3 | Value: 3\n",
      "\n",
      "True\n"
     ]
    }
   ],
   "source": [
    "arr = [-3,0,1,-3,1,1,1,-3,10,0]\n",
    "\n",
    "D = {}\n",
    "\n",
    "for i in arr:\n",
    "    D[i] = D.get(i,0) + 1\n",
    "\n",
    "for i,j in sorted(D.items(), reverse=True):\n",
    "    print(F\"Key: {i} | Value: {j}\")\n",
    "\n",
    "print()\n",
    "\n",
    "if sorted(D.values()) == list(set(sorted(D.values()))):\n",
    "    print(True)\n",
    "else:\n",
    "    print(False)\n",
    "    "
   ]
  }
 ],
 "metadata": {
  "kernelspec": {
   "display_name": "Python 3",
   "language": "python",
   "name": "python3"
  },
  "language_info": {
   "codemirror_mode": {
    "name": "ipython",
    "version": 3
   },
   "file_extension": ".py",
   "mimetype": "text/x-python",
   "name": "python",
   "nbconvert_exporter": "python",
   "pygments_lexer": "ipython3",
   "version": "3.11.2"
  }
 },
 "nbformat": 4,
 "nbformat_minor": 5
}
